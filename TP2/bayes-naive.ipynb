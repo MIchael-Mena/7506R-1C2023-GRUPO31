{
 "cells": [
  {
   "attachments": {},
   "cell_type": "markdown",
   "id": "5ebfc8ed",
   "metadata": {
    "papermill": {
     "duration": 0.011937,
     "end_time": "2023-06-25T16:05:54.234674",
     "exception": false,
     "start_time": "2023-06-25T16:05:54.222737",
     "status": "completed"
    },
    "tags": []
   },
   "source": [
    "## <center><ins>Trabajo Práctico 2: Criticas de peliculas</ins></center>\n",
    "#### <center>*Bayes Naive*</center>\n",
    "##### <center>75.06 / 95.58 Organización de Datos - FIUBA</center>\n",
    "##### <center>Ing. Rodríguez - 1°C 2023</center>\n",
    "---\n",
    "#### <center>**Grupo 31 - \"Datazo\":**</center>\n",
    "<center> Michael Mena - 102685</center>\n",
    "<center>Pablo Brocca - 104256</center>\n",
    "<center>Diego Kisinovsky - 106203</center>"
   ]
  },
  {
   "attachments": {},
   "cell_type": "markdown",
   "id": "48882060",
   "metadata": {
    "papermill": {
     "duration": 0.009215,
     "end_time": "2023-06-25T16:05:54.253602",
     "exception": false,
     "start_time": "2023-06-25T16:05:54.244387",
     "status": "completed"
    },
    "tags": []
   },
   "source": [
    "---\n",
    "---"
   ]
  },
  {
   "attachments": {},
   "cell_type": "markdown",
   "id": "3cd5acbf",
   "metadata": {
    "papermill": {
     "duration": 0.009045,
     "end_time": "2023-06-25T16:05:54.272121",
     "exception": false,
     "start_time": "2023-06-25T16:05:54.263076",
     "status": "completed"
    },
    "tags": []
   },
   "source": [
    "## Carga de datos y librerías"
   ]
  },
  {
   "cell_type": "code",
   "execution_count": 1,
   "id": "67c30d02",
   "metadata": {
    "execution": {
     "iopub.execute_input": "2023-06-25T16:05:54.293250Z",
     "iopub.status.busy": "2023-06-25T16:05:54.292586Z",
     "iopub.status.idle": "2023-06-25T16:05:56.560350Z",
     "shell.execute_reply": "2023-06-25T16:05:56.559221Z"
    },
    "papermill": {
     "duration": 2.281871,
     "end_time": "2023-06-25T16:05:56.563722",
     "exception": false,
     "start_time": "2023-06-25T16:05:54.281851",
     "status": "completed"
    },
    "tags": []
   },
   "outputs": [],
   "source": [
    "import numpy as np\n",
    "import pandas as pd\n",
    "\n",
    "# Visualización\n",
    "import matplotlib.pyplot as plt\n",
    "import seaborn as sns\n",
    "from matplotlib.colors import ListedColormap, LinearSegmentedColormap\n",
    "from sklearn.metrics import roc_curve, roc_auc_score, RocCurveDisplay\n",
    "\n",
    "# Preprocesamiento\n",
    "from sklearn.model_selection import train_test_split\n",
    "from sklearn.feature_extraction.text import CountVectorizer, TfidfTransformer, TfidfVectorizer\n",
    "from sklearn.preprocessing import StandardScaler\n",
    "from sklearn.compose import ColumnTransformer\n",
    "\n",
    "# Metricas\n",
    "from sklearn.metrics import f1_score\n",
    "from sklearn.metrics import accuracy_score\n",
    "from sklearn.metrics import confusion_matrix\n",
    "from sklearn.metrics import classification_report\n",
    "\n",
    "# Clasificadores\n",
    "from sklearn.naive_bayes import MultinomialNB\n",
    "from sklearn.pipeline import Pipeline, make_pipeline\n",
    "\n",
    "# Optimización de hiperparámetros\n",
    "from sklearn.model_selection import cross_val_score, RepeatedStratifiedKFold\n",
    "from skopt import BayesSearchCV\n",
    "from skopt.space import Categorical\n",
    "\n",
    "# Manejo de modelos\n",
    "from pickle import dump\n",
    "from pickle import load\n"
   ]
  },
  {
   "cell_type": "code",
   "execution_count": 2,
   "id": "0c3ff96d",
   "metadata": {
    "execution": {
     "iopub.execute_input": "2023-06-25T16:05:56.585704Z",
     "iopub.status.busy": "2023-06-25T16:05:56.584880Z",
     "iopub.status.idle": "2023-06-25T16:05:58.586777Z",
     "shell.execute_reply": "2023-06-25T16:05:58.585689Z"
    },
    "papermill": {
     "duration": 2.0154,
     "end_time": "2023-06-25T16:05:58.589173",
     "exception": false,
     "start_time": "2023-06-25T16:05:56.573773",
     "status": "completed"
    },
    "tags": []
   },
   "outputs": [
    {
     "data": {
      "text/html": [
       "<div>\n",
       "<style scoped>\n",
       "    .dataframe tbody tr th:only-of-type {\n",
       "        vertical-align: middle;\n",
       "    }\n",
       "\n",
       "    .dataframe tbody tr th {\n",
       "        vertical-align: top;\n",
       "    }\n",
       "\n",
       "    .dataframe thead th {\n",
       "        text-align: right;\n",
       "    }\n",
       "</style>\n",
       "<table border=\"1\" class=\"dataframe\">\n",
       "  <thead>\n",
       "    <tr style=\"text-align: right;\">\n",
       "      <th></th>\n",
       "      <th>review_es</th>\n",
       "      <th>sentimiento</th>\n",
       "      <th>longitud</th>\n",
       "    </tr>\n",
       "  </thead>\n",
       "  <tbody>\n",
       "    <tr>\n",
       "      <th>0</th>\n",
       "      <td>Uno de los otros críticos ha mencionado que de...</td>\n",
       "      <td>1</td>\n",
       "      <td>0.583940</td>\n",
       "    </tr>\n",
       "    <tr>\n",
       "      <th>1</th>\n",
       "      <td>Una pequeña pequeña producción.La técnica de f...</td>\n",
       "      <td>1</td>\n",
       "      <td>-0.324820</td>\n",
       "    </tr>\n",
       "    <tr>\n",
       "      <th>2</th>\n",
       "      <td>Pensé que esta era una manera maravillosa de p...</td>\n",
       "      <td>1</td>\n",
       "      <td>-0.394205</td>\n",
       "    </tr>\n",
       "    <tr>\n",
       "      <th>3</th>\n",
       "      <td>Básicamente, hay una familia donde un niño peq...</td>\n",
       "      <td>0</td>\n",
       "      <td>-0.585980</td>\n",
       "    </tr>\n",
       "    <tr>\n",
       "      <th>4</th>\n",
       "      <td>El \"amor en el tiempo\" de Petter Mattei es una...</td>\n",
       "      <td>1</td>\n",
       "      <td>0.007653</td>\n",
       "    </tr>\n",
       "  </tbody>\n",
       "</table>\n",
       "</div>"
      ],
      "text/plain": [
       "                                           review_es  sentimiento  longitud\n",
       "0  Uno de los otros críticos ha mencionado que de...            1  0.583940\n",
       "1  Una pequeña pequeña producción.La técnica de f...            1 -0.324820\n",
       "2  Pensé que esta era una manera maravillosa de p...            1 -0.394205\n",
       "3  Básicamente, hay una familia donde un niño peq...            0 -0.585980\n",
       "4  El \"amor en el tiempo\" de Petter Mattei es una...            1  0.007653"
      ]
     },
     "execution_count": 2,
     "metadata": {},
     "output_type": "execute_result"
    }
   ],
   "source": [
    "df = pd.read_csv('../input/dataset/train_preprocesado.csv', sep=',', header=0)\n",
    "df.head()"
   ]
  },
  {
   "attachments": {},
   "cell_type": "markdown",
   "id": "53214a30",
   "metadata": {
    "papermill": {
     "duration": 0.009667,
     "end_time": "2023-06-25T16:05:58.608923",
     "exception": false,
     "start_time": "2023-06-25T16:05:58.599256",
     "status": "completed"
    },
    "tags": []
   },
   "source": [
    "### Carga stopwords"
   ]
  },
  {
   "cell_type": "code",
   "execution_count": 3,
   "id": "65bdabfe",
   "metadata": {
    "execution": {
     "iopub.execute_input": "2023-06-25T16:05:58.631062Z",
     "iopub.status.busy": "2023-06-25T16:05:58.630065Z",
     "iopub.status.idle": "2023-06-25T16:05:58.644850Z",
     "shell.execute_reply": "2023-06-25T16:05:58.643456Z"
    },
    "papermill": {
     "duration": 0.02871,
     "end_time": "2023-06-25T16:05:58.647571",
     "exception": false,
     "start_time": "2023-06-25T16:05:58.618861",
     "status": "completed"
    },
    "tags": []
   },
   "outputs": [
    {
     "name": "stdout",
     "output_type": "stream",
     "text": [
      "Cantidad de stopwords: 390\n"
     ]
    }
   ],
   "source": [
    "sw = pd.read_csv('../input/dataset/my-stop-words.csv')['palabra'].to_list() # 390 palabras, 77 nuevas agregadas a mano y 308 de NLTK\n",
    "\n",
    "print(f'Cantidad de stopwords: {len(sw)}')"
   ]
  },
  {
   "attachments": {},
   "cell_type": "markdown",
   "id": "711d11de",
   "metadata": {
    "papermill": {
     "duration": 0.009809,
     "end_time": "2023-06-25T16:05:58.671006",
     "exception": false,
     "start_time": "2023-06-25T16:05:58.661197",
     "status": "completed"
    },
    "tags": []
   },
   "source": [
    "### Definicón de funciones"
   ]
  },
  {
   "cell_type": "code",
   "execution_count": 4,
   "id": "6ecba250",
   "metadata": {
    "execution": {
     "iopub.execute_input": "2023-06-25T16:05:58.693569Z",
     "iopub.status.busy": "2023-06-25T16:05:58.693161Z",
     "iopub.status.idle": "2023-06-25T16:05:58.699082Z",
     "shell.execute_reply": "2023-06-25T16:05:58.697978Z"
    },
    "papermill": {
     "duration": 0.020189,
     "end_time": "2023-06-25T16:05:58.701392",
     "exception": false,
     "start_time": "2023-06-25T16:05:58.681203",
     "status": "completed"
    },
    "tags": []
   },
   "outputs": [],
   "source": [
    "#Funcion para evaluar los modelos\n",
    "def evaluate_model(model, x, y, splits=5, repeats=2, metric='f1'):\n",
    "    cv = RepeatedStratifiedKFold(n_splits=splits, n_repeats=repeats, random_state=1)\n",
    "    scores = cross_val_score(model, x, y, scoring=metric, cv=cv, verbose=1, n_jobs=-1, error_score='raise')\n",
    "    return scores"
   ]
  },
  {
   "attachments": {},
   "cell_type": "markdown",
   "id": "7568d178",
   "metadata": {
    "papermill": {
     "duration": 0.010086,
     "end_time": "2023-06-25T16:05:58.721720",
     "exception": false,
     "start_time": "2023-06-25T16:05:58.711634",
     "status": "completed"
    },
    "tags": []
   },
   "source": [
    "## Armado y entrenamiento"
   ]
  },
  {
   "attachments": {},
   "cell_type": "markdown",
   "id": "0d8886b9",
   "metadata": {
    "papermill": {
     "duration": 0.009838,
     "end_time": "2023-06-25T16:05:58.741783",
     "exception": false,
     "start_time": "2023-06-25T16:05:58.731945",
     "status": "completed"
    },
    "tags": []
   },
   "source": [
    "### Preparación de features:"
   ]
  },
  {
   "cell_type": "code",
   "execution_count": 5,
   "id": "24428eef",
   "metadata": {
    "execution": {
     "iopub.execute_input": "2023-06-25T16:05:58.763843Z",
     "iopub.status.busy": "2023-06-25T16:05:58.763446Z",
     "iopub.status.idle": "2023-06-25T16:05:58.771065Z",
     "shell.execute_reply": "2023-06-25T16:05:58.769975Z"
    },
    "papermill": {
     "duration": 0.02122,
     "end_time": "2023-06-25T16:05:58.773242",
     "exception": false,
     "start_time": "2023-06-25T16:05:58.752022",
     "status": "completed"
    },
    "tags": []
   },
   "outputs": [
    {
     "data": {
      "text/plain": [
       "['review_es', 'longitud']"
      ]
     },
     "execution_count": 5,
     "metadata": {},
     "output_type": "execute_result"
    }
   ],
   "source": [
    "target = 'sentimiento'\n",
    "\n",
    "# Se elimina el target del las features\n",
    "features = df.columns.tolist()\n",
    "features.remove(target)\n",
    "\n",
    "features"
   ]
  },
  {
   "attachments": {},
   "cell_type": "markdown",
   "id": "945912c6",
   "metadata": {
    "papermill": {
     "duration": 0.010169,
     "end_time": "2023-06-25T16:05:58.793827",
     "exception": false,
     "start_time": "2023-06-25T16:05:58.783658",
     "status": "completed"
    },
    "tags": []
   },
   "source": [
    "### Train-Test Split:"
   ]
  },
  {
   "cell_type": "code",
   "execution_count": 6,
   "id": "fd3cc5fb",
   "metadata": {
    "execution": {
     "iopub.execute_input": "2023-06-25T16:05:58.816148Z",
     "iopub.status.busy": "2023-06-25T16:05:58.815770Z",
     "iopub.status.idle": "2023-06-25T16:05:58.876038Z",
     "shell.execute_reply": "2023-06-25T16:05:58.873679Z"
    },
    "papermill": {
     "duration": 0.074543,
     "end_time": "2023-06-25T16:05:58.878702",
     "exception": false,
     "start_time": "2023-06-25T16:05:58.804159",
     "status": "completed"
    },
    "tags": []
   },
   "outputs": [
    {
     "name": "stdout",
     "output_type": "stream",
     "text": [
      "# Datos Entrenamiento: 40000\n",
      "# Datos Prueba: 10000\n",
      "% Positivos Entrenamiento: 50.000\n",
      "% Positivos Prueba: 50.000\n"
     ]
    }
   ],
   "source": [
    "X_train, X_test, y_train, y_test = train_test_split(df[features], \n",
    "                                                    df[target], \n",
    "                                                    test_size=0.2, \n",
    "                                                    random_state=42, \n",
    "                                                    stratify=df[target],\n",
    "                                                    shuffle=True)\n",
    "\n",
    "# Verificamos cantidad de datos en cada set\n",
    "print('# Datos Entrenamiento: {}'.format(len(X_train)))\n",
    "print('# Datos Prueba: {}'.format(len(X_test)))\n",
    "\n",
    "# Verificamos como quedaron balanceados\n",
    "for split_name, split in zip(['% Positivos Entrenamiento','% Positivos Prueba'],[y_train,y_test]):\n",
    "  print('{}: {:.3f}'.format(split_name,pd.Series(split).value_counts(normalize=True)[1]*100))"
   ]
  },
  {
   "attachments": {},
   "cell_type": "markdown",
   "id": "42faab8a",
   "metadata": {
    "papermill": {
     "duration": 0.011127,
     "end_time": "2023-06-25T16:05:58.902181",
     "exception": false,
     "start_time": "2023-06-25T16:05:58.891054",
     "status": "completed"
    },
    "tags": []
   },
   "source": [
    "### Entrenamiento de modelo"
   ]
  },
  {
   "attachments": {},
   "cell_type": "markdown",
   "id": "bbebcd6c",
   "metadata": {
    "papermill": {
     "duration": 0.010791,
     "end_time": "2023-06-25T16:05:58.923632",
     "exception": false,
     "start_time": "2023-06-25T16:05:58.912841",
     "status": "completed"
    },
    "tags": []
   },
   "source": [
    "#### Optimizacion bayesiana"
   ]
  },
  {
   "cell_type": "code",
   "execution_count": 7,
   "id": "476bd2f1",
   "metadata": {
    "execution": {
     "iopub.execute_input": "2023-06-25T16:05:58.947610Z",
     "iopub.status.busy": "2023-06-25T16:05:58.946931Z",
     "iopub.status.idle": "2023-06-25T16:05:58.953997Z",
     "shell.execute_reply": "2023-06-25T16:05:58.952662Z"
    },
    "papermill": {
     "duration": 0.021916,
     "end_time": "2023-06-25T16:05:58.956452",
     "exception": false,
     "start_time": "2023-06-25T16:05:58.934536",
     "status": "completed"
    },
    "tags": []
   },
   "outputs": [],
   "source": [
    "vectorizer = TfidfVectorizer(smooth_idf=True, # Suaviza el IDF al agregar 1 a todos los documentos, como si hubiera un documento más con todas las palabras del vocabulario\n",
    "                                    norm='l1', # Normalización por filas (cada fila suma 1)\n",
    "                                    strip_accents='unicode', # Remueve acentos y tildes\n",
    "                                    max_features=21000, # Si se quiere usar el vocabulario completo, quitar este parámetro (selecciona las n-gramas más frecuentes)\n",
    "                                    sublinear_tf=True, # Reemplaza tf por 1 + log(tf), puede ayudar a reducir la importancia de las palabras \n",
    "                                    #muy frecuentes que tienden a dominar el cálculo de las ponderaciones\n",
    "                                    analyzer='word', stop_words=sw, \n",
    "                                    ngram_range=(1, 3) )\n",
    "\n",
    "# (1,1) unigramas, (2,2) bigramas y (3,3) trigramas, (1,3) los tres mencionados anteriormente. A mayor ngram_range, más features (amplia el vocabulario)"
   ]
  },
  {
   "cell_type": "code",
   "execution_count": 8,
   "id": "a7005b89",
   "metadata": {
    "execution": {
     "iopub.execute_input": "2023-06-25T16:05:58.979960Z",
     "iopub.status.busy": "2023-06-25T16:05:58.979471Z",
     "iopub.status.idle": "2023-06-25T16:40:39.891835Z",
     "shell.execute_reply": "2023-06-25T16:40:39.890563Z"
    },
    "papermill": {
     "duration": 2080.937827,
     "end_time": "2023-06-25T16:40:39.905016",
     "exception": false,
     "start_time": "2023-06-25T16:05:58.967189",
     "status": "completed"
    },
    "tags": []
   },
   "outputs": [
    {
     "data": {
      "text/html": [
       "<style>#sk-container-id-1 {color: black;background-color: white;}#sk-container-id-1 pre{padding: 0;}#sk-container-id-1 div.sk-toggleable {background-color: white;}#sk-container-id-1 label.sk-toggleable__label {cursor: pointer;display: block;width: 100%;margin-bottom: 0;padding: 0.3em;box-sizing: border-box;text-align: center;}#sk-container-id-1 label.sk-toggleable__label-arrow:before {content: \"▸\";float: left;margin-right: 0.25em;color: #696969;}#sk-container-id-1 label.sk-toggleable__label-arrow:hover:before {color: black;}#sk-container-id-1 div.sk-estimator:hover label.sk-toggleable__label-arrow:before {color: black;}#sk-container-id-1 div.sk-toggleable__content {max-height: 0;max-width: 0;overflow: hidden;text-align: left;background-color: #f0f8ff;}#sk-container-id-1 div.sk-toggleable__content pre {margin: 0.2em;color: black;border-radius: 0.25em;background-color: #f0f8ff;}#sk-container-id-1 input.sk-toggleable__control:checked~div.sk-toggleable__content {max-height: 200px;max-width: 100%;overflow: auto;}#sk-container-id-1 input.sk-toggleable__control:checked~label.sk-toggleable__label-arrow:before {content: \"▾\";}#sk-container-id-1 div.sk-estimator input.sk-toggleable__control:checked~label.sk-toggleable__label {background-color: #d4ebff;}#sk-container-id-1 div.sk-label input.sk-toggleable__control:checked~label.sk-toggleable__label {background-color: #d4ebff;}#sk-container-id-1 input.sk-hidden--visually {border: 0;clip: rect(1px 1px 1px 1px);clip: rect(1px, 1px, 1px, 1px);height: 1px;margin: -1px;overflow: hidden;padding: 0;position: absolute;width: 1px;}#sk-container-id-1 div.sk-estimator {font-family: monospace;background-color: #f0f8ff;border: 1px dotted black;border-radius: 0.25em;box-sizing: border-box;margin-bottom: 0.5em;}#sk-container-id-1 div.sk-estimator:hover {background-color: #d4ebff;}#sk-container-id-1 div.sk-parallel-item::after {content: \"\";width: 100%;border-bottom: 1px solid gray;flex-grow: 1;}#sk-container-id-1 div.sk-label:hover label.sk-toggleable__label {background-color: #d4ebff;}#sk-container-id-1 div.sk-serial::before {content: \"\";position: absolute;border-left: 1px solid gray;box-sizing: border-box;top: 0;bottom: 0;left: 50%;z-index: 0;}#sk-container-id-1 div.sk-serial {display: flex;flex-direction: column;align-items: center;background-color: white;padding-right: 0.2em;padding-left: 0.2em;position: relative;}#sk-container-id-1 div.sk-item {position: relative;z-index: 1;}#sk-container-id-1 div.sk-parallel {display: flex;align-items: stretch;justify-content: center;background-color: white;position: relative;}#sk-container-id-1 div.sk-item::before, #sk-container-id-1 div.sk-parallel-item::before {content: \"\";position: absolute;border-left: 1px solid gray;box-sizing: border-box;top: 0;bottom: 0;left: 50%;z-index: -1;}#sk-container-id-1 div.sk-parallel-item {display: flex;flex-direction: column;z-index: 1;position: relative;background-color: white;}#sk-container-id-1 div.sk-parallel-item:first-child::after {align-self: flex-end;width: 50%;}#sk-container-id-1 div.sk-parallel-item:last-child::after {align-self: flex-start;width: 50%;}#sk-container-id-1 div.sk-parallel-item:only-child::after {width: 0;}#sk-container-id-1 div.sk-dashed-wrapped {border: 1px dashed gray;margin: 0 0.4em 0.5em 0.4em;box-sizing: border-box;padding-bottom: 0.4em;background-color: white;}#sk-container-id-1 div.sk-label label {font-family: monospace;font-weight: bold;display: inline-block;line-height: 1.2em;}#sk-container-id-1 div.sk-label-container {text-align: center;}#sk-container-id-1 div.sk-container {/* jupyter's `normalize.less` sets `[hidden] { display: none; }` but bootstrap.min.css set `[hidden] { display: none !important; }` so we also need the `!important` here to be able to override the default hidden behavior on the sphinx rendered scikit-learn.org. See: https://github.com/scikit-learn/scikit-learn/issues/21755 */display: inline-block !important;position: relative;}#sk-container-id-1 div.sk-text-repr-fallback {display: none;}</style><div id=\"sk-container-id-1\" class=\"sk-top-container\"><div class=\"sk-text-repr-fallback\"><pre>BayesSearchCV(cv=5,\n",
       "              estimator=Pipeline(steps=[(&#x27;preprocessor&#x27;,\n",
       "                                         ColumnTransformer(transformers=[(&#x27;tfidfvectorizer&#x27;,\n",
       "                                                                          TfidfVectorizer(max_features=21000,\n",
       "                                                                                          ngram_range=(1,\n",
       "                                                                                                       3),\n",
       "                                                                                          norm=&#x27;l1&#x27;,\n",
       "                                                                                          stop_words=[&#x27;a&#x27;,\n",
       "                                                                                                      &#x27;al&#x27;,\n",
       "                                                                                                      &#x27;algo&#x27;,\n",
       "                                                                                                      &#x27;algunas&#x27;,\n",
       "                                                                                                      &#x27;algunos&#x27;,\n",
       "                                                                                                      &#x27;ante&#x27;,\n",
       "                                                                                                      &#x27;antes&#x27;,\n",
       "                                                                                                      &#x27;como&#x27;,\n",
       "                                                                                                      &#x27;con&#x27;,\n",
       "                                                                                                      &#x27;contra&#x27;,\n",
       "                                                                                                      &#x27;cual&#x27;,\n",
       "                                                                                                      &#x27;cuando&#x27;,\n",
       "                                                                                                      &#x27;de&#x27;,\n",
       "                                                                                                      &#x27;del&#x27;,\n",
       "                                                                                                      &#x27;desde&#x27;,\n",
       "                                                                                                      &#x27;donde&#x27;,\n",
       "                                                                                                      &#x27;durante&#x27;,\n",
       "                                                                                                      &#x27;e&#x27;,\n",
       "                                                                                                      &#x27;el&#x27;,\n",
       "                                                                                                      &#x27;ella&#x27;,\n",
       "                                                                                                      &#x27;ellas&#x27;,\n",
       "                                                                                                      &#x27;ellos&#x27;,\n",
       "                                                                                                      &#x27;en&#x27;,\n",
       "                                                                                                      &#x27;entre&#x27;,\n",
       "                                                                                                      &#x27;era&#x27;,\n",
       "                                                                                                      &#x27;erais&#x27;,\n",
       "                                                                                                      &#x27;eramos&#x27;,\n",
       "                                                                                                      &#x27;eran&#x27;,\n",
       "                                                                                                      &#x27;eras&#x27;,\n",
       "                                                                                                      &#x27;eres&#x27;, ...],\n",
       "                                                                                          strip_accents=&#x27;unicode&#x27;,\n",
       "                                                                                          sublinear_tf=True),\n",
       "                                                                          &#x27;review_es&#x27;)])),\n",
       "                                        (&#x27;multinomialnb&#x27;, MultinomialNB())]),\n",
       "              n_iter=5, scoring=&#x27;f1&#x27;,\n",
       "              search_spaces={&#x27;multinomialnb__alpha&#x27;: (0.001, 0.1,\n",
       "                                                      &#x27;log-uniform&#x27;),\n",
       "                             &#x27;multinomialnb__fit_prior&#x27;: (True, False)})</pre><b>In a Jupyter environment, please rerun this cell to show the HTML representation or trust the notebook. <br />On GitHub, the HTML representation is unable to render, please try loading this page with nbviewer.org.</b></div><div class=\"sk-container\" hidden><div class=\"sk-item sk-dashed-wrapped\"><div class=\"sk-label-container\"><div class=\"sk-label sk-toggleable\"><input class=\"sk-toggleable__control sk-hidden--visually\" id=\"sk-estimator-id-1\" type=\"checkbox\" ><label for=\"sk-estimator-id-1\" class=\"sk-toggleable__label sk-toggleable__label-arrow\">BayesSearchCV</label><div class=\"sk-toggleable__content\"><pre>BayesSearchCV(cv=5,\n",
       "              estimator=Pipeline(steps=[(&#x27;preprocessor&#x27;,\n",
       "                                         ColumnTransformer(transformers=[(&#x27;tfidfvectorizer&#x27;,\n",
       "                                                                          TfidfVectorizer(max_features=21000,\n",
       "                                                                                          ngram_range=(1,\n",
       "                                                                                                       3),\n",
       "                                                                                          norm=&#x27;l1&#x27;,\n",
       "                                                                                          stop_words=[&#x27;a&#x27;,\n",
       "                                                                                                      &#x27;al&#x27;,\n",
       "                                                                                                      &#x27;algo&#x27;,\n",
       "                                                                                                      &#x27;algunas&#x27;,\n",
       "                                                                                                      &#x27;algunos&#x27;,\n",
       "                                                                                                      &#x27;ante&#x27;,\n",
       "                                                                                                      &#x27;antes&#x27;,\n",
       "                                                                                                      &#x27;como&#x27;,\n",
       "                                                                                                      &#x27;con&#x27;,\n",
       "                                                                                                      &#x27;contra&#x27;,\n",
       "                                                                                                      &#x27;cual&#x27;,\n",
       "                                                                                                      &#x27;cuando&#x27;,\n",
       "                                                                                                      &#x27;de&#x27;,\n",
       "                                                                                                      &#x27;del&#x27;,\n",
       "                                                                                                      &#x27;desde&#x27;,\n",
       "                                                                                                      &#x27;donde&#x27;,\n",
       "                                                                                                      &#x27;durante&#x27;,\n",
       "                                                                                                      &#x27;e&#x27;,\n",
       "                                                                                                      &#x27;el&#x27;,\n",
       "                                                                                                      &#x27;ella&#x27;,\n",
       "                                                                                                      &#x27;ellas&#x27;,\n",
       "                                                                                                      &#x27;ellos&#x27;,\n",
       "                                                                                                      &#x27;en&#x27;,\n",
       "                                                                                                      &#x27;entre&#x27;,\n",
       "                                                                                                      &#x27;era&#x27;,\n",
       "                                                                                                      &#x27;erais&#x27;,\n",
       "                                                                                                      &#x27;eramos&#x27;,\n",
       "                                                                                                      &#x27;eran&#x27;,\n",
       "                                                                                                      &#x27;eras&#x27;,\n",
       "                                                                                                      &#x27;eres&#x27;, ...],\n",
       "                                                                                          strip_accents=&#x27;unicode&#x27;,\n",
       "                                                                                          sublinear_tf=True),\n",
       "                                                                          &#x27;review_es&#x27;)])),\n",
       "                                        (&#x27;multinomialnb&#x27;, MultinomialNB())]),\n",
       "              n_iter=5, scoring=&#x27;f1&#x27;,\n",
       "              search_spaces={&#x27;multinomialnb__alpha&#x27;: (0.001, 0.1,\n",
       "                                                      &#x27;log-uniform&#x27;),\n",
       "                             &#x27;multinomialnb__fit_prior&#x27;: (True, False)})</pre></div></div></div><div class=\"sk-parallel\"><div class=\"sk-parallel-item\"><div class=\"sk-item\"><div class=\"sk-label-container\"><div class=\"sk-label sk-toggleable\"><input class=\"sk-toggleable__control sk-hidden--visually\" id=\"sk-estimator-id-2\" type=\"checkbox\" ><label for=\"sk-estimator-id-2\" class=\"sk-toggleable__label sk-toggleable__label-arrow\">estimator: Pipeline</label><div class=\"sk-toggleable__content\"><pre>Pipeline(steps=[(&#x27;preprocessor&#x27;,\n",
       "                 ColumnTransformer(transformers=[(&#x27;tfidfvectorizer&#x27;,\n",
       "                                                  TfidfVectorizer(max_features=21000,\n",
       "                                                                  ngram_range=(1,\n",
       "                                                                               3),\n",
       "                                                                  norm=&#x27;l1&#x27;,\n",
       "                                                                  stop_words=[&#x27;a&#x27;,\n",
       "                                                                              &#x27;al&#x27;,\n",
       "                                                                              &#x27;algo&#x27;,\n",
       "                                                                              &#x27;algunas&#x27;,\n",
       "                                                                              &#x27;algunos&#x27;,\n",
       "                                                                              &#x27;ante&#x27;,\n",
       "                                                                              &#x27;antes&#x27;,\n",
       "                                                                              &#x27;como&#x27;,\n",
       "                                                                              &#x27;con&#x27;,\n",
       "                                                                              &#x27;contra&#x27;,\n",
       "                                                                              &#x27;cual&#x27;,\n",
       "                                                                              &#x27;cuando&#x27;,\n",
       "                                                                              &#x27;de&#x27;,\n",
       "                                                                              &#x27;del&#x27;,\n",
       "                                                                              &#x27;desde&#x27;,\n",
       "                                                                              &#x27;donde&#x27;,\n",
       "                                                                              &#x27;durante&#x27;,\n",
       "                                                                              &#x27;e&#x27;,\n",
       "                                                                              &#x27;el&#x27;,\n",
       "                                                                              &#x27;ella&#x27;,\n",
       "                                                                              &#x27;ellas&#x27;,\n",
       "                                                                              &#x27;ellos&#x27;,\n",
       "                                                                              &#x27;en&#x27;,\n",
       "                                                                              &#x27;entre&#x27;,\n",
       "                                                                              &#x27;era&#x27;,\n",
       "                                                                              &#x27;erais&#x27;,\n",
       "                                                                              &#x27;eramos&#x27;,\n",
       "                                                                              &#x27;eran&#x27;,\n",
       "                                                                              &#x27;eras&#x27;,\n",
       "                                                                              &#x27;eres&#x27;, ...],\n",
       "                                                                  strip_accents=&#x27;unicode&#x27;,\n",
       "                                                                  sublinear_tf=True),\n",
       "                                                  &#x27;review_es&#x27;)])),\n",
       "                (&#x27;multinomialnb&#x27;, MultinomialNB())])</pre></div></div></div><div class=\"sk-serial\"><div class=\"sk-item\"><div class=\"sk-serial\"><div class=\"sk-item sk-dashed-wrapped\"><div class=\"sk-label-container\"><div class=\"sk-label sk-toggleable\"><input class=\"sk-toggleable__control sk-hidden--visually\" id=\"sk-estimator-id-3\" type=\"checkbox\" ><label for=\"sk-estimator-id-3\" class=\"sk-toggleable__label sk-toggleable__label-arrow\">preprocessor: ColumnTransformer</label><div class=\"sk-toggleable__content\"><pre>ColumnTransformer(transformers=[(&#x27;tfidfvectorizer&#x27;,\n",
       "                                 TfidfVectorizer(max_features=21000,\n",
       "                                                 ngram_range=(1, 3), norm=&#x27;l1&#x27;,\n",
       "                                                 stop_words=[&#x27;a&#x27;, &#x27;al&#x27;, &#x27;algo&#x27;,\n",
       "                                                             &#x27;algunas&#x27;,\n",
       "                                                             &#x27;algunos&#x27;, &#x27;ante&#x27;,\n",
       "                                                             &#x27;antes&#x27;, &#x27;como&#x27;,\n",
       "                                                             &#x27;con&#x27;, &#x27;contra&#x27;,\n",
       "                                                             &#x27;cual&#x27;, &#x27;cuando&#x27;,\n",
       "                                                             &#x27;de&#x27;, &#x27;del&#x27;,\n",
       "                                                             &#x27;desde&#x27;, &#x27;donde&#x27;,\n",
       "                                                             &#x27;durante&#x27;, &#x27;e&#x27;,\n",
       "                                                             &#x27;el&#x27;, &#x27;ella&#x27;,\n",
       "                                                             &#x27;ellas&#x27;, &#x27;ellos&#x27;,\n",
       "                                                             &#x27;en&#x27;, &#x27;entre&#x27;,\n",
       "                                                             &#x27;era&#x27;, &#x27;erais&#x27;,\n",
       "                                                             &#x27;eramos&#x27;, &#x27;eran&#x27;,\n",
       "                                                             &#x27;eras&#x27;, &#x27;eres&#x27;, ...],\n",
       "                                                 strip_accents=&#x27;unicode&#x27;,\n",
       "                                                 sublinear_tf=True),\n",
       "                                 &#x27;review_es&#x27;)])</pre></div></div></div><div class=\"sk-parallel\"><div class=\"sk-parallel-item\"><div class=\"sk-item\"><div class=\"sk-label-container\"><div class=\"sk-label sk-toggleable\"><input class=\"sk-toggleable__control sk-hidden--visually\" id=\"sk-estimator-id-4\" type=\"checkbox\" ><label for=\"sk-estimator-id-4\" class=\"sk-toggleable__label sk-toggleable__label-arrow\">tfidfvectorizer</label><div class=\"sk-toggleable__content\"><pre>review_es</pre></div></div></div><div class=\"sk-serial\"><div class=\"sk-item\"><div class=\"sk-estimator sk-toggleable\"><input class=\"sk-toggleable__control sk-hidden--visually\" id=\"sk-estimator-id-5\" type=\"checkbox\" ><label for=\"sk-estimator-id-5\" class=\"sk-toggleable__label sk-toggleable__label-arrow\">TfidfVectorizer</label><div class=\"sk-toggleable__content\"><pre>TfidfVectorizer(max_features=21000, ngram_range=(1, 3), norm=&#x27;l1&#x27;,\n",
       "                stop_words=[&#x27;a&#x27;, &#x27;al&#x27;, &#x27;algo&#x27;, &#x27;algunas&#x27;, &#x27;algunos&#x27;, &#x27;ante&#x27;,\n",
       "                            &#x27;antes&#x27;, &#x27;como&#x27;, &#x27;con&#x27;, &#x27;contra&#x27;, &#x27;cual&#x27;, &#x27;cuando&#x27;,\n",
       "                            &#x27;de&#x27;, &#x27;del&#x27;, &#x27;desde&#x27;, &#x27;donde&#x27;, &#x27;durante&#x27;, &#x27;e&#x27;, &#x27;el&#x27;,\n",
       "                            &#x27;ella&#x27;, &#x27;ellas&#x27;, &#x27;ellos&#x27;, &#x27;en&#x27;, &#x27;entre&#x27;, &#x27;era&#x27;,\n",
       "                            &#x27;erais&#x27;, &#x27;eramos&#x27;, &#x27;eran&#x27;, &#x27;eras&#x27;, &#x27;eres&#x27;, ...],\n",
       "                strip_accents=&#x27;unicode&#x27;, sublinear_tf=True)</pre></div></div></div></div></div></div></div></div><div class=\"sk-item\"><div class=\"sk-estimator sk-toggleable\"><input class=\"sk-toggleable__control sk-hidden--visually\" id=\"sk-estimator-id-6\" type=\"checkbox\" ><label for=\"sk-estimator-id-6\" class=\"sk-toggleable__label sk-toggleable__label-arrow\">MultinomialNB</label><div class=\"sk-toggleable__content\"><pre>MultinomialNB()</pre></div></div></div></div></div></div></div></div></div></div></div></div>"
      ],
      "text/plain": [
       "BayesSearchCV(cv=5,\n",
       "              estimator=Pipeline(steps=[('preprocessor',\n",
       "                                         ColumnTransformer(transformers=[('tfidfvectorizer',\n",
       "                                                                          TfidfVectorizer(max_features=21000,\n",
       "                                                                                          ngram_range=(1,\n",
       "                                                                                                       3),\n",
       "                                                                                          norm='l1',\n",
       "                                                                                          stop_words=['a',\n",
       "                                                                                                      'al',\n",
       "                                                                                                      'algo',\n",
       "                                                                                                      'algunas',\n",
       "                                                                                                      'algunos',\n",
       "                                                                                                      'ante',\n",
       "                                                                                                      'antes',\n",
       "                                                                                                      'como',\n",
       "                                                                                                      'con',\n",
       "                                                                                                      'contra',\n",
       "                                                                                                      'cual',\n",
       "                                                                                                      'cuando',\n",
       "                                                                                                      'de',\n",
       "                                                                                                      'del',\n",
       "                                                                                                      'desde',\n",
       "                                                                                                      'donde',\n",
       "                                                                                                      'durante',\n",
       "                                                                                                      'e',\n",
       "                                                                                                      'el',\n",
       "                                                                                                      'ella',\n",
       "                                                                                                      'ellas',\n",
       "                                                                                                      'ellos',\n",
       "                                                                                                      'en',\n",
       "                                                                                                      'entre',\n",
       "                                                                                                      'era',\n",
       "                                                                                                      'erais',\n",
       "                                                                                                      'eramos',\n",
       "                                                                                                      'eran',\n",
       "                                                                                                      'eras',\n",
       "                                                                                                      'eres', ...],\n",
       "                                                                                          strip_accents='unicode',\n",
       "                                                                                          sublinear_tf=True),\n",
       "                                                                          'review_es')])),\n",
       "                                        ('multinomialnb', MultinomialNB())]),\n",
       "              n_iter=5, scoring='f1',\n",
       "              search_spaces={'multinomialnb__alpha': (0.001, 0.1,\n",
       "                                                      'log-uniform'),\n",
       "                             'multinomialnb__fit_prior': (True, False)})"
      ]
     },
     "execution_count": 8,
     "metadata": {},
     "output_type": "execute_result"
    }
   ],
   "source": [
    "# Crear el objeto de preprocesamiento para la columna 'review_es' (solo se aplica tfidfvectorizer a esta columna)\n",
    "preprocessor = ColumnTransformer([\n",
    "    ('tfidfvectorizer', vectorizer,\n",
    "     'review_es')\n",
    "])\n",
    "\n",
    "# Crear la pipeline con preprocesamiento y el modelo MultinomialNB\n",
    "model = Pipeline([\n",
    "    ('preprocessor', preprocessor),\n",
    "    ('multinomialnb', MultinomialNB())\n",
    "])\n",
    "\n",
    "#  Definir los espacios de búsqueda de hiperparámetros\n",
    "param_space = {\n",
    "    'multinomialnb__alpha': (1e-3, 1e-1, 'log-uniform'),  # Parámetro de suavizado en Naive Bayes\n",
    "    'multinomialnb__fit_prior': (True, False) # True (default): indica que se deben estimar las probabilidades a priori en función de la frecuencia de las clases en los datos de entrenamiento\n",
    "}\n",
    "\n",
    "# Aplicar la optimización bayesiana\n",
    "model_opt = BayesSearchCV(model, param_space, scoring='f1', cv=5, n_iter=5)\n",
    "model_opt.fit(X_train, y_train)"
   ]
  },
  {
   "cell_type": "code",
   "execution_count": 9,
   "id": "79bef5e9",
   "metadata": {
    "execution": {
     "iopub.execute_input": "2023-06-25T16:40:39.929970Z",
     "iopub.status.busy": "2023-06-25T16:40:39.929580Z",
     "iopub.status.idle": "2023-06-25T16:40:39.935175Z",
     "shell.execute_reply": "2023-06-25T16:40:39.934098Z"
    },
    "papermill": {
     "duration": 0.021437,
     "end_time": "2023-06-25T16:40:39.937884",
     "exception": false,
     "start_time": "2023-06-25T16:40:39.916447",
     "status": "completed"
    },
    "tags": []
   },
   "outputs": [
    {
     "name": "stdout",
     "output_type": "stream",
     "text": [
      "Mejores hiperparámetros:  OrderedDict([('multinomialnb__alpha', 0.09548678852073982), ('multinomialnb__fit_prior', False)])\n",
      "Mejor F1-score:  0.8678472283045405\n"
     ]
    }
   ],
   "source": [
    "print('Mejores hiperparámetros: ', model_opt.best_params_)\n",
    "print('Mejor F1-score: ', model_opt.best_score_)"
   ]
  },
  {
   "cell_type": "code",
   "execution_count": 10,
   "id": "6b151cdb",
   "metadata": {
    "execution": {
     "iopub.execute_input": "2023-06-25T16:40:39.962775Z",
     "iopub.status.busy": "2023-06-25T16:40:39.962368Z",
     "iopub.status.idle": "2023-06-25T16:40:39.969984Z",
     "shell.execute_reply": "2023-06-25T16:40:39.968934Z"
    },
    "papermill": {
     "duration": 0.023249,
     "end_time": "2023-06-25T16:40:39.972609",
     "exception": false,
     "start_time": "2023-06-25T16:40:39.949360",
     "status": "completed"
    },
    "tags": []
   },
   "outputs": [
    {
     "data": {
      "text/plain": [
       "array([0.86759104, 0.86768204, 0.86770754, 0.86776304, 0.86784723])"
      ]
     },
     "execution_count": 10,
     "metadata": {},
     "output_type": "execute_result"
    }
   ],
   "source": [
    "# Cada valor representa F1 score, la cantidad varia por el parametro n\n",
    "model_opt.cv_results_['mean_test_score']"
   ]
  },
  {
   "cell_type": "code",
   "execution_count": 11,
   "id": "c4d6ad3f",
   "metadata": {
    "execution": {
     "iopub.execute_input": "2023-06-25T16:40:39.998953Z",
     "iopub.status.busy": "2023-06-25T16:40:39.998554Z",
     "iopub.status.idle": "2023-06-25T16:40:48.987333Z",
     "shell.execute_reply": "2023-06-25T16:40:48.986043Z"
    },
    "papermill": {
     "duration": 9.005145,
     "end_time": "2023-06-25T16:40:48.990053",
     "exception": false,
     "start_time": "2023-06-25T16:40:39.984908",
     "status": "completed"
    },
    "tags": []
   },
   "outputs": [
    {
     "name": "stdout",
     "output_type": "stream",
     "text": [
      "F1-score en datos de prueba: 0.8730189786734494\n",
      "Exactitud en datos de prueba: 0.8702\n"
     ]
    }
   ],
   "source": [
    "# Predecir con los mejores hiperparámetros\n",
    "y_pred = model_opt.predict(X_test)\n",
    "\n",
    "# Calcular el f1-score en los datos de prueba\n",
    "f1 = f1_score(y_test, y_pred)\n",
    "print(\"F1-score en datos de prueba:\", f1)\n",
    "\n",
    "# Calcular la exactitud en los datos de prueba\n",
    "acc = accuracy_score(y_test, y_pred)\n",
    "print(\"Exactitud en datos de prueba:\", acc)"
   ]
  },
  {
   "cell_type": "code",
   "execution_count": 12,
   "id": "53620708",
   "metadata": {
    "execution": {
     "iopub.execute_input": "2023-06-25T16:40:49.016546Z",
     "iopub.status.busy": "2023-06-25T16:40:49.015361Z",
     "iopub.status.idle": "2023-06-25T16:40:49.020725Z",
     "shell.execute_reply": "2023-06-25T16:40:49.019803Z"
    },
    "papermill": {
     "duration": 0.021003,
     "end_time": "2023-06-25T16:40:49.023053",
     "exception": false,
     "start_time": "2023-06-25T16:40:49.002050",
     "status": "completed"
    },
    "tags": []
   },
   "outputs": [],
   "source": [
    "# TODO: no ejecutar todos los prints juntos, puede ralentizar la notebook\n",
    "\n",
    "# vectorizer.fit_transform(X_train['review_es'])\n",
    "\n",
    "# Imprimimos el vocabulario\n",
    "# print(vectorizer.vocabulary_) # Devuelve un diccionario con el vocabulario, donde la clave es la palabra y el valor es el índice\n",
    "\n",
    "# Contamos la cantidad de apariciones de cada palabra en el corpus\n",
    "# print(vectorizer.idf_) # Devuelve un array donde cada elemento es el idf de la palabra cuyo índice coincide con el elemento\n",
    "\n",
    "# Imprimimos la matriz de frecuencias\n",
    "# print(fid.toarray())\n",
    "\n",
    "# Contamos la cantidad de palabras en el vocabulario\n",
    "# print('Longitud del vocabulario completo: {}'.format(len(vectorizer.vocabulary_)))"
   ]
  },
  {
   "attachments": {},
   "cell_type": "markdown",
   "id": "1f2e8407",
   "metadata": {
    "papermill": {
     "duration": 0.011598,
     "end_time": "2023-06-25T16:40:49.047242",
     "exception": false,
     "start_time": "2023-06-25T16:40:49.035644",
     "status": "completed"
    },
    "tags": []
   },
   "source": [
    "Longitud del vocabulario completo para unigrama es: 154146"
   ]
  },
  {
   "attachments": {},
   "cell_type": "markdown",
   "id": "97e76b41",
   "metadata": {
    "papermill": {
     "duration": 0.011635,
     "end_time": "2023-06-25T16:40:49.071445",
     "exception": false,
     "start_time": "2023-06-25T16:40:49.059810",
     "status": "completed"
    },
    "tags": []
   },
   "source": [
    "### Analisis del modelo"
   ]
  },
  {
   "cell_type": "code",
   "execution_count": 13,
   "id": "673113fd",
   "metadata": {
    "execution": {
     "iopub.execute_input": "2023-06-25T16:40:49.097868Z",
     "iopub.status.busy": "2023-06-25T16:40:49.096840Z",
     "iopub.status.idle": "2023-06-25T16:40:49.399990Z",
     "shell.execute_reply": "2023-06-25T16:40:49.398820Z"
    },
    "papermill": {
     "duration": 0.319145,
     "end_time": "2023-06-25T16:40:49.402737",
     "exception": false,
     "start_time": "2023-06-25T16:40:49.083592",
     "status": "completed"
    },
    "tags": []
   },
   "outputs": [
    {
     "name": "stdout",
     "output_type": "stream",
     "text": [
      "              precision    recall  f1-score   support\n",
      "\n",
      "           0       0.89      0.85      0.87      5000\n",
      "           1       0.85      0.89      0.87      5000\n",
      "\n",
      "    accuracy                           0.87     10000\n",
      "   macro avg       0.87      0.87      0.87     10000\n",
      "weighted avg       0.87      0.87      0.87     10000\n",
      "\n"
     ]
    },
    {
     "data": {
      "image/png": "[encoded data removed]",
      "text/plain": [
       "<Figure size 640x480 with 2 Axes>"
      ]
     },
     "metadata": {},
     "output_type": "display_data"
    }
   ],
   "source": [
    "# Obtener la matriz de confusión\n",
    "cm = confusion_matrix(y_test, y_pred)\n",
    "\n",
    "# Reporte y Matriz de Confusion\n",
    "print(classification_report(y_test, y_pred))\n",
    "\n",
    "# Definir colores\n",
    "color_start = \"#fff\"\n",
    "color_end = \"#aa0065\"\n",
    "\n",
    "# Definir el mapa de colores personalizado con un degradado suave\n",
    "cmap_colors = [color_start, color_end]\n",
    "cmap = LinearSegmentedColormap.from_list(\"Custom\", cmap_colors)\n",
    "\n",
    "# Graficar la matriz de confusión con el mapa de colores personalizado\n",
    "sns.heatmap(cm, cmap=cmap, annot=True, fmt='d', cbar=True)\n",
    "plt.title(\"Matriz de confusión - Red Neuronal c/ Bayes Naive\")\n",
    "plt.xlabel('Predicted')\n",
    "plt.ylabel('True')\n",
    "plt.show()"
   ]
  },
  {
   "cell_type": "code",
   "execution_count": 14,
   "id": "06eb1cd3",
   "metadata": {
    "execution": {
     "iopub.execute_input": "2023-06-25T16:40:49.430146Z",
     "iopub.status.busy": "2023-06-25T16:40:49.429748Z",
     "iopub.status.idle": "2023-06-25T16:40:49.436189Z",
     "shell.execute_reply": "2023-06-25T16:40:49.435102Z"
    },
    "papermill": {
     "duration": 0.023072,
     "end_time": "2023-06-25T16:40:49.438695",
     "exception": false,
     "start_time": "2023-06-25T16:40:49.415623",
     "status": "completed"
    },
    "tags": []
   },
   "outputs": [],
   "source": [
    "# Mapear las etiquetas a valores numéricos para usar AUC\n",
    "y_test_bin = y_test.replace(['positivo', 'negativo'], [1, 0])\n",
    "\n",
    "# Convertir a Series para poder usar replace\n",
    "y_pred_bin = pd.Series(y_pred).replace(['positivo', 'negativo'], [1, 0]) \n",
    "\n",
    "# Alternativa con numpy\n",
    "# y_pred_bin = np.where(y_pred == 'positivo', 1, 0)"
   ]
  },
  {
   "cell_type": "code",
   "execution_count": 15,
   "id": "ffa58522",
   "metadata": {
    "execution": {
     "iopub.execute_input": "2023-06-25T16:40:49.466687Z",
     "iopub.status.busy": "2023-06-25T16:40:49.466089Z",
     "iopub.status.idle": "2023-06-25T16:40:49.769602Z",
     "shell.execute_reply": "2023-06-25T16:40:49.768270Z"
    },
    "papermill": {
     "duration": 0.320563,
     "end_time": "2023-06-25T16:40:49.772168",
     "exception": false,
     "start_time": "2023-06-25T16:40:49.451605",
     "status": "completed"
    },
    "tags": []
   },
   "outputs": [
    {
     "data": {
      "image/png": "[encoded data removed]",
      "text/plain": [
       "<Figure size 640x480 with 1 Axes>"
      ]
     },
     "metadata": {},
     "output_type": "display_data"
    }
   ],
   "source": [
    "fpr, tpr, _ = roc_curve(y_test_bin, y_pred_bin) # FPR y TPR son acrónimos de \"False Positive Rate\" y \"True Positive Rate\"\n",
    "roc_auc = roc_auc_score(y_test_bin, y_pred_bin)\n",
    "\n",
    "roc_display = RocCurveDisplay(fpr=fpr, tpr=tpr, roc_auc=roc_auc, estimator_name='Bayes Naive').plot()\n",
    "plt.title(\"Curva ROC\")\n",
    "plt.legend(loc=\"lower right\")  # agregar leyenda en la esquina inferior derecha\n",
    "plt.show()"
   ]
  },
  {
   "attachments": {},
   "cell_type": "markdown",
   "id": "294237be",
   "metadata": {
    "papermill": {
     "duration": 0.013004,
     "end_time": "2023-06-25T16:40:49.799388",
     "exception": false,
     "start_time": "2023-06-25T16:40:49.786384",
     "status": "completed"
    },
    "tags": []
   },
   "source": [
    "### Validación con K-Fold Cross-Validation"
   ]
  },
  {
   "cell_type": "code",
   "execution_count": 16,
   "id": "5ca05a17",
   "metadata": {
    "execution": {
     "iopub.execute_input": "2023-06-25T16:40:49.827995Z",
     "iopub.status.busy": "2023-06-25T16:40:49.827620Z",
     "iopub.status.idle": "2023-06-25T17:54:28.855109Z",
     "shell.execute_reply": "2023-06-25T17:54:28.849905Z"
    },
    "papermill": {
     "duration": 4419.060367,
     "end_time": "2023-06-25T17:54:28.873355",
     "exception": false,
     "start_time": "2023-06-25T16:40:49.812988",
     "status": "completed"
    },
    "tags": []
   },
   "outputs": [
    {
     "name": "stderr",
     "output_type": "stream",
     "text": [
      "[Parallel(n_jobs=-1)]: Using backend LokyBackend with 4 concurrent workers.\n",
      "[Parallel(n_jobs=-1)]: Done   8 out of   8 | elapsed: 73.6min finished\n"
     ]
    }
   ],
   "source": [
    "scores = evaluate_model(model_opt, X_train, y_train, 4, 2, 'f1')"
   ]
  },
  {
   "cell_type": "code",
   "execution_count": 17,
   "id": "2a02d8c6",
   "metadata": {
    "execution": {
     "iopub.execute_input": "2023-06-25T17:54:28.907683Z",
     "iopub.status.busy": "2023-06-25T17:54:28.907166Z",
     "iopub.status.idle": "2023-06-25T17:54:28.921638Z",
     "shell.execute_reply": "2023-06-25T17:54:28.920691Z"
    },
    "papermill": {
     "duration": 0.033248,
     "end_time": "2023-06-25T17:54:28.923971",
     "exception": false,
     "start_time": "2023-06-25T17:54:28.890723",
     "status": "completed"
    },
    "tags": []
   },
   "outputs": [
    {
     "name": "stdout",
     "output_type": "stream",
     "text": [
      "F1-score media: 0.8674\n"
     ]
    },
    {
     "data": {
      "text/plain": [
       "array([0.8646949 , 0.87125601, 0.86845966, 0.86647116, 0.86756916,\n",
       "       0.86345776, 0.87073766, 0.86689621])"
      ]
     },
     "execution_count": 17,
     "metadata": {},
     "output_type": "execute_result"
    }
   ],
   "source": [
    "print('F1-score media: %.4f' % np.mean(scores))\n",
    "scores"
   ]
  },
  {
   "cell_type": "code",
   "execution_count": 18,
   "id": "3da564fc",
   "metadata": {
    "execution": {
     "iopub.execute_input": "2023-06-25T17:54:28.955946Z",
     "iopub.status.busy": "2023-06-25T17:54:28.955431Z",
     "iopub.status.idle": "2023-06-25T17:54:29.299836Z",
     "shell.execute_reply": "2023-06-25T17:54:29.298747Z"
    },
    "papermill": {
     "duration": 0.363588,
     "end_time": "2023-06-25T17:54:29.302290",
     "exception": false,
     "start_time": "2023-06-25T17:54:28.938702",
     "status": "completed"
    },
    "tags": []
   },
   "outputs": [
    {
     "data": {
      "image/png": "[encoded data removed]",
      "text/plain": [
       "<Figure size 640x480 with 1 Axes>"
      ]
     },
     "metadata": {},
     "output_type": "display_data"
    }
   ],
   "source": [
    "# Boxplot de los resultados\n",
    "plt.boxplot(scores)\n",
    "plt.title(\"Boxplot de Validación Cruzada\")\n",
    "plt.text(0.97, 0.05, 'F1-score media: {:.3f}'.format(np.mean(scores)),\n",
    "         transform=plt.gca().transAxes, ha='right')\n",
    "plt.show()"
   ]
  },
  {
   "attachments": {},
   "cell_type": "markdown",
   "id": "bbbb2204",
   "metadata": {
    "papermill": {
     "duration": 0.014187,
     "end_time": "2023-06-25T17:54:29.330897",
     "exception": false,
     "start_time": "2023-06-25T17:54:29.316710",
     "status": "completed"
    },
    "tags": []
   },
   "source": [
    "\n",
    "## Aplicación del modelo al dataset de test"
   ]
  },
  {
   "attachments": {},
   "cell_type": "markdown",
   "id": "e67e4bad",
   "metadata": {
    "papermill": {
     "duration": 0.014204,
     "end_time": "2023-06-25T17:54:29.360005",
     "exception": false,
     "start_time": "2023-06-25T17:54:29.345801",
     "status": "completed"
    },
    "tags": []
   },
   "source": [
    "Lectura del dataset de test original para mantener id:"
   ]
  },
  {
   "cell_type": "code",
   "execution_count": 19,
   "id": "67890b3d",
   "metadata": {
    "execution": {
     "iopub.execute_input": "2023-06-25T17:54:29.391384Z",
     "iopub.status.busy": "2023-06-25T17:54:29.390439Z",
     "iopub.status.idle": "2023-06-25T17:54:29.744782Z",
     "shell.execute_reply": "2023-06-25T17:54:29.743614Z"
    },
    "papermill": {
     "duration": 0.372933,
     "end_time": "2023-06-25T17:54:29.747567",
     "exception": false,
     "start_time": "2023-06-25T17:54:29.374634",
     "status": "completed"
    },
    "tags": []
   },
   "outputs": [],
   "source": [
    "df_test = pd.read_csv('../input/dataset/test_preprocesado.csv', sep=',', header=0)"
   ]
  },
  {
   "cell_type": "code",
   "execution_count": 20,
   "id": "3ed4996a",
   "metadata": {
    "execution": {
     "iopub.execute_input": "2023-06-25T17:54:29.779275Z",
     "iopub.status.busy": "2023-06-25T17:54:29.778257Z",
     "iopub.status.idle": "2023-06-25T17:54:36.540972Z",
     "shell.execute_reply": "2023-06-25T17:54:36.540141Z"
    },
    "papermill": {
     "duration": 6.781163,
     "end_time": "2023-06-25T17:54:36.543486",
     "exception": false,
     "start_time": "2023-06-25T17:54:29.762323",
     "status": "completed"
    },
    "tags": []
   },
   "outputs": [],
   "source": [
    "y_pred_final = model_opt.predict(df_test[features])"
   ]
  },
  {
   "cell_type": "code",
   "execution_count": 21,
   "id": "b72f4a2e",
   "metadata": {
    "execution": {
     "iopub.execute_input": "2023-06-25T17:54:36.575722Z",
     "iopub.status.busy": "2023-06-25T17:54:36.575292Z",
     "iopub.status.idle": "2023-06-25T17:54:36.582140Z",
     "shell.execute_reply": "2023-06-25T17:54:36.580945Z"
    },
    "papermill": {
     "duration": 0.02635,
     "end_time": "2023-06-25T17:54:36.584797",
     "exception": false,
     "start_time": "2023-06-25T17:54:36.558447",
     "status": "completed"
    },
    "tags": []
   },
   "outputs": [
    {
     "name": "stdout",
     "output_type": "stream",
     "text": [
      "Resultado de la predicción: \n",
      "Positivos:  5217\n",
      "Negativos:  3382\n"
     ]
    }
   ],
   "source": [
    "# Mapear etiquetas a valores numéricos\n",
    "# label_mapping = {'negativo': 0, 'positivo': 1}\n",
    "# y_pred_final_numeric = np.array([label_mapping[label] for label in y_pred_final])\n",
    "\n",
    "# Calcular las frecuencias\n",
    "counts = np.bincount(y_pred_final)\n",
    "count_1 = counts[1]  # Frecuencia de positivos\n",
    "count_0 = counts[0]  # Frecuencia de negativos\n",
    "\n",
    "print(\"Resultado de la predicción: \")\n",
    "print(\"Positivos: \", count_1)\n",
    "print(\"Negativos: \", count_0)"
   ]
  },
  {
   "cell_type": "code",
   "execution_count": 22,
   "id": "887c32b6",
   "metadata": {
    "execution": {
     "iopub.execute_input": "2023-06-25T17:54:36.616049Z",
     "iopub.status.busy": "2023-06-25T17:54:36.615631Z",
     "iopub.status.idle": "2023-06-25T17:54:36.620843Z",
     "shell.execute_reply": "2023-06-25T17:54:36.619868Z"
    },
    "papermill": {
     "duration": 0.023448,
     "end_time": "2023-06-25T17:54:36.623080",
     "exception": false,
     "start_time": "2023-06-25T17:54:36.599632",
     "status": "completed"
    },
    "tags": []
   },
   "outputs": [],
   "source": [
    "# Mapeo de prediccion numerica a etiqueta (positivo, negativo)\n",
    "y_pred_final = np.where(y_pred_final == 1, 'positivo', 'negativo')"
   ]
  },
  {
   "cell_type": "code",
   "execution_count": 23,
   "id": "2b684d04",
   "metadata": {
    "execution": {
     "iopub.execute_input": "2023-06-25T17:54:36.655577Z",
     "iopub.status.busy": "2023-06-25T17:54:36.654608Z",
     "iopub.status.idle": "2023-06-25T17:54:36.699431Z",
     "shell.execute_reply": "2023-06-25T17:54:36.698308Z"
    },
    "papermill": {
     "duration": 0.06368,
     "end_time": "2023-06-25T17:54:36.702278",
     "exception": false,
     "start_time": "2023-06-25T17:54:36.638598",
     "status": "completed"
    },
    "tags": []
   },
   "outputs": [],
   "source": [
    "pd.concat([df_test['ID'],pd.DataFrame(data=y_pred_final, columns=['sentimiento'])], axis=1).to_csv('/kaggle/working/pred_bayes_naive.csv', index=False)"
   ]
  },
  {
   "attachments": {},
   "cell_type": "markdown",
   "id": "192eb874",
   "metadata": {
    "papermill": {
     "duration": 0.01497,
     "end_time": "2023-06-25T17:54:36.732192",
     "exception": false,
     "start_time": "2023-06-25T17:54:36.717222",
     "status": "completed"
    },
    "tags": []
   },
   "source": [
    "## Exportación del modelo"
   ]
  },
  {
   "cell_type": "code",
   "execution_count": 24,
   "id": "d5ecd94d",
   "metadata": {
    "execution": {
     "iopub.execute_input": "2023-06-25T17:54:36.764056Z",
     "iopub.status.busy": "2023-06-25T17:54:36.763662Z",
     "iopub.status.idle": "2023-06-25T17:54:42.806892Z",
     "shell.execute_reply": "2023-06-25T17:54:42.805760Z"
    },
    "papermill": {
     "duration": 6.062542,
     "end_time": "2023-06-25T17:54:42.809693",
     "exception": false,
     "start_time": "2023-06-25T17:54:36.747151",
     "status": "completed"
    },
    "tags": []
   },
   "outputs": [],
   "source": [
    "dump(model_opt, open('/kaggle/working/modelo_bayes.pkl', 'wb'))"
   ]
  }
 ],
 "metadata": {
  "kernelspec": {
   "display_name": "Python 3",
   "language": "python",
   "name": "python3"
  },
  "language_info": {
   "codemirror_mode": {
    "name": "ipython",
    "version": 3
   },
   "file_extension": ".py",
   "mimetype": "text/x-python",
   "name": "python",
   "nbconvert_exporter": "python",
   "pygments_lexer": "ipython3",
   "version": "3.10.10"
  },
  "papermill": {
   "default_parameters": {},
   "duration": 6543.302274,
   "end_time": "2023-06-25T17:54:45.571254",
   "environment_variables": {},
   "exception": null,
   "input_path": "__notebook__.ipynb",
   "output_path": "__notebook__.ipynb",
   "parameters": {},
   "start_time": "2023-06-25T16:05:42.268980",
   "version": "2.4.0"
  }
 },
 "nbformat": 4,
 "nbformat_minor": 5
}
