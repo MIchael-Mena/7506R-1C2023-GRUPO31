{
 "cells": [
  {
   "attachments": {},
   "cell_type": "markdown",
   "id": "465493df",
   "metadata": {
    "papermill": {
     "duration": 0.011435,
     "end_time": "2023-06-27T17:55:57.543737",
     "exception": false,
     "start_time": "2023-06-27T17:55:57.532302",
     "status": "completed"
    },
    "tags": []
   },
   "source": [
    "## <center><ins>Trabajo Práctico 2: Criticas de peliculas</ins></center>\n",
    "#### <center>*Redes Neuronales*</center>\n",
    "##### <center>75.06 / 95.58 Organización de Datos - FIUBA</center>\n",
    "##### <center>Ing. Rodríguez - 1°C 2023</center>\n",
    "---\n",
    "#### <center>**Grupo 31 - \"Datazo\":**</center>\n",
    "<center> Michael Mena - 102685</center>\n",
    "<center>Pablo Brocca - 104256</center>\n",
    "<center>Diego Kisinovsky - 106203</center>"
   ]
  },
  {
   "attachments": {},
   "cell_type": "markdown",
   "id": "8d6132f3",
   "metadata": {
    "papermill": {
     "duration": 0.010442,
     "end_time": "2023-06-27T17:55:57.565235",
     "exception": false,
     "start_time": "2023-06-27T17:55:57.554793",
     "status": "completed"
    },
    "tags": []
   },
   "source": [
    "---\n",
    "---"
   ]
  },
  {
   "attachments": {},
   "cell_type": "markdown",
   "id": "00568a10",
   "metadata": {
    "papermill": {
     "duration": 0.012144,
     "end_time": "2023-06-27T17:55:57.587855",
     "exception": false,
     "start_time": "2023-06-27T17:55:57.575711",
     "status": "completed"
    },
    "tags": []
   },
   "source": [
    "## Carga de datos y librerías"
   ]
  },
  {
   "cell_type": "code",
   "execution_count": 1,
   "id": "dcd84899",
   "metadata": {
    "execution": {
     "iopub.execute_input": "2023-06-27T17:55:57.612371Z",
     "iopub.status.busy": "2023-06-27T17:55:57.611555Z",
     "iopub.status.idle": "2023-06-27T17:55:57.617068Z",
     "shell.execute_reply": "2023-06-27T17:55:57.616025Z"
    },
    "papermill": {
     "duration": 0.022936,
     "end_time": "2023-06-27T17:55:57.621619",
     "exception": false,
     "start_time": "2023-06-27T17:55:57.598683",
     "status": "completed"
    },
    "tags": []
   },
   "outputs": [],
   "source": [
    "# !pip install --upgrade tensorflow-io"
   ]
  },
  {
   "cell_type": "code",
   "execution_count": 2,
   "id": "7f3a6ed6",
   "metadata": {
    "execution": {
     "iopub.execute_input": "2023-06-27T17:55:57.646417Z",
     "iopub.status.busy": "2023-06-27T17:55:57.645844Z",
     "iopub.status.idle": "2023-06-27T17:56:09.111375Z",
     "shell.execute_reply": "2023-06-27T17:56:09.110324Z"
    },
    "papermill": {
     "duration": 11.480989,
     "end_time": "2023-06-27T17:56:09.114243",
     "exception": false,
     "start_time": "2023-06-27T17:55:57.633254",
     "status": "completed"
    },
    "tags": []
   },
   "outputs": [
    {
     "name": "stderr",
     "output_type": "stream",
     "text": [
      "/opt/conda/lib/python3.10/site-packages/tensorflow_io/python/ops/__init__.py:98: UserWarning: unable to load libtensorflow_io_plugins.so: unable to open file: libtensorflow_io_plugins.so, from paths: ['/opt/conda/lib/python3.10/site-packages/tensorflow_io/python/ops/libtensorflow_io_plugins.so']\n",
      "caused by: ['/opt/conda/lib/python3.10/site-packages/tensorflow_io/python/ops/libtensorflow_io_plugins.so: undefined symbol: _ZN3tsl6StatusC1EN10tensorflow5error4CodeESt17basic_string_viewIcSt11char_traitsIcEENS_14SourceLocationE']\n",
      "  warnings.warn(f\"unable to load libtensorflow_io_plugins.so: {e}\")\n",
      "/opt/conda/lib/python3.10/site-packages/tensorflow_io/python/ops/__init__.py:104: UserWarning: file system plugins are not loaded: unable to open file: libtensorflow_io.so, from paths: ['/opt/conda/lib/python3.10/site-packages/tensorflow_io/python/ops/libtensorflow_io.so']\n",
      "caused by: ['/opt/conda/lib/python3.10/site-packages/tensorflow_io/python/ops/libtensorflow_io.so: undefined symbol: _ZTVN10tensorflow13GcsFileSystemE']\n",
      "  warnings.warn(f\"file system plugins are not loaded: {e}\")\n"
     ]
    }
   ],
   "source": [
    "import numpy as np\n",
    "import pandas as pd\n",
    "\n",
    "# Visualización\n",
    "import matplotlib.pyplot as plt\n",
    "import seaborn as sns\n",
    "from matplotlib.colors import ListedColormap, LinearSegmentedColormap\n",
    "from sklearn.metrics import roc_curve, roc_auc_score, RocCurveDisplay\n",
    "\n",
    "# Preprocesamiento\n",
    "from sklearn.model_selection import train_test_split\n",
    "from sklearn.feature_extraction.text import CountVectorizer, TfidfTransformer, TfidfVectorizer\n",
    "from sklearn.preprocessing import StandardScaler\n",
    "from sklearn.compose import ColumnTransformer\n",
    "\n",
    "# Manejo de modelos\n",
    "from pickle import dump\n",
    "from pickle import load\n",
    "\n",
    "# Metricas\n",
    "from sklearn.metrics import f1_score as f1_score_sk\n",
    "from sklearn.metrics import accuracy_score\n",
    "from sklearn.metrics import confusion_matrix\n",
    "from sklearn.metrics import classification_report\n",
    "\n",
    "# Clasificadores\n",
    "import tensorflow as tf\n",
    "from tensorflow.keras.preprocessing.text import Tokenizer\n",
    "from tensorflow.keras.preprocessing.sequence import pad_sequences\n",
    "from tensorflow.keras.models import Sequential\n",
    "from tensorflow.keras.layers import Embedding, GRU, Dense\n",
    "from tensorflow import keras\n",
    "from keras import optimizers\n",
    "from keras.callbacks import EarlyStopping\n",
    "\n",
    "import keras.backend as K # se usa para definir el f1_score\n",
    "\n",
    "# Regularizadores\n",
    "from keras import regularizers\n",
    "from keras.layers import Dropout\n",
    "\n",
    "# Optimización de hiperparámetros\n",
    "from sklearn.model_selection import train_test_split, StratifiedKFold, KFold, RepeatedKFold\n",
    "\n",
    "# Manejo de modelos\n",
    "from pickle import dump\n",
    "from pickle import load\n"
   ]
  },
  {
   "cell_type": "code",
   "execution_count": 3,
   "id": "c7d501a8",
   "metadata": {
    "execution": {
     "iopub.execute_input": "2023-06-27T17:56:09.137780Z",
     "iopub.status.busy": "2023-06-27T17:56:09.137149Z",
     "iopub.status.idle": "2023-06-27T17:56:11.213991Z",
     "shell.execute_reply": "2023-06-27T17:56:11.213066Z"
    },
    "papermill": {
     "duration": 2.090416,
     "end_time": "2023-06-27T17:56:11.216087",
     "exception": false,
     "start_time": "2023-06-27T17:56:09.125671",
     "status": "completed"
    },
    "tags": []
   },
   "outputs": [
    {
     "data": {
      "text/html": [
       "<div>\n",
       "<style scoped>\n",
       "    .dataframe tbody tr th:only-of-type {\n",
       "        vertical-align: middle;\n",
       "    }\n",
       "\n",
       "    .dataframe tbody tr th {\n",
       "        vertical-align: top;\n",
       "    }\n",
       "\n",
       "    .dataframe thead th {\n",
       "        text-align: right;\n",
       "    }\n",
       "</style>\n",
       "<table border=\"1\" class=\"dataframe\">\n",
       "  <thead>\n",
       "    <tr style=\"text-align: right;\">\n",
       "      <th></th>\n",
       "      <th>review_es</th>\n",
       "      <th>sentimiento</th>\n",
       "    </tr>\n",
       "  </thead>\n",
       "  <tbody>\n",
       "    <tr>\n",
       "      <th>0</th>\n",
       "      <td>Uno de los otros críticos ha mencionado que de...</td>\n",
       "      <td>1</td>\n",
       "    </tr>\n",
       "    <tr>\n",
       "      <th>1</th>\n",
       "      <td>Una pequeña pequeña producción.La técnica de f...</td>\n",
       "      <td>1</td>\n",
       "    </tr>\n",
       "    <tr>\n",
       "      <th>2</th>\n",
       "      <td>Pensé que esta era una manera maravillosa de p...</td>\n",
       "      <td>1</td>\n",
       "    </tr>\n",
       "    <tr>\n",
       "      <th>3</th>\n",
       "      <td>Básicamente, hay una familia donde un niño peq...</td>\n",
       "      <td>0</td>\n",
       "    </tr>\n",
       "    <tr>\n",
       "      <th>4</th>\n",
       "      <td>El \"amor en el tiempo\" de Petter Mattei es una...</td>\n",
       "      <td>1</td>\n",
       "    </tr>\n",
       "  </tbody>\n",
       "</table>\n",
       "</div>"
      ],
      "text/plain": [
       "                                           review_es  sentimiento\n",
       "0  Uno de los otros críticos ha mencionado que de...            1\n",
       "1  Una pequeña pequeña producción.La técnica de f...            1\n",
       "2  Pensé que esta era una manera maravillosa de p...            1\n",
       "3  Básicamente, hay una familia donde un niño peq...            0\n",
       "4  El \"amor en el tiempo\" de Petter Mattei es una...            1"
      ]
     },
     "execution_count": 3,
     "metadata": {},
     "output_type": "execute_result"
    }
   ],
   "source": [
    "df = pd.read_csv('../input/dataset/train_preprocesado.csv', sep=',', header=0)\n",
    "df.drop(['longitud'], axis=1, inplace=True)\n",
    "df.head()"
   ]
  },
  {
   "attachments": {},
   "cell_type": "markdown",
   "id": "660a9c1b",
   "metadata": {
    "papermill": {
     "duration": 0.010465,
     "end_time": "2023-06-27T17:56:11.237403",
     "exception": false,
     "start_time": "2023-06-27T17:56:11.226938",
     "status": "completed"
    },
    "tags": []
   },
   "source": [
    "### Carga stopwords"
   ]
  },
  {
   "cell_type": "code",
   "execution_count": 4,
   "id": "8b2a237a",
   "metadata": {
    "execution": {
     "iopub.execute_input": "2023-06-27T17:56:11.259952Z",
     "iopub.status.busy": "2023-06-27T17:56:11.259643Z",
     "iopub.status.idle": "2023-06-27T17:56:11.269840Z",
     "shell.execute_reply": "2023-06-27T17:56:11.268698Z"
    },
    "papermill": {
     "duration": 0.023957,
     "end_time": "2023-06-27T17:56:11.272099",
     "exception": false,
     "start_time": "2023-06-27T17:56:11.248142",
     "status": "completed"
    },
    "tags": []
   },
   "outputs": [
    {
     "name": "stdout",
     "output_type": "stream",
     "text": [
      "Cantidad de stopwords: 390\n"
     ]
    }
   ],
   "source": [
    "sw = pd.read_csv('../input/dataset/my-stop-words.csv')['palabra'].to_list() # 390 palabras, 77 nuevas agregadas a mano y 308 de NLTK\n",
    "\n",
    "print(f'Cantidad de stopwords: {len(sw)}')"
   ]
  },
  {
   "cell_type": "code",
   "execution_count": 5,
   "id": "73739d58",
   "metadata": {
    "execution": {
     "iopub.execute_input": "2023-06-27T17:56:11.295409Z",
     "iopub.status.busy": "2023-06-27T17:56:11.295129Z",
     "iopub.status.idle": "2023-06-27T17:56:59.421035Z",
     "shell.execute_reply": "2023-06-27T17:56:59.420012Z"
    },
    "papermill": {
     "duration": 48.140457,
     "end_time": "2023-06-27T17:56:59.423543",
     "exception": false,
     "start_time": "2023-06-27T17:56:11.283086",
     "status": "completed"
    },
    "tags": []
   },
   "outputs": [],
   "source": [
    "# Función para eliminar las stopwords de una frase\n",
    "def remove_stopwords(sentence):\n",
    "    words = sentence.split()\n",
    "    filtered_words = [word for word in words if word.lower() not in sw]\n",
    "    return ' '.join(filtered_words)\n",
    "\n",
    "# Aplicar la eliminación de stopwords a la columna 'review_es'\n",
    "df['review_es'] = df['review_es'].apply(remove_stopwords)"
   ]
  },
  {
   "attachments": {},
   "cell_type": "markdown",
   "id": "f19b6414",
   "metadata": {
    "papermill": {
     "duration": 0.011227,
     "end_time": "2023-06-27T17:56:59.446260",
     "exception": false,
     "start_time": "2023-06-27T17:56:59.435033",
     "status": "completed"
    },
    "tags": []
   },
   "source": [
    "### Definición de funciones"
   ]
  },
  {
   "cell_type": "code",
   "execution_count": 6,
   "id": "52a7b740",
   "metadata": {
    "execution": {
     "iopub.execute_input": "2023-06-27T17:56:59.470411Z",
     "iopub.status.busy": "2023-06-27T17:56:59.470079Z",
     "iopub.status.idle": "2023-06-27T17:56:59.476844Z",
     "shell.execute_reply": "2023-06-27T17:56:59.475893Z"
    },
    "papermill": {
     "duration": 0.021109,
     "end_time": "2023-06-27T17:56:59.478876",
     "exception": false,
     "start_time": "2023-06-27T17:56:59.457767",
     "status": "completed"
    },
    "tags": []
   },
   "outputs": [],
   "source": [
    "#Funcion para evaluar los modelos\n",
    "def evaluate_model_RN(model, x, y, n_splits=5, n_repeats=2):\n",
    "    kf = RepeatedKFold(n_splits=n_splits, n_repeats=n_repeats, random_state=25)\n",
    "    scores = []\n",
    "    for train_index, val_index in kf.split(x):\n",
    "        x_train, x_val = x.iloc[train_index], x.iloc[val_index]\n",
    "        y_train, y_val = pd.DataFrame(y).iloc[train_index], pd.DataFrame(y).iloc[val_index]\n",
    "\n",
    "        model.fit(x_train, y_train)\n",
    "        score = model.score(x_val, y_val)\n",
    "        scores.append(score)  # Obtener el valor de score\n",
    "    return np.array(scores)"
   ]
  },
  {
   "cell_type": "code",
   "execution_count": 7,
   "id": "3ef42e49",
   "metadata": {
    "execution": {
     "iopub.execute_input": "2023-06-27T17:56:59.502438Z",
     "iopub.status.busy": "2023-06-27T17:56:59.501692Z",
     "iopub.status.idle": "2023-06-27T17:56:59.508568Z",
     "shell.execute_reply": "2023-06-27T17:56:59.507689Z"
    },
    "papermill": {
     "duration": 0.020445,
     "end_time": "2023-06-27T17:56:59.510550",
     "exception": false,
     "start_time": "2023-06-27T17:56:59.490105",
     "status": "completed"
    },
    "tags": []
   },
   "outputs": [],
   "source": [
    "# Esta metrica no esta implementada en keras, por lo que la definimos\n",
    "def f1_score(y_true, y_pred):\n",
    "    # Cálculo de la métrica F1-score\n",
    "    tp = K.sum(K.round(K.clip(y_true * y_pred, 0, 1)))\n",
    "    precision = tp / (K.sum(K.round(K.clip(y_pred, 0, 1))) + K.epsilon())\n",
    "    recall = tp / (K.sum(K.round(K.clip(y_true, 0, 1))) + K.epsilon())\n",
    "    f1 = 2 * precision * recall / (precision + recall + K.epsilon())\n",
    "    return f1\n",
    "\n",
    "# Registramos la métrica en keras\n",
    "keras.utils.get_custom_objects()['f1_score'] = f1_score"
   ]
  },
  {
   "attachments": {},
   "cell_type": "markdown",
   "id": "2755c4d5",
   "metadata": {
    "papermill": {
     "duration": 0.010895,
     "end_time": "2023-06-27T17:56:59.532536",
     "exception": false,
     "start_time": "2023-06-27T17:56:59.521641",
     "status": "completed"
    },
    "tags": []
   },
   "source": [
    "## Armado y entrenamiento"
   ]
  },
  {
   "attachments": {},
   "cell_type": "markdown",
   "id": "475785d2",
   "metadata": {
    "papermill": {
     "duration": 0.011263,
     "end_time": "2023-06-27T17:56:59.555242",
     "exception": false,
     "start_time": "2023-06-27T17:56:59.543979",
     "status": "completed"
    },
    "tags": []
   },
   "source": [
    "### Preparación de features:"
   ]
  },
  {
   "cell_type": "code",
   "execution_count": 8,
   "id": "6cdf538d",
   "metadata": {
    "execution": {
     "iopub.execute_input": "2023-06-27T17:56:59.579588Z",
     "iopub.status.busy": "2023-06-27T17:56:59.578850Z",
     "iopub.status.idle": "2023-06-27T17:56:59.583124Z",
     "shell.execute_reply": "2023-06-27T17:56:59.582199Z"
    },
    "papermill": {
     "duration": 0.018859,
     "end_time": "2023-06-27T17:56:59.585333",
     "exception": false,
     "start_time": "2023-06-27T17:56:59.566474",
     "status": "completed"
    },
    "tags": []
   },
   "outputs": [],
   "source": [
    "target = 'sentimiento'\n",
    "features = 'review_es'"
   ]
  },
  {
   "attachments": {},
   "cell_type": "markdown",
   "id": "6e77ff19",
   "metadata": {
    "papermill": {
     "duration": 0.011201,
     "end_time": "2023-06-27T17:56:59.608063",
     "exception": false,
     "start_time": "2023-06-27T17:56:59.596862",
     "status": "completed"
    },
    "tags": []
   },
   "source": [
    "### Train-Test Split:"
   ]
  },
  {
   "cell_type": "code",
   "execution_count": 9,
   "id": "d523cc84",
   "metadata": {
    "execution": {
     "iopub.execute_input": "2023-06-27T17:56:59.633003Z",
     "iopub.status.busy": "2023-06-27T17:56:59.632242Z",
     "iopub.status.idle": "2023-06-27T17:56:59.678021Z",
     "shell.execute_reply": "2023-06-27T17:56:59.676951Z"
    },
    "papermill": {
     "duration": 0.060704,
     "end_time": "2023-06-27T17:56:59.680321",
     "exception": false,
     "start_time": "2023-06-27T17:56:59.619617",
     "status": "completed"
    },
    "tags": []
   },
   "outputs": [
    {
     "name": "stdout",
     "output_type": "stream",
     "text": [
      "# Datos Entrenamiento: 40000\n",
      "# Datos Prueba: 10000\n",
      "% Positivos Entrenamiento: 50.000\n",
      "% Positivos Prueba: 50.000\n"
     ]
    }
   ],
   "source": [
    "X_train, X_test, y_train, y_test = train_test_split(df[features], \n",
    "                                                    df[target], \n",
    "                                                    test_size=0.2, \n",
    "                                                    random_state=42, \n",
    "                                                    stratify=df[target],\n",
    "                                                    shuffle=True)\n",
    "\n",
    "# Verificamos cantidad de datos en cada set\n",
    "print('# Datos Entrenamiento: {}'.format(len(X_train)))\n",
    "print('# Datos Prueba: {}'.format(len(X_test)))\n",
    "\n",
    "# Verificamos como quedaron balanceados\n",
    "for split_name, split in zip(['% Positivos Entrenamiento','% Positivos Prueba'],[y_train,y_test]):\n",
    "  print('{}: {:.3f}'.format(split_name,pd.Series(split).value_counts(normalize=True)[1]*100))"
   ]
  },
  {
   "attachments": {},
   "cell_type": "markdown",
   "id": "b13d3deb",
   "metadata": {
    "papermill": {
     "duration": 0.010391,
     "end_time": "2023-06-27T17:56:59.702315",
     "exception": false,
     "start_time": "2023-06-27T17:56:59.691924",
     "status": "completed"
    },
    "tags": []
   },
   "source": [
    "### Entrenamiento de modelo"
   ]
  },
  {
   "attachments": {},
   "cell_type": "markdown",
   "id": "8c4344db",
   "metadata": {
    "papermill": {
     "duration": 0.010443,
     "end_time": "2023-06-27T17:56:59.723428",
     "exception": false,
     "start_time": "2023-06-27T17:56:59.712985",
     "status": "completed"
    },
    "tags": []
   },
   "source": [
    "#### Optimizacion bayesiana"
   ]
  },
  {
   "cell_type": "code",
   "execution_count": 10,
   "id": "39f62dc5",
   "metadata": {
    "execution": {
     "iopub.execute_input": "2023-06-27T17:56:59.747502Z",
     "iopub.status.busy": "2023-06-27T17:56:59.747215Z",
     "iopub.status.idle": "2023-06-27T17:57:22.012731Z",
     "shell.execute_reply": "2023-06-27T17:57:22.011729Z"
    },
    "papermill": {
     "duration": 22.281135,
     "end_time": "2023-06-27T17:57:22.015508",
     "exception": false,
     "start_time": "2023-06-27T17:56:59.734373",
     "status": "completed"
    },
    "tags": []
   },
   "outputs": [],
   "source": [
    "# Convertir las críticas de texto a secuencias numéricas\n",
    "tokenizer = Tokenizer(num_words=20000)  # Número máximo de palabras en el vocabulario\n",
    "tokenizer.fit_on_texts(X_train)  # X_train es una lista de críticas de películas\n",
    "sequences = tokenizer.texts_to_sequences(X_train)\n",
    "word_index = tokenizer.word_index\n",
    "\n",
    "# Limitar la longitud de las secuencias a un tamaño fijo (rellenando o truncando según sea necesario)\n",
    "max_sequence_length = 200  # Definir la longitud máxima deseada\n",
    "X_train_tokenizer = pad_sequences(sequences, maxlen=max_sequence_length)\n",
    "\n",
    "# Convertir las etiquetas a valores numéricos (0 para negativo, 1 para positivo)\n",
    "labels = np.array(y_train.replace({\"negativo\": 0, \"positivo\": 1}))\n",
    "\n",
    "# Crear el modelo de RNN con capas GRU\n",
    "model_opt = Sequential()\n",
    "model_opt.add(Embedding(len(word_index) + 1, 100, input_length=max_sequence_length))  # Capa de embedding\n",
    "\n",
    "model_opt.add(GRU(64))  # Capa GRU con 64 unidades\n",
    "# model_opt.add(GRU(64, kernel_regularizer=regularizers.l2(0.01), recurrent_regularizer=regularizers.l2(0.01)))  # Regularización L2\n",
    "# model_opt.add(Dropout(0.5))  # Dropout para apagar neuronas\n",
    "\n",
    "model_opt.add(Dense(1, activation='sigmoid'))  # Capa densa con activación sigmoidal para la clasificación binaria"
   ]
  },
  {
   "cell_type": "code",
   "execution_count": 11,
   "id": "608811e0",
   "metadata": {
    "execution": {
     "iopub.execute_input": "2023-06-27T17:57:22.039042Z",
     "iopub.status.busy": "2023-06-27T17:57:22.038726Z",
     "iopub.status.idle": "2023-06-27T17:59:45.630762Z",
     "shell.execute_reply": "2023-06-27T17:59:45.629544Z"
    },
    "papermill": {
     "duration": 143.606983,
     "end_time": "2023-06-27T17:59:45.633855",
     "exception": false,
     "start_time": "2023-06-27T17:57:22.026872",
     "status": "completed"
    },
    "tags": []
   },
   "outputs": [
    {
     "name": "stdout",
     "output_type": "stream",
     "text": [
      "Epoch 1/8\n",
      "1000/1000 [==============================] - 16s 10ms/step - loss: 0.6902 - binary_accuracy: 0.5552 - f1_score: 0.5155 - val_loss: 0.6855 - val_binary_accuracy: 0.5791 - val_f1_score: 0.5430\n",
      "Epoch 2/8\n",
      "1000/1000 [==============================] - 10s 10ms/step - loss: 0.6577 - binary_accuracy: 0.6320 - f1_score: 0.6274 - val_loss: 0.5246 - val_binary_accuracy: 0.7320 - val_f1_score: 0.7655\n",
      "Epoch 3/8\n",
      "1000/1000 [==============================] - 10s 10ms/step - loss: 0.4045 - binary_accuracy: 0.8155 - f1_score: 0.8108 - val_loss: 0.3469 - val_binary_accuracy: 0.8451 - val_f1_score: 0.8445\n",
      "Epoch 4/8\n",
      "1000/1000 [==============================] - 10s 10ms/step - loss: 0.3003 - binary_accuracy: 0.8736 - f1_score: 0.8699 - val_loss: 0.3092 - val_binary_accuracy: 0.8662 - val_f1_score: 0.8589\n",
      "Epoch 5/8\n",
      "1000/1000 [==============================] - 10s 10ms/step - loss: 0.2575 - binary_accuracy: 0.8967 - f1_score: 0.8932 - val_loss: 0.3002 - val_binary_accuracy: 0.8734 - val_f1_score: 0.8681\n",
      "Epoch 6/8\n",
      "1000/1000 [==============================] - 10s 10ms/step - loss: 0.2277 - binary_accuracy: 0.9121 - f1_score: 0.9093 - val_loss: 0.2989 - val_binary_accuracy: 0.8734 - val_f1_score: 0.8710\n",
      "Epoch 7/8\n",
      "1000/1000 [==============================] - 10s 10ms/step - loss: 0.2052 - binary_accuracy: 0.9228 - f1_score: 0.9205 - val_loss: 0.3023 - val_binary_accuracy: 0.8756 - val_f1_score: 0.8723\n",
      "Epoch 8/8\n",
      "1000/1000 [==============================] - 10s 10ms/step - loss: 0.1862 - binary_accuracy: 0.9310 - f1_score: 0.9289 - val_loss: 0.3147 - val_binary_accuracy: 0.8744 - val_f1_score: 0.8744\n"
     ]
    }
   ],
   "source": [
    "# Configurar el optimizador\n",
    "optimizer = optimizers.Adadelta(learning_rate=0.1) # Alternativas: Adamax (Más lento), otros No convergen\n",
    "\n",
    "\n",
    "# Compilar el modelo\n",
    "model_opt.compile(loss='binary_crossentropy', optimizer=optimizer, metrics=['binary_accuracy','f1_score'])\n",
    "\n",
    "# Cantidad de épocas de entrenamiento\n",
    "cant_epochs = 8\n",
    "\n",
    "# Configurar el callback de Early Stopping (detiene el entrenamiento cuando no hay mejoras en la métrica de validación)\n",
    "early_stopping = EarlyStopping(monitor='val_binary_accuracy', \n",
    "                               patience=4, \n",
    "                               mode='max', # mode='min' para loss (minimizar)\n",
    "                               restore_best_weights=True, \n",
    "                               min_delta=0.0001)\n",
    "\n",
    "# Entrenar el modelo\n",
    "history_model_rn = model_opt.fit(X_train_tokenizer,\n",
    "                                 labels, \n",
    "                                 epochs=cant_epochs, \n",
    "                                 batch_size=32, \n",
    "                                 validation_split=0.2, \n",
    "                                 verbose=1\n",
    "#                                  callbacks=[early_stopping]\n",
    "                                )"
   ]
  },
  {
   "cell_type": "code",
   "execution_count": 12,
   "id": "839329e7",
   "metadata": {
    "execution": {
     "iopub.execute_input": "2023-06-27T17:59:45.855957Z",
     "iopub.status.busy": "2023-06-27T17:59:45.855612Z",
     "iopub.status.idle": "2023-06-27T17:59:51.072578Z",
     "shell.execute_reply": "2023-06-27T17:59:51.071394Z"
    },
    "papermill": {
     "duration": 5.330572,
     "end_time": "2023-06-27T17:59:51.075499",
     "exception": false,
     "start_time": "2023-06-27T17:59:45.744927",
     "status": "completed"
    },
    "tags": []
   },
   "outputs": [
    {
     "name": "stdout",
     "output_type": "stream",
     "text": [
      "313/313 [==============================] - 2s 4ms/step\n",
      "F1-score en datos de prueba: 0.8773493509009882\n",
      "Exactitud en datos de prueba: 0.8734\n"
     ]
    }
   ],
   "source": [
    "# Tokenizar X_test\n",
    "sequences_test = tokenizer.texts_to_sequences(X_test)\n",
    "data_test = pad_sequences(sequences_test, maxlen=max_sequence_length)\n",
    "\n",
    "# Hacer las predicciones\n",
    "y_pred_prob = model_opt.predict(data_test)\n",
    "y_pred = y_pred_prob.flatten().round().astype(int) # Convertir las probabilidades a etiquetas (0 o 1)\n",
    "\n",
    "# Calcular el f1-score en los datos de prueba\n",
    "f1 = f1_score_sk(y_test, y_pred)\n",
    "print(\"F1-score en datos de prueba:\", f1)\n",
    "\n",
    "# Calcular la exactitud en los datos de prueba\n",
    "acc = accuracy_score(y_test, y_pred)\n",
    "print(\"Exactitud en datos de prueba:\", acc)"
   ]
  },
  {
   "attachments": {},
   "cell_type": "markdown",
   "id": "0c164e1f",
   "metadata": {
    "papermill": {
     "duration": 0.114589,
     "end_time": "2023-06-27T17:59:51.307105",
     "exception": false,
     "start_time": "2023-06-27T17:59:51.192516",
     "status": "completed"
    },
    "tags": []
   },
   "source": [
    "Longitud del vocabulario completo para unigrama es: 154146"
   ]
  },
  {
   "attachments": {},
   "cell_type": "markdown",
   "id": "7af4902c",
   "metadata": {
    "papermill": {
     "duration": 0.117434,
     "end_time": "2023-06-27T17:59:51.542242",
     "exception": false,
     "start_time": "2023-06-27T17:59:51.424808",
     "status": "completed"
    },
    "tags": []
   },
   "source": [
    "### Analisis del modelo"
   ]
  },
  {
   "cell_type": "code",
   "execution_count": 13,
   "id": "8a81d994",
   "metadata": {
    "execution": {
     "iopub.execute_input": "2023-06-27T17:59:51.818747Z",
     "iopub.status.busy": "2023-06-27T17:59:51.818393Z",
     "iopub.status.idle": "2023-06-27T17:59:52.181132Z",
     "shell.execute_reply": "2023-06-27T17:59:52.180123Z"
    },
    "papermill": {
     "duration": 0.480864,
     "end_time": "2023-06-27T17:59:52.183280",
     "exception": false,
     "start_time": "2023-06-27T17:59:51.702416",
     "status": "completed"
    },
    "tags": []
   },
   "outputs": [
    {
     "name": "stdout",
     "output_type": "stream",
     "text": [
      "              precision    recall  f1-score   support\n",
      "\n",
      "           0       0.90      0.84      0.87      5000\n",
      "           1       0.85      0.91      0.88      5000\n",
      "\n",
      "    accuracy                           0.87     10000\n",
      "   macro avg       0.87      0.87      0.87     10000\n",
      "weighted avg       0.87      0.87      0.87     10000\n",
      "\n"
     ]
    },
    {
     "data": {
      "image/png": "[encoded data removed]",
      "text/plain": [
       "<Figure size 640x480 with 2 Axes>"
      ]
     },
     "metadata": {},
     "output_type": "display_data"
    }
   ],
   "source": [
    "# Obtener la matriz de confusión\n",
    "cm = confusion_matrix(y_test, y_pred)\n",
    "\n",
    "# Reporte y Matriz de Confusion\n",
    "print(classification_report(y_test, y_pred))\n",
    "\n",
    "# Definir colores\n",
    "color_start = \"#fff\"\n",
    "color_end = \"#aa0065\"\n",
    "\n",
    "# Definir el mapa de colores personalizado con un degradado suave\n",
    "cmap_colors = [color_start, color_end]\n",
    "cmap = LinearSegmentedColormap.from_list(\"Custom\", cmap_colors)\n",
    "\n",
    "# Graficar la matriz de confusión con el mapa de colores personalizado\n",
    "sns.heatmap(cm, cmap=cmap, annot=True, fmt='d', cbar=True)\n",
    "plt.title(\"Matriz de confusión - Red Neuronal c/ Redes Neuronales\")\n",
    "plt.xlabel('Predicted')\n",
    "plt.ylabel('True')\n",
    "plt.show()"
   ]
  },
  {
   "cell_type": "code",
   "execution_count": 14,
   "id": "d2f53173",
   "metadata": {
    "execution": {
     "iopub.execute_input": "2023-06-27T17:59:52.410567Z",
     "iopub.status.busy": "2023-06-27T17:59:52.410233Z",
     "iopub.status.idle": "2023-06-27T17:59:52.415701Z",
     "shell.execute_reply": "2023-06-27T17:59:52.414725Z"
    },
    "papermill": {
     "duration": 0.12128,
     "end_time": "2023-06-27T17:59:52.417706",
     "exception": false,
     "start_time": "2023-06-27T17:59:52.296426",
     "status": "completed"
    },
    "tags": []
   },
   "outputs": [],
   "source": [
    "train_loss = history_model_rn.history['loss']\n",
    "val_loss = history_model_rn.history['val_loss']\n",
    "train_acc = history_model_rn.history['binary_accuracy']\n",
    "val_acc = history_model_rn.history['val_binary_accuracy']\n",
    "train_f1 = history_model_rn.history['f1_score']\n",
    "val_f1 = history_model_rn.history['val_f1_score']\n",
    "epochs = range(len(val_loss))"
   ]
  },
  {
   "cell_type": "code",
   "execution_count": 15,
   "id": "d2d389bf",
   "metadata": {
    "execution": {
     "iopub.execute_input": "2023-06-27T17:59:52.651212Z",
     "iopub.status.busy": "2023-06-27T17:59:52.650039Z",
     "iopub.status.idle": "2023-06-27T17:59:52.959840Z",
     "shell.execute_reply": "2023-06-27T17:59:52.958831Z"
    },
    "papermill": {
     "duration": 0.432829,
     "end_time": "2023-06-27T17:59:52.961931",
     "exception": false,
     "start_time": "2023-06-27T17:59:52.529102",
     "status": "completed"
    },
    "tags": []
   },
   "outputs": [
    {
     "data": {
      "image/png": "[encoded data removed]",
      "text/plain": [
       "<Figure size 640x480 with 1 Axes>"
      ]
     },
     "metadata": {},
     "output_type": "display_data"
    }
   ],
   "source": [
    "plt.plot(epochs, train_f1, 'b', label='Training F1-score')\n",
    "plt.plot(epochs, val_f1, 'r', label='Validation F1-score')\n",
    "plt.title('Training and Validation F1-score')\n",
    "plt.xlabel('Epochs')\n",
    "plt.ylabel('F1-score')\n",
    "plt.legend()\n",
    "plt.show()"
   ]
  },
  {
   "cell_type": "code",
   "execution_count": 16,
   "id": "448aed4d",
   "metadata": {
    "execution": {
     "iopub.execute_input": "2023-06-27T17:59:53.192860Z",
     "iopub.status.busy": "2023-06-27T17:59:53.191950Z",
     "iopub.status.idle": "2023-06-27T17:59:53.520309Z",
     "shell.execute_reply": "2023-06-27T17:59:53.519312Z"
    },
    "papermill": {
     "duration": 0.44531,
     "end_time": "2023-06-27T17:59:53.522356",
     "exception": false,
     "start_time": "2023-06-27T17:59:53.077046",
     "status": "completed"
    },
    "tags": []
   },
   "outputs": [
    {
     "data": {
      "image/png": "[encoded data removed]",
      "text/plain": [
       "<Figure size 640x480 with 1 Axes>"
      ]
     },
     "metadata": {},
     "output_type": "display_data"
    }
   ],
   "source": [
    "plt.plot(epochs, train_acc, 'b', label='Training Accuracy')\n",
    "plt.plot(epochs, val_acc, 'r', label='Validation Accuracy')\n",
    "plt.title('Training and Validation Accuracy')\n",
    "plt.xlabel('Epochs')\n",
    "plt.ylabel('Accuracy')\n",
    "plt.legend()\n",
    "plt.show()"
   ]
  },
  {
   "cell_type": "code",
   "execution_count": 17,
   "id": "b37df24c",
   "metadata": {
    "execution": {
     "iopub.execute_input": "2023-06-27T17:59:53.805783Z",
     "iopub.status.busy": "2023-06-27T17:59:53.805423Z",
     "iopub.status.idle": "2023-06-27T17:59:54.117287Z",
     "shell.execute_reply": "2023-06-27T17:59:54.116398Z"
    },
    "papermill": {
     "duration": 0.478056,
     "end_time": "2023-06-27T17:59:54.119246",
     "exception": false,
     "start_time": "2023-06-27T17:59:53.641190",
     "status": "completed"
    },
    "tags": []
   },
   "outputs": [
    {
     "data": {
      "image/png": "[encoded data removed]",
      "text/plain": [
       "<Figure size 640x480 with 1 Axes>"
      ]
     },
     "metadata": {},
     "output_type": "display_data"
    }
   ],
   "source": [
    "plt.plot(epochs, train_loss, 'b', label='Training Loss')\n",
    "plt.plot(epochs, val_loss, 'r', label='Validation Loss')\n",
    "plt.title('Training and Validation Loss')\n",
    "plt.xlabel('Epochs')\n",
    "plt.ylabel('Loss')\n",
    "plt.legend()\n",
    "plt.show()"
   ]
  },
  {
   "cell_type": "code",
   "execution_count": 18,
   "id": "e6e9dc41",
   "metadata": {
    "execution": {
     "iopub.execute_input": "2023-06-27T17:59:54.350050Z",
     "iopub.status.busy": "2023-06-27T17:59:54.349017Z",
     "iopub.status.idle": "2023-06-27T17:59:54.649195Z",
     "shell.execute_reply": "2023-06-27T17:59:54.648112Z"
    },
    "papermill": {
     "duration": 0.417724,
     "end_time": "2023-06-27T17:59:54.651427",
     "exception": false,
     "start_time": "2023-06-27T17:59:54.233703",
     "status": "completed"
    },
    "tags": []
   },
   "outputs": [
    {
     "data": {
      "image/png": "[encoded data removed]",
      "text/plain": [
       "<Figure size 640x480 with 1 Axes>"
      ]
     },
     "metadata": {},
     "output_type": "display_data"
    }
   ],
   "source": [
    "fpr, tpr, _ = roc_curve(y_test, y_pred) # FPR y TPR son acrónimos de \"False Positive Rate\" y \"True Positive Rate\"\n",
    "roc_auc = roc_auc_score(y_test, y_pred)\n",
    "\n",
    "roc_display = RocCurveDisplay(fpr=fpr, tpr=tpr, roc_auc=roc_auc, estimator_name='Redes Neuronales').plot()\n",
    "plt.title(\"Curva ROC\")\n",
    "plt.legend(loc=\"lower right\")  # agregar leyenda en la esquina inferior derecha\n",
    "plt.show()"
   ]
  },
  {
   "attachments": {},
   "cell_type": "markdown",
   "id": "4c175666",
   "metadata": {
    "papermill": {
     "duration": 0.113507,
     "end_time": "2023-06-27T17:59:55.848343",
     "exception": false,
     "start_time": "2023-06-27T17:59:55.734836",
     "status": "completed"
    },
    "tags": []
   },
   "source": [
    "\n",
    "## Aplicación del modelo al dataset de test"
   ]
  },
  {
   "attachments": {},
   "cell_type": "markdown",
   "id": "cf6830b3",
   "metadata": {
    "papermill": {
     "duration": 0.115056,
     "end_time": "2023-06-27T17:59:56.078294",
     "exception": false,
     "start_time": "2023-06-27T17:59:55.963238",
     "status": "completed"
    },
    "tags": []
   },
   "source": [
    "Lectura del dataset de test original para mantener id:"
   ]
  },
  {
   "cell_type": "code",
   "execution_count": 22,
   "id": "51c73d15",
   "metadata": {
    "execution": {
     "iopub.execute_input": "2023-06-27T17:59:56.316734Z",
     "iopub.status.busy": "2023-06-27T17:59:56.316382Z",
     "iopub.status.idle": "2023-06-27T17:59:56.633378Z",
     "shell.execute_reply": "2023-06-27T17:59:56.631503Z"
    },
    "papermill": {
     "duration": 0.440351,
     "end_time": "2023-06-27T17:59:56.636080",
     "exception": false,
     "start_time": "2023-06-27T17:59:56.195729",
     "status": "completed"
    },
    "tags": []
   },
   "outputs": [],
   "source": [
    "df_test = pd.read_csv('../input/dataset/test_preprocesado.csv', sep=',', header=0)\n",
    "df_test.drop(['longitud'], axis=1, inplace=True)"
   ]
  },
  {
   "cell_type": "code",
   "execution_count": 23,
   "id": "980119d6",
   "metadata": {
    "execution": {
     "iopub.execute_input": "2023-06-27T17:59:56.874881Z",
     "iopub.status.busy": "2023-06-27T17:59:56.874552Z",
     "iopub.status.idle": "2023-06-27T18:00:04.671924Z",
     "shell.execute_reply": "2023-06-27T18:00:04.670652Z"
    },
    "papermill": {
     "duration": 7.920865,
     "end_time": "2023-06-27T18:00:04.674597",
     "exception": false,
     "start_time": "2023-06-27T17:59:56.753732",
     "status": "completed"
    },
    "tags": []
   },
   "outputs": [],
   "source": [
    "# Aplicar la eliminación de stopwords a la columna 'review_es'\n",
    "df_test['review_es'] = df_test['review_es'].apply(remove_stopwords)"
   ]
  },
  {
   "cell_type": "code",
   "execution_count": 24,
   "id": "cc6f78a2",
   "metadata": {
    "execution": {
     "iopub.execute_input": "2023-06-27T18:00:04.910026Z",
     "iopub.status.busy": "2023-06-27T18:00:04.909678Z",
     "iopub.status.idle": "2023-06-27T18:00:06.403418Z",
     "shell.execute_reply": "2023-06-27T18:00:06.402411Z"
    },
    "papermill": {
     "duration": 1.613631,
     "end_time": "2023-06-27T18:00:06.405958",
     "exception": false,
     "start_time": "2023-06-27T18:00:04.792327",
     "status": "completed"
    },
    "tags": []
   },
   "outputs": [],
   "source": [
    "sequences_test = tokenizer.texts_to_sequences(df_test[features])\n",
    "df_test_tokenizer = pad_sequences(sequences_test, maxlen=max_sequence_length)"
   ]
  },
  {
   "cell_type": "code",
   "execution_count": 25,
   "id": "034e752f",
   "metadata": {
    "execution": {
     "iopub.execute_input": "2023-06-27T18:00:06.653004Z",
     "iopub.status.busy": "2023-06-27T18:00:06.652647Z",
     "iopub.status.idle": "2023-06-27T18:00:08.047360Z",
     "shell.execute_reply": "2023-06-27T18:00:08.046358Z"
    },
    "papermill": {
     "duration": 1.518877,
     "end_time": "2023-06-27T18:00:08.049719",
     "exception": false,
     "start_time": "2023-06-27T18:00:06.530842",
     "status": "completed"
    },
    "tags": []
   },
   "outputs": [
    {
     "name": "stdout",
     "output_type": "stream",
     "text": [
      "269/269 [==============================] - 1s 4ms/step\n"
     ]
    }
   ],
   "source": [
    "y_pred_final_prob = model_opt.predict(df_test_tokenizer)\n",
    "y_pred_final = y_pred_final_prob.flatten().round().astype(int)"
   ]
  },
  {
   "cell_type": "code",
   "execution_count": 26,
   "id": "c4b8f6ff",
   "metadata": {
    "execution": {
     "iopub.execute_input": "2023-06-27T18:00:08.289520Z",
     "iopub.status.busy": "2023-06-27T18:00:08.289131Z",
     "iopub.status.idle": "2023-06-27T18:00:08.295618Z",
     "shell.execute_reply": "2023-06-27T18:00:08.294692Z"
    },
    "papermill": {
     "duration": 0.127518,
     "end_time": "2023-06-27T18:00:08.297715",
     "exception": false,
     "start_time": "2023-06-27T18:00:08.170197",
     "status": "completed"
    },
    "tags": []
   },
   "outputs": [
    {
     "name": "stdout",
     "output_type": "stream",
     "text": [
      "Resultado de la predicción: \n",
      "Positivos:  5284\n",
      "Negativos:  3315\n"
     ]
    }
   ],
   "source": [
    "# Mapear etiquetas a valores numéricos\n",
    "# label_mapping = {'negativo': 0, 'positivo': 1}\n",
    "# y_pred_final_numeric = np.array([label_mapping[label] for label in y_pred_final])\n",
    "\n",
    "# Calcular las frecuencias\n",
    "counts = np.bincount(y_pred_final)\n",
    "count_1 = counts[1]  # Frecuencia de positivos\n",
    "count_0 = counts[0]  # Frecuencia de negativos\n",
    "\n",
    "print(\"Resultado de la predicción: \")\n",
    "print(\"Positivos: \", count_1)\n",
    "print(\"Negativos: \", count_0)"
   ]
  },
  {
   "cell_type": "code",
   "execution_count": 27,
   "id": "7c00d7cd",
   "metadata": {
    "execution": {
     "iopub.execute_input": "2023-06-27T18:00:08.534680Z",
     "iopub.status.busy": "2023-06-27T18:00:08.534368Z",
     "iopub.status.idle": "2023-06-27T18:00:08.539414Z",
     "shell.execute_reply": "2023-06-27T18:00:08.538426Z"
    },
    "papermill": {
     "duration": 0.124348,
     "end_time": "2023-06-27T18:00:08.541449",
     "exception": false,
     "start_time": "2023-06-27T18:00:08.417101",
     "status": "completed"
    },
    "tags": []
   },
   "outputs": [],
   "source": [
    "# Mapeo de prediccion numerica a etiqueta (positivo, negativo)\n",
    "y_pred_final = np.where(y_pred_final == 1, 'positivo', 'negativo')"
   ]
  },
  {
   "cell_type": "code",
   "execution_count": 28,
   "id": "10380455",
   "metadata": {
    "execution": {
     "iopub.execute_input": "2023-06-27T18:00:08.832402Z",
     "iopub.status.busy": "2023-06-27T18:00:08.832013Z",
     "iopub.status.idle": "2023-06-27T18:00:08.862245Z",
     "shell.execute_reply": "2023-06-27T18:00:08.861352Z"
    },
    "papermill": {
     "duration": 0.198113,
     "end_time": "2023-06-27T18:00:08.864170",
     "exception": false,
     "start_time": "2023-06-27T18:00:08.666057",
     "status": "completed"
    },
    "tags": []
   },
   "outputs": [],
   "source": [
    "pd.concat([df_test['ID'],pd.DataFrame(data=y_pred_final, columns=['sentimiento'])], axis=1).to_csv('/kaggle/working/pred_rn.csv', index=False)"
   ]
  },
  {
   "attachments": {},
   "cell_type": "markdown",
   "id": "e5c58326",
   "metadata": {
    "papermill": {
     "duration": 0.13704,
     "end_time": "2023-06-27T18:00:09.121005",
     "exception": false,
     "start_time": "2023-06-27T18:00:08.983965",
     "status": "completed"
    },
    "tags": []
   },
   "source": [
    "## Exportación del modelo"
   ]
  },
  {
   "cell_type": "code",
   "execution_count": 29,
   "id": "3b8da625",
   "metadata": {
    "execution": {
     "iopub.execute_input": "2023-06-27T18:00:09.370347Z",
     "iopub.status.busy": "2023-06-27T18:00:09.369972Z",
     "iopub.status.idle": "2023-06-27T18:00:09.825467Z",
     "shell.execute_reply": "2023-06-27T18:00:09.824379Z"
    },
    "papermill": {
     "duration": 0.580827,
     "end_time": "2023-06-27T18:00:09.827947",
     "exception": false,
     "start_time": "2023-06-27T18:00:09.247120",
     "status": "completed"
    },
    "tags": []
   },
   "outputs": [],
   "source": [
    "model_opt.save('/kaggle/working/modelo_rn.h5')"
   ]
  }
 ],
 "metadata": {
  "kernelspec": {
   "display_name": "Python 3",
   "language": "python",
   "name": "python3"
  },
  "language_info": {
   "codemirror_mode": {
    "name": "ipython",
    "version": 3
   },
   "file_extension": ".py",
   "mimetype": "text/x-python",
   "name": "python",
   "nbconvert_exporter": "python",
   "pygments_lexer": "ipython3",
   "version": "3.10.9"
  },
  "papermill": {
   "default_parameters": {},
   "duration": 267.274519,
   "end_time": "2023-06-27T18:00:12.909386",
   "environment_variables": {},
   "exception": null,
   "input_path": "__notebook__.ipynb",
   "output_path": "__notebook__.ipynb",
   "parameters": {},
   "start_time": "2023-06-27T17:55:45.634867",
   "version": "2.4.0"
  }
 },
 "nbformat": 4,
 "nbformat_minor": 5
}
