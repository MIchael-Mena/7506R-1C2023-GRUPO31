{
 "cells": [
  {
   "attachments": {},
   "cell_type": "markdown",
   "id": "9a922dd9",
   "metadata": {
    "papermill": {
     "duration": 0.013183,
     "end_time": "2023-06-16T02:30:38.897120",
     "exception": false,
     "start_time": "2023-06-16T02:30:38.883937",
     "status": "completed"
    },
    "tags": []
   },
   "source": [
    "## <center><ins>Trabajo Práctico 2: Criticas de peliculas</ins></center>\n",
    "#### <center>*XGBoost*</center>\n",
    "##### <center>75.06 / 95.58 Organización de Datos - FIUBA</center>\n",
    "##### <center>Ing. Rodríguez - 1°C 2023</center>\n",
    "---\n",
    "#### <center>**Grupo 31 - \"Datazo\":**</center>\n",
    "<center> Michael Mena - 102685</center>\n",
    "<center>Pablo Brocca - 104256</center>\n",
    "<center>Diego Kisinovsky - 106203</center>"
   ]
  },
  {
   "attachments": {},
   "cell_type": "markdown",
   "id": "603d28c4",
   "metadata": {
    "papermill": {
     "duration": 0.009273,
     "end_time": "2023-06-16T02:30:38.916439",
     "exception": false,
     "start_time": "2023-06-16T02:30:38.907166",
     "status": "completed"
    },
    "tags": []
   },
   "source": [
    "---\n",
    "---"
   ]
  },
  {
   "attachments": {},
   "cell_type": "markdown",
   "id": "e3c0544d",
   "metadata": {
    "papermill": {
     "duration": 0.009246,
     "end_time": "2023-06-16T02:30:38.935601",
     "exception": false,
     "start_time": "2023-06-16T02:30:38.926355",
     "status": "completed"
    },
    "tags": []
   },
   "source": [
    "## Carga de datos y librerías"
   ]
  },
  {
   "cell_type": "code",
   "execution_count": 1,
   "id": "d51e9457",
   "metadata": {
    "execution": {
     "iopub.execute_input": "2023-06-16T02:30:38.957366Z",
     "iopub.status.busy": "2023-06-16T02:30:38.956986Z",
     "iopub.status.idle": "2023-06-16T02:30:41.415655Z",
     "shell.execute_reply": "2023-06-16T02:30:41.414424Z"
    },
    "papermill": {
     "duration": 2.473524,
     "end_time": "2023-06-16T02:30:41.418936",
     "exception": false,
     "start_time": "2023-06-16T02:30:38.945412",
     "status": "completed"
    },
    "tags": []
   },
   "outputs": [],
   "source": [
    "import numpy as np\n",
    "import pandas as pd\n",
    "\n",
    "# Visualización\n",
    "import matplotlib.pyplot as plt\n",
    "import seaborn as sns\n",
    "from matplotlib.colors import ListedColormap, LinearSegmentedColormap\n",
    "from sklearn.metrics import roc_curve, roc_auc_score, RocCurveDisplay\n",
    "\n",
    "# Preprocesamiento\n",
    "from sklearn.model_selection import train_test_split\n",
    "from sklearn.feature_extraction.text import CountVectorizer, TfidfTransformer, TfidfVectorizer\n",
    "from sklearn.preprocessing import StandardScaler\n",
    "from sklearn.compose import ColumnTransformer\n",
    "\n",
    "# Metricas\n",
    "from sklearn.metrics import f1_score\n",
    "from sklearn.metrics import accuracy_score\n",
    "from sklearn.metrics import confusion_matrix\n",
    "from sklearn.metrics import classification_report\n",
    "\n",
    "# Clasificadores\n",
    "from xgboost import XGBClassifier\n",
    "# from sklearn.ensemble import GradientBoostingClassifier\n",
    "from sklearn.pipeline import Pipeline, make_pipeline\n",
    "\n",
    "# Optimización de hiperparámetros\n",
    "from sklearn.model_selection import cross_val_score, RepeatedStratifiedKFold\n",
    "from skopt import BayesSearchCV\n",
    "from skopt.space import Categorical\n",
    "\n",
    "# Manejo de modelos\n",
    "from pickle import dump\n",
    "from pickle import load\n"
   ]
  },
  {
   "cell_type": "code",
   "execution_count": 2,
   "id": "d161c40f",
   "metadata": {
    "execution": {
     "iopub.execute_input": "2023-06-16T02:30:41.441610Z",
     "iopub.status.busy": "2023-06-16T02:30:41.441159Z",
     "iopub.status.idle": "2023-06-16T02:30:43.816572Z",
     "shell.execute_reply": "2023-06-16T02:30:43.815008Z"
    },
    "papermill": {
     "duration": 2.389837,
     "end_time": "2023-06-16T02:30:43.819197",
     "exception": false,
     "start_time": "2023-06-16T02:30:41.429360",
     "status": "completed"
    },
    "tags": []
   },
   "outputs": [
    {
     "data": {
      "text/html": [
       "<div>\n",
       "<style scoped>\n",
       "    .dataframe tbody tr th:only-of-type {\n",
       "        vertical-align: middle;\n",
       "    }\n",
       "\n",
       "    .dataframe tbody tr th {\n",
       "        vertical-align: top;\n",
       "    }\n",
       "\n",
       "    .dataframe thead th {\n",
       "        text-align: right;\n",
       "    }\n",
       "</style>\n",
       "<table border=\"1\" class=\"dataframe\">\n",
       "  <thead>\n",
       "    <tr style=\"text-align: right;\">\n",
       "      <th></th>\n",
       "      <th>review_es</th>\n",
       "      <th>sentimiento</th>\n",
       "      <th>longitud</th>\n",
       "    </tr>\n",
       "  </thead>\n",
       "  <tbody>\n",
       "    <tr>\n",
       "      <th>0</th>\n",
       "      <td>Uno de los otros críticos ha mencionado que de...</td>\n",
       "      <td>1</td>\n",
       "      <td>0.583940</td>\n",
       "    </tr>\n",
       "    <tr>\n",
       "      <th>1</th>\n",
       "      <td>Una pequeña pequeña producción.La técnica de f...</td>\n",
       "      <td>1</td>\n",
       "      <td>-0.324820</td>\n",
       "    </tr>\n",
       "    <tr>\n",
       "      <th>2</th>\n",
       "      <td>Pensé que esta era una manera maravillosa de p...</td>\n",
       "      <td>1</td>\n",
       "      <td>-0.394205</td>\n",
       "    </tr>\n",
       "    <tr>\n",
       "      <th>3</th>\n",
       "      <td>Básicamente, hay una familia donde un niño peq...</td>\n",
       "      <td>0</td>\n",
       "      <td>-0.585980</td>\n",
       "    </tr>\n",
       "    <tr>\n",
       "      <th>4</th>\n",
       "      <td>El \"amor en el tiempo\" de Petter Mattei es una...</td>\n",
       "      <td>1</td>\n",
       "      <td>0.007653</td>\n",
       "    </tr>\n",
       "  </tbody>\n",
       "</table>\n",
       "</div>"
      ],
      "text/plain": [
       "                                           review_es  sentimiento  longitud\n",
       "0  Uno de los otros críticos ha mencionado que de...            1  0.583940\n",
       "1  Una pequeña pequeña producción.La técnica de f...            1 -0.324820\n",
       "2  Pensé que esta era una manera maravillosa de p...            1 -0.394205\n",
       "3  Básicamente, hay una familia donde un niño peq...            0 -0.585980\n",
       "4  El \"amor en el tiempo\" de Petter Mattei es una...            1  0.007653"
      ]
     },
     "execution_count": 2,
     "metadata": {},
     "output_type": "execute_result"
    }
   ],
   "source": [
    "df = pd.read_csv('../input/dataset/train_preprocesado.csv', sep=',', header=0)\n",
    "df.head()"
   ]
  },
  {
   "attachments": {},
   "cell_type": "markdown",
   "id": "586e1313",
   "metadata": {
    "papermill": {
     "duration": 0.009959,
     "end_time": "2023-06-16T02:30:43.839489",
     "exception": false,
     "start_time": "2023-06-16T02:30:43.829530",
     "status": "completed"
    },
    "tags": []
   },
   "source": [
    "### Carga stopwords"
   ]
  },
  {
   "cell_type": "code",
   "execution_count": 3,
   "id": "020c5d34",
   "metadata": {
    "execution": {
     "iopub.execute_input": "2023-06-16T02:30:43.861562Z",
     "iopub.status.busy": "2023-06-16T02:30:43.861103Z",
     "iopub.status.idle": "2023-06-16T02:30:43.878219Z",
     "shell.execute_reply": "2023-06-16T02:30:43.876501Z"
    },
    "papermill": {
     "duration": 0.031596,
     "end_time": "2023-06-16T02:30:43.881154",
     "exception": false,
     "start_time": "2023-06-16T02:30:43.849558",
     "status": "completed"
    },
    "tags": []
   },
   "outputs": [
    {
     "name": "stdout",
     "output_type": "stream",
     "text": [
      "Cantidad de stopwords: 390\n"
     ]
    }
   ],
   "source": [
    "sw = pd.read_csv('../input/dataset/my-stop-words.csv')['palabra'].to_list() # 390 palabras, 77 nuevas agregadas a mano y 308 de NLTK\n",
    "\n",
    "print(f'Cantidad de stopwords: {len(sw)}')"
   ]
  },
  {
   "attachments": {},
   "cell_type": "markdown",
   "id": "9029ec19",
   "metadata": {
    "papermill": {
     "duration": 0.009913,
     "end_time": "2023-06-16T02:30:43.901323",
     "exception": false,
     "start_time": "2023-06-16T02:30:43.891410",
     "status": "completed"
    },
    "tags": []
   },
   "source": [
    "### Definición de funciones"
   ]
  },
  {
   "cell_type": "code",
   "execution_count": 4,
   "id": "d1a5124a",
   "metadata": {
    "execution": {
     "iopub.execute_input": "2023-06-16T02:30:43.924463Z",
     "iopub.status.busy": "2023-06-16T02:30:43.923990Z",
     "iopub.status.idle": "2023-06-16T02:30:43.931785Z",
     "shell.execute_reply": "2023-06-16T02:30:43.930520Z"
    },
    "papermill": {
     "duration": 0.022138,
     "end_time": "2023-06-16T02:30:43.934181",
     "exception": false,
     "start_time": "2023-06-16T02:30:43.912043",
     "status": "completed"
    },
    "tags": []
   },
   "outputs": [],
   "source": [
    "#Funcion para evaluar los modelos\n",
    "def evaluate_model(model, x, y, splits=5, repeats=2, metric='f1'):\n",
    "    cv = RepeatedStratifiedKFold(n_splits=splits, n_repeats=repeats, random_state=1)\n",
    "    scores = cross_val_score(model, x, y, scoring=metric, cv=cv, verbose=1, n_jobs=-1, error_score='raise')\n",
    "    return scores"
   ]
  },
  {
   "attachments": {},
   "cell_type": "markdown",
   "id": "570e1663",
   "metadata": {
    "papermill": {
     "duration": 0.010099,
     "end_time": "2023-06-16T02:30:43.954604",
     "exception": false,
     "start_time": "2023-06-16T02:30:43.944505",
     "status": "completed"
    },
    "tags": []
   },
   "source": [
    "## Armado y entrenamiento"
   ]
  },
  {
   "attachments": {},
   "cell_type": "markdown",
   "id": "1f96d581",
   "metadata": {
    "papermill": {
     "duration": 0.010137,
     "end_time": "2023-06-16T02:30:43.974894",
     "exception": false,
     "start_time": "2023-06-16T02:30:43.964757",
     "status": "completed"
    },
    "tags": []
   },
   "source": [
    "### Preparación de features:"
   ]
  },
  {
   "cell_type": "code",
   "execution_count": 5,
   "id": "29f9be4f",
   "metadata": {
    "execution": {
     "iopub.execute_input": "2023-06-16T02:30:43.997576Z",
     "iopub.status.busy": "2023-06-16T02:30:43.997116Z",
     "iopub.status.idle": "2023-06-16T02:30:44.006444Z",
     "shell.execute_reply": "2023-06-16T02:30:44.005109Z"
    },
    "papermill": {
     "duration": 0.023915,
     "end_time": "2023-06-16T02:30:44.009133",
     "exception": false,
     "start_time": "2023-06-16T02:30:43.985218",
     "status": "completed"
    },
    "tags": []
   },
   "outputs": [
    {
     "data": {
      "text/plain": [
       "['review_es', 'longitud']"
      ]
     },
     "execution_count": 5,
     "metadata": {},
     "output_type": "execute_result"
    }
   ],
   "source": [
    "target = 'sentimiento'\n",
    "\n",
    "# Se elimina el target del las features\n",
    "features = df.columns.tolist()\n",
    "features.remove(target)\n",
    "features"
   ]
  },
  {
   "attachments": {},
   "cell_type": "markdown",
   "id": "11af6d1c",
   "metadata": {
    "papermill": {
     "duration": 0.010391,
     "end_time": "2023-06-16T02:30:44.029956",
     "exception": false,
     "start_time": "2023-06-16T02:30:44.019565",
     "status": "completed"
    },
    "tags": []
   },
   "source": [
    "### Train-Test Split:"
   ]
  },
  {
   "cell_type": "code",
   "execution_count": 6,
   "id": "ccfa5008",
   "metadata": {
    "execution": {
     "iopub.execute_input": "2023-06-16T02:30:44.053215Z",
     "iopub.status.busy": "2023-06-16T02:30:44.052731Z",
     "iopub.status.idle": "2023-06-16T02:30:44.113679Z",
     "shell.execute_reply": "2023-06-16T02:30:44.112382Z"
    },
    "papermill": {
     "duration": 0.076236,
     "end_time": "2023-06-16T02:30:44.116760",
     "exception": false,
     "start_time": "2023-06-16T02:30:44.040524",
     "status": "completed"
    },
    "tags": []
   },
   "outputs": [
    {
     "name": "stdout",
     "output_type": "stream",
     "text": [
      "# Datos Entrenamiento: 40000\n",
      "# Datos Prueba: 10000\n",
      "% Positivos Entrenamiento: 50.000\n",
      "% Positivos Prueba: 50.000\n"
     ]
    }
   ],
   "source": [
    "X_train, X_test, y_train, y_test = train_test_split(df[features], \n",
    "                                                    df[target], \n",
    "                                                    test_size=0.2, \n",
    "                                                    random_state=42, \n",
    "                                                    stratify=df[target],\n",
    "                                                    shuffle=True)\n",
    "\n",
    "# Verificamos cantidad de datos en cada set\n",
    "print('# Datos Entrenamiento: {}'.format(len(X_train)))\n",
    "print('# Datos Prueba: {}'.format(len(X_test)))\n",
    "\n",
    "# Verificamos como quedaron balanceados\n",
    "for split_name, split in zip(['% Positivos Entrenamiento','% Positivos Prueba'],[y_train,y_test]):\n",
    "  print('{}: {:.3f}'.format(split_name,pd.Series(split).value_counts(normalize=True)[1]*100))"
   ]
  },
  {
   "attachments": {},
   "cell_type": "markdown",
   "id": "9c38c9f1",
   "metadata": {
    "papermill": {
     "duration": 0.0104,
     "end_time": "2023-06-16T02:30:44.138337",
     "exception": false,
     "start_time": "2023-06-16T02:30:44.127937",
     "status": "completed"
    },
    "tags": []
   },
   "source": [
    "### Entrenamiento de modelo"
   ]
  },
  {
   "attachments": {},
   "cell_type": "markdown",
   "id": "e922162c",
   "metadata": {
    "papermill": {
     "duration": 0.010508,
     "end_time": "2023-06-16T02:30:44.159686",
     "exception": false,
     "start_time": "2023-06-16T02:30:44.149178",
     "status": "completed"
    },
    "tags": []
   },
   "source": [
    "#### Optimizacion bayesiana"
   ]
  },
  {
   "cell_type": "code",
   "execution_count": 7,
   "id": "6a1482f0",
   "metadata": {
    "execution": {
     "iopub.execute_input": "2023-06-16T02:30:44.183597Z",
     "iopub.status.busy": "2023-06-16T02:30:44.183142Z",
     "iopub.status.idle": "2023-06-16T02:30:44.190902Z",
     "shell.execute_reply": "2023-06-16T02:30:44.189232Z"
    },
    "papermill": {
     "duration": 0.023196,
     "end_time": "2023-06-16T02:30:44.193745",
     "exception": false,
     "start_time": "2023-06-16T02:30:44.170549",
     "status": "completed"
    },
    "tags": []
   },
   "outputs": [],
   "source": [
    "vectorizer = TfidfVectorizer(smooth_idf=True, # Suaviza el IDF al agregar 1 a todos los documentos, como si hubiera un documento más con todas las palabras del vocabulario\n",
    "                                    norm='l1', # Normalización por filas (cada fila suma 1)\n",
    "                                    strip_accents='unicode', # Remueve acentos y tildes\n",
    "#                                     max_features=10000, # Si se quiere usar el vocabulario completo, quitar este parámetro\n",
    "                                    sublinear_tf=True, # Reemplaza tf por 1 + log(tf), puede ayudar a reducir la importancia de las palabras \n",
    "                                    #muy frecuentes que tienden a dominar el cálculo de las ponderaciones\n",
    "                                    analyzer='word', stop_words=sw, \n",
    "                                    ngram_range=(1, 1) )\n",
    "\n",
    "# (1,1) unigramas, (2,2) bigramas y (3,3) trigramas, (1,3) los tres mencionados anteriormente. A mayor ngram_range, más features (amplia el vocabulario)"
   ]
  },
  {
   "cell_type": "code",
   "execution_count": 8,
   "id": "2ad2bfbd",
   "metadata": {
    "execution": {
     "iopub.execute_input": "2023-06-16T02:30:44.219306Z",
     "iopub.status.busy": "2023-06-16T02:30:44.218839Z",
     "iopub.status.idle": "2023-06-16T05:26:04.253119Z",
     "shell.execute_reply": "2023-06-16T05:26:04.251784Z"
    },
    "papermill": {
     "duration": 10520.063807,
     "end_time": "2023-06-16T05:26:04.268920",
     "exception": false,
     "start_time": "2023-06-16T02:30:44.205113",
     "status": "completed"
    },
    "tags": []
   },
   "outputs": [
    {
     "data": {
      "text/html": [
       "<style>#sk-container-id-1 {color: black;background-color: white;}#sk-container-id-1 pre{padding: 0;}#sk-container-id-1 div.sk-toggleable {background-color: white;}#sk-container-id-1 label.sk-toggleable__label {cursor: pointer;display: block;width: 100%;margin-bottom: 0;padding: 0.3em;box-sizing: border-box;text-align: center;}#sk-container-id-1 label.sk-toggleable__label-arrow:before {content: \"▸\";float: left;margin-right: 0.25em;color: #696969;}#sk-container-id-1 label.sk-toggleable__label-arrow:hover:before {color: black;}#sk-container-id-1 div.sk-estimator:hover label.sk-toggleable__label-arrow:before {color: black;}#sk-container-id-1 div.sk-toggleable__content {max-height: 0;max-width: 0;overflow: hidden;text-align: left;background-color: #f0f8ff;}#sk-container-id-1 div.sk-toggleable__content pre {margin: 0.2em;color: black;border-radius: 0.25em;background-color: #f0f8ff;}#sk-container-id-1 input.sk-toggleable__control:checked~div.sk-toggleable__content {max-height: 200px;max-width: 100%;overflow: auto;}#sk-container-id-1 input.sk-toggleable__control:checked~label.sk-toggleable__label-arrow:before {content: \"▾\";}#sk-container-id-1 div.sk-estimator input.sk-toggleable__control:checked~label.sk-toggleable__label {background-color: #d4ebff;}#sk-container-id-1 div.sk-label input.sk-toggleable__control:checked~label.sk-toggleable__label {background-color: #d4ebff;}#sk-container-id-1 input.sk-hidden--visually {border: 0;clip: rect(1px 1px 1px 1px);clip: rect(1px, 1px, 1px, 1px);height: 1px;margin: -1px;overflow: hidden;padding: 0;position: absolute;width: 1px;}#sk-container-id-1 div.sk-estimator {font-family: monospace;background-color: #f0f8ff;border: 1px dotted black;border-radius: 0.25em;box-sizing: border-box;margin-bottom: 0.5em;}#sk-container-id-1 div.sk-estimator:hover {background-color: #d4ebff;}#sk-container-id-1 div.sk-parallel-item::after {content: \"\";width: 100%;border-bottom: 1px solid gray;flex-grow: 1;}#sk-container-id-1 div.sk-label:hover label.sk-toggleable__label {background-color: #d4ebff;}#sk-container-id-1 div.sk-serial::before {content: \"\";position: absolute;border-left: 1px solid gray;box-sizing: border-box;top: 0;bottom: 0;left: 50%;z-index: 0;}#sk-container-id-1 div.sk-serial {display: flex;flex-direction: column;align-items: center;background-color: white;padding-right: 0.2em;padding-left: 0.2em;position: relative;}#sk-container-id-1 div.sk-item {position: relative;z-index: 1;}#sk-container-id-1 div.sk-parallel {display: flex;align-items: stretch;justify-content: center;background-color: white;position: relative;}#sk-container-id-1 div.sk-item::before, #sk-container-id-1 div.sk-parallel-item::before {content: \"\";position: absolute;border-left: 1px solid gray;box-sizing: border-box;top: 0;bottom: 0;left: 50%;z-index: -1;}#sk-container-id-1 div.sk-parallel-item {display: flex;flex-direction: column;z-index: 1;position: relative;background-color: white;}#sk-container-id-1 div.sk-parallel-item:first-child::after {align-self: flex-end;width: 50%;}#sk-container-id-1 div.sk-parallel-item:last-child::after {align-self: flex-start;width: 50%;}#sk-container-id-1 div.sk-parallel-item:only-child::after {width: 0;}#sk-container-id-1 div.sk-dashed-wrapped {border: 1px dashed gray;margin: 0 0.4em 0.5em 0.4em;box-sizing: border-box;padding-bottom: 0.4em;background-color: white;}#sk-container-id-1 div.sk-label label {font-family: monospace;font-weight: bold;display: inline-block;line-height: 1.2em;}#sk-container-id-1 div.sk-label-container {text-align: center;}#sk-container-id-1 div.sk-container {/* jupyter's `normalize.less` sets `[hidden] { display: none; }` but bootstrap.min.css set `[hidden] { display: none !important; }` so we also need the `!important` here to be able to override the default hidden behavior on the sphinx rendered scikit-learn.org. See: https://github.com/scikit-learn/scikit-learn/issues/21755 */display: inline-block !important;position: relative;}#sk-container-id-1 div.sk-text-repr-fallback {display: none;}</style><div id=\"sk-container-id-1\" class=\"sk-top-container\"><div class=\"sk-text-repr-fallback\"><pre>BayesSearchCV(cv=5,\n",
       "              estimator=Pipeline(steps=[(&#x27;preprocessor&#x27;,\n",
       "                                         ColumnTransformer(transformers=[(&#x27;tfidfvectorizer&#x27;,\n",
       "                                                                          TfidfVectorizer(norm=&#x27;l1&#x27;,\n",
       "                                                                                          stop_words=[&#x27;a&#x27;,\n",
       "                                                                                                      &#x27;al&#x27;,\n",
       "                                                                                                      &#x27;algo&#x27;,\n",
       "                                                                                                      &#x27;algunas&#x27;,\n",
       "                                                                                                      &#x27;algunos&#x27;,\n",
       "                                                                                                      &#x27;ante&#x27;,\n",
       "                                                                                                      &#x27;antes&#x27;,\n",
       "                                                                                                      &#x27;como&#x27;,\n",
       "                                                                                                      &#x27;con&#x27;,\n",
       "                                                                                                      &#x27;contra&#x27;,\n",
       "                                                                                                      &#x27;cual&#x27;,\n",
       "                                                                                                      &#x27;cuando&#x27;,\n",
       "                                                                                                      &#x27;de&#x27;,\n",
       "                                                                                                      &#x27;del&#x27;,\n",
       "                                                                                                      &#x27;desde&#x27;,\n",
       "                                                                                                      &#x27;donde&#x27;,\n",
       "                                                                                                      &#x27;durante&#x27;,\n",
       "                                                                                                      &#x27;e&#x27;,\n",
       "                                                                                                      &#x27;el&#x27;,\n",
       "                                                                                                      &#x27;ella&#x27;,\n",
       "                                                                                                      &#x27;ellas&#x27;,\n",
       "                                                                                                      &#x27;ellos&#x27;,\n",
       "                                                                                                      &#x27;en&#x27;,\n",
       "                                                                                                      &#x27;entre&#x27;,\n",
       "                                                                                                      &#x27;era&#x27;,\n",
       "                                                                                                      &#x27;erais&#x27;,\n",
       "                                                                                                      &#x27;eramos&#x27;,\n",
       "                                                                                                      &#x27;eran&#x27;...\n",
       "                                                 0.3500000000000001,\n",
       "                                                 0.40000000000000013,\n",
       "                                                 0.45000000000000007,\n",
       "                                                 0.5000000000000001,\n",
       "                                                 0.5500000000000002,\n",
       "                                                 0.6000000000000002,\n",
       "                                                 0.6500000000000001,\n",
       "                                                 0.7000000000000002,\n",
       "                                                 0.7500000000000002,\n",
       "                                                 0.8000000000000002,\n",
       "                                                 0.8500000000000002,\n",
       "                                                 0.9000000000000002,\n",
       "                                                 0.9500000000000003],\n",
       "                             &#x27;xgb__subsample&#x27;: [0.4, 0.45, 0.5, 0.55, 0.6,\n",
       "                                                0.6499999999999999, 0.7, 0.75,\n",
       "                                                0.7999999999999999,\n",
       "                                                0.8499999999999999]})</pre><b>In a Jupyter environment, please rerun this cell to show the HTML representation or trust the notebook. <br />On GitHub, the HTML representation is unable to render, please try loading this page with nbviewer.org.</b></div><div class=\"sk-container\" hidden><div class=\"sk-item sk-dashed-wrapped\"><div class=\"sk-label-container\"><div class=\"sk-label sk-toggleable\"><input class=\"sk-toggleable__control sk-hidden--visually\" id=\"sk-estimator-id-1\" type=\"checkbox\" ><label for=\"sk-estimator-id-1\" class=\"sk-toggleable__label sk-toggleable__label-arrow\">BayesSearchCV</label><div class=\"sk-toggleable__content\"><pre>BayesSearchCV(cv=5,\n",
       "              estimator=Pipeline(steps=[(&#x27;preprocessor&#x27;,\n",
       "                                         ColumnTransformer(transformers=[(&#x27;tfidfvectorizer&#x27;,\n",
       "                                                                          TfidfVectorizer(norm=&#x27;l1&#x27;,\n",
       "                                                                                          stop_words=[&#x27;a&#x27;,\n",
       "                                                                                                      &#x27;al&#x27;,\n",
       "                                                                                                      &#x27;algo&#x27;,\n",
       "                                                                                                      &#x27;algunas&#x27;,\n",
       "                                                                                                      &#x27;algunos&#x27;,\n",
       "                                                                                                      &#x27;ante&#x27;,\n",
       "                                                                                                      &#x27;antes&#x27;,\n",
       "                                                                                                      &#x27;como&#x27;,\n",
       "                                                                                                      &#x27;con&#x27;,\n",
       "                                                                                                      &#x27;contra&#x27;,\n",
       "                                                                                                      &#x27;cual&#x27;,\n",
       "                                                                                                      &#x27;cuando&#x27;,\n",
       "                                                                                                      &#x27;de&#x27;,\n",
       "                                                                                                      &#x27;del&#x27;,\n",
       "                                                                                                      &#x27;desde&#x27;,\n",
       "                                                                                                      &#x27;donde&#x27;,\n",
       "                                                                                                      &#x27;durante&#x27;,\n",
       "                                                                                                      &#x27;e&#x27;,\n",
       "                                                                                                      &#x27;el&#x27;,\n",
       "                                                                                                      &#x27;ella&#x27;,\n",
       "                                                                                                      &#x27;ellas&#x27;,\n",
       "                                                                                                      &#x27;ellos&#x27;,\n",
       "                                                                                                      &#x27;en&#x27;,\n",
       "                                                                                                      &#x27;entre&#x27;,\n",
       "                                                                                                      &#x27;era&#x27;,\n",
       "                                                                                                      &#x27;erais&#x27;,\n",
       "                                                                                                      &#x27;eramos&#x27;,\n",
       "                                                                                                      &#x27;eran&#x27;...\n",
       "                                                 0.3500000000000001,\n",
       "                                                 0.40000000000000013,\n",
       "                                                 0.45000000000000007,\n",
       "                                                 0.5000000000000001,\n",
       "                                                 0.5500000000000002,\n",
       "                                                 0.6000000000000002,\n",
       "                                                 0.6500000000000001,\n",
       "                                                 0.7000000000000002,\n",
       "                                                 0.7500000000000002,\n",
       "                                                 0.8000000000000002,\n",
       "                                                 0.8500000000000002,\n",
       "                                                 0.9000000000000002,\n",
       "                                                 0.9500000000000003],\n",
       "                             &#x27;xgb__subsample&#x27;: [0.4, 0.45, 0.5, 0.55, 0.6,\n",
       "                                                0.6499999999999999, 0.7, 0.75,\n",
       "                                                0.7999999999999999,\n",
       "                                                0.8499999999999999]})</pre></div></div></div><div class=\"sk-parallel\"><div class=\"sk-parallel-item\"><div class=\"sk-item\"><div class=\"sk-label-container\"><div class=\"sk-label sk-toggleable\"><input class=\"sk-toggleable__control sk-hidden--visually\" id=\"sk-estimator-id-2\" type=\"checkbox\" ><label for=\"sk-estimator-id-2\" class=\"sk-toggleable__label sk-toggleable__label-arrow\">estimator: Pipeline</label><div class=\"sk-toggleable__content\"><pre>Pipeline(steps=[(&#x27;preprocessor&#x27;,\n",
       "                 ColumnTransformer(transformers=[(&#x27;tfidfvectorizer&#x27;,\n",
       "                                                  TfidfVectorizer(norm=&#x27;l1&#x27;,\n",
       "                                                                  stop_words=[&#x27;a&#x27;,\n",
       "                                                                              &#x27;al&#x27;,\n",
       "                                                                              &#x27;algo&#x27;,\n",
       "                                                                              &#x27;algunas&#x27;,\n",
       "                                                                              &#x27;algunos&#x27;,\n",
       "                                                                              &#x27;ante&#x27;,\n",
       "                                                                              &#x27;antes&#x27;,\n",
       "                                                                              &#x27;como&#x27;,\n",
       "                                                                              &#x27;con&#x27;,\n",
       "                                                                              &#x27;contra&#x27;,\n",
       "                                                                              &#x27;cual&#x27;,\n",
       "                                                                              &#x27;cuando&#x27;,\n",
       "                                                                              &#x27;de&#x27;,\n",
       "                                                                              &#x27;del&#x27;,\n",
       "                                                                              &#x27;desde&#x27;,\n",
       "                                                                              &#x27;donde&#x27;,\n",
       "                                                                              &#x27;durante&#x27;,\n",
       "                                                                              &#x27;e&#x27;,\n",
       "                                                                              &#x27;el&#x27;,\n",
       "                                                                              &#x27;ella&#x27;,\n",
       "                                                                              &#x27;ellas&#x27;,\n",
       "                                                                              &#x27;ellos&#x27;,\n",
       "                                                                              &#x27;en&#x27;,\n",
       "                                                                              &#x27;entre&#x27;,\n",
       "                                                                              &#x27;era&#x27;,\n",
       "                                                                              &#x27;erais&#x27;,\n",
       "                                                                              &#x27;eramos&#x27;,\n",
       "                                                                              &#x27;eran&#x27;,\n",
       "                                                                              &#x27;eras&#x27;,\n",
       "                                                                              &#x27;eres&#x27;, ...],\n",
       "                                                                  strip_acc...\n",
       "                               feature_types=None, gamma=None, gpu_id=None,\n",
       "                               grow_policy=None, importance_type=None,\n",
       "                               interaction_constraints=None, learning_rate=None,\n",
       "                               max_bin=None, max_cat_threshold=None,\n",
       "                               max_cat_to_onehot=None, max_delta_step=None,\n",
       "                               max_depth=None, max_leaves=None,\n",
       "                               min_child_weight=None, missing=nan,\n",
       "                               monotone_constraints=None, n_estimators=100,\n",
       "                               n_jobs=-1, num_parallel_tree=None,\n",
       "                               predictor=None, random_state=None, ...))])</pre></div></div></div><div class=\"sk-serial\"><div class=\"sk-item\"><div class=\"sk-serial\"><div class=\"sk-item sk-dashed-wrapped\"><div class=\"sk-label-container\"><div class=\"sk-label sk-toggleable\"><input class=\"sk-toggleable__control sk-hidden--visually\" id=\"sk-estimator-id-3\" type=\"checkbox\" ><label for=\"sk-estimator-id-3\" class=\"sk-toggleable__label sk-toggleable__label-arrow\">preprocessor: ColumnTransformer</label><div class=\"sk-toggleable__content\"><pre>ColumnTransformer(transformers=[(&#x27;tfidfvectorizer&#x27;,\n",
       "                                 TfidfVectorizer(norm=&#x27;l1&#x27;,\n",
       "                                                 stop_words=[&#x27;a&#x27;, &#x27;al&#x27;, &#x27;algo&#x27;,\n",
       "                                                             &#x27;algunas&#x27;,\n",
       "                                                             &#x27;algunos&#x27;, &#x27;ante&#x27;,\n",
       "                                                             &#x27;antes&#x27;, &#x27;como&#x27;,\n",
       "                                                             &#x27;con&#x27;, &#x27;contra&#x27;,\n",
       "                                                             &#x27;cual&#x27;, &#x27;cuando&#x27;,\n",
       "                                                             &#x27;de&#x27;, &#x27;del&#x27;,\n",
       "                                                             &#x27;desde&#x27;, &#x27;donde&#x27;,\n",
       "                                                             &#x27;durante&#x27;, &#x27;e&#x27;,\n",
       "                                                             &#x27;el&#x27;, &#x27;ella&#x27;,\n",
       "                                                             &#x27;ellas&#x27;, &#x27;ellos&#x27;,\n",
       "                                                             &#x27;en&#x27;, &#x27;entre&#x27;,\n",
       "                                                             &#x27;era&#x27;, &#x27;erais&#x27;,\n",
       "                                                             &#x27;eramos&#x27;, &#x27;eran&#x27;,\n",
       "                                                             &#x27;eras&#x27;, &#x27;eres&#x27;, ...],\n",
       "                                                 strip_accents=&#x27;unicode&#x27;,\n",
       "                                                 sublinear_tf=True),\n",
       "                                 &#x27;review_es&#x27;)])</pre></div></div></div><div class=\"sk-parallel\"><div class=\"sk-parallel-item\"><div class=\"sk-item\"><div class=\"sk-label-container\"><div class=\"sk-label sk-toggleable\"><input class=\"sk-toggleable__control sk-hidden--visually\" id=\"sk-estimator-id-4\" type=\"checkbox\" ><label for=\"sk-estimator-id-4\" class=\"sk-toggleable__label sk-toggleable__label-arrow\">tfidfvectorizer</label><div class=\"sk-toggleable__content\"><pre>review_es</pre></div></div></div><div class=\"sk-serial\"><div class=\"sk-item\"><div class=\"sk-estimator sk-toggleable\"><input class=\"sk-toggleable__control sk-hidden--visually\" id=\"sk-estimator-id-5\" type=\"checkbox\" ><label for=\"sk-estimator-id-5\" class=\"sk-toggleable__label sk-toggleable__label-arrow\">TfidfVectorizer</label><div class=\"sk-toggleable__content\"><pre>TfidfVectorizer(norm=&#x27;l1&#x27;,\n",
       "                stop_words=[&#x27;a&#x27;, &#x27;al&#x27;, &#x27;algo&#x27;, &#x27;algunas&#x27;, &#x27;algunos&#x27;, &#x27;ante&#x27;,\n",
       "                            &#x27;antes&#x27;, &#x27;como&#x27;, &#x27;con&#x27;, &#x27;contra&#x27;, &#x27;cual&#x27;, &#x27;cuando&#x27;,\n",
       "                            &#x27;de&#x27;, &#x27;del&#x27;, &#x27;desde&#x27;, &#x27;donde&#x27;, &#x27;durante&#x27;, &#x27;e&#x27;, &#x27;el&#x27;,\n",
       "                            &#x27;ella&#x27;, &#x27;ellas&#x27;, &#x27;ellos&#x27;, &#x27;en&#x27;, &#x27;entre&#x27;, &#x27;era&#x27;,\n",
       "                            &#x27;erais&#x27;, &#x27;eramos&#x27;, &#x27;eran&#x27;, &#x27;eras&#x27;, &#x27;eres&#x27;, ...],\n",
       "                strip_accents=&#x27;unicode&#x27;, sublinear_tf=True)</pre></div></div></div></div></div></div></div></div><div class=\"sk-item\"><div class=\"sk-estimator sk-toggleable\"><input class=\"sk-toggleable__control sk-hidden--visually\" id=\"sk-estimator-id-6\" type=\"checkbox\" ><label for=\"sk-estimator-id-6\" class=\"sk-toggleable__label sk-toggleable__label-arrow\">XGBClassifier</label><div class=\"sk-toggleable__content\"><pre>XGBClassifier(base_score=None, booster=None, callbacks=None,\n",
       "              colsample_bylevel=None, colsample_bynode=None,\n",
       "              colsample_bytree=None, early_stopping_rounds=None,\n",
       "              enable_categorical=False, eval_metric=None, feature_types=None,\n",
       "              gamma=None, gpu_id=None, grow_policy=None, importance_type=None,\n",
       "              interaction_constraints=None, learning_rate=None, max_bin=None,\n",
       "              max_cat_threshold=None, max_cat_to_onehot=None,\n",
       "              max_delta_step=None, max_depth=None, max_leaves=None,\n",
       "              min_child_weight=None, missing=nan, monotone_constraints=None,\n",
       "              n_estimators=100, n_jobs=-1, num_parallel_tree=None,\n",
       "              predictor=None, random_state=None, ...)</pre></div></div></div></div></div></div></div></div></div></div></div></div>"
      ],
      "text/plain": [
       "BayesSearchCV(cv=5,\n",
       "              estimator=Pipeline(steps=[('preprocessor',\n",
       "                                         ColumnTransformer(transformers=[('tfidfvectorizer',\n",
       "                                                                          TfidfVectorizer(norm='l1',\n",
       "                                                                                          stop_words=['a',\n",
       "                                                                                                      'al',\n",
       "                                                                                                      'algo',\n",
       "                                                                                                      'algunas',\n",
       "                                                                                                      'algunos',\n",
       "                                                                                                      'ante',\n",
       "                                                                                                      'antes',\n",
       "                                                                                                      'como',\n",
       "                                                                                                      'con',\n",
       "                                                                                                      'contra',\n",
       "                                                                                                      'cual',\n",
       "                                                                                                      'cuando',\n",
       "                                                                                                      'de',\n",
       "                                                                                                      'del',\n",
       "                                                                                                      'desde',\n",
       "                                                                                                      'donde',\n",
       "                                                                                                      'durante',\n",
       "                                                                                                      'e',\n",
       "                                                                                                      'el',\n",
       "                                                                                                      'ella',\n",
       "                                                                                                      'ellas',\n",
       "                                                                                                      'ellos',\n",
       "                                                                                                      'en',\n",
       "                                                                                                      'entre',\n",
       "                                                                                                      'era',\n",
       "                                                                                                      'erais',\n",
       "                                                                                                      'eramos',\n",
       "                                                                                                      'eran'...\n",
       "                                                 0.3500000000000001,\n",
       "                                                 0.40000000000000013,\n",
       "                                                 0.45000000000000007,\n",
       "                                                 0.5000000000000001,\n",
       "                                                 0.5500000000000002,\n",
       "                                                 0.6000000000000002,\n",
       "                                                 0.6500000000000001,\n",
       "                                                 0.7000000000000002,\n",
       "                                                 0.7500000000000002,\n",
       "                                                 0.8000000000000002,\n",
       "                                                 0.8500000000000002,\n",
       "                                                 0.9000000000000002,\n",
       "                                                 0.9500000000000003],\n",
       "                             'xgb__subsample': [0.4, 0.45, 0.5, 0.55, 0.6,\n",
       "                                                0.6499999999999999, 0.7, 0.75,\n",
       "                                                0.7999999999999999,\n",
       "                                                0.8499999999999999]})"
      ]
     },
     "execution_count": 8,
     "metadata": {},
     "output_type": "execute_result"
    }
   ],
   "source": [
    "# Crear el objeto de preprocesamiento para la columna 'review_es' (olo se aplica tfidfvectorizer a esta columna)\n",
    "preprocessor = ColumnTransformer([\n",
    "    ('tfidfvectorizer', vectorizer,\n",
    "     'review_es')\n",
    "])\n",
    "\n",
    "# Crear la pipeline con preprocesamiento y el modelo RandomForest\n",
    "model = Pipeline([\n",
    "    ('preprocessor', preprocessor),\n",
    "    ('xgb', XGBClassifier(\n",
    "                            n_jobs=-1,\n",
    "#                             verbosity=2,\n",
    "                        ))\n",
    "])\n",
    "\n",
    "# Cantidad de combinaciones\n",
    "n=5\n",
    "\n",
    "# Definir los espacios de búsqueda de hiperparámetros\n",
    "param_space = {\n",
    "    'xgb__learning_rate': list(np.arange(0.1, 0.2, 0.01)),\n",
    "#     'xgb__ccp_alpha': np.linspace(0.000065, 0.00005, 20),\n",
    "    'xgb__max_depth': list(np.arange(10, 150, 10)),\n",
    "    # 'xgb__reg_alpha': list(range(0.1, 1.0, 0.1)), # L1\n",
    "    'xgb__reg_lambda': list(np.arange(0.1, 1.0, 0.05)), # L2\n",
    "    'xgb__n_estimators': list(range(50, 500, 10)),\n",
    "    'xgb__subsample': list(np.arange(0.4, 0.9, 0.05)),\n",
    "    'xgb__colsample_bytree': list(np.arange(0.4, 0.9, 0.05)),\n",
    "    # 'xgb_min_split_loss': list(range(1, 10, 1)),\n",
    "    # 'xgb_min_child_weight': list(range(1, 5, 1)),\n",
    "    # 'xgb__gamma': list(range(0.5, 1.0)),\n",
    "    # 'xgb__scale_pos_weight': [1, 2, 5]\n",
    "}\n",
    "\n",
    "# Aplicar la optimización bayesiana\n",
    "model_opt = BayesSearchCV(model, param_space, scoring='f1', cv=5, n_iter=n)\n",
    "model_opt.fit(X_train, y_train)"
   ]
  },
  {
   "cell_type": "code",
   "execution_count": 9,
   "id": "a4800fff",
   "metadata": {
    "execution": {
     "iopub.execute_input": "2023-06-16T05:26:04.295444Z",
     "iopub.status.busy": "2023-06-16T05:26:04.295004Z",
     "iopub.status.idle": "2023-06-16T05:26:04.301526Z",
     "shell.execute_reply": "2023-06-16T05:26:04.300405Z"
    },
    "papermill": {
     "duration": 0.023036,
     "end_time": "2023-06-16T05:26:04.304302",
     "exception": false,
     "start_time": "2023-06-16T05:26:04.281266",
     "status": "completed"
    },
    "tags": []
   },
   "outputs": [
    {
     "name": "stdout",
     "output_type": "stream",
     "text": [
      "Mejores hiperparámetros:  OrderedDict([('xgb__colsample_bytree', 0.6), ('xgb__learning_rate', 0.13999999999999999), ('xgb__max_depth', 60), ('xgb__n_estimators', 360), ('xgb__reg_lambda', 0.6000000000000002), ('xgb__subsample', 0.5)])\n",
      "Mejor F1-score:  0.853091277815988\n"
     ]
    }
   ],
   "source": [
    "print('Mejores hiperparámetros: ', model_opt.best_params_)\n",
    "print('Mejor F1-score: ', model_opt.best_score_)"
   ]
  },
  {
   "cell_type": "code",
   "execution_count": 10,
   "id": "78c4ae87",
   "metadata": {
    "execution": {
     "iopub.execute_input": "2023-06-16T05:26:04.334499Z",
     "iopub.status.busy": "2023-06-16T05:26:04.333039Z",
     "iopub.status.idle": "2023-06-16T05:26:04.342686Z",
     "shell.execute_reply": "2023-06-16T05:26:04.341180Z"
    },
    "papermill": {
     "duration": 0.028545,
     "end_time": "2023-06-16T05:26:04.345122",
     "exception": false,
     "start_time": "2023-06-16T05:26:04.316577",
     "status": "completed"
    },
    "tags": []
   },
   "outputs": [
    {
     "data": {
      "text/plain": [
       "array([0.83405932, 0.84721132, 0.85151944, 0.85309128, 0.84614849])"
      ]
     },
     "execution_count": 10,
     "metadata": {},
     "output_type": "execute_result"
    }
   ],
   "source": [
    "# Cada valor representa F1 score, la cantidad varia por el parametro n\n",
    "model_opt.cv_results_['mean_test_score']"
   ]
  },
  {
   "cell_type": "code",
   "execution_count": 11,
   "id": "ea97bbab",
   "metadata": {
    "execution": {
     "iopub.execute_input": "2023-06-16T05:26:04.373724Z",
     "iopub.status.busy": "2023-06-16T05:26:04.373298Z",
     "iopub.status.idle": "2023-06-16T05:26:11.049904Z",
     "shell.execute_reply": "2023-06-16T05:26:11.048354Z"
    },
    "papermill": {
     "duration": 6.69357,
     "end_time": "2023-06-16T05:26:11.052407",
     "exception": false,
     "start_time": "2023-06-16T05:26:04.358837",
     "status": "completed"
    },
    "tags": []
   },
   "outputs": [
    {
     "name": "stdout",
     "output_type": "stream",
     "text": [
      "F1-score en datos de prueba: 0.86046974522293\n",
      "Exactitud en datos de prueba: 0.8598\n"
     ]
    }
   ],
   "source": [
    "# Predecir con los mejores hiperparámetros\n",
    "y_pred = model_opt.predict(X_test)\n",
    "\n",
    "# Calcular el f1-score en los datos de prueba\n",
    "f1 = f1_score(y_test, y_pred)\n",
    "print(\"F1-score en datos de prueba:\", f1)\n",
    "\n",
    "# Calcular la exactitud en los datos de prueba\n",
    "acc = accuracy_score(y_test, y_pred)\n",
    "print(\"Exactitud en datos de prueba:\", acc)"
   ]
  },
  {
   "cell_type": "code",
   "execution_count": 12,
   "id": "93c1be66",
   "metadata": {
    "execution": {
     "iopub.execute_input": "2023-06-16T05:26:11.081139Z",
     "iopub.status.busy": "2023-06-16T05:26:11.079828Z",
     "iopub.status.idle": "2023-06-16T05:26:11.086956Z",
     "shell.execute_reply": "2023-06-16T05:26:11.086017Z"
    },
    "papermill": {
     "duration": 0.024449,
     "end_time": "2023-06-16T05:26:11.089893",
     "exception": false,
     "start_time": "2023-06-16T05:26:11.065444",
     "status": "completed"
    },
    "tags": []
   },
   "outputs": [],
   "source": [
    "# TODO: no ejecutar todos los prints juntos, puede ralentizar la notebook\n",
    "\n",
    "# vectorizer.fit_transform(X_train['review_es'])\n",
    "\n",
    "# Imprimimos el vocabulario\n",
    "# print(vectorizer.vocabulary_) # Devuelve un diccionario con el vocabulario, donde la clave es la palabra y el valor es el índice\n",
    "\n",
    "# Contamos la cantidad de apariciones de cada palabra en el corpus\n",
    "# print(vectorizer.idf_) # Devuelve un array donde cada elemento es el idf de la palabra cuyo índice coincide con el elemento\n",
    "\n",
    "# Imprimimos la matriz de frecuencias\n",
    "# print(fid.toarray())\n",
    "\n",
    "# Contamos la cantidad de palabras en el vocabulario\n",
    "# print('Longitud del vocabulario completo: {}'.format(len(vectorizer.vocabulary_)))"
   ]
  },
  {
   "attachments": {},
   "cell_type": "markdown",
   "id": "f22cecbd",
   "metadata": {
    "papermill": {
     "duration": 0.013059,
     "end_time": "2023-06-16T05:26:11.116038",
     "exception": false,
     "start_time": "2023-06-16T05:26:11.102979",
     "status": "completed"
    },
    "tags": []
   },
   "source": [
    "Longitud del vocabulario completo para unigrama es: 154146"
   ]
  },
  {
   "attachments": {},
   "cell_type": "markdown",
   "id": "e9c143a5",
   "metadata": {
    "papermill": {
     "duration": 0.012195,
     "end_time": "2023-06-16T05:26:11.141137",
     "exception": false,
     "start_time": "2023-06-16T05:26:11.128942",
     "status": "completed"
    },
    "tags": []
   },
   "source": [
    "### Analisis del modelo"
   ]
  },
  {
   "cell_type": "code",
   "execution_count": 13,
   "id": "9ed58259",
   "metadata": {
    "execution": {
     "iopub.execute_input": "2023-06-16T05:26:11.169751Z",
     "iopub.status.busy": "2023-06-16T05:26:11.168295Z",
     "iopub.status.idle": "2023-06-16T05:26:11.487723Z",
     "shell.execute_reply": "2023-06-16T05:26:11.486250Z"
    },
    "papermill": {
     "duration": 0.336425,
     "end_time": "2023-06-16T05:26:11.490512",
     "exception": false,
     "start_time": "2023-06-16T05:26:11.154087",
     "status": "completed"
    },
    "tags": []
   },
   "outputs": [
    {
     "name": "stdout",
     "output_type": "stream",
     "text": [
      "              precision    recall  f1-score   support\n",
      "\n",
      "           0       0.86      0.85      0.86      5000\n",
      "           1       0.86      0.86      0.86      5000\n",
      "\n",
      "    accuracy                           0.86     10000\n",
      "   macro avg       0.86      0.86      0.86     10000\n",
      "weighted avg       0.86      0.86      0.86     10000\n",
      "\n"
     ]
    },
    {
     "data": {
      "image/png": "[encoded data removed]",
      "text/plain": [
       "<Figure size 640x480 with 2 Axes>"
      ]
     },
     "metadata": {},
     "output_type": "display_data"
    }
   ],
   "source": [
    "# Obtener la matriz de confusión\n",
    "cm = confusion_matrix(y_test, y_pred)\n",
    "\n",
    "# Reporte y Matriz de Confusion\n",
    "print(classification_report(y_test, y_pred))\n",
    "\n",
    "# Definir colores\n",
    "color_start = \"#fff\"\n",
    "color_end = \"#aa0065\"\n",
    "\n",
    "# Definir el mapa de colores personalizado con un degradado suave\n",
    "cmap_colors = [color_start, color_end]\n",
    "cmap = LinearSegmentedColormap.from_list(\"Custom\", cmap_colors)\n",
    "\n",
    "# Graficar la matriz de confusión con el mapa de colores personalizado\n",
    "sns.heatmap(cm, cmap=cmap, annot=True, fmt='d', cbar=True)\n",
    "plt.title(\"Matriz de confusión - XGBoost\")\n",
    "plt.xlabel('Predicted')\n",
    "plt.ylabel('True')\n",
    "plt.show()"
   ]
  },
  {
   "cell_type": "code",
   "execution_count": 14,
   "id": "44522c76",
   "metadata": {
    "execution": {
     "iopub.execute_input": "2023-06-16T05:26:11.521027Z",
     "iopub.status.busy": "2023-06-16T05:26:11.519348Z",
     "iopub.status.idle": "2023-06-16T05:26:11.528380Z",
     "shell.execute_reply": "2023-06-16T05:26:11.527042Z"
    },
    "papermill": {
     "duration": 0.026777,
     "end_time": "2023-06-16T05:26:11.531228",
     "exception": false,
     "start_time": "2023-06-16T05:26:11.504451",
     "status": "completed"
    },
    "tags": []
   },
   "outputs": [],
   "source": [
    "# Mapear las etiquetas a valores numéricos para usar AUC\n",
    "y_test_bin = y_test.replace(['positivo', 'negativo'], [1, 0])\n",
    "\n",
    "# Convertir a Series para poder usar replace\n",
    "y_pred_bin = pd.Series(y_pred).replace(['positivo', 'negativo'], [1, 0]) \n",
    "\n",
    "# Alternativa con numpy\n",
    "# y_pred_bin = np.where(y_pred == 'positivo', 1, 0)"
   ]
  },
  {
   "cell_type": "code",
   "execution_count": 15,
   "id": "788c54a2",
   "metadata": {
    "execution": {
     "iopub.execute_input": "2023-06-16T05:26:11.559757Z",
     "iopub.status.busy": "2023-06-16T05:26:11.559293Z",
     "iopub.status.idle": "2023-06-16T05:26:11.885052Z",
     "shell.execute_reply": "2023-06-16T05:26:11.883685Z"
    },
    "papermill": {
     "duration": 0.343271,
     "end_time": "2023-06-16T05:26:11.887793",
     "exception": false,
     "start_time": "2023-06-16T05:26:11.544522",
     "status": "completed"
    },
    "tags": []
   },
   "outputs": [
    {
     "data": {
      "image/png": "[encoded data removed]",
      "text/plain": [
       "<Figure size 640x480 with 1 Axes>"
      ]
     },
     "metadata": {},
     "output_type": "display_data"
    }
   ],
   "source": [
    "fpr, tpr, _ = roc_curve(y_test_bin, y_pred_bin) # FPR y TPR son acrónimos de \"False Positive Rate\" y \"True Positive Rate\"\n",
    "roc_auc = roc_auc_score(y_test_bin, y_pred_bin)\n",
    "\n",
    "roc_display = RocCurveDisplay(fpr=fpr, tpr=tpr, roc_auc=roc_auc, estimator_name='XGBoost').plot()\n",
    "plt.title(\"Curva ROC\")\n",
    "plt.legend(loc=\"lower right\")  # agregar leyenda en la esquina inferior derecha\n",
    "plt.show()"
   ]
  },
  {
   "attachments": {},
   "cell_type": "markdown",
   "id": "6d9c002c",
   "metadata": {
    "papermill": {
     "duration": 0.01323,
     "end_time": "2023-06-16T05:26:11.914632",
     "exception": false,
     "start_time": "2023-06-16T05:26:11.901402",
     "status": "completed"
    },
    "tags": []
   },
   "source": [
    "### Validación con K-Fold Cross-Validation"
   ]
  },
  {
   "cell_type": "code",
   "execution_count": 16,
   "id": "485263f7",
   "metadata": {
    "execution": {
     "iopub.execute_input": "2023-06-16T05:26:11.944507Z",
     "iopub.status.busy": "2023-06-16T05:26:11.943630Z",
     "iopub.status.idle": "2023-06-16T05:26:11.949855Z",
     "shell.execute_reply": "2023-06-16T05:26:11.948583Z"
    },
    "papermill": {
     "duration": 0.024207,
     "end_time": "2023-06-16T05:26:11.952505",
     "exception": false,
     "start_time": "2023-06-16T05:26:11.928298",
     "status": "completed"
    },
    "tags": []
   },
   "outputs": [],
   "source": [
    "# scores = evaluate_model(model_opt, X_train, y_train, 4, 2, 'f1')\n",
    "scores = model_opt.cv_results_['mean_test_score']"
   ]
  },
  {
   "cell_type": "code",
   "execution_count": 17,
   "id": "ed675742",
   "metadata": {
    "execution": {
     "iopub.execute_input": "2023-06-16T05:26:11.982622Z",
     "iopub.status.busy": "2023-06-16T05:26:11.981608Z",
     "iopub.status.idle": "2023-06-16T05:26:11.992325Z",
     "shell.execute_reply": "2023-06-16T05:26:11.990904Z"
    },
    "papermill": {
     "duration": 0.028541,
     "end_time": "2023-06-16T05:26:11.994704",
     "exception": false,
     "start_time": "2023-06-16T05:26:11.966163",
     "status": "completed"
    },
    "tags": []
   },
   "outputs": [
    {
     "name": "stdout",
     "output_type": "stream",
     "text": [
      "F1-score media: 0.8464\n"
     ]
    },
    {
     "data": {
      "text/plain": [
       "array([0.83405932, 0.84721132, 0.85151944, 0.85309128, 0.84614849])"
      ]
     },
     "execution_count": 17,
     "metadata": {},
     "output_type": "execute_result"
    }
   ],
   "source": [
    "print('F1-score media: %.4f' % np.mean(scores))\n",
    "scores"
   ]
  },
  {
   "cell_type": "code",
   "execution_count": 18,
   "id": "33cacf97",
   "metadata": {
    "execution": {
     "iopub.execute_input": "2023-06-16T05:26:12.024775Z",
     "iopub.status.busy": "2023-06-16T05:26:12.024279Z",
     "iopub.status.idle": "2023-06-16T05:26:12.301789Z",
     "shell.execute_reply": "2023-06-16T05:26:12.300411Z"
    },
    "papermill": {
     "duration": 0.295953,
     "end_time": "2023-06-16T05:26:12.304487",
     "exception": false,
     "start_time": "2023-06-16T05:26:12.008534",
     "status": "completed"
    },
    "tags": []
   },
   "outputs": [
    {
     "data": {
      "image/png": "[encoded data removed]",
      "text/plain": [
       "<Figure size 640x480 with 1 Axes>"
      ]
     },
     "metadata": {},
     "output_type": "display_data"
    }
   ],
   "source": [
    "# Boxplot de los resultados\n",
    "plt.boxplot(scores)\n",
    "plt.title(\"Boxplot de Validación Cruzada\")\n",
    "plt.text(0.97, 0.05, 'F1-score media: {:.3f}'.format(np.mean(scores)),\n",
    "         transform=plt.gca().transAxes, ha='right')\n",
    "plt.show()"
   ]
  },
  {
   "attachments": {},
   "cell_type": "markdown",
   "id": "e0d10f04",
   "metadata": {
    "papermill": {
     "duration": 0.014094,
     "end_time": "2023-06-16T05:26:12.333463",
     "exception": false,
     "start_time": "2023-06-16T05:26:12.319369",
     "status": "completed"
    },
    "tags": []
   },
   "source": [
    "\n",
    "## Aplicación del modelo al dataset de test"
   ]
  },
  {
   "attachments": {},
   "cell_type": "markdown",
   "id": "1b458fef",
   "metadata": {
    "papermill": {
     "duration": 0.014346,
     "end_time": "2023-06-16T05:26:12.362505",
     "exception": false,
     "start_time": "2023-06-16T05:26:12.348159",
     "status": "completed"
    },
    "tags": []
   },
   "source": [
    "Lectura del dataset de test original para mantener id:"
   ]
  },
  {
   "cell_type": "code",
   "execution_count": 19,
   "id": "7137afae",
   "metadata": {
    "execution": {
     "iopub.execute_input": "2023-06-16T05:26:12.393718Z",
     "iopub.status.busy": "2023-06-16T05:26:12.393217Z",
     "iopub.status.idle": "2023-06-16T05:26:12.779559Z",
     "shell.execute_reply": "2023-06-16T05:26:12.778054Z"
    },
    "papermill": {
     "duration": 0.405592,
     "end_time": "2023-06-16T05:26:12.782665",
     "exception": false,
     "start_time": "2023-06-16T05:26:12.377073",
     "status": "completed"
    },
    "tags": []
   },
   "outputs": [],
   "source": [
    "df_test = pd.read_csv('../input/dataset/test_preprocesado.csv', sep=',', header=0)"
   ]
  },
  {
   "cell_type": "code",
   "execution_count": 20,
   "id": "22837901",
   "metadata": {
    "execution": {
     "iopub.execute_input": "2023-06-16T05:26:12.814392Z",
     "iopub.status.busy": "2023-06-16T05:26:12.813901Z",
     "iopub.status.idle": "2023-06-16T05:26:18.067092Z",
     "shell.execute_reply": "2023-06-16T05:26:18.066133Z"
    },
    "papermill": {
     "duration": 5.272834,
     "end_time": "2023-06-16T05:26:18.070129",
     "exception": false,
     "start_time": "2023-06-16T05:26:12.797295",
     "status": "completed"
    },
    "tags": []
   },
   "outputs": [],
   "source": [
    "y_pred_final = model_opt.predict(df_test[features])"
   ]
  },
  {
   "cell_type": "code",
   "execution_count": 21,
   "id": "da48a56d",
   "metadata": {
    "execution": {
     "iopub.execute_input": "2023-06-16T05:26:18.108011Z",
     "iopub.status.busy": "2023-06-16T05:26:18.107594Z",
     "iopub.status.idle": "2023-06-16T05:26:18.115023Z",
     "shell.execute_reply": "2023-06-16T05:26:18.113997Z"
    },
    "papermill": {
     "duration": 0.028431,
     "end_time": "2023-06-16T05:26:18.117795",
     "exception": false,
     "start_time": "2023-06-16T05:26:18.089364",
     "status": "completed"
    },
    "tags": []
   },
   "outputs": [
    {
     "name": "stdout",
     "output_type": "stream",
     "text": [
      "Resultado de la predicción: \n",
      "Positivos:  4886\n",
      "Negativos:  3713\n"
     ]
    }
   ],
   "source": [
    "# Mapear etiquetas a valores numéricos\n",
    "# label_mapping = {'negativo': 0, 'positivo': 1}\n",
    "# y_pred_final_numeric = np.array([label_mapping[label] for label in y_pred_final])\n",
    "\n",
    "# Calcular las frecuencias\n",
    "counts = np.bincount(y_pred_final)\n",
    "count_1 = counts[1]  # Frecuencia de positivos\n",
    "count_0 = counts[0]  # Frecuencia de negativos\n",
    "\n",
    "print(\"Resultado de la predicción: \")\n",
    "print(\"Positivos: \", count_1)\n",
    "print(\"Negativos: \", count_0)"
   ]
  },
  {
   "cell_type": "code",
   "execution_count": 22,
   "id": "e3868737",
   "metadata": {
    "execution": {
     "iopub.execute_input": "2023-06-16T05:26:18.150312Z",
     "iopub.status.busy": "2023-06-16T05:26:18.149078Z",
     "iopub.status.idle": "2023-06-16T05:26:18.155760Z",
     "shell.execute_reply": "2023-06-16T05:26:18.154355Z"
    },
    "papermill": {
     "duration": 0.025772,
     "end_time": "2023-06-16T05:26:18.158472",
     "exception": false,
     "start_time": "2023-06-16T05:26:18.132700",
     "status": "completed"
    },
    "tags": []
   },
   "outputs": [],
   "source": [
    "# Mapeo de prediccion numerica a etiqueta (positivo, negativo)\n",
    "y_pred_final = np.where(y_pred_final == 1, 'positivo', 'negativo')"
   ]
  },
  {
   "cell_type": "code",
   "execution_count": 23,
   "id": "5c423f45",
   "metadata": {
    "execution": {
     "iopub.execute_input": "2023-06-16T05:26:18.190566Z",
     "iopub.status.busy": "2023-06-16T05:26:18.190072Z",
     "iopub.status.idle": "2023-06-16T05:26:18.235209Z",
     "shell.execute_reply": "2023-06-16T05:26:18.233670Z"
    },
    "papermill": {
     "duration": 0.064782,
     "end_time": "2023-06-16T05:26:18.238268",
     "exception": false,
     "start_time": "2023-06-16T05:26:18.173486",
     "status": "completed"
    },
    "tags": []
   },
   "outputs": [],
   "source": [
    "pd.concat([df_test['ID'],pd.DataFrame(data=y_pred_final, columns=['sentimiento'])], axis=1).to_csv('/kaggle/working/pred_xgb.csv', index=False)"
   ]
  },
  {
   "attachments": {},
   "cell_type": "markdown",
   "id": "7c8ae693",
   "metadata": {
    "papermill": {
     "duration": 0.014403,
     "end_time": "2023-06-16T05:26:18.267527",
     "exception": false,
     "start_time": "2023-06-16T05:26:18.253124",
     "status": "completed"
    },
    "tags": []
   },
   "source": [
    "## Exportación del modelo"
   ]
  },
  {
   "cell_type": "code",
   "execution_count": 24,
   "id": "085051ab",
   "metadata": {
    "execution": {
     "iopub.execute_input": "2023-06-16T05:26:18.299313Z",
     "iopub.status.busy": "2023-06-16T05:26:18.298799Z",
     "iopub.status.idle": "2023-06-16T05:26:18.421990Z",
     "shell.execute_reply": "2023-06-16T05:26:18.420730Z"
    },
    "papermill": {
     "duration": 0.142666,
     "end_time": "2023-06-16T05:26:18.424962",
     "exception": false,
     "start_time": "2023-06-16T05:26:18.282296",
     "status": "completed"
    },
    "tags": []
   },
   "outputs": [],
   "source": [
    "dump(model_opt, open('/kaggle/working/modelo_xgb.pkl', 'wb'))"
   ]
  }
 ],
 "metadata": {
  "kernelspec": {
   "display_name": "Python 3",
   "language": "python",
   "name": "python3"
  },
  "language_info": {
   "codemirror_mode": {
    "name": "ipython",
    "version": 3
   },
   "file_extension": ".py",
   "mimetype": "text/x-python",
   "name": "python",
   "nbconvert_exporter": "python",
   "pygments_lexer": "ipython3",
   "version": "3.10.10"
  },
  "papermill": {
   "default_parameters": {},
   "duration": 10554.941449,
   "end_time": "2023-06-16T05:26:20.093425",
   "environment_variables": {},
   "exception": null,
   "input_path": "__notebook__.ipynb",
   "output_path": "__notebook__.ipynb",
   "parameters": {},
   "start_time": "2023-06-16T02:30:25.151976",
   "version": "2.4.0"
  }
 },
 "nbformat": 4,
 "nbformat_minor": 5
}
