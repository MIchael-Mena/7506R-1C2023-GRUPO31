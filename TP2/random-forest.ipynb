{
 "cells": [
  {
   "cell_type": "markdown",
   "id": "fc742e73",
   "metadata": {
    "papermill": {
     "duration": 0.01397,
     "end_time": "2023-06-16T15:18:28.762994",
     "exception": false,
     "start_time": "2023-06-16T15:18:28.749024",
     "status": "completed"
    },
    "tags": []
   },
   "source": [
    "## <center><ins>Trabajo Práctico 2: Criticas de peliculas</ins></center>\n",
    "#### <center>*Random Forest*</center>\n",
    "##### <center>75.06 / 95.58 Organización de Datos - FIUBA</center>\n",
    "##### <center>Ing. Rodríguez - 1°C 2023</center>\n",
    "---\n",
    "#### <center>**Grupo 31 - \"Datazo\":**</center>\n",
    "<center> Michael Mena - 102685</center>\n",
    "<center>Pablo Brocca - 104256</center>\n",
    "<center>Diego Kisinovsky - 106203</center>"
   ]
  },
  {
   "cell_type": "markdown",
   "id": "72c2a658",
   "metadata": {
    "papermill": {
     "duration": 0.011262,
     "end_time": "2023-06-16T15:18:28.786062",
     "exception": false,
     "start_time": "2023-06-16T15:18:28.774800",
     "status": "completed"
    },
    "tags": []
   },
   "source": [
    "---\n",
    "---"
   ]
  },
  {
   "cell_type": "markdown",
   "id": "0456f53f",
   "metadata": {
    "papermill": {
     "duration": 0.011101,
     "end_time": "2023-06-16T15:18:28.809176",
     "exception": false,
     "start_time": "2023-06-16T15:18:28.798075",
     "status": "completed"
    },
    "tags": []
   },
   "source": [
    "## Carga de datos y librerías"
   ]
  },
  {
   "cell_type": "code",
   "execution_count": 1,
   "id": "655dfa62",
   "metadata": {
    "execution": {
     "iopub.execute_input": "2023-06-16T15:18:28.834079Z",
     "iopub.status.busy": "2023-06-16T15:18:28.833551Z",
     "iopub.status.idle": "2023-06-16T15:18:28.840255Z",
     "shell.execute_reply": "2023-06-16T15:18:28.838726Z"
    },
    "papermill": {
     "duration": 0.025103,
     "end_time": "2023-06-16T15:18:28.845776",
     "exception": false,
     "start_time": "2023-06-16T15:18:28.820673",
     "status": "completed"
    },
    "tags": []
   },
   "outputs": [],
   "source": [
    "# !pip install matplotlib\n",
    "# !pip install seaborn\n",
    "# !pip install scikit-optimize"
   ]
  },
  {
   "cell_type": "code",
   "execution_count": 2,
   "id": "d67ecb68",
   "metadata": {
    "execution": {
     "iopub.execute_input": "2023-06-16T15:18:28.871968Z",
     "iopub.status.busy": "2023-06-16T15:18:28.871538Z",
     "iopub.status.idle": "2023-06-16T15:18:31.257846Z",
     "shell.execute_reply": "2023-06-16T15:18:31.256479Z"
    },
    "papermill": {
     "duration": 2.403394,
     "end_time": "2023-06-16T15:18:31.260866",
     "exception": false,
     "start_time": "2023-06-16T15:18:28.857472",
     "status": "completed"
    },
    "tags": []
   },
   "outputs": [],
   "source": [
    "import numpy as np\n",
    "import pandas as pd\n",
    "\n",
    "# Visualización\n",
    "import matplotlib.pyplot as plt\n",
    "import seaborn as sns\n",
    "from matplotlib.colors import ListedColormap, LinearSegmentedColormap\n",
    "from sklearn.metrics import roc_curve, roc_auc_score, RocCurveDisplay\n",
    "\n",
    "# Preprocesamiento\n",
    "from sklearn.model_selection import train_test_split\n",
    "from sklearn.feature_extraction.text import CountVectorizer, TfidfTransformer, TfidfVectorizer\n",
    "from sklearn.preprocessing import StandardScaler\n",
    "from sklearn.compose import ColumnTransformer\n",
    "\n",
    "# Metricas\n",
    "from sklearn.metrics import f1_score\n",
    "from sklearn.metrics import accuracy_score\n",
    "from sklearn.metrics import confusion_matrix\n",
    "from sklearn.metrics import classification_report\n",
    "\n",
    "# Clasificadores\n",
    "from sklearn.ensemble import RandomForestClassifier\n",
    "from sklearn.pipeline import Pipeline, make_pipeline\n",
    "\n",
    "# Optimización de hiperparámetros\n",
    "from sklearn.model_selection import cross_val_score, RepeatedStratifiedKFold\n",
    "from skopt import BayesSearchCV\n",
    "from skopt.space import Categorical\n",
    "\n",
    "# Manejo de modelos\n",
    "from pickle import dump\n",
    "from pickle import load\n"
   ]
  },
  {
   "cell_type": "code",
   "execution_count": 3,
   "id": "df1c0ffb",
   "metadata": {
    "execution": {
     "iopub.execute_input": "2023-06-16T15:18:31.286886Z",
     "iopub.status.busy": "2023-06-16T15:18:31.286385Z",
     "iopub.status.idle": "2023-06-16T15:18:31.292001Z",
     "shell.execute_reply": "2023-06-16T15:18:31.290509Z"
    },
    "papermill": {
     "duration": 0.021573,
     "end_time": "2023-06-16T15:18:31.294424",
     "exception": false,
     "start_time": "2023-06-16T15:18:31.272851",
     "status": "completed"
    },
    "tags": []
   },
   "outputs": [],
   "source": [
    "# Input data files are available in the read-only \"../input/\" directory\n",
    "# For example, running this (by clicking run or pressing Shift+Enter) will list all files under the input directory\n",
    "\n",
    "# import os\n",
    "# for dirname, _, filenames in os.walk('/kaggle/input'):\n",
    "#     for filename in filenames:\n",
    "#         print(os.path.join(dirname, filename))\n",
    "\n",
    "# You can write up to 20GB to the current directory (/kaggle/working/) that gets preserved as output when you create a version using \"Save & Run All\" \n",
    "# You can also write temporary files to /kaggle/temp/, but they won't be saved outside of the current session"
   ]
  },
  {
   "cell_type": "code",
   "execution_count": 4,
   "id": "a309db08",
   "metadata": {
    "execution": {
     "iopub.execute_input": "2023-06-16T15:18:31.320193Z",
     "iopub.status.busy": "2023-06-16T15:18:31.319756Z",
     "iopub.status.idle": "2023-06-16T15:18:34.098533Z",
     "shell.execute_reply": "2023-06-16T15:18:34.096911Z"
    },
    "papermill": {
     "duration": 2.806638,
     "end_time": "2023-06-16T15:18:34.113103",
     "exception": false,
     "start_time": "2023-06-16T15:18:31.306465",
     "status": "completed"
    },
    "tags": []
   },
   "outputs": [
    {
     "data": {
      "text/html": [
       "<div>\n",
       "<style scoped>\n",
       "    .dataframe tbody tr th:only-of-type {\n",
       "        vertical-align: middle;\n",
       "    }\n",
       "\n",
       "    .dataframe tbody tr th {\n",
       "        vertical-align: top;\n",
       "    }\n",
       "\n",
       "    .dataframe thead th {\n",
       "        text-align: right;\n",
       "    }\n",
       "</style>\n",
       "<table border=\"1\" class=\"dataframe\">\n",
       "  <thead>\n",
       "    <tr style=\"text-align: right;\">\n",
       "      <th></th>\n",
       "      <th>review_es</th>\n",
       "      <th>sentimiento</th>\n",
       "      <th>longitud</th>\n",
       "    </tr>\n",
       "  </thead>\n",
       "  <tbody>\n",
       "    <tr>\n",
       "      <th>0</th>\n",
       "      <td>Uno de los otros críticos ha mencionado que de...</td>\n",
       "      <td>1</td>\n",
       "      <td>0.583940</td>\n",
       "    </tr>\n",
       "    <tr>\n",
       "      <th>1</th>\n",
       "      <td>Una pequeña pequeña producción.La técnica de f...</td>\n",
       "      <td>1</td>\n",
       "      <td>-0.324820</td>\n",
       "    </tr>\n",
       "    <tr>\n",
       "      <th>2</th>\n",
       "      <td>Pensé que esta era una manera maravillosa de p...</td>\n",
       "      <td>1</td>\n",
       "      <td>-0.394205</td>\n",
       "    </tr>\n",
       "    <tr>\n",
       "      <th>3</th>\n",
       "      <td>Básicamente, hay una familia donde un niño peq...</td>\n",
       "      <td>0</td>\n",
       "      <td>-0.585980</td>\n",
       "    </tr>\n",
       "    <tr>\n",
       "      <th>4</th>\n",
       "      <td>El \"amor en el tiempo\" de Petter Mattei es una...</td>\n",
       "      <td>1</td>\n",
       "      <td>0.007653</td>\n",
       "    </tr>\n",
       "  </tbody>\n",
       "</table>\n",
       "</div>"
      ],
      "text/plain": [
       "                                           review_es  sentimiento  longitud\n",
       "0  Uno de los otros críticos ha mencionado que de...            1  0.583940\n",
       "1  Una pequeña pequeña producción.La técnica de f...            1 -0.324820\n",
       "2  Pensé que esta era una manera maravillosa de p...            1 -0.394205\n",
       "3  Básicamente, hay una familia donde un niño peq...            0 -0.585980\n",
       "4  El \"amor en el tiempo\" de Petter Mattei es una...            1  0.007653"
      ]
     },
     "execution_count": 4,
     "metadata": {},
     "output_type": "execute_result"
    }
   ],
   "source": [
    "df = pd.read_csv('../input/dataset/train_preprocesado.csv', sep=',', header=0)\n",
    "df.head()"
   ]
  },
  {
   "cell_type": "markdown",
   "id": "10c5453f",
   "metadata": {
    "papermill": {
     "duration": 0.014428,
     "end_time": "2023-06-16T15:18:34.141038",
     "exception": false,
     "start_time": "2023-06-16T15:18:34.126610",
     "status": "completed"
    },
    "tags": []
   },
   "source": [
    "### Carga stopwords"
   ]
  },
  {
   "cell_type": "code",
   "execution_count": 5,
   "id": "2bf30e54",
   "metadata": {
    "execution": {
     "iopub.execute_input": "2023-06-16T15:18:34.168656Z",
     "iopub.status.busy": "2023-06-16T15:18:34.168215Z",
     "iopub.status.idle": "2023-06-16T15:18:34.187001Z",
     "shell.execute_reply": "2023-06-16T15:18:34.185470Z"
    },
    "papermill": {
     "duration": 0.036607,
     "end_time": "2023-06-16T15:18:34.190480",
     "exception": false,
     "start_time": "2023-06-16T15:18:34.153873",
     "status": "completed"
    },
    "tags": []
   },
   "outputs": [
    {
     "name": "stdout",
     "output_type": "stream",
     "text": [
      "Cantidad de stopwords: 390\n"
     ]
    }
   ],
   "source": [
    "sw = pd.read_csv('../input/dataset/my-stop-words.csv')['palabra'].to_list() # 390 palabras, 77 nuevas agregadas a mano y 308 de NLTK\n",
    "\n",
    "print(f'Cantidad de stopwords: {len(sw)}')"
   ]
  },
  {
   "cell_type": "markdown",
   "id": "e6b108fa",
   "metadata": {
    "papermill": {
     "duration": 0.015081,
     "end_time": "2023-06-16T15:18:34.219594",
     "exception": false,
     "start_time": "2023-06-16T15:18:34.204513",
     "status": "completed"
    },
    "tags": []
   },
   "source": [
    "### Definicón de funciones"
   ]
  },
  {
   "cell_type": "code",
   "execution_count": 6,
   "id": "c5c4b558",
   "metadata": {
    "execution": {
     "iopub.execute_input": "2023-06-16T15:18:34.247704Z",
     "iopub.status.busy": "2023-06-16T15:18:34.247262Z",
     "iopub.status.idle": "2023-06-16T15:18:34.253765Z",
     "shell.execute_reply": "2023-06-16T15:18:34.252258Z"
    },
    "papermill": {
     "duration": 0.023023,
     "end_time": "2023-06-16T15:18:34.256332",
     "exception": false,
     "start_time": "2023-06-16T15:18:34.233309",
     "status": "completed"
    },
    "tags": []
   },
   "outputs": [],
   "source": [
    "#Funcion para evaluar los modelos\n",
    "def evaluate_model(model, x, y, splits=5, repeats=2, metric='f1'):\n",
    "    cv = RepeatedStratifiedKFold(n_splits=splits, n_repeats=repeats, random_state=1)\n",
    "    scores = cross_val_score(model, x, y, scoring=metric, cv=cv, verbose=1, n_jobs=-1, error_score='raise')\n",
    "    return scores"
   ]
  },
  {
   "cell_type": "markdown",
   "id": "fc2284c2",
   "metadata": {
    "papermill": {
     "duration": 0.013045,
     "end_time": "2023-06-16T15:18:34.282016",
     "exception": false,
     "start_time": "2023-06-16T15:18:34.268971",
     "status": "completed"
    },
    "tags": []
   },
   "source": [
    "## Armado y entrenamiento"
   ]
  },
  {
   "cell_type": "markdown",
   "id": "b6e01954",
   "metadata": {
    "papermill": {
     "duration": 0.011989,
     "end_time": "2023-06-16T15:18:34.306769",
     "exception": false,
     "start_time": "2023-06-16T15:18:34.294780",
     "status": "completed"
    },
    "tags": []
   },
   "source": [
    "### Preparación de features:"
   ]
  },
  {
   "cell_type": "code",
   "execution_count": 7,
   "id": "6d81c61d",
   "metadata": {
    "execution": {
     "iopub.execute_input": "2023-06-16T15:18:34.333571Z",
     "iopub.status.busy": "2023-06-16T15:18:34.333116Z",
     "iopub.status.idle": "2023-06-16T15:18:34.341986Z",
     "shell.execute_reply": "2023-06-16T15:18:34.340726Z"
    },
    "papermill": {
     "duration": 0.025673,
     "end_time": "2023-06-16T15:18:34.344905",
     "exception": false,
     "start_time": "2023-06-16T15:18:34.319232",
     "status": "completed"
    },
    "tags": []
   },
   "outputs": [
    {
     "data": {
      "text/plain": [
       "['review_es', 'longitud']"
      ]
     },
     "execution_count": 7,
     "metadata": {},
     "output_type": "execute_result"
    }
   ],
   "source": [
    "target = 'sentimiento'\n",
    "\n",
    "# Se elimina el target del las features\n",
    "features = df.columns.tolist()\n",
    "features.remove(target)\n",
    "features"
   ]
  },
  {
   "cell_type": "markdown",
   "id": "45f96f7b",
   "metadata": {
    "papermill": {
     "duration": 0.011695,
     "end_time": "2023-06-16T15:18:34.368908",
     "exception": false,
     "start_time": "2023-06-16T15:18:34.357213",
     "status": "completed"
    },
    "tags": []
   },
   "source": [
    "### Train-Test Split:"
   ]
  },
  {
   "cell_type": "code",
   "execution_count": 8,
   "id": "67713374",
   "metadata": {
    "execution": {
     "iopub.execute_input": "2023-06-16T15:18:34.394837Z",
     "iopub.status.busy": "2023-06-16T15:18:34.394396Z",
     "iopub.status.idle": "2023-06-16T15:18:34.461279Z",
     "shell.execute_reply": "2023-06-16T15:18:34.459488Z"
    },
    "papermill": {
     "duration": 0.083151,
     "end_time": "2023-06-16T15:18:34.464047",
     "exception": false,
     "start_time": "2023-06-16T15:18:34.380896",
     "status": "completed"
    },
    "tags": []
   },
   "outputs": [
    {
     "name": "stdout",
     "output_type": "stream",
     "text": [
      "# Datos Entrenamiento: 40000\n",
      "# Datos Prueba: 10000\n",
      "% Positivos Entrenamiento: 50.000\n",
      "% Positivos Prueba: 50.000\n"
     ]
    }
   ],
   "source": [
    "X_train, X_test, y_train, y_test = train_test_split(df[features], \n",
    "                                                    df[target], \n",
    "                                                    test_size=0.2, \n",
    "                                                    random_state=42, \n",
    "                                                    stratify=df[target],\n",
    "                                                    shuffle=True)\n",
    "\n",
    "# Verificamos cantidad de datos en cada set\n",
    "print('# Datos Entrenamiento: {}'.format(len(X_train)))\n",
    "print('# Datos Prueba: {}'.format(len(X_test)))\n",
    "\n",
    "# Verificamos como quedaron balanceados\n",
    "for split_name, split in zip(['% Positivos Entrenamiento','% Positivos Prueba'],[y_train,y_test]):\n",
    "  print('{}: {:.3f}'.format(split_name,pd.Series(split).value_counts(normalize=True)[1]*100))"
   ]
  },
  {
   "cell_type": "markdown",
   "id": "3c2c8828",
   "metadata": {
    "papermill": {
     "duration": 0.011767,
     "end_time": "2023-06-16T15:18:34.487921",
     "exception": false,
     "start_time": "2023-06-16T15:18:34.476154",
     "status": "completed"
    },
    "tags": []
   },
   "source": [
    "### Entrenamiento de modelo"
   ]
  },
  {
   "cell_type": "markdown",
   "id": "777e5845",
   "metadata": {
    "papermill": {
     "duration": 0.011995,
     "end_time": "2023-06-16T15:18:34.512614",
     "exception": false,
     "start_time": "2023-06-16T15:18:34.500619",
     "status": "completed"
    },
    "tags": []
   },
   "source": [
    "#### Optimizacion bayesiana"
   ]
  },
  {
   "cell_type": "code",
   "execution_count": 9,
   "id": "31c943cc",
   "metadata": {
    "execution": {
     "iopub.execute_input": "2023-06-16T15:18:34.539685Z",
     "iopub.status.busy": "2023-06-16T15:18:34.539183Z",
     "iopub.status.idle": "2023-06-16T15:18:34.546622Z",
     "shell.execute_reply": "2023-06-16T15:18:34.545307Z"
    },
    "papermill": {
     "duration": 0.024367,
     "end_time": "2023-06-16T15:18:34.549195",
     "exception": false,
     "start_time": "2023-06-16T15:18:34.524828",
     "status": "completed"
    },
    "tags": []
   },
   "outputs": [],
   "source": [
    "vectorizer = TfidfVectorizer(smooth_idf=True, # Suaviza el IDF al agregar 1 a todos los documentos, como si hubiera un documento más con todas las palabras del vocabulario\n",
    "                                    norm='l2', # Normalización por filas (cada fila suma 1)\n",
    "                                    strip_accents='unicode', # Remueve acentos y tildes\n",
    "#                                     max_features=20000, # Si se quiere usar el vocabulario completo, quitar este parámetro\n",
    "                                    sublinear_tf=True, # Reemplaza tf por 1 + log(tf), puede ayudar a reducir la importancia de las palabras \n",
    "                                    #muy frecuentes que tienden a dominar el cálculo de las ponderaciones\n",
    "                                    analyzer='word', stop_words=sw, \n",
    "                                    ngram_range=(1, 1) )\n",
    "\n",
    "# (1,1) unigramas, (2,2) bigramas y (3,3) trigramas, (1,3) los tres mencionados anteriormente. A mayor ngram_range, más features (amplia el vocabulario)"
   ]
  },
  {
   "cell_type": "code",
   "execution_count": 10,
   "id": "d751e99e",
   "metadata": {
    "execution": {
     "iopub.execute_input": "2023-06-16T15:18:34.576657Z",
     "iopub.status.busy": "2023-06-16T15:18:34.576172Z",
     "iopub.status.idle": "2023-06-16T15:38:20.605853Z",
     "shell.execute_reply": "2023-06-16T15:38:20.604567Z"
    },
    "papermill": {
     "duration": 1186.060291,
     "end_time": "2023-06-16T15:38:20.622389",
     "exception": false,
     "start_time": "2023-06-16T15:18:34.562098",
     "status": "completed"
    },
    "tags": []
   },
   "outputs": [
    {
     "data": {
      "text/html": [
       "<style>#sk-container-id-1 {color: black;background-color: white;}#sk-container-id-1 pre{padding: 0;}#sk-container-id-1 div.sk-toggleable {background-color: white;}#sk-container-id-1 label.sk-toggleable__label {cursor: pointer;display: block;width: 100%;margin-bottom: 0;padding: 0.3em;box-sizing: border-box;text-align: center;}#sk-container-id-1 label.sk-toggleable__label-arrow:before {content: \"▸\";float: left;margin-right: 0.25em;color: #696969;}#sk-container-id-1 label.sk-toggleable__label-arrow:hover:before {color: black;}#sk-container-id-1 div.sk-estimator:hover label.sk-toggleable__label-arrow:before {color: black;}#sk-container-id-1 div.sk-toggleable__content {max-height: 0;max-width: 0;overflow: hidden;text-align: left;background-color: #f0f8ff;}#sk-container-id-1 div.sk-toggleable__content pre {margin: 0.2em;color: black;border-radius: 0.25em;background-color: #f0f8ff;}#sk-container-id-1 input.sk-toggleable__control:checked~div.sk-toggleable__content {max-height: 200px;max-width: 100%;overflow: auto;}#sk-container-id-1 input.sk-toggleable__control:checked~label.sk-toggleable__label-arrow:before {content: \"▾\";}#sk-container-id-1 div.sk-estimator input.sk-toggleable__control:checked~label.sk-toggleable__label {background-color: #d4ebff;}#sk-container-id-1 div.sk-label input.sk-toggleable__control:checked~label.sk-toggleable__label {background-color: #d4ebff;}#sk-container-id-1 input.sk-hidden--visually {border: 0;clip: rect(1px 1px 1px 1px);clip: rect(1px, 1px, 1px, 1px);height: 1px;margin: -1px;overflow: hidden;padding: 0;position: absolute;width: 1px;}#sk-container-id-1 div.sk-estimator {font-family: monospace;background-color: #f0f8ff;border: 1px dotted black;border-radius: 0.25em;box-sizing: border-box;margin-bottom: 0.5em;}#sk-container-id-1 div.sk-estimator:hover {background-color: #d4ebff;}#sk-container-id-1 div.sk-parallel-item::after {content: \"\";width: 100%;border-bottom: 1px solid gray;flex-grow: 1;}#sk-container-id-1 div.sk-label:hover label.sk-toggleable__label {background-color: #d4ebff;}#sk-container-id-1 div.sk-serial::before {content: \"\";position: absolute;border-left: 1px solid gray;box-sizing: border-box;top: 0;bottom: 0;left: 50%;z-index: 0;}#sk-container-id-1 div.sk-serial {display: flex;flex-direction: column;align-items: center;background-color: white;padding-right: 0.2em;padding-left: 0.2em;position: relative;}#sk-container-id-1 div.sk-item {position: relative;z-index: 1;}#sk-container-id-1 div.sk-parallel {display: flex;align-items: stretch;justify-content: center;background-color: white;position: relative;}#sk-container-id-1 div.sk-item::before, #sk-container-id-1 div.sk-parallel-item::before {content: \"\";position: absolute;border-left: 1px solid gray;box-sizing: border-box;top: 0;bottom: 0;left: 50%;z-index: -1;}#sk-container-id-1 div.sk-parallel-item {display: flex;flex-direction: column;z-index: 1;position: relative;background-color: white;}#sk-container-id-1 div.sk-parallel-item:first-child::after {align-self: flex-end;width: 50%;}#sk-container-id-1 div.sk-parallel-item:last-child::after {align-self: flex-start;width: 50%;}#sk-container-id-1 div.sk-parallel-item:only-child::after {width: 0;}#sk-container-id-1 div.sk-dashed-wrapped {border: 1px dashed gray;margin: 0 0.4em 0.5em 0.4em;box-sizing: border-box;padding-bottom: 0.4em;background-color: white;}#sk-container-id-1 div.sk-label label {font-family: monospace;font-weight: bold;display: inline-block;line-height: 1.2em;}#sk-container-id-1 div.sk-label-container {text-align: center;}#sk-container-id-1 div.sk-container {/* jupyter's `normalize.less` sets `[hidden] { display: none; }` but bootstrap.min.css set `[hidden] { display: none !important; }` so we also need the `!important` here to be able to override the default hidden behavior on the sphinx rendered scikit-learn.org. See: https://github.com/scikit-learn/scikit-learn/issues/21755 */display: inline-block !important;position: relative;}#sk-container-id-1 div.sk-text-repr-fallback {display: none;}</style><div id=\"sk-container-id-1\" class=\"sk-top-container\"><div class=\"sk-text-repr-fallback\"><pre>BayesSearchCV(cv=5,\n",
       "              estimator=Pipeline(steps=[(&#x27;preprocessor&#x27;,\n",
       "                                         ColumnTransformer(transformers=[(&#x27;tfidfvectorizer&#x27;,\n",
       "                                                                          TfidfVectorizer(stop_words=[&#x27;a&#x27;,\n",
       "                                                                                                      &#x27;al&#x27;,\n",
       "                                                                                                      &#x27;algo&#x27;,\n",
       "                                                                                                      &#x27;algunas&#x27;,\n",
       "                                                                                                      &#x27;algunos&#x27;,\n",
       "                                                                                                      &#x27;ante&#x27;,\n",
       "                                                                                                      &#x27;antes&#x27;,\n",
       "                                                                                                      &#x27;como&#x27;,\n",
       "                                                                                                      &#x27;con&#x27;,\n",
       "                                                                                                      &#x27;contra&#x27;,\n",
       "                                                                                                      &#x27;cual&#x27;,\n",
       "                                                                                                      &#x27;cuando&#x27;,\n",
       "                                                                                                      &#x27;de&#x27;,\n",
       "                                                                                                      &#x27;del&#x27;,\n",
       "                                                                                                      &#x27;desde&#x27;,\n",
       "                                                                                                      &#x27;donde&#x27;,\n",
       "                                                                                                      &#x27;durante&#x27;,\n",
       "                                                                                                      &#x27;e&#x27;,\n",
       "                                                                                                      &#x27;el&#x27;,\n",
       "                                                                                                      &#x27;ella&#x27;,\n",
       "                                                                                                      &#x27;ellas&#x27;,\n",
       "                                                                                                      &#x27;ellos&#x27;,\n",
       "                                                                                                      &#x27;en&#x27;,\n",
       "                                                                                                      &#x27;entre&#x27;,\n",
       "                                                                                                      &#x27;era&#x27;,\n",
       "                                                                                                      &#x27;erais&#x27;,\n",
       "                                                                                                      &#x27;eramos&#x27;,\n",
       "                                                                                                      &#x27;eran&#x27;,\n",
       "                                                                                                      &#x27;eras&#x27;,\n",
       "                                                                                                      &#x27;e...\n",
       "                                                          85, 90, 95, 100, 105,\n",
       "                                                          110, 115, 120, 125,\n",
       "                                                          130, 135, 140, 145],\n",
       "                             &#x27;random-forest__min_samples_leaf&#x27;: [4, 5, 6, 7, 8,\n",
       "                                                                 9, 10, 11, 12,\n",
       "                                                                 13, 14, 15, 16,\n",
       "                                                                 17, 18, 19],\n",
       "                             &#x27;random-forest__min_samples_split&#x27;: [4, 5, 6, 7, 8,\n",
       "                                                                  9, 10, 11, 12,\n",
       "                                                                  13, 14, 15,\n",
       "                                                                  16, 17, 18,\n",
       "                                                                  19],\n",
       "                             &#x27;random-forest__n_estimators&#x27;: [50, 60, 70, 80, 90,\n",
       "                                                             100, 110, 120, 130,\n",
       "                                                             140, 150, 160, 170,\n",
       "                                                             180, 190, 200, 210,\n",
       "                                                             220, 230, 240, 250,\n",
       "                                                             260, 270, 280, 290,\n",
       "                                                             300, 310, 320, 330,\n",
       "                                                             340, ...]})</pre><b>In a Jupyter environment, please rerun this cell to show the HTML representation or trust the notebook. <br />On GitHub, the HTML representation is unable to render, please try loading this page with nbviewer.org.</b></div><div class=\"sk-container\" hidden><div class=\"sk-item sk-dashed-wrapped\"><div class=\"sk-label-container\"><div class=\"sk-label sk-toggleable\"><input class=\"sk-toggleable__control sk-hidden--visually\" id=\"sk-estimator-id-1\" type=\"checkbox\" ><label for=\"sk-estimator-id-1\" class=\"sk-toggleable__label sk-toggleable__label-arrow\">BayesSearchCV</label><div class=\"sk-toggleable__content\"><pre>BayesSearchCV(cv=5,\n",
       "              estimator=Pipeline(steps=[(&#x27;preprocessor&#x27;,\n",
       "                                         ColumnTransformer(transformers=[(&#x27;tfidfvectorizer&#x27;,\n",
       "                                                                          TfidfVectorizer(stop_words=[&#x27;a&#x27;,\n",
       "                                                                                                      &#x27;al&#x27;,\n",
       "                                                                                                      &#x27;algo&#x27;,\n",
       "                                                                                                      &#x27;algunas&#x27;,\n",
       "                                                                                                      &#x27;algunos&#x27;,\n",
       "                                                                                                      &#x27;ante&#x27;,\n",
       "                                                                                                      &#x27;antes&#x27;,\n",
       "                                                                                                      &#x27;como&#x27;,\n",
       "                                                                                                      &#x27;con&#x27;,\n",
       "                                                                                                      &#x27;contra&#x27;,\n",
       "                                                                                                      &#x27;cual&#x27;,\n",
       "                                                                                                      &#x27;cuando&#x27;,\n",
       "                                                                                                      &#x27;de&#x27;,\n",
       "                                                                                                      &#x27;del&#x27;,\n",
       "                                                                                                      &#x27;desde&#x27;,\n",
       "                                                                                                      &#x27;donde&#x27;,\n",
       "                                                                                                      &#x27;durante&#x27;,\n",
       "                                                                                                      &#x27;e&#x27;,\n",
       "                                                                                                      &#x27;el&#x27;,\n",
       "                                                                                                      &#x27;ella&#x27;,\n",
       "                                                                                                      &#x27;ellas&#x27;,\n",
       "                                                                                                      &#x27;ellos&#x27;,\n",
       "                                                                                                      &#x27;en&#x27;,\n",
       "                                                                                                      &#x27;entre&#x27;,\n",
       "                                                                                                      &#x27;era&#x27;,\n",
       "                                                                                                      &#x27;erais&#x27;,\n",
       "                                                                                                      &#x27;eramos&#x27;,\n",
       "                                                                                                      &#x27;eran&#x27;,\n",
       "                                                                                                      &#x27;eras&#x27;,\n",
       "                                                                                                      &#x27;e...\n",
       "                                                          85, 90, 95, 100, 105,\n",
       "                                                          110, 115, 120, 125,\n",
       "                                                          130, 135, 140, 145],\n",
       "                             &#x27;random-forest__min_samples_leaf&#x27;: [4, 5, 6, 7, 8,\n",
       "                                                                 9, 10, 11, 12,\n",
       "                                                                 13, 14, 15, 16,\n",
       "                                                                 17, 18, 19],\n",
       "                             &#x27;random-forest__min_samples_split&#x27;: [4, 5, 6, 7, 8,\n",
       "                                                                  9, 10, 11, 12,\n",
       "                                                                  13, 14, 15,\n",
       "                                                                  16, 17, 18,\n",
       "                                                                  19],\n",
       "                             &#x27;random-forest__n_estimators&#x27;: [50, 60, 70, 80, 90,\n",
       "                                                             100, 110, 120, 130,\n",
       "                                                             140, 150, 160, 170,\n",
       "                                                             180, 190, 200, 210,\n",
       "                                                             220, 230, 240, 250,\n",
       "                                                             260, 270, 280, 290,\n",
       "                                                             300, 310, 320, 330,\n",
       "                                                             340, ...]})</pre></div></div></div><div class=\"sk-parallel\"><div class=\"sk-parallel-item\"><div class=\"sk-item\"><div class=\"sk-label-container\"><div class=\"sk-label sk-toggleable\"><input class=\"sk-toggleable__control sk-hidden--visually\" id=\"sk-estimator-id-2\" type=\"checkbox\" ><label for=\"sk-estimator-id-2\" class=\"sk-toggleable__label sk-toggleable__label-arrow\">estimator: Pipeline</label><div class=\"sk-toggleable__content\"><pre>Pipeline(steps=[(&#x27;preprocessor&#x27;,\n",
       "                 ColumnTransformer(transformers=[(&#x27;tfidfvectorizer&#x27;,\n",
       "                                                  TfidfVectorizer(stop_words=[&#x27;a&#x27;,\n",
       "                                                                              &#x27;al&#x27;,\n",
       "                                                                              &#x27;algo&#x27;,\n",
       "                                                                              &#x27;algunas&#x27;,\n",
       "                                                                              &#x27;algunos&#x27;,\n",
       "                                                                              &#x27;ante&#x27;,\n",
       "                                                                              &#x27;antes&#x27;,\n",
       "                                                                              &#x27;como&#x27;,\n",
       "                                                                              &#x27;con&#x27;,\n",
       "                                                                              &#x27;contra&#x27;,\n",
       "                                                                              &#x27;cual&#x27;,\n",
       "                                                                              &#x27;cuando&#x27;,\n",
       "                                                                              &#x27;de&#x27;,\n",
       "                                                                              &#x27;del&#x27;,\n",
       "                                                                              &#x27;desde&#x27;,\n",
       "                                                                              &#x27;donde&#x27;,\n",
       "                                                                              &#x27;durante&#x27;,\n",
       "                                                                              &#x27;e&#x27;,\n",
       "                                                                              &#x27;el&#x27;,\n",
       "                                                                              &#x27;ella&#x27;,\n",
       "                                                                              &#x27;ellas&#x27;,\n",
       "                                                                              &#x27;ellos&#x27;,\n",
       "                                                                              &#x27;en&#x27;,\n",
       "                                                                              &#x27;entre&#x27;,\n",
       "                                                                              &#x27;era&#x27;,\n",
       "                                                                              &#x27;erais&#x27;,\n",
       "                                                                              &#x27;eramos&#x27;,\n",
       "                                                                              &#x27;eran&#x27;,\n",
       "                                                                              &#x27;eras&#x27;,\n",
       "                                                                              &#x27;eres&#x27;, ...],\n",
       "                                                                  strip_accents=&#x27;unicode&#x27;,\n",
       "                                                                  sublinear_tf=True),\n",
       "                                                  &#x27;review_es&#x27;)])),\n",
       "                (&#x27;random-forest&#x27;, RandomForestClassifier(n_jobs=-1))])</pre></div></div></div><div class=\"sk-serial\"><div class=\"sk-item\"><div class=\"sk-serial\"><div class=\"sk-item sk-dashed-wrapped\"><div class=\"sk-label-container\"><div class=\"sk-label sk-toggleable\"><input class=\"sk-toggleable__control sk-hidden--visually\" id=\"sk-estimator-id-3\" type=\"checkbox\" ><label for=\"sk-estimator-id-3\" class=\"sk-toggleable__label sk-toggleable__label-arrow\">preprocessor: ColumnTransformer</label><div class=\"sk-toggleable__content\"><pre>ColumnTransformer(transformers=[(&#x27;tfidfvectorizer&#x27;,\n",
       "                                 TfidfVectorizer(stop_words=[&#x27;a&#x27;, &#x27;al&#x27;, &#x27;algo&#x27;,\n",
       "                                                             &#x27;algunas&#x27;,\n",
       "                                                             &#x27;algunos&#x27;, &#x27;ante&#x27;,\n",
       "                                                             &#x27;antes&#x27;, &#x27;como&#x27;,\n",
       "                                                             &#x27;con&#x27;, &#x27;contra&#x27;,\n",
       "                                                             &#x27;cual&#x27;, &#x27;cuando&#x27;,\n",
       "                                                             &#x27;de&#x27;, &#x27;del&#x27;,\n",
       "                                                             &#x27;desde&#x27;, &#x27;donde&#x27;,\n",
       "                                                             &#x27;durante&#x27;, &#x27;e&#x27;,\n",
       "                                                             &#x27;el&#x27;, &#x27;ella&#x27;,\n",
       "                                                             &#x27;ellas&#x27;, &#x27;ellos&#x27;,\n",
       "                                                             &#x27;en&#x27;, &#x27;entre&#x27;,\n",
       "                                                             &#x27;era&#x27;, &#x27;erais&#x27;,\n",
       "                                                             &#x27;eramos&#x27;, &#x27;eran&#x27;,\n",
       "                                                             &#x27;eras&#x27;, &#x27;eres&#x27;, ...],\n",
       "                                                 strip_accents=&#x27;unicode&#x27;,\n",
       "                                                 sublinear_tf=True),\n",
       "                                 &#x27;review_es&#x27;)])</pre></div></div></div><div class=\"sk-parallel\"><div class=\"sk-parallel-item\"><div class=\"sk-item\"><div class=\"sk-label-container\"><div class=\"sk-label sk-toggleable\"><input class=\"sk-toggleable__control sk-hidden--visually\" id=\"sk-estimator-id-4\" type=\"checkbox\" ><label for=\"sk-estimator-id-4\" class=\"sk-toggleable__label sk-toggleable__label-arrow\">tfidfvectorizer</label><div class=\"sk-toggleable__content\"><pre>review_es</pre></div></div></div><div class=\"sk-serial\"><div class=\"sk-item\"><div class=\"sk-estimator sk-toggleable\"><input class=\"sk-toggleable__control sk-hidden--visually\" id=\"sk-estimator-id-5\" type=\"checkbox\" ><label for=\"sk-estimator-id-5\" class=\"sk-toggleable__label sk-toggleable__label-arrow\">TfidfVectorizer</label><div class=\"sk-toggleable__content\"><pre>TfidfVectorizer(stop_words=[&#x27;a&#x27;, &#x27;al&#x27;, &#x27;algo&#x27;, &#x27;algunas&#x27;, &#x27;algunos&#x27;, &#x27;ante&#x27;,\n",
       "                            &#x27;antes&#x27;, &#x27;como&#x27;, &#x27;con&#x27;, &#x27;contra&#x27;, &#x27;cual&#x27;, &#x27;cuando&#x27;,\n",
       "                            &#x27;de&#x27;, &#x27;del&#x27;, &#x27;desde&#x27;, &#x27;donde&#x27;, &#x27;durante&#x27;, &#x27;e&#x27;, &#x27;el&#x27;,\n",
       "                            &#x27;ella&#x27;, &#x27;ellas&#x27;, &#x27;ellos&#x27;, &#x27;en&#x27;, &#x27;entre&#x27;, &#x27;era&#x27;,\n",
       "                            &#x27;erais&#x27;, &#x27;eramos&#x27;, &#x27;eran&#x27;, &#x27;eras&#x27;, &#x27;eres&#x27;, ...],\n",
       "                strip_accents=&#x27;unicode&#x27;, sublinear_tf=True)</pre></div></div></div></div></div></div></div></div><div class=\"sk-item\"><div class=\"sk-estimator sk-toggleable\"><input class=\"sk-toggleable__control sk-hidden--visually\" id=\"sk-estimator-id-6\" type=\"checkbox\" ><label for=\"sk-estimator-id-6\" class=\"sk-toggleable__label sk-toggleable__label-arrow\">RandomForestClassifier</label><div class=\"sk-toggleable__content\"><pre>RandomForestClassifier(n_jobs=-1)</pre></div></div></div></div></div></div></div></div></div></div></div></div>"
      ],
      "text/plain": [
       "BayesSearchCV(cv=5,\n",
       "              estimator=Pipeline(steps=[('preprocessor',\n",
       "                                         ColumnTransformer(transformers=[('tfidfvectorizer',\n",
       "                                                                          TfidfVectorizer(stop_words=['a',\n",
       "                                                                                                      'al',\n",
       "                                                                                                      'algo',\n",
       "                                                                                                      'algunas',\n",
       "                                                                                                      'algunos',\n",
       "                                                                                                      'ante',\n",
       "                                                                                                      'antes',\n",
       "                                                                                                      'como',\n",
       "                                                                                                      'con',\n",
       "                                                                                                      'contra',\n",
       "                                                                                                      'cual',\n",
       "                                                                                                      'cuando',\n",
       "                                                                                                      'de',\n",
       "                                                                                                      'del',\n",
       "                                                                                                      'desde',\n",
       "                                                                                                      'donde',\n",
       "                                                                                                      'durante',\n",
       "                                                                                                      'e',\n",
       "                                                                                                      'el',\n",
       "                                                                                                      'ella',\n",
       "                                                                                                      'ellas',\n",
       "                                                                                                      'ellos',\n",
       "                                                                                                      'en',\n",
       "                                                                                                      'entre',\n",
       "                                                                                                      'era',\n",
       "                                                                                                      'erais',\n",
       "                                                                                                      'eramos',\n",
       "                                                                                                      'eran',\n",
       "                                                                                                      'eras',\n",
       "                                                                                                      'e...\n",
       "                                                          85, 90, 95, 100, 105,\n",
       "                                                          110, 115, 120, 125,\n",
       "                                                          130, 135, 140, 145],\n",
       "                             'random-forest__min_samples_leaf': [4, 5, 6, 7, 8,\n",
       "                                                                 9, 10, 11, 12,\n",
       "                                                                 13, 14, 15, 16,\n",
       "                                                                 17, 18, 19],\n",
       "                             'random-forest__min_samples_split': [4, 5, 6, 7, 8,\n",
       "                                                                  9, 10, 11, 12,\n",
       "                                                                  13, 14, 15,\n",
       "                                                                  16, 17, 18,\n",
       "                                                                  19],\n",
       "                             'random-forest__n_estimators': [50, 60, 70, 80, 90,\n",
       "                                                             100, 110, 120, 130,\n",
       "                                                             140, 150, 160, 170,\n",
       "                                                             180, 190, 200, 210,\n",
       "                                                             220, 230, 240, 250,\n",
       "                                                             260, 270, 280, 290,\n",
       "                                                             300, 310, 320, 330,\n",
       "                                                             340, ...]})"
      ]
     },
     "execution_count": 10,
     "metadata": {},
     "output_type": "execute_result"
    }
   ],
   "source": [
    "# Crear el objeto de preprocesamiento para la columna 'review_es' (olo se aplica tfidfvectorizer a esta columna)\n",
    "preprocessor = ColumnTransformer([\n",
    "    ('tfidfvectorizer', vectorizer,\n",
    "     'review_es')\n",
    "])\n",
    "\n",
    "# Crear la pipeline con preprocesamiento y el modelo RandomForest\n",
    "model = Pipeline([\n",
    "    ('preprocessor', preprocessor),\n",
    "    ('random-forest', RandomForestClassifier(max_features=\"sqrt\",\n",
    "                                             criterion=\"gini\",\n",
    "#                                              max_depth=38,\n",
    "#                                              min_samples_leaf=7,\n",
    "#                                              min_samples_split=6,\n",
    "#                                              n_estimators=184,\n",
    "                                             n_jobs=-1,\n",
    "                                            ))\n",
    "])\n",
    "\n",
    "# Cantidad de combinaciones\n",
    "n=5\n",
    "\n",
    "# Definir los espacios de búsqueda de hiperparámetros\n",
    "# Conjunto de rangos a optimizar cada parámetro\n",
    "param_space = {\n",
    "    'random-forest__ccp_alpha': np.linspace(0.000065, 0.0001, 20),\n",
    "    'random-forest__min_samples_leaf': list(range(4, 20)),\n",
    "    'random-forest__min_samples_split': list(range(4, 20)), \n",
    "    'random-forest__max_depth': list(range(10, 150, 5)),\n",
    "    'random-forest__n_estimators': list(range(50, 600, 10)),\n",
    "}\n",
    "\n",
    "# Aplicar la optimización bayesiana\n",
    "model_opt = BayesSearchCV(model, param_space, scoring='f1', cv=5, n_iter=n)\n",
    "model_opt.fit(X_train, y_train)"
   ]
  },
  {
   "cell_type": "code",
   "execution_count": 11,
   "id": "6e0b5a0c",
   "metadata": {
    "execution": {
     "iopub.execute_input": "2023-06-16T15:38:20.651266Z",
     "iopub.status.busy": "2023-06-16T15:38:20.650844Z",
     "iopub.status.idle": "2023-06-16T15:38:20.657126Z",
     "shell.execute_reply": "2023-06-16T15:38:20.656016Z"
    },
    "papermill": {
     "duration": 0.024152,
     "end_time": "2023-06-16T15:38:20.659864",
     "exception": false,
     "start_time": "2023-06-16T15:38:20.635712",
     "status": "completed"
    },
    "tags": []
   },
   "outputs": [
    {
     "name": "stdout",
     "output_type": "stream",
     "text": [
      "Mejores hiperparámetros:  OrderedDict([('random-forest__ccp_alpha', 8.157894736842105e-05), ('random-forest__max_depth', 120), ('random-forest__min_samples_leaf', 7), ('random-forest__min_samples_split', 12), ('random-forest__n_estimators', 590)])\n",
      "Mejor F1-score:  0.8511761900896044\n"
     ]
    }
   ],
   "source": [
    "print('Mejores hiperparámetros: ', model_opt.best_params_)\n",
    "print('Mejor F1-score: ', model_opt.best_score_)"
   ]
  },
  {
   "cell_type": "code",
   "execution_count": 12,
   "id": "fe6b49a3",
   "metadata": {
    "execution": {
     "iopub.execute_input": "2023-06-16T15:38:20.688964Z",
     "iopub.status.busy": "2023-06-16T15:38:20.688514Z",
     "iopub.status.idle": "2023-06-16T15:38:20.695553Z",
     "shell.execute_reply": "2023-06-16T15:38:20.694735Z"
    },
    "papermill": {
     "duration": 0.024426,
     "end_time": "2023-06-16T15:38:20.697960",
     "exception": false,
     "start_time": "2023-06-16T15:38:20.673534",
     "status": "completed"
    },
    "tags": []
   },
   "outputs": [
    {
     "data": {
      "text/plain": [
       "array([0.84390787, 0.83941224, 0.85117619, 0.84377989, 0.84635734])"
      ]
     },
     "execution_count": 12,
     "metadata": {},
     "output_type": "execute_result"
    }
   ],
   "source": [
    "# Cada valor representa F1 score, la cantidad varia por el parametro n\n",
    "model_opt.cv_results_['mean_test_score']"
   ]
  },
  {
   "cell_type": "code",
   "execution_count": 13,
   "id": "5b27991b",
   "metadata": {
    "execution": {
     "iopub.execute_input": "2023-06-16T15:38:20.728089Z",
     "iopub.status.busy": "2023-06-16T15:38:20.727435Z",
     "iopub.status.idle": "2023-06-16T15:38:28.626351Z",
     "shell.execute_reply": "2023-06-16T15:38:28.625484Z"
    },
    "papermill": {
     "duration": 7.916542,
     "end_time": "2023-06-16T15:38:28.628807",
     "exception": false,
     "start_time": "2023-06-16T15:38:20.712265",
     "status": "completed"
    },
    "tags": []
   },
   "outputs": [
    {
     "name": "stdout",
     "output_type": "stream",
     "text": [
      "F1-score en datos de prueba: 0.8560965954077593\n",
      "Exactitud en datos de prueba: 0.8546\n"
     ]
    }
   ],
   "source": [
    "# Predecir con los mejores hiperparámetros\n",
    "y_pred = model_opt.predict(X_test)\n",
    "\n",
    "# Calcular el f1-score en los datos de prueba\n",
    "f1 = f1_score(y_test, y_pred)\n",
    "print(\"F1-score en datos de prueba:\", f1)\n",
    "\n",
    "# Calcular la exactitud en los datos de prueba\n",
    "acc = accuracy_score(y_test, y_pred)\n",
    "print(\"Exactitud en datos de prueba:\", acc)"
   ]
  },
  {
   "cell_type": "code",
   "execution_count": 14,
   "id": "6663db81",
   "metadata": {
    "execution": {
     "iopub.execute_input": "2023-06-16T15:38:28.659175Z",
     "iopub.status.busy": "2023-06-16T15:38:28.658356Z",
     "iopub.status.idle": "2023-06-16T15:38:28.664130Z",
     "shell.execute_reply": "2023-06-16T15:38:28.663158Z"
    },
    "papermill": {
     "duration": 0.023377,
     "end_time": "2023-06-16T15:38:28.666484",
     "exception": false,
     "start_time": "2023-06-16T15:38:28.643107",
     "status": "completed"
    },
    "tags": []
   },
   "outputs": [],
   "source": [
    "# TODO: no ejecutar todos los prints juntos, puede ralentizar la notebook\n",
    "\n",
    "# vectorizer.fit_transform(X_train['review_es'])\n",
    "\n",
    "# Imprimimos el vocabulario\n",
    "# print(vectorizer.vocabulary_) # Devuelve un diccionario con el vocabulario, donde la clave es la palabra y el valor es el índice\n",
    "\n",
    "# Contamos la cantidad de apariciones de cada palabra en el corpus\n",
    "# print(vectorizer.idf_) # Devuelve un array donde cada elemento es el idf de la palabra cuyo índice coincide con el elemento\n",
    "\n",
    "# Imprimimos la matriz de frecuencias\n",
    "# print(fid.toarray())\n",
    "\n",
    "# Contamos la cantidad de palabras en el vocabulario\n",
    "# print('Longitud del vocabulario completo: {}'.format(len(vectorizer.vocabulary_)))"
   ]
  },
  {
   "cell_type": "markdown",
   "id": "37853f23",
   "metadata": {
    "papermill": {
     "duration": 0.013319,
     "end_time": "2023-06-16T15:38:28.693492",
     "exception": false,
     "start_time": "2023-06-16T15:38:28.680173",
     "status": "completed"
    },
    "tags": []
   },
   "source": [
    "Longitud del vocabulario completo para unigrama es: 154146"
   ]
  },
  {
   "cell_type": "markdown",
   "id": "2267e37d",
   "metadata": {
    "papermill": {
     "duration": 0.01401,
     "end_time": "2023-06-16T15:38:28.721238",
     "exception": false,
     "start_time": "2023-06-16T15:38:28.707228",
     "status": "completed"
    },
    "tags": []
   },
   "source": [
    "### Analisis del modelo"
   ]
  },
  {
   "cell_type": "code",
   "execution_count": 15,
   "id": "e25e9460",
   "metadata": {
    "execution": {
     "iopub.execute_input": "2023-06-16T15:38:28.751310Z",
     "iopub.status.busy": "2023-06-16T15:38:28.750453Z",
     "iopub.status.idle": "2023-06-16T15:38:29.113686Z",
     "shell.execute_reply": "2023-06-16T15:38:29.112578Z"
    },
    "papermill": {
     "duration": 0.381267,
     "end_time": "2023-06-16T15:38:29.116199",
     "exception": false,
     "start_time": "2023-06-16T15:38:28.734932",
     "status": "completed"
    },
    "tags": []
   },
   "outputs": [
    {
     "name": "stdout",
     "output_type": "stream",
     "text": [
      "              precision    recall  f1-score   support\n",
      "\n",
      "           0       0.86      0.84      0.85      5000\n",
      "           1       0.85      0.86      0.86      5000\n",
      "\n",
      "    accuracy                           0.85     10000\n",
      "   macro avg       0.85      0.85      0.85     10000\n",
      "weighted avg       0.85      0.85      0.85     10000\n",
      "\n"
     ]
    },
    {
     "data": {
      "image/png": "[encoded data removed]",
      "text/plain": [
       "<Figure size 640x480 with 2 Axes>"
      ]
     },
     "metadata": {},
     "output_type": "display_data"
    }
   ],
   "source": [
    "# Obtener la matriz de confusión\n",
    "cm = confusion_matrix(y_test, y_pred)\n",
    "\n",
    "# Reporte y Matriz de Confusion\n",
    "print(classification_report(y_test, y_pred))\n",
    "\n",
    "# Definir colores\n",
    "color_start = \"#fff\"\n",
    "color_end = \"#aa0065\"\n",
    "\n",
    "# Definir el mapa de colores personalizado con un degradado suave\n",
    "cmap_colors = [color_start, color_end]\n",
    "cmap = LinearSegmentedColormap.from_list(\"Custom\", cmap_colors)\n",
    "\n",
    "# Graficar la matriz de confusión con el mapa de colores personalizado\n",
    "sns.heatmap(cm, cmap=cmap, annot=True, fmt='d', cbar=True)\n",
    "plt.title(\"Matriz de confusión - Random Forest\")\n",
    "plt.xlabel('Predicted')\n",
    "plt.ylabel('True')\n",
    "plt.show()"
   ]
  },
  {
   "cell_type": "code",
   "execution_count": 16,
   "id": "808f7d37",
   "metadata": {
    "execution": {
     "iopub.execute_input": "2023-06-16T15:38:29.147013Z",
     "iopub.status.busy": "2023-06-16T15:38:29.146554Z",
     "iopub.status.idle": "2023-06-16T15:38:29.152853Z",
     "shell.execute_reply": "2023-06-16T15:38:29.151843Z"
    },
    "papermill": {
     "duration": 0.024525,
     "end_time": "2023-06-16T15:38:29.155019",
     "exception": false,
     "start_time": "2023-06-16T15:38:29.130494",
     "status": "completed"
    },
    "tags": []
   },
   "outputs": [],
   "source": [
    "# Mapear las etiquetas a valores numéricos para usar AUC\n",
    "y_test_bin = y_test.replace(['positivo', 'negativo'], [1, 0])\n",
    "\n",
    "# Convertir a Series para poder usar replace\n",
    "y_pred_bin = pd.Series(y_pred).replace(['positivo', 'negativo'], [1, 0]) \n",
    "\n",
    "# Alternativa con numpy\n",
    "# y_pred_bin = np.where(y_pred == 'positivo', 1, 0)"
   ]
  },
  {
   "cell_type": "code",
   "execution_count": 17,
   "id": "543ca655",
   "metadata": {
    "execution": {
     "iopub.execute_input": "2023-06-16T15:38:29.185539Z",
     "iopub.status.busy": "2023-06-16T15:38:29.185149Z",
     "iopub.status.idle": "2023-06-16T15:38:29.485269Z",
     "shell.execute_reply": "2023-06-16T15:38:29.484214Z"
    },
    "papermill": {
     "duration": 0.318547,
     "end_time": "2023-06-16T15:38:29.487879",
     "exception": false,
     "start_time": "2023-06-16T15:38:29.169332",
     "status": "completed"
    },
    "tags": []
   },
   "outputs": [
    {
     "data": {
      "image/png": "[encoded data removed]",
      "text/plain": [
       "<Figure size 640x480 with 1 Axes>"
      ]
     },
     "metadata": {},
     "output_type": "display_data"
    }
   ],
   "source": [
    "fpr, tpr, _ = roc_curve(y_test_bin, y_pred_bin) # FPR y TPR son acrónimos de \"False Positive Rate\" y \"True Positive Rate\"\n",
    "roc_auc = roc_auc_score(y_test_bin, y_pred_bin)\n",
    "\n",
    "roc_display = RocCurveDisplay(fpr=fpr, tpr=tpr, roc_auc=roc_auc, estimator_name='Random Forest').plot()\n",
    "plt.title(\"Curva ROC\")\n",
    "plt.legend(loc=\"lower right\")  # agregar leyenda en la esquina inferior derecha\n",
    "plt.show()"
   ]
  },
  {
   "cell_type": "markdown",
   "id": "f971b94e",
   "metadata": {
    "papermill": {
     "duration": 0.015028,
     "end_time": "2023-06-16T15:38:29.517745",
     "exception": false,
     "start_time": "2023-06-16T15:38:29.502717",
     "status": "completed"
    },
    "tags": []
   },
   "source": [
    "### Validación con K-Fold Cross-Validation"
   ]
  },
  {
   "cell_type": "code",
   "execution_count": 18,
   "id": "b95a3ff7",
   "metadata": {
    "execution": {
     "iopub.execute_input": "2023-06-16T15:38:29.550073Z",
     "iopub.status.busy": "2023-06-16T15:38:29.549339Z",
     "iopub.status.idle": "2023-06-16T17:05:46.073577Z",
     "shell.execute_reply": "2023-06-16T17:05:46.071393Z"
    },
    "papermill": {
     "duration": 5236.562061,
     "end_time": "2023-06-16T17:05:46.094917",
     "exception": false,
     "start_time": "2023-06-16T15:38:29.532856",
     "status": "completed"
    },
    "tags": []
   },
   "outputs": [
    {
     "name": "stderr",
     "output_type": "stream",
     "text": [
      "[Parallel(n_jobs=-1)]: Using backend LokyBackend with 4 concurrent workers.\n",
      "/opt/conda/lib/python3.10/site-packages/joblib/externals/loky/process_executor.py:700: UserWarning: A worker stopped while some jobs were given to the executor. This can be caused by a too short worker timeout or by a memory leak.\n",
      "  warnings.warn(\n",
      "[Parallel(n_jobs=-1)]: Done  10 out of  10 | elapsed: 87.3min finished\n"
     ]
    }
   ],
   "source": [
    "scores = evaluate_model(model_opt, X_train, y_train, 5, 2, 'f1')\n",
    "# scores = model_opt.cv_results_['mean_test_score']"
   ]
  },
  {
   "cell_type": "code",
   "execution_count": 19,
   "id": "2aa2baa6",
   "metadata": {
    "execution": {
     "iopub.execute_input": "2023-06-16T17:05:46.129153Z",
     "iopub.status.busy": "2023-06-16T17:05:46.128374Z",
     "iopub.status.idle": "2023-06-16T17:05:46.145084Z",
     "shell.execute_reply": "2023-06-16T17:05:46.143718Z"
    },
    "papermill": {
     "duration": 0.037702,
     "end_time": "2023-06-16T17:05:46.147850",
     "exception": false,
     "start_time": "2023-06-16T17:05:46.110148",
     "status": "completed"
    },
    "tags": []
   },
   "outputs": [
    {
     "name": "stdout",
     "output_type": "stream",
     "text": [
      "F1-score media: 0.8484\n"
     ]
    },
    {
     "data": {
      "text/plain": [
       "array([0.84702374, 0.8449707 , 0.84626866, 0.8570363 , 0.84504987,\n",
       "       0.84514044, 0.85134137, 0.8519955 , 0.8519802 , 0.8432845 ])"
      ]
     },
     "execution_count": 19,
     "metadata": {},
     "output_type": "execute_result"
    }
   ],
   "source": [
    "print('F1-score media: %.4f' % np.mean(scores))\n",
    "scores"
   ]
  },
  {
   "cell_type": "code",
   "execution_count": 20,
   "id": "d315251e",
   "metadata": {
    "execution": {
     "iopub.execute_input": "2023-06-16T17:05:46.181098Z",
     "iopub.status.busy": "2023-06-16T17:05:46.180546Z",
     "iopub.status.idle": "2023-06-16T17:05:46.470929Z",
     "shell.execute_reply": "2023-06-16T17:05:46.469498Z"
    },
    "papermill": {
     "duration": 0.311059,
     "end_time": "2023-06-16T17:05:46.474134",
     "exception": false,
     "start_time": "2023-06-16T17:05:46.163075",
     "status": "completed"
    },
    "tags": []
   },
   "outputs": [
    {
     "data": {
      "image/png": "[encoded data removed]",
      "text/plain": [
       "<Figure size 640x480 with 1 Axes>"
      ]
     },
     "metadata": {},
     "output_type": "display_data"
    }
   ],
   "source": [
    "# Boxplot de los resultados\n",
    "plt.boxplot(scores)\n",
    "plt.title(\"Boxplot de Validación Cruzada\")\n",
    "plt.text(0.97, 0.05, 'F1-score media: {:.3f}'.format(np.mean(scores)),\n",
    "         transform=plt.gca().transAxes, ha='right')\n",
    "plt.show()"
   ]
  },
  {
   "cell_type": "markdown",
   "id": "c0110d2d",
   "metadata": {
    "papermill": {
     "duration": 0.016828,
     "end_time": "2023-06-16T17:05:46.508084",
     "exception": false,
     "start_time": "2023-06-16T17:05:46.491256",
     "status": "completed"
    },
    "tags": []
   },
   "source": [
    "\n",
    "## Aplicación del modelo al dataset de test"
   ]
  },
  {
   "cell_type": "markdown",
   "id": "d9608757",
   "metadata": {
    "papermill": {
     "duration": 0.016954,
     "end_time": "2023-06-16T17:05:46.542346",
     "exception": false,
     "start_time": "2023-06-16T17:05:46.525392",
     "status": "completed"
    },
    "tags": []
   },
   "source": [
    "Lectura del dataset de test original para mantener id:"
   ]
  },
  {
   "cell_type": "code",
   "execution_count": 21,
   "id": "22535cd1",
   "metadata": {
    "execution": {
     "iopub.execute_input": "2023-06-16T17:05:46.578942Z",
     "iopub.status.busy": "2023-06-16T17:05:46.578149Z",
     "iopub.status.idle": "2023-06-16T17:05:47.013095Z",
     "shell.execute_reply": "2023-06-16T17:05:47.011142Z"
    },
    "papermill": {
     "duration": 0.457882,
     "end_time": "2023-06-16T17:05:47.016311",
     "exception": false,
     "start_time": "2023-06-16T17:05:46.558429",
     "status": "completed"
    },
    "tags": []
   },
   "outputs": [],
   "source": [
    "df_test = pd.read_csv('../input/dataset/test_preprocesado.csv', sep=',', header=0)"
   ]
  },
  {
   "cell_type": "code",
   "execution_count": 22,
   "id": "19ba6a39",
   "metadata": {
    "execution": {
     "iopub.execute_input": "2023-06-16T17:05:47.052688Z",
     "iopub.status.busy": "2023-06-16T17:05:47.052210Z",
     "iopub.status.idle": "2023-06-16T17:05:53.219781Z",
     "shell.execute_reply": "2023-06-16T17:05:53.218207Z"
    },
    "papermill": {
     "duration": 6.190105,
     "end_time": "2023-06-16T17:05:53.223209",
     "exception": false,
     "start_time": "2023-06-16T17:05:47.033104",
     "status": "completed"
    },
    "tags": []
   },
   "outputs": [],
   "source": [
    "y_pred_final = model_opt.predict(df_test[features])"
   ]
  },
  {
   "cell_type": "code",
   "execution_count": 23,
   "id": "50c01865",
   "metadata": {
    "execution": {
     "iopub.execute_input": "2023-06-16T17:05:53.259251Z",
     "iopub.status.busy": "2023-06-16T17:05:53.258866Z",
     "iopub.status.idle": "2023-06-16T17:05:53.266862Z",
     "shell.execute_reply": "2023-06-16T17:05:53.265507Z"
    },
    "papermill": {
     "duration": 0.02831,
     "end_time": "2023-06-16T17:05:53.269258",
     "exception": false,
     "start_time": "2023-06-16T17:05:53.240948",
     "status": "completed"
    },
    "tags": []
   },
   "outputs": [
    {
     "name": "stdout",
     "output_type": "stream",
     "text": [
      "Resultado de la predicción: \n",
      "Positivos:  5378\n",
      "Negativos:  3221\n"
     ]
    }
   ],
   "source": [
    "# Mapear etiquetas a valores numéricos\n",
    "# label_mapping = {'negativo': 0, 'positivo': 1}\n",
    "# y_pred_final_numeric = np.array([label_mapping[label] for label in y_pred_final])\n",
    "\n",
    "# Calcular las frecuencias\n",
    "counts = np.bincount(y_pred_final)\n",
    "count_1 = counts[1]  # Frecuencia de positivos\n",
    "count_0 = counts[0]  # Frecuencia de negativos\n",
    "\n",
    "print(\"Resultado de la predicción: \")\n",
    "print(\"Positivos: \", count_1)\n",
    "print(\"Negativos: \", count_0)"
   ]
  },
  {
   "cell_type": "code",
   "execution_count": 24,
   "id": "daf23425",
   "metadata": {
    "execution": {
     "iopub.execute_input": "2023-06-16T17:05:53.418487Z",
     "iopub.status.busy": "2023-06-16T17:05:53.418018Z",
     "iopub.status.idle": "2023-06-16T17:05:53.424893Z",
     "shell.execute_reply": "2023-06-16T17:05:53.423323Z"
    },
    "papermill": {
     "duration": 0.027759,
     "end_time": "2023-06-16T17:05:53.427912",
     "exception": false,
     "start_time": "2023-06-16T17:05:53.400153",
     "status": "completed"
    },
    "tags": []
   },
   "outputs": [],
   "source": [
    "# Mapeo de prediccion numerica a etiqueta (positivo, negativo)\n",
    "y_pred_final = np.where(y_pred_final == 1, 'positivo', 'negativo')"
   ]
  },
  {
   "cell_type": "code",
   "execution_count": 25,
   "id": "9305e147",
   "metadata": {
    "execution": {
     "iopub.execute_input": "2023-06-16T17:05:53.462843Z",
     "iopub.status.busy": "2023-06-16T17:05:53.462350Z",
     "iopub.status.idle": "2023-06-16T17:05:53.520598Z",
     "shell.execute_reply": "2023-06-16T17:05:53.519080Z"
    },
    "papermill": {
     "duration": 0.079472,
     "end_time": "2023-06-16T17:05:53.523750",
     "exception": false,
     "start_time": "2023-06-16T17:05:53.444278",
     "status": "completed"
    },
    "tags": []
   },
   "outputs": [],
   "source": [
    "pd.concat([df_test['ID'],pd.DataFrame(data=y_pred_final, columns=['sentimiento'])], axis=1).to_csv('/kaggle/working/pred_rf.csv', index=False)"
   ]
  },
  {
   "cell_type": "markdown",
   "id": "fa2a8cd9",
   "metadata": {
    "papermill": {
     "duration": 0.015499,
     "end_time": "2023-06-16T17:05:53.555223",
     "exception": false,
     "start_time": "2023-06-16T17:05:53.539724",
     "status": "completed"
    },
    "tags": []
   },
   "source": [
    "## Exportación del modelo"
   ]
  },
  {
   "cell_type": "code",
   "execution_count": 26,
   "id": "4553f1de",
   "metadata": {
    "execution": {
     "iopub.execute_input": "2023-06-16T17:05:53.589345Z",
     "iopub.status.busy": "2023-06-16T17:05:53.588853Z",
     "iopub.status.idle": "2023-06-16T17:05:53.783320Z",
     "shell.execute_reply": "2023-06-16T17:05:53.782149Z"
    },
    "papermill": {
     "duration": 0.214979,
     "end_time": "2023-06-16T17:05:53.786033",
     "exception": false,
     "start_time": "2023-06-16T17:05:53.571054",
     "status": "completed"
    },
    "tags": []
   },
   "outputs": [],
   "source": [
    "dump(model_opt, open('/kaggle/working/modelo_rf.pkl', 'wb'))"
   ]
  }
 ],
 "metadata": {
  "kernelspec": {
   "display_name": "Python 3",
   "language": "python",
   "name": "python3"
  },
  "language_info": {
   "codemirror_mode": {
    "name": "ipython",
    "version": 3
   },
   "file_extension": ".py",
   "mimetype": "text/x-python",
   "name": "python",
   "nbconvert_exporter": "python",
   "pygments_lexer": "ipython3",
   "version": "3.10.10"
  },
  "papermill": {
   "default_parameters": {},
   "duration": 6460.149065,
   "end_time": "2023-06-16T17:05:56.444835",
   "environment_variables": {},
   "exception": null,
   "input_path": "__notebook__.ipynb",
   "output_path": "__notebook__.ipynb",
   "parameters": {},
   "start_time": "2023-06-16T15:18:16.295770",
   "version": "2.4.0"
  }
 },
 "nbformat": 4,
 "nbformat_minor": 5
}
