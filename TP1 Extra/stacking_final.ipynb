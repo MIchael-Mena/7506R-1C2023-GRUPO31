{
  "cells": [
    {
      "cell_type": "markdown",
      "metadata": {
        "id": "kB551kbVVoRJ"
      },
      "source": [
        "## <center><ins>Trabajo Práctico 1: Reservas de hotel</ins></center>\n",
        "#### <center>*Checkpoint 3: Ensambles - Stacking y Voting*</center>\n",
        "##### <center>75.06 / 95.58 Organización de Datos - FIUBA</center>\n",
        "##### <center>Ing. Rodríguez - 1°C 2023</center>\n",
        "---\n",
        "#### <center>**Grupo 31 - \"Datazo\":**</center>\n",
        "<center> Michael Mena - 102685</center>\n",
        "<center>Pablo Brocca - 104256</center>\n",
        "<center>Diego Kisinovsky - 106203</center>"
      ]
    },
    {
      "cell_type": "markdown",
      "metadata": {
        "id": "CruSvDnmVoRK"
      },
      "source": [
        "---\n",
        "---"
      ]
    },
    {
      "cell_type": "markdown",
      "metadata": {
        "id": "gSUHn73PVoRM"
      },
      "source": [
        "## Carga de datos y librerías"
      ]
    },
    {
      "cell_type": "code",
      "source": [
        "!pip install scikeras"
      ],
      "metadata": {
        "colab": {
          "base_uri": "https://localhost:8080/"
        },
        "id": "zDbxcpNBV-4B",
        "outputId": "0634b1cf-29c7-4807-fe6a-f7cfbb026078"
      },
      "execution_count": null,
      "outputs": [
        {
          "output_type": "stream",
          "name": "stdout",
          "text": [
            "Looking in indexes: https://pypi.org/simple, https://us-python.pkg.dev/colab-wheels/public/simple/\n",
            "Collecting scikeras\n",
            "  Downloading scikeras-0.10.0-py3-none-any.whl (27 kB)\n",
            "Requirement already satisfied: packaging>=0.21 in /usr/local/lib/python3.10/dist-packages (from scikeras) (23.1)\n",
            "Requirement already satisfied: scikit-learn>=1.0.0 in /usr/local/lib/python3.10/dist-packages (from scikeras) (1.2.2)\n",
            "Requirement already satisfied: numpy>=1.17.3 in /usr/local/lib/python3.10/dist-packages (from scikit-learn>=1.0.0->scikeras) (1.22.4)\n",
            "Requirement already satisfied: scipy>=1.3.2 in /usr/local/lib/python3.10/dist-packages (from scikit-learn>=1.0.0->scikeras) (1.10.1)\n",
            "Requirement already satisfied: joblib>=1.1.1 in /usr/local/lib/python3.10/dist-packages (from scikit-learn>=1.0.0->scikeras) (1.2.0)\n",
            "Requirement already satisfied: threadpoolctl>=2.0.0 in /usr/local/lib/python3.10/dist-packages (from scikit-learn>=1.0.0->scikeras) (3.1.0)\n",
            "Installing collected packages: scikeras\n",
            "Successfully installed scikeras-0.10.0\n"
          ]
        }
      ]
    },
    {
      "cell_type": "code",
      "source": [
        "!pip install tensorflow"
      ],
      "metadata": {
        "colab": {
          "base_uri": "https://localhost:8080/"
        },
        "id": "ftQdWNJkWLjA",
        "outputId": "3b61f2ff-4f74-49ac-e120-8c334a2ba009"
      },
      "execution_count": null,
      "outputs": [
        {
          "output_type": "stream",
          "name": "stdout",
          "text": [
            "Looking in indexes: https://pypi.org/simple, https://us-python.pkg.dev/colab-wheels/public/simple/\n",
            "Requirement already satisfied: tensorflow in /usr/local/lib/python3.10/dist-packages (2.12.0)\n",
            "Requirement already satisfied: absl-py>=1.0.0 in /usr/local/lib/python3.10/dist-packages (from tensorflow) (1.4.0)\n",
            "Requirement already satisfied: astunparse>=1.6.0 in /usr/local/lib/python3.10/dist-packages (from tensorflow) (1.6.3)\n",
            "Requirement already satisfied: flatbuffers>=2.0 in /usr/local/lib/python3.10/dist-packages (from tensorflow) (23.3.3)\n",
            "Requirement already satisfied: gast<=0.4.0,>=0.2.1 in /usr/local/lib/python3.10/dist-packages (from tensorflow) (0.4.0)\n",
            "Requirement already satisfied: google-pasta>=0.1.1 in /usr/local/lib/python3.10/dist-packages (from tensorflow) (0.2.0)\n",
            "Requirement already satisfied: grpcio<2.0,>=1.24.3 in /usr/local/lib/python3.10/dist-packages (from tensorflow) (1.54.0)\n",
            "Requirement already satisfied: h5py>=2.9.0 in /usr/local/lib/python3.10/dist-packages (from tensorflow) (3.8.0)\n",
            "Requirement already satisfied: jax>=0.3.15 in /usr/local/lib/python3.10/dist-packages (from tensorflow) (0.4.10)\n",
            "Requirement already satisfied: keras<2.13,>=2.12.0 in /usr/local/lib/python3.10/dist-packages (from tensorflow) (2.12.0)\n",
            "Requirement already satisfied: libclang>=13.0.0 in /usr/local/lib/python3.10/dist-packages (from tensorflow) (16.0.0)\n",
            "Requirement already satisfied: numpy<1.24,>=1.22 in /usr/local/lib/python3.10/dist-packages (from tensorflow) (1.22.4)\n",
            "Requirement already satisfied: opt-einsum>=2.3.2 in /usr/local/lib/python3.10/dist-packages (from tensorflow) (3.3.0)\n",
            "Requirement already satisfied: packaging in /usr/local/lib/python3.10/dist-packages (from tensorflow) (23.1)\n",
            "Requirement already satisfied: protobuf!=4.21.0,!=4.21.1,!=4.21.2,!=4.21.3,!=4.21.4,!=4.21.5,<5.0.0dev,>=3.20.3 in /usr/local/lib/python3.10/dist-packages (from tensorflow) (3.20.3)\n",
            "Requirement already satisfied: setuptools in /usr/local/lib/python3.10/dist-packages (from tensorflow) (67.7.2)\n",
            "Requirement already satisfied: six>=1.12.0 in /usr/local/lib/python3.10/dist-packages (from tensorflow) (1.16.0)\n",
            "Requirement already satisfied: tensorboard<2.13,>=2.12 in /usr/local/lib/python3.10/dist-packages (from tensorflow) (2.12.2)\n",
            "Requirement already satisfied: tensorflow-estimator<2.13,>=2.12.0 in /usr/local/lib/python3.10/dist-packages (from tensorflow) (2.12.0)\n",
            "Requirement already satisfied: termcolor>=1.1.0 in /usr/local/lib/python3.10/dist-packages (from tensorflow) (2.3.0)\n",
            "Requirement already satisfied: typing-extensions>=3.6.6 in /usr/local/lib/python3.10/dist-packages (from tensorflow) (4.5.0)\n",
            "Requirement already satisfied: wrapt<1.15,>=1.11.0 in /usr/local/lib/python3.10/dist-packages (from tensorflow) (1.14.1)\n",
            "Requirement already satisfied: tensorflow-io-gcs-filesystem>=0.23.1 in /usr/local/lib/python3.10/dist-packages (from tensorflow) (0.32.0)\n",
            "Requirement already satisfied: wheel<1.0,>=0.23.0 in /usr/local/lib/python3.10/dist-packages (from astunparse>=1.6.0->tensorflow) (0.40.0)\n",
            "Requirement already satisfied: ml-dtypes>=0.1.0 in /usr/local/lib/python3.10/dist-packages (from jax>=0.3.15->tensorflow) (0.1.0)\n",
            "Requirement already satisfied: scipy>=1.7 in /usr/local/lib/python3.10/dist-packages (from jax>=0.3.15->tensorflow) (1.10.1)\n",
            "Requirement already satisfied: google-auth<3,>=1.6.3 in /usr/local/lib/python3.10/dist-packages (from tensorboard<2.13,>=2.12->tensorflow) (2.17.3)\n",
            "Requirement already satisfied: google-auth-oauthlib<1.1,>=0.5 in /usr/local/lib/python3.10/dist-packages (from tensorboard<2.13,>=2.12->tensorflow) (1.0.0)\n",
            "Requirement already satisfied: markdown>=2.6.8 in /usr/local/lib/python3.10/dist-packages (from tensorboard<2.13,>=2.12->tensorflow) (3.4.3)\n",
            "Requirement already satisfied: requests<3,>=2.21.0 in /usr/local/lib/python3.10/dist-packages (from tensorboard<2.13,>=2.12->tensorflow) (2.27.1)\n",
            "Requirement already satisfied: tensorboard-data-server<0.8.0,>=0.7.0 in /usr/local/lib/python3.10/dist-packages (from tensorboard<2.13,>=2.12->tensorflow) (0.7.0)\n",
            "Requirement already satisfied: tensorboard-plugin-wit>=1.6.0 in /usr/local/lib/python3.10/dist-packages (from tensorboard<2.13,>=2.12->tensorflow) (1.8.1)\n",
            "Requirement already satisfied: werkzeug>=1.0.1 in /usr/local/lib/python3.10/dist-packages (from tensorboard<2.13,>=2.12->tensorflow) (2.3.0)\n",
            "Requirement already satisfied: cachetools<6.0,>=2.0.0 in /usr/local/lib/python3.10/dist-packages (from google-auth<3,>=1.6.3->tensorboard<2.13,>=2.12->tensorflow) (5.3.0)\n",
            "Requirement already satisfied: pyasn1-modules>=0.2.1 in /usr/local/lib/python3.10/dist-packages (from google-auth<3,>=1.6.3->tensorboard<2.13,>=2.12->tensorflow) (0.3.0)\n",
            "Requirement already satisfied: rsa<5,>=3.1.4 in /usr/local/lib/python3.10/dist-packages (from google-auth<3,>=1.6.3->tensorboard<2.13,>=2.12->tensorflow) (4.9)\n",
            "Requirement already satisfied: requests-oauthlib>=0.7.0 in /usr/local/lib/python3.10/dist-packages (from google-auth-oauthlib<1.1,>=0.5->tensorboard<2.13,>=2.12->tensorflow) (1.3.1)\n",
            "Requirement already satisfied: urllib3<1.27,>=1.21.1 in /usr/local/lib/python3.10/dist-packages (from requests<3,>=2.21.0->tensorboard<2.13,>=2.12->tensorflow) (1.26.15)\n",
            "Requirement already satisfied: certifi>=2017.4.17 in /usr/local/lib/python3.10/dist-packages (from requests<3,>=2.21.0->tensorboard<2.13,>=2.12->tensorflow) (2022.12.7)\n",
            "Requirement already satisfied: charset-normalizer~=2.0.0 in /usr/local/lib/python3.10/dist-packages (from requests<3,>=2.21.0->tensorboard<2.13,>=2.12->tensorflow) (2.0.12)\n",
            "Requirement already satisfied: idna<4,>=2.5 in /usr/local/lib/python3.10/dist-packages (from requests<3,>=2.21.0->tensorboard<2.13,>=2.12->tensorflow) (3.4)\n",
            "Requirement already satisfied: MarkupSafe>=2.1.1 in /usr/local/lib/python3.10/dist-packages (from werkzeug>=1.0.1->tensorboard<2.13,>=2.12->tensorflow) (2.1.2)\n",
            "Requirement already satisfied: pyasn1<0.6.0,>=0.4.6 in /usr/local/lib/python3.10/dist-packages (from pyasn1-modules>=0.2.1->google-auth<3,>=1.6.3->tensorboard<2.13,>=2.12->tensorflow) (0.5.0)\n",
            "Requirement already satisfied: oauthlib>=3.0.0 in /usr/local/lib/python3.10/dist-packages (from requests-oauthlib>=0.7.0->google-auth-oauthlib<1.1,>=0.5->tensorboard<2.13,>=2.12->tensorflow) (3.2.2)\n"
          ]
        }
      ]
    },
    {
      "cell_type": "markdown",
      "metadata": {
        "id": "FH2DzTklVoRN"
      },
      "source": [
        "##### Imports:"
      ]
    },
    {
      "cell_type": "code",
      "execution_count": null,
      "metadata": {
        "id": "RqcMkiOCVoRO"
      },
      "outputs": [],
      "source": [
        "import pandas as pd\n",
        "import numpy as np\n",
        "\n",
        "# Visualización\n",
        "import matplotlib.pyplot as plt\n",
        "import seaborn as sns\n",
        "import sklearn as sk\n",
        "from IPython.display import Image\n",
        "\n",
        "# Modelos y métricas\n",
        "from sklearn.model_selection import train_test_split, cross_validate, StratifiedKFold, KFold, RandomizedSearchCV, RepeatedKFold\n",
        "from sklearn.metrics import precision_score, recall_score, accuracy_score,f1_score, make_scorer\n",
        "from sklearn.metrics import confusion_matrix, classification_report\n",
        "from sklearn.metrics import roc_curve, roc_auc_score, RocCurveDisplay\n",
        "from sklearn.tree import DecisionTreeClassifier\n",
        "from sklearn.ensemble import RandomForestClassifier\n",
        "from six import StringIO\n",
        "\n",
        "#Keras\n",
        "from scikeras.wrappers import KerasClassifier\n",
        "import tensorflow as tf\n",
        "from tensorflow import keras\n",
        "from keras.utils.vis_utils import plot_model\n",
        "from keras import optimizers\n",
        "from keras.callbacks import EarlyStopping\n",
        "import keras.backend as K\n",
        "\n",
        "from keras.models import Model\n",
        "from keras.layers import Input, Dense, concatenate\n",
        "from keras import optimizers\n",
        "\n",
        "# Preprocesamiento\n",
        "from sklearn.preprocessing import MinMaxScaler, StandardScaler\n",
        "\n",
        "# Manejo de modelos\n",
        "from pickle import dump\n",
        "from pickle import load\n",
        "from keras.models import load_model\n",
        "\n",
        "\n",
        "# Configuración de warnings\n",
        "import warnings\n",
        "warnings.simplefilter(action='ignore', category=FutureWarning)\n",
        "warnings.simplefilter(action='ignore', category=UserWarning)\n",
        "\n",
        "#Emsables\n",
        "from collections import defaultdict\n",
        "from sklearn.ensemble import StackingClassifier\n",
        "from sklearn.model_selection import cross_val_score, RepeatedStratifiedKFold\n",
        "from sklearn.linear_model import LogisticRegressionCV\n",
        "import plotly.graph_objects as go\n",
        "%matplotlib inline\n",
        "\n",
        "#Voting\n",
        "from sklearn.ensemble import VotingClassifier"
      ]
    },
    {
      "cell_type": "markdown",
      "metadata": {
        "id": "h0mI2-gZVoRP"
      },
      "source": [
        "##### Lectura del dataset preprocesado:"
      ]
    },
    {
      "cell_type": "code",
      "execution_count": null,
      "metadata": {
        "id": "Rqjmz4kUVoRQ"
      },
      "outputs": [],
      "source": [
        "hotel_train = pd.read_csv('./dataset/hotels_train_preprocesado.csv')"
      ]
    },
    {
      "cell_type": "markdown",
      "metadata": {
        "id": "Iub2T3_bVoRQ"
      },
      "source": [
        "##### Importacion de modelos:"
      ]
    },
    {
      "cell_type": "code",
      "execution_count": null,
      "metadata": {
        "id": "ZXvUVnWGVoRR"
      },
      "outputs": [],
      "source": [
        "\n",
        "\n",
        "# @tf.keras.utils.register_keras_serializable()\n",
        "def f1_score(y_true, y_pred):\n",
        "    # Cálculo de la métrica F1-score\n",
        "    tp = K.sum(K.round(K.clip(y_true * y_pred, 0, 1)))\n",
        "    precision = tp / (K.sum(K.round(K.clip(y_pred, 0, 1))) + K.epsilon())\n",
        "    recall = tp / (K.sum(K.round(K.clip(y_true, 0, 1))) + K.epsilon())\n",
        "    f1 = 2 * precision * recall / (precision + recall + K.epsilon())\n",
        "    return f1\n",
        "\n",
        "keras.utils.get_custom_objects().update({'f1_score': f1_score})\n",
        "\n",
        "# keras.utils.custom_object_scope({'f1_score': f1_score})\n",
        "\n",
        "# keras.utils.get_custom_objects()['f1_score'] = f1_score\n"
      ]
    },
    {
      "cell_type": "code",
      "execution_count": null,
      "metadata": {
        "colab": {
          "base_uri": "https://localhost:8080/"
        },
        "id": "rsrcL-1FVoRT",
        "outputId": "3e6a9c8f-296c-4aa8-e5f5-e2c051ecd4be"
      },
      "outputs": [
        {
          "output_type": "stream",
          "name": "stdout",
          "text": [
            "[20:48:45] WARNING: ../src/learner.cc:553: \n",
            "  If you are loading a serialized model (like pickle in Python, RDS in R) generated by\n",
            "  older XGBoost, please export the model by calling `Booster.save_model` from that version\n",
            "  first, then load it back in current version. See:\n",
            "\n",
            "    https://xgboost.readthedocs.io/en/latest/tutorials/saving_model.html\n",
            "\n",
            "  for more details about differences between saving model and serializing.\n",
            "\n"
          ]
        }
      ],
      "source": [
        "svm_norm = load(open('./modelos/model_svm_norm.pkl', 'rb'))\n",
        "rf_cv = load(open('./modelos/model_randomforest_randomcv.pkl', 'rb'))\n",
        "knn_cv = load(open('./modelos/model_knn_randomcv.pkl', 'rb'))\n",
        "xgb_cv = load(open('./modelos/model_xgboost_randomcv.pkl', 'rb'))\n",
        "dt_cv = load(open('./modelos/model_decisiontree_randomcv.pkl', 'rb'))\n",
        "rn_norm = load_model('./modelos/model_rn_adadelta_1.h5')\n",
        "# rn_norm = load(open('./modelos/modelo_rn_adadelta_1.pkl', 'rb'))"
      ]
    },
    {
      "cell_type": "markdown",
      "metadata": {
        "id": "Nm1lVb9CVoRT"
      },
      "source": [
        "##### Preparación de features:"
      ]
    },
    {
      "cell_type": "code",
      "execution_count": null,
      "metadata": {
        "colab": {
          "base_uri": "https://localhost:8080/"
        },
        "id": "_35bFz89VoRU",
        "outputId": "84593ac7-3d64-4ac2-ccc4-1aaa95bca7a3"
      },
      "outputs": [
        {
          "output_type": "execute_result",
          "data": {
            "text/plain": [
              "['lead_time',\n",
              " 'arrival_date_year',\n",
              " 'arrival_date_month',\n",
              " 'arrival_date_day_of_month',\n",
              " 'is_repeated_guest',\n",
              " 'previous_cancellations',\n",
              " 'previous_bookings_not_canceled',\n",
              " 'booking_changes',\n",
              " 'agent',\n",
              " 'days_in_waiting_list',\n",
              " 'adr',\n",
              " 'required_car_parking_spaces',\n",
              " 'total_of_special_requests',\n",
              " 'stays_in_nights',\n",
              " 'total_of_guests',\n",
              " 'room_type_unchanged',\n",
              " 'country_encoded',\n",
              " 'customer_type_Group',\n",
              " 'customer_type_Transient',\n",
              " 'customer_type_Transient-Party',\n",
              " 'deposit_type_Non Refund',\n",
              " 'deposit_type_Refundable',\n",
              " 'hotel_Resort Hotel',\n",
              " 'distribution_channel_Direct',\n",
              " 'distribution_channel_GDS',\n",
              " 'distribution_channel_TA/TO',\n",
              " 'distribution_channel_Undefined',\n",
              " 'market_segment_Complementary',\n",
              " 'market_segment_Corporate',\n",
              " 'market_segment_Direct',\n",
              " 'market_segment_Groups',\n",
              " 'market_segment_Offline TA/TO',\n",
              " 'market_segment_Online TA',\n",
              " 'market_segment_Undefined',\n",
              " 'meal_FB',\n",
              " 'meal_HB',\n",
              " 'meal_SC',\n",
              " 'meal_Undefined']"
            ]
          },
          "metadata": {},
          "execution_count": 7
        }
      ],
      "source": [
        "features = hotel_train.drop(['is_canceled'],axis=1).columns\n",
        "          \n",
        "target = 'is_canceled'\n",
        "\n",
        "features.tolist()"
      ]
    },
    {
      "cell_type": "markdown",
      "metadata": {
        "id": "-qTzr3CMVoRU"
      },
      "source": [
        "---"
      ]
    },
    {
      "cell_type": "markdown",
      "metadata": {
        "id": "PGoCRe0JVoRV"
      },
      "source": [
        "## Armado y entrenamiento con Ensamble de Modelos"
      ]
    },
    {
      "cell_type": "markdown",
      "metadata": {
        "id": "xvLPiWuBVoRV"
      },
      "source": [
        "##### Preparación de features:"
      ]
    },
    {
      "cell_type": "code",
      "execution_count": null,
      "metadata": {
        "colab": {
          "base_uri": "https://localhost:8080/"
        },
        "id": "cQkHCRBfVoRV",
        "outputId": "2b2f1e5c-c8fd-4f27-c34c-0c5daef055f6"
      },
      "outputs": [
        {
          "output_type": "execute_result",
          "data": {
            "text/plain": [
              "['lead_time',\n",
              " 'arrival_date_year',\n",
              " 'arrival_date_month',\n",
              " 'arrival_date_day_of_month',\n",
              " 'is_repeated_guest',\n",
              " 'previous_cancellations',\n",
              " 'previous_bookings_not_canceled',\n",
              " 'booking_changes',\n",
              " 'agent',\n",
              " 'days_in_waiting_list',\n",
              " 'adr',\n",
              " 'required_car_parking_spaces',\n",
              " 'total_of_special_requests',\n",
              " 'stays_in_nights',\n",
              " 'total_of_guests',\n",
              " 'room_type_unchanged',\n",
              " 'country_encoded',\n",
              " 'customer_type_Group',\n",
              " 'customer_type_Transient',\n",
              " 'customer_type_Transient-Party',\n",
              " 'deposit_type_Non Refund',\n",
              " 'deposit_type_Refundable',\n",
              " 'hotel_Resort Hotel',\n",
              " 'distribution_channel_Direct',\n",
              " 'distribution_channel_GDS',\n",
              " 'distribution_channel_TA/TO',\n",
              " 'distribution_channel_Undefined',\n",
              " 'market_segment_Complementary',\n",
              " 'market_segment_Corporate',\n",
              " 'market_segment_Direct',\n",
              " 'market_segment_Groups',\n",
              " 'market_segment_Offline TA/TO',\n",
              " 'market_segment_Online TA',\n",
              " 'market_segment_Undefined',\n",
              " 'meal_FB',\n",
              " 'meal_HB',\n",
              " 'meal_SC',\n",
              " 'meal_Undefined']"
            ]
          },
          "metadata": {},
          "execution_count": 8
        }
      ],
      "source": [
        "features = hotel_train.drop(['is_canceled'],axis=1).columns\n",
        "          \n",
        "target = 'is_canceled'\n",
        "\n",
        "features.tolist()"
      ]
    },
    {
      "cell_type": "code",
      "execution_count": null,
      "metadata": {
        "id": "xlbM1Z2aVoRW"
      },
      "outputs": [],
      "source": [
        "cols_categorical = ['room_type_unchanged',\n",
        "                    'country_encoded',\n",
        "                   'customer_type_Group',\n",
        "                   'customer_type_Transient',\n",
        "                   'customer_type_Transient-Party',\n",
        "                   'deposit_type_Non Refund',\n",
        "                   'deposit_type_Refundable',\n",
        "                   'hotel_Resort Hotel',\n",
        "                   'distribution_channel_Direct',\n",
        "                   'distribution_channel_GDS',\n",
        "                   'distribution_channel_TA/TO',\n",
        "                   'distribution_channel_Undefined',\n",
        "                   'market_segment_Complementary',\n",
        "                   'market_segment_Corporate',\n",
        "                   'market_segment_Direct',\n",
        "                   'market_segment_Groups',\n",
        "                   'market_segment_Offline TA/TO',\n",
        "                   'market_segment_Online TA',\n",
        "                   'market_segment_Undefined',\n",
        "                   'meal_FB',\n",
        "                   'meal_HB',\n",
        "                   'meal_SC',\n",
        "                   'meal_Undefined']"
      ]
    },
    {
      "cell_type": "code",
      "execution_count": null,
      "metadata": {
        "id": "AnHNPOWwVoRX"
      },
      "outputs": [],
      "source": [
        "cols_to_normalize =[col for col in hotel_train.columns if col not in cols_categorical]"
      ]
    },
    {
      "cell_type": "code",
      "execution_count": null,
      "metadata": {
        "colab": {
          "base_uri": "https://localhost:8080/"
        },
        "id": "gQoNZVp1VoRX",
        "outputId": "7403a41e-1b81-4fc1-e054-7b1247acb331"
      },
      "outputs": [
        {
          "output_type": "execute_result",
          "data": {
            "text/plain": [
              "['lead_time',\n",
              " 'arrival_date_year',\n",
              " 'arrival_date_month',\n",
              " 'arrival_date_day_of_month',\n",
              " 'is_repeated_guest',\n",
              " 'previous_cancellations',\n",
              " 'previous_bookings_not_canceled',\n",
              " 'booking_changes',\n",
              " 'agent',\n",
              " 'days_in_waiting_list',\n",
              " 'adr',\n",
              " 'required_car_parking_spaces',\n",
              " 'total_of_special_requests',\n",
              " 'stays_in_nights',\n",
              " 'total_of_guests']"
            ]
          },
          "metadata": {},
          "execution_count": 11
        }
      ],
      "source": [
        "cols_to_normalize.remove('is_canceled')\n",
        "cols_to_normalize"
      ]
    },
    {
      "cell_type": "markdown",
      "metadata": {
        "id": "Kk3SNZn5VoRY"
      },
      "source": [
        "#### Definicion funciones:"
      ]
    },
    {
      "cell_type": "code",
      "execution_count": null,
      "metadata": {
        "id": "dC7C93ZNVoRY"
      },
      "outputs": [],
      "source": [
        "#Funcion para evaluar los modelos 5fold -CV (repite 2 veces)\n",
        "def evaluate_model(model, x, y):\n",
        "    cv = RepeatedStratifiedKFold(n_splits=5, n_repeats=2, random_state=1)\n",
        "    scores = cross_val_score(model, x, y, scoring='accuracy', cv=cv, verbose=1, n_jobs=-1, error_score='raise')\n",
        "    return scores"
      ]
    },
    {
      "cell_type": "code",
      "execution_count": null,
      "metadata": {
        "id": "K3SRey_nVoRY"
      },
      "outputs": [],
      "source": [
        "def bar_plot_results(model_scores, name):\n",
        "    model_names = list(model_scores.keys())\n",
        "    results = [model_scores[model] for model in model_names]\n",
        "    means = [np.mean(result) for result in results]\n",
        "    errors = [np.std(result) for result in results]\n",
        "    fig = go.Figure()\n",
        "    for model, mean, error in zip(model_names, means, errors):\n",
        "        fig.add_trace(go.Bar(\n",
        "            x=[model],\n",
        "            y=[mean],\n",
        "            name=model,\n",
        "            error_y=dict(\n",
        "                type='data',\n",
        "                array=[error],\n",
        "                visible=True,\n",
        "                color='black',\n",
        "                thickness=1,\n",
        "                width=5\n",
        "            )\n",
        "        ))\n",
        "    \n",
        "    fig.update_layout(\n",
        "        title='Score de Accuracy de cada modelo usando 5-Fold Cross-Validation',\n",
        "        paper_bgcolor='rgb(243, 243, 243)',\n",
        "        plot_bgcolor='rgb(243, 243, 243)',\n",
        "        xaxis_title='Model',\n",
        "        yaxis_title='Accuracy',\n",
        "        showlegend=False\n",
        "    )\n",
        "    fig.show()"
      ]
    },
    {
      "cell_type": "code",
      "source": [
        "# def evaluate_model_RN(model, x, y, n_splits=5):\n",
        "#     kf = KFold(n_splits=n_splits, shuffle=True, random_state=25)\n",
        "#     scores = []\n",
        "#     for train_index, val_index in kf.split(x):\n",
        "#         x_train, x_val = x.iloc[train_index], x.iloc[val_index]\n",
        "#         y_train, y_val = pd.DataFrame(y).iloc[train_index], pd.DataFrame(y).iloc[val_index]\n",
        "\n",
        "#         model.fit(x_train, y_train)\n",
        "#         score = model.evaluate(x_val, y_val)\n",
        "#         scores.append(score[1])  # Obtener el valor de binary_accuracy\n",
        "#     return np.array(scores)\n",
        "\n",
        "# El 'score' para RN es de la siguiente forma [0.26240328, 0.88230461, 0.95784497,0.88399041]\n",
        "# Donde Loss: 0.26240328, Binary Accuracy: 0.88230461, AUC: 0.95784497, F1 Score: 0.88399041\n",
        "\n",
        "# Se usa para KerasClassifier\n",
        "def evaluate_model_RN(model, x, y, n_splits=5, n_repeats=2):\n",
        "    kf = RepeatedKFold(n_splits=n_splits, n_repeats=n_repeats, random_state=25)\n",
        "    scores = []\n",
        "    for train_index, val_index in kf.split(x):\n",
        "        x_train, x_val = x.iloc[train_index], x.iloc[val_index]\n",
        "        y_train, y_val = pd.DataFrame(y).iloc[train_index], pd.DataFrame(y).iloc[val_index]\n",
        "\n",
        "        model.fit(x_train, y_train)\n",
        "        score = model.score(x_val, y_val)\n",
        "        scores.append(score)  # Obtener el valor de score\n",
        "    return np.array(scores)\n"
      ],
      "metadata": {
        "id": "uG2SoJoNlDoR"
      },
      "execution_count": null,
      "outputs": []
    },
    {
      "cell_type": "code",
      "source": [
        "def create_model_rn():\n",
        "    # Calcula la cantidad de clases\n",
        "    cant_clases = 1 # Como es un problema de clasificación binaria, la cantidad de clases es 1\n",
        "\n",
        "    # Calcula la cantidad de features\n",
        "    d_in = len(features)\n",
        "    d_in_combined = len(x_train_norm.columns)\n",
        "\n",
        "    # Definir las capas de entrada\n",
        "    input_combined = Input(shape=(d_in_combined,))\n",
        "\n",
        "    # Capas para las columnas codificadas (categóricas)\n",
        "    x = Dense(48, activation='relu', kernel_initializer='uniform')(input_combined)\n",
        "    x = Dense(48, activation='relu', kernel_initializer='uniform')(x)\n",
        "    encoded_outputs = Dense(cant_clases, activation='relu')(x)\n",
        "\n",
        "    # Capas para las columnas numéricas (opcional)\n",
        "    y = Dense(32, activation='relu', kernel_initializer='uniform')(input_combined)\n",
        "    y = Dense(32, activation='relu', kernel_initializer='uniform')(y)\n",
        "\n",
        "    # Combinar las salidas de las capas codificadas y numéricas\n",
        "    combined = concatenate([encoded_outputs, y])\n",
        "\n",
        "    # Capa de salida\n",
        "    output = Dense(cant_clases, activation='sigmoid')(combined)\n",
        "\n",
        "    # Crear el modelo\n",
        "    model = Model(inputs=input_combined, outputs=output)\n",
        "\n",
        "    # Configurar el optimizador\n",
        "    optimizer = optimizers.Adadelta(learning_rate=0.1) # Alternativas: Adamax (Más lento), otros No convergen\n",
        "\n",
        "    # Compilar el modelo\n",
        "    model.compile(optimizer=optimizer,\n",
        "                  loss='binary_crossentropy', # sparse_categorical_crossentropy, categorical_crossentropy\n",
        "                  metrics=['binary_accuracy', \n",
        "                           'AUC', \n",
        "                          #  'f1_score'\n",
        "                           ])\n",
        "    \n",
        "    model.load_weights('./modelos/model_rn_adadelta_1.h5')\n",
        "\n",
        "    return model"
      ],
      "metadata": {
        "id": "xbB2zXyPsmpK"
      },
      "execution_count": null,
      "outputs": []
    },
    {
      "cell_type": "markdown",
      "metadata": {
        "id": "s7uaHDrKVoRZ"
      },
      "source": [
        "#### Train-Test Split:"
      ]
    },
    {
      "cell_type": "code",
      "execution_count": null,
      "metadata": {
        "colab": {
          "base_uri": "https://localhost:8080/"
        },
        "id": "ODEm70ljVoRZ",
        "outputId": "f3e381b0-bf41-4e7e-edbf-8d1ce6bb13a0"
      },
      "outputs": [
        {
          "output_type": "stream",
          "name": "stdout",
          "text": [
            "# Datos Entrenamiento: 48682\n",
            "# Datos Prueba: 12171\n",
            "% Positivos Entrenamiento: 50.433\n",
            "% Positivos Prueba: 50.431\n"
          ]
        }
      ],
      "source": [
        "# Separamos un 20% de los datos para test\n",
        "x_train, x_test, y_train, y_test = train_test_split(hotel_train[features].values, \n",
        "                                                    hotel_train[target].values, \n",
        "                                                    test_size=0.2,    \n",
        "                                                    random_state=42,  \n",
        "                                                    stratify=hotel_train[target].values) \n",
        "\n",
        "# Verificamos cantidad de datos en cada set\n",
        "print('# Datos Entrenamiento: {}'.format(len(x_train)))\n",
        "print('# Datos Prueba: {}'.format(len(x_test)))\n",
        "\n",
        "# Verificamos como quedaron balanceados\n",
        "for split_name, split in zip(['% Positivos Entrenamiento','% Positivos Prueba'],[y_train,y_test]):\n",
        "  print('{}: {:.3f}'.format(split_name,pd.Series(split).value_counts(normalize=True)[1]*100))"
      ]
    },
    {
      "cell_type": "markdown",
      "metadata": {
        "id": "eipDSzPGVoRZ"
      },
      "source": [
        "#### Normalización:\n",
        "Versión estandarizada con $\\frac{x_i - mean(x)}{stdev(x)}$"
      ]
    },
    {
      "cell_type": "code",
      "execution_count": null,
      "metadata": {
        "id": "_X5EHOrpVoRa"
      },
      "outputs": [],
      "source": [
        "x_train_to_norm = pd.DataFrame(x_train, columns=features).drop(cols_categorical, axis=1)\n",
        "x_test_to_norm = pd.DataFrame(x_test, columns=features).drop(cols_categorical, axis=1)"
      ]
    },
    {
      "cell_type": "code",
      "execution_count": null,
      "metadata": {
        "id": "y8N-corOVoRa"
      },
      "outputs": [],
      "source": [
        "x_train_categorical = pd.DataFrame(x_train, columns=features).drop(cols_to_normalize, axis=1)\n",
        "x_test_categorical = pd.DataFrame(x_test, columns=features).drop(cols_to_normalize, axis=1)"
      ]
    },
    {
      "cell_type": "code",
      "execution_count": null,
      "metadata": {
        "id": "JRkjlRhMVoRa"
      },
      "outputs": [],
      "source": [
        "# Aplicar la transformación de escalado de características solo a las columnas seleccionadas\n",
        "stand_scaler = StandardScaler()\n",
        "x_train_norm_scaled = stand_scaler.fit_transform(x_train_to_norm)\n",
        "x_test_norm_scaled = stand_scaler.transform(x_test_to_norm)\n",
        "\n",
        "# Convertir las matrices escaladas nuevamente en DataFrames\n",
        "x_train_norm_scaled = pd.DataFrame(x_train_norm_scaled, columns=cols_to_normalize)\n",
        "x_test_norm_scaled = pd.DataFrame(x_test_norm_scaled, columns=cols_to_normalize)\n",
        "\n",
        "# Agregar las columnas categoricas a las matrices escaladas\n",
        "x_train_norm = pd.concat([x_train_norm_scaled, x_train_categorical], axis=1)\n",
        "x_test_norm = pd.concat([x_test_norm_scaled, x_test_categorical], axis=1)"
      ]
    },
    {
      "cell_type": "markdown",
      "metadata": {
        "id": "-pT_YsF5VoRa"
      },
      "source": [
        "#### Entrenamiento y evaluación de modelos:\n",
        "Se evaluarán los siguientes modelos:\n",
        "- Random Forest\n",
        "- SVM\n",
        "- KNN\n",
        "- XGBoost\n",
        "- Arbol de Decision\n",
        "- Red Neuronal"
      ]
    },
    {
      "cell_type": "code",
      "source": [
        "# rn_norm = KerasClassifier(build_fn=create_model_rn)"
      ],
      "metadata": {
        "id": "EZKtQilJO37e"
      },
      "execution_count": null,
      "outputs": []
    },
    {
      "cell_type": "markdown",
      "metadata": {
        "id": "9yY0gxzuVoRa"
      },
      "source": [
        "Cada uno de los modelos se evaluará utilizando una estrategia de validación cruzada de cinco folds repetida dos veces. En cada iteracion cada modelo se entrenó en el 80 % de los datos y se validó en el 20 % restante.\n",
        "\n",
        "Este método da como resultado 10 puntajes de performance diferentes para cada modelo que se almacenarán en un diccionario."
      ]
    },
    {
      "cell_type": "code",
      "execution_count": null,
      "metadata": {
        "colab": {
          "base_uri": "https://localhost:8080/"
        },
        "id": "tPJbJZvYVoRb",
        "outputId": "51499a75-c131-40ce-a8da-912a03aa9cab"
      },
      "outputs": [
        {
          "output_type": "stream",
          "name": "stdout",
          "text": [
            "Entrenando modelo: RN\n",
            "1218/1218 [==============================] - 4s 2ms/step - loss: 0.2592 - binary_accuracy: 0.8832 - auc: 0.9582\n",
            "305/305 [==============================] - 1s 2ms/step\n",
            "1218/1218 [==============================] - 6s 4ms/step - loss: 0.2606 - binary_accuracy: 0.8822 - auc: 0.9577\n",
            "305/305 [==============================] - 1s 2ms/step\n",
            "1218/1218 [==============================] - 5s 3ms/step - loss: 0.2605 - binary_accuracy: 0.8821 - auc: 0.9579\n",
            "305/305 [==============================] - 1s 3ms/step\n",
            "1218/1218 [==============================] - 7s 4ms/step - loss: 0.2618 - binary_accuracy: 0.8829 - auc: 0.9574\n",
            "305/305 [==============================] - 1s 2ms/step\n",
            "1218/1218 [==============================] - 6s 4ms/step - loss: 0.2601 - binary_accuracy: 0.8837 - auc: 0.9580\n",
            "305/305 [==============================] - 1s 2ms/step\n",
            "1218/1218 [==============================] - 3s 2ms/step - loss: 0.2602 - binary_accuracy: 0.8841 - auc: 0.9581\n",
            "305/305 [==============================] - 0s 1ms/step\n",
            "1218/1218 [==============================] - 3s 2ms/step - loss: 0.2617 - binary_accuracy: 0.8824 - auc: 0.9574\n",
            "305/305 [==============================] - 1s 2ms/step\n",
            "1218/1218 [==============================] - 3s 2ms/step - loss: 0.2597 - binary_accuracy: 0.8840 - auc: 0.9581\n",
            "305/305 [==============================] - 0s 1ms/step\n",
            "1218/1218 [==============================] - 3s 2ms/step - loss: 0.2616 - binary_accuracy: 0.8807 - auc: 0.9575\n",
            "305/305 [==============================] - 0s 1ms/step\n",
            "1218/1218 [==============================] - 3s 2ms/step - loss: 0.2589 - binary_accuracy: 0.8839 - auc: 0.9584\n",
            "305/305 [==============================] - 1s 2ms/step\n",
            "Entrenando modelo: SVM\n"
          ]
        },
        {
          "output_type": "stream",
          "name": "stderr",
          "text": [
            "[Parallel(n_jobs=-1)]: Using backend LokyBackend with 2 concurrent workers.\n",
            "[Parallel(n_jobs=-1)]: Done  10 out of  10 | elapsed: 10.0min finished\n",
            "[Parallel(n_jobs=-1)]: Using backend LokyBackend with 2 concurrent workers.\n"
          ]
        },
        {
          "output_type": "stream",
          "name": "stdout",
          "text": [
            "Entrenando modelo: RF\n"
          ]
        },
        {
          "output_type": "stream",
          "name": "stderr",
          "text": [
            "[Parallel(n_jobs=-1)]: Done  10 out of  10 | elapsed:    4.5s finished\n",
            "[Parallel(n_jobs=-1)]: Using backend LokyBackend with 2 concurrent workers.\n"
          ]
        },
        {
          "output_type": "stream",
          "name": "stdout",
          "text": [
            "Entrenando modelo: KNN\n"
          ]
        },
        {
          "output_type": "stream",
          "name": "stderr",
          "text": [
            "[Parallel(n_jobs=-1)]: Done  10 out of  10 | elapsed:  4.2min finished\n",
            "[Parallel(n_jobs=-1)]: Using backend LokyBackend with 2 concurrent workers.\n"
          ]
        },
        {
          "output_type": "stream",
          "name": "stdout",
          "text": [
            "Entrenando modelo: XGB\n"
          ]
        },
        {
          "output_type": "stream",
          "name": "stderr",
          "text": [
            "[Parallel(n_jobs=-1)]: Done  10 out of  10 | elapsed:  2.9min finished\n",
            "[Parallel(n_jobs=-1)]: Using backend LokyBackend with 2 concurrent workers.\n"
          ]
        },
        {
          "output_type": "stream",
          "name": "stdout",
          "text": [
            "Entrenando modelo: DT\n"
          ]
        },
        {
          "output_type": "stream",
          "name": "stderr",
          "text": [
            "[Parallel(n_jobs=-1)]: Done  10 out of  10 | elapsed:    2.1s finished\n"
          ]
        }
      ],
      "source": [
        "# Creo una instancia de la red neuronal, se configura el modelo y se cargan los pesos\n",
        "rn_norm = KerasClassifier(build_fn=create_model_rn)\n",
        "# rn_norm = create_model_rn()\n",
        "\n",
        "base_model = {'RN': rn_norm, 'SVM': svm_norm, 'RF': rf_cv, 'KNN': knn_cv, 'XGB': xgb_cv, 'DT': dt_cv}\n",
        "# base_model = {'RN': rn_norm}\n",
        "\n",
        "#Guadamos los resultados de las métricas de cada modelo\n",
        "model_scores = defaultdict()\n",
        "\n",
        "#Entrenamos los clasificadores\n",
        "for name, model in base_model.items():\n",
        "    print('Entrenando modelo: {}'.format(name))\n",
        "    if name == 'RN':\n",
        "        score = evaluate_model_RN(model, x_train_norm, y_train)\n",
        "    else:\n",
        "        score = evaluate_model(model, x_train_norm, y_train)\n",
        "    model_scores[name] = score"
      ]
    },
    {
      "cell_type": "code",
      "source": [
        "model_scores"
      ],
      "metadata": {
        "colab": {
          "base_uri": "https://localhost:8080/"
        },
        "id": "eEEv5dG_urCZ",
        "outputId": "ec357d5c-d877-465e-cf92-877c72aeec36"
      },
      "execution_count": null,
      "outputs": [
        {
          "output_type": "execute_result",
          "data": {
            "text/plain": [
              "defaultdict(None,\n",
              "            {'RN': array([0.87429393, 0.88322892, 0.88249795, 0.88362777, 0.88249795,\n",
              "                    0.8812776 , 0.88651535, 0.88218981, 0.88506574, 0.87880033]),\n",
              "             'SVM': array([0.84091609, 0.84225121, 0.84593262, 0.83709942, 0.85065735,\n",
              "                    0.84009448, 0.8419431 , 0.84233772, 0.84315941, 0.84377568]),\n",
              "             'RF': array([0.86967238, 0.86618055, 0.86822104, 0.864318  , 0.87078882,\n",
              "                    0.86833727, 0.8708021 , 0.86493426, 0.86647494, 0.86822104]),\n",
              "             'KNN': array([0.84286741, 0.83578104, 0.84028348, 0.83011504, 0.84428924,\n",
              "                    0.83649995, 0.8420458 , 0.83966721, 0.84161873, 0.8386401 ]),\n",
              "             'XGB': array([0.88261271, 0.87963438, 0.88578472, 0.87859491, 0.88424404,\n",
              "                    0.88066139, 0.88261271, 0.88311422, 0.88198439, 0.88670912]),\n",
              "             'DT': array([0.85293211, 0.85375372, 0.85959326, 0.85322514, 0.85527938,\n",
              "                    0.85765636, 0.85426723, 0.85230074, 0.85527938, 0.85219803])})"
            ]
          },
          "metadata": {},
          "execution_count": 21
        }
      ]
    },
    {
      "cell_type": "markdown",
      "metadata": {
        "id": "OFKA6NxbVoRb"
      },
      "source": [
        "### Stacking"
      ]
    },
    {
      "cell_type": "markdown",
      "metadata": {
        "id": "iZ5q-zeJVoRb"
      },
      "source": [
        "#### Armamos el emsamble con StackingCVClassifier, que utiliza como estimador final un LogisticRegression."
      ]
    },
    {
      "cell_type": "code",
      "execution_count": null,
      "metadata": {
        "id": "R1eb3plPVoRb"
      },
      "outputs": [],
      "source": [
        "#Modelos bases\n",
        "base_models = [('DT', dt_cv), ('KNN', knn_cv), ('SVM', svm_norm), ('RF', rf_cv), ('XGB', xgb_cv), ('RN', rn_norm)]\n",
        "\n",
        "#Meta Modelo\n",
        "meta_model = LogisticRegressionCV()\n",
        "\n",
        "#Ensamble con stacking\n",
        "stacking_model = StackingClassifier(estimators=base_models, final_estimator=meta_model, cv=5, \n",
        "                                    # verbose=1, \n",
        "                                    # n_jobs=-1\n",
        "                                    )\n",
        "\n"
      ]
    },
    {
      "cell_type": "code",
      "execution_count": null,
      "metadata": {
        "colab": {
          "base_uri": "https://localhost:8080/"
        },
        "id": "7Ol0XOTYVoRb",
        "outputId": "bdf604f3-d55f-44b8-b0f8-e3165e0940b6"
      },
      "outputs": [
        {
          "output_type": "stream",
          "name": "stdout",
          "text": [
            "1522/1522 [==============================] - 4s 2ms/step - loss: 0.2603 - binary_accuracy: 0.8829 - auc: 0.9579\n",
            "1218/1218 [==============================] - 4s 3ms/step - loss: 0.2612 - binary_accuracy: 0.8836 - auc: 0.9576\n",
            "305/305 [==============================] - 0s 1ms/step\n",
            "1218/1218 [==============================] - 3s 2ms/step - loss: 0.2595 - binary_accuracy: 0.8837 - auc: 0.9583\n",
            "305/305 [==============================] - 0s 1ms/step\n",
            "1218/1218 [==============================] - 3s 2ms/step - loss: 0.2606 - binary_accuracy: 0.8845 - auc: 0.9579\n",
            "305/305 [==============================] - 0s 1ms/step\n"
          ]
        },
        {
          "output_type": "stream",
          "name": "stderr",
          "text": [
            "WARNING:tensorflow:Detecting that an object or model or tf.train.Checkpoint is being deleted with unrestored values. See the following logs for the specific values in question. To silence these warnings, use `status.expect_partial()`. See https://www.tensorflow.org/api_docs/python/tf/train/Checkpoint#restorefor details about the status object returned by the restore function.\n",
            "WARNING:tensorflow:Value in checkpoint could not be found in the restored object: (root).optimizer.iter\n",
            "WARNING:tensorflow:Value in checkpoint could not be found in the restored object: (root).optimizer.decay\n",
            "WARNING:tensorflow:Value in checkpoint could not be found in the restored object: (root).optimizer.learning_rate\n",
            "WARNING:tensorflow:Value in checkpoint could not be found in the restored object: (root).optimizer.rho\n",
            "WARNING:tensorflow:Value in checkpoint could not be found in the restored object: (root).keras_api.metrics.0.total\n",
            "WARNING:tensorflow:Value in checkpoint could not be found in the restored object: (root).keras_api.metrics.0.count\n",
            "WARNING:tensorflow:Value in checkpoint could not be found in the restored object: (root).keras_api.metrics.1.total\n",
            "WARNING:tensorflow:Value in checkpoint could not be found in the restored object: (root).keras_api.metrics.1.count\n",
            "WARNING:tensorflow:Value in checkpoint could not be found in the restored object: (root).keras_api.metrics.2.true_positives\n",
            "WARNING:tensorflow:Value in checkpoint could not be found in the restored object: (root).keras_api.metrics.2.true_negatives\n",
            "WARNING:tensorflow:Value in checkpoint could not be found in the restored object: (root).keras_api.metrics.2.false_positives\n",
            "WARNING:tensorflow:Value in checkpoint could not be found in the restored object: (root).keras_api.metrics.2.false_negatives\n",
            "WARNING:tensorflow:Detecting that an object or model or tf.train.Checkpoint is being deleted with unrestored values. See the following logs for the specific values in question. To silence these warnings, use `status.expect_partial()`. See https://www.tensorflow.org/api_docs/python/tf/train/Checkpoint#restorefor details about the status object returned by the restore function.\n",
            "WARNING:tensorflow:Value in checkpoint could not be found in the restored object: (root).optimizer.iter\n",
            "WARNING:tensorflow:Value in checkpoint could not be found in the restored object: (root).optimizer.decay\n",
            "WARNING:tensorflow:Value in checkpoint could not be found in the restored object: (root).optimizer.learning_rate\n",
            "WARNING:tensorflow:Value in checkpoint could not be found in the restored object: (root).optimizer.rho\n",
            "WARNING:tensorflow:Value in checkpoint could not be found in the restored object: (root).keras_api.metrics.0.total\n",
            "WARNING:tensorflow:Value in checkpoint could not be found in the restored object: (root).keras_api.metrics.0.count\n",
            "WARNING:tensorflow:Value in checkpoint could not be found in the restored object: (root).keras_api.metrics.1.total\n",
            "WARNING:tensorflow:Value in checkpoint could not be found in the restored object: (root).keras_api.metrics.1.count\n",
            "WARNING:tensorflow:Value in checkpoint could not be found in the restored object: (root).keras_api.metrics.2.true_positives\n",
            "WARNING:tensorflow:Value in checkpoint could not be found in the restored object: (root).keras_api.metrics.2.true_negatives\n",
            "WARNING:tensorflow:Value in checkpoint could not be found in the restored object: (root).keras_api.metrics.2.false_positives\n",
            "WARNING:tensorflow:Value in checkpoint could not be found in the restored object: (root).keras_api.metrics.2.false_negatives\n"
          ]
        },
        {
          "output_type": "stream",
          "name": "stdout",
          "text": [
            "1218/1218 [==============================] - 5s 2ms/step - loss: 0.2615 - binary_accuracy: 0.8825 - auc: 0.9575\n",
            "305/305 [==============================] - 0s 1ms/step\n",
            "1218/1218 [==============================] - 3s 2ms/step - loss: 0.2601 - binary_accuracy: 0.8830 - auc: 0.9579\n",
            "305/305 [==============================] - 0s 1ms/step\n",
            "381/381 [==============================] - 1s 1ms/step\n"
          ]
        },
        {
          "output_type": "execute_result",
          "data": {
            "text/plain": [
              "0.8780708240900501"
            ]
          },
          "metadata": {},
          "execution_count": 45
        }
      ],
      "source": [
        "#Evaluo en conjunto de test\n",
        "#stacking_model.fit(x_train,y_train).score(x_test,y_test)\n",
        "stacking_model.fit(x_train_norm,y_train)\n",
        "y_pred_st = stacking_model.predict(x_test_norm)\n",
        "accuracy_score(y_test, y_pred_st)\n"
      ]
    },
    {
      "cell_type": "markdown",
      "metadata": {
        "id": "piM6vMu-VoRc"
      },
      "source": [
        "### Voting"
      ]
    },
    {
      "cell_type": "code",
      "execution_count": null,
      "metadata": {
        "id": "4fyRh5n7VoRc",
        "colab": {
          "base_uri": "https://localhost:8080/"
        },
        "outputId": "74b75ff4-aae0-4fdd-d2ad-bb98c5b0e0c8"
      },
      "outputs": [
        {
          "output_type": "stream",
          "name": "stdout",
          "text": [
            "1522/1522 [==============================] - 4s 2ms/step - loss: 0.2608 - binary_accuracy: 0.8829 - auc: 0.9577\n",
            "381/381 [==============================] - 1s 1ms/step\n"
          ]
        },
        {
          "output_type": "execute_result",
          "data": {
            "text/plain": [
              "0.8744556733218306"
            ]
          },
          "metadata": {},
          "execution_count": 31
        }
      ],
      "source": [
        "#Creo ensemble de Votación\n",
        "vot_clf = VotingClassifier(estimators=base_models, voting='hard',\n",
        "                          #  n_jobs=-1\n",
        "                           )\n",
        "\n",
        "#Entreno el ensamble\n",
        "vot_clf.fit(x_train_norm, y_train)\n",
        "\n",
        "#Evaluo el ensamble en el conjunto de test\n",
        "y_pred_vot = vot_clf.predict(x_test_norm)\n",
        "accuracy_score(y_test, y_pred_vot)"
      ]
    },
    {
      "cell_type": "markdown",
      "metadata": {
        "id": "kcZdRfdzVoRc"
      },
      "source": [
        "---"
      ]
    },
    {
      "cell_type": "markdown",
      "metadata": {
        "id": "gk75iNnNVoRc"
      },
      "source": [
        "## Análisis de los modelos Stacking y Voting"
      ]
    },
    {
      "cell_type": "markdown",
      "metadata": {
        "id": "aTtlMPg-VoRd"
      },
      "source": [
        "##### Algunas definiciones:\n",
        "\n",
        "- **TP (True Positives):** Cantidad de clasificaciones positivas correctas\n",
        "\n",
        "- **TN (True Negatives):** Cantidad de clasificaciones negativas correctas\n",
        "\n",
        "- **FN (False Negatives):** Cantidad de clasificaciones negativas incorrectas\n",
        "\n",
        "- **FP (False Positives):** Cantidad de clasificaciones positivas incorrectas\n"
      ]
    },
    {
      "cell_type": "markdown",
      "metadata": {
        "id": "stP7qzBKVoRd"
      },
      "source": [
        "- **Precison = TP/TP+FP**\\\n",
        "    Porcentaje de valores clasificados como positivos que son realmente positivos\n",
        "\n",
        "- **Recall/TPR (True Positive Rate) = TP/TP+FN**\\\n",
        "    Porcentaje de valores positivos que fueron correctamente clasificados\n",
        "\n",
        "- **FPR (False Positive Rate) = FP/FP+TN**\\\n",
        "    Proporción de casos negativos clasificados como positivos\n",
        "\n",
        "- **F1 Score = 2 * ( (precision * recall) / (precision + recall) )**\\\n",
        "    Métrica que combina precision y recall para un valor más objetivo\n",
        "\n",
        "- **Support**\\\n",
        "    Cantidad de ocurrencias de cada clase en el split de test"
      ]
    },
    {
      "cell_type": "markdown",
      "metadata": {
        "id": "dgwdSy5lVoRd"
      },
      "source": [
        "#### Reporte de clasificación y matriz de confusión para Stacking:"
      ]
    },
    {
      "cell_type": "code",
      "execution_count": null,
      "metadata": {
        "colab": {
          "base_uri": "https://localhost:8080/",
          "height": 668
        },
        "id": "E6NdomoEVoRd",
        "outputId": "933da10a-c703-47da-c1bf-1b97e9ca9408"
      },
      "outputs": [
        {
          "output_type": "stream",
          "name": "stdout",
          "text": [
            "381/381 [==============================] - 0s 1ms/step\n",
            "              precision    recall  f1-score   support\n",
            "\n",
            "           0       0.87      0.88      0.88      6033\n",
            "           1       0.88      0.88      0.88      6138\n",
            "\n",
            "    accuracy                           0.88     12171\n",
            "   macro avg       0.88      0.88      0.88     12171\n",
            "weighted avg       0.88      0.88      0.88     12171\n",
            "\n"
          ]
        },
        {
          "output_type": "execute_result",
          "data": {
            "text/plain": [
              "Text(50.722222222222214, 0.5, 'True')"
            ]
          },
          "metadata": {},
          "execution_count": 46
        },
        {
          "output_type": "display_data",
          "data": {
            "text/plain": [
              "<Figure size 640x480 with 2 Axes>"
            ],
            "image/png": "[encoded data removed]"
          },
          "metadata": {}
        }
      ],
      "source": [
        "# Hacemos predicción sobre el set de evaluacion\n",
        "y_pred = stacking_model.predict(x_test_norm)\n",
        "\n",
        "# Reporte y Matriz de Confusion\n",
        "print(classification_report(y_test, y_pred))\n",
        "\n",
        "cm = confusion_matrix(y_test, y_pred)\n",
        "sns.heatmap(cm, cmap='OrRd',annot=True,fmt='g')\n",
        "plt.title(\"Matriz de confusión F1 Score - Stacking\")\n",
        "plt.xlabel('Predicted')\n",
        "plt.ylabel('True')"
      ]
    },
    {
      "cell_type": "markdown",
      "metadata": {
        "id": "rOdAk_VLVoRf"
      },
      "source": [
        "#### Reporte de clasificación y matriz de confusión para Voting:"
      ]
    },
    {
      "cell_type": "code",
      "execution_count": null,
      "metadata": {
        "id": "--REwlasVoRf",
        "outputId": "1f21d8ae-9d89-460e-ecfb-7786294bae64",
        "colab": {
          "base_uri": "https://localhost:8080/",
          "height": 668
        }
      },
      "outputs": [
        {
          "output_type": "stream",
          "name": "stdout",
          "text": [
            "381/381 [==============================] - 0s 1ms/step\n",
            "              precision    recall  f1-score   support\n",
            "\n",
            "           0       0.86      0.89      0.88      6033\n",
            "           1       0.89      0.85      0.87      6138\n",
            "\n",
            "    accuracy                           0.87     12171\n",
            "   macro avg       0.88      0.87      0.87     12171\n",
            "weighted avg       0.88      0.87      0.87     12171\n",
            "\n"
          ]
        },
        {
          "output_type": "execute_result",
          "data": {
            "text/plain": [
              "Text(50.722222222222214, 0.5, 'True')"
            ]
          },
          "metadata": {},
          "execution_count": 32
        },
        {
          "output_type": "display_data",
          "data": {
            "text/plain": [
              "<Figure size 640x480 with 2 Axes>"
            ],
            "image/png": "[encoded data removed]"
          },
          "metadata": {}
        }
      ],
      "source": [
        "# Hacemos predicción sobre el set de evaluacion\n",
        "y_pred = vot_clf.predict(x_test_norm)\n",
        "\n",
        "# Reporte y Matriz de Confusion\n",
        "print(classification_report(y_test, y_pred))\n",
        "\n",
        "cm = confusion_matrix(y_test, y_pred)\n",
        "sns.heatmap(cm, cmap='GnBu',annot=True,fmt='g')\n",
        "plt.title(\"Matriz de confusión F1 Score - Voting\")\n",
        "plt.xlabel('Predicted')\n",
        "plt.ylabel('True')"
      ]
    },
    {
      "cell_type": "markdown",
      "metadata": {
        "id": "4TifbaJQVoRf"
      },
      "source": [
        "#### Comparamos todos los modelos"
      ]
    },
    {
      "cell_type": "code",
      "execution_count": null,
      "metadata": {
        "colab": {
          "base_uri": "https://localhost:8080/"
        },
        "id": "mzMJzJh4VoRf",
        "outputId": "835b793c-4717-4de3-d6c8-b16981d0036f"
      },
      "outputs": [
        {
          "output_type": "stream",
          "name": "stderr",
          "text": [
            "[Parallel(n_jobs=-1)]: Using backend LokyBackend with 2 concurrent workers.\n",
            "[Parallel(n_jobs=-1)]: Done  10 out of  10 | elapsed: 77.5min finished\n"
          ]
        }
      ],
      "source": [
        "# Evaluamos los scores de stacking\n",
        "stacking_scores = evaluate_model(stacking_model, x_train_norm, y_train)\n",
        "model_scores['stacking'] = stacking_scores"
      ]
    },
    {
      "cell_type": "code",
      "execution_count": null,
      "metadata": {
        "colab": {
          "base_uri": "https://localhost:8080/"
        },
        "id": "5CFbtqkLVoRf",
        "outputId": "f986523b-e11e-407c-91e5-b2e88ca93222"
      },
      "outputs": [
        {
          "output_type": "stream",
          "name": "stdout",
          "text": [
            "[0.89257472 0.88815857 0.89615859 0.88547658 0.89739113 0.89195851\n",
            " 0.8906234  0.8891742  0.89502876 0.89430978]\n"
          ]
        }
      ],
      "source": [
        "print(stacking_scores)"
      ]
    },
    {
      "cell_type": "code",
      "execution_count": null,
      "metadata": {
        "id": "XzAY0khvVoRf",
        "outputId": "2a71006b-eb0d-4be1-a319-a647ef65fa03",
        "colab": {
          "base_uri": "https://localhost:8080/"
        }
      },
      "outputs": [
        {
          "output_type": "stream",
          "name": "stderr",
          "text": [
            "[Parallel(n_jobs=-1)]: Using backend LokyBackend with 2 concurrent workers.\n",
            "[Parallel(n_jobs=-1)]: Done  10 out of  10 | elapsed: 17.4min finished\n"
          ]
        }
      ],
      "source": [
        "# Evaluamos los scores de voting\n",
        "voting_scores = evaluate_model(vot_clf, x_train_norm, y_train)\n",
        "model_scores['voting'] = voting_scores"
      ]
    },
    {
      "cell_type": "code",
      "execution_count": null,
      "metadata": {
        "id": "vX0IiD6QVoRf",
        "outputId": "f02bd220-b769-4ce5-b382-85b4f4a66170",
        "colab": {
          "base_uri": "https://localhost:8080/"
        }
      },
      "outputs": [
        {
          "output_type": "stream",
          "name": "stdout",
          "text": [
            "[0.87768306 0.87624525 0.88167625 0.87284306 0.88660641 0.87737496\n",
            " 0.87983979 0.87777321 0.87890304 0.88095727]\n"
          ]
        }
      ],
      "source": [
        "print(voting_scores)"
      ]
    },
    {
      "cell_type": "code",
      "execution_count": null,
      "metadata": {
        "colab": {
          "base_uri": "https://localhost:8080/"
        },
        "id": "SUdEvkSYVoRh",
        "outputId": "37136068-09dd-45b5-e8c0-dc69cbb0101f"
      },
      "outputs": [
        {
          "output_type": "execute_result",
          "data": {
            "text/plain": [
              "defaultdict(None,\n",
              "            {'RN': array([0.87429393, 0.88322892, 0.88249795, 0.88362777, 0.88249795,\n",
              "                    0.8812776 , 0.88651535, 0.88218981, 0.88506574, 0.87880033]),\n",
              "             'SVM': array([0.84091609, 0.84225121, 0.84593262, 0.83709942, 0.85065735,\n",
              "                    0.84009448, 0.8419431 , 0.84233772, 0.84315941, 0.84377568]),\n",
              "             'RF': array([0.86967238, 0.86618055, 0.86822104, 0.864318  , 0.87078882,\n",
              "                    0.86833727, 0.8708021 , 0.86493426, 0.86647494, 0.86822104]),\n",
              "             'KNN': array([0.84286741, 0.83578104, 0.84028348, 0.83011504, 0.84428924,\n",
              "                    0.83649995, 0.8420458 , 0.83966721, 0.84161873, 0.8386401 ]),\n",
              "             'XGB': array([0.88261271, 0.87963438, 0.88578472, 0.87859491, 0.88424404,\n",
              "                    0.88066139, 0.88261271, 0.88311422, 0.88198439, 0.88670912]),\n",
              "             'DT': array([0.85293211, 0.85375372, 0.85959326, 0.85322514, 0.85527938,\n",
              "                    0.85765636, 0.85426723, 0.85230074, 0.85527938, 0.85219803]),\n",
              "             'stacking': array([0.89257472, 0.88815857, 0.89615859, 0.88547658, 0.89739113,\n",
              "                    0.89195851, 0.8906234 , 0.8891742 , 0.89502876, 0.89430978]),\n",
              "             'voting': array([0.87768306, 0.87624525, 0.88167625, 0.87284306, 0.88660641,\n",
              "                    0.87737496, 0.87983979, 0.87777321, 0.87890304, 0.88095727])})"
            ]
          },
          "metadata": {},
          "execution_count": 37
        }
      ],
      "source": [
        "model_scores"
      ]
    },
    {
      "cell_type": "code",
      "execution_count": null,
      "metadata": {
        "colab": {
          "base_uri": "https://localhost:8080/",
          "height": 542
        },
        "id": "UvXDLVkhVoRh",
        "outputId": "afa98d13-4c34-4718-a7dc-569dce9629a3"
      },
      "outputs": [
        {
          "output_type": "display_data",
          "data": {
            "text/html": [
              "<html>\n",
              "<head><meta charset=\"utf-8\" /></head>\n",
              "<body>\n",
              "    <div>            <script src=\"https://cdnjs.cloudflare.com/ajax/libs/mathjax/2.7.5/MathJax.js?config=TeX-AMS-MML_SVG\"></script><script type=\"text/javascript\">if (window.MathJax && window.MathJax.Hub && window.MathJax.Hub.Config) {window.MathJax.Hub.Config({SVG: {font: \"STIX-Web\"}});}</script>                <script type=\"text/javascript\">window.PlotlyConfig = {MathJaxConfig: 'local'};</script>\n",
              "        <script src=\"https://cdn.plot.ly/plotly-2.18.2.min.js\"></script>                <div id=\"f6ee71c3-0997-4faf-b276-0e744202ecea\" class=\"plotly-graph-div\" style=\"height:525px; width:100%;\"></div>            <script type=\"text/javascript\">                                    window.PLOTLYENV=window.PLOTLYENV || {};                                    if (document.getElementById(\"f6ee71c3-0997-4faf-b276-0e744202ecea\")) {                    Plotly.newPlot(                        \"f6ee71c3-0997-4faf-b276-0e744202ecea\",                        [{\"error_y\":{\"array\":[0.0032345360926084375],\"color\":\"black\",\"thickness\":1,\"type\":\"data\",\"visible\":true,\"width\":5},\"name\":\"RN\",\"x\":[\"RN\"],\"y\":[0.8819995345541732],\"type\":\"bar\"},{\"error_y\":{\"array\":[0.003424095290429565],\"color\":\"black\",\"thickness\":1,\"type\":\"data\",\"visible\":true,\"width\":5},\"name\":\"SVM\",\"x\":[\"SVM\"],\"y\":[0.8428167090705776],\"type\":\"bar\"},{\"error_y\":{\"array\":[0.0021635534345147427],\"color\":\"black\",\"thickness\":1,\"type\":\"data\",\"visible\":true,\"width\":5},\"name\":\"RF\",\"x\":[\"RF\"],\"y\":[0.8677950391095169],\"type\":\"bar\"},{\"error_y\":{\"array\":[0.0039562262229802395],\"color\":\"black\",\"thickness\":1,\"type\":\"data\",\"visible\":true,\"width\":5},\"name\":\"KNN\",\"x\":[\"KNN\"],\"y\":[0.8391808012098638],\"type\":\"bar\"},{\"error_y\":{\"array\":[0.002428322726958604],\"color\":\"black\",\"thickness\":1,\"type\":\"data\",\"visible\":true,\"width\":5},\"name\":\"XGB\",\"x\":[\"XGB\"],\"y\":[0.882595259642484],\"type\":\"bar\"},{\"error_y\":{\"array\":[0.0022743927670344772],\"color\":\"black\",\"thickness\":1,\"type\":\"data\",\"visible\":true,\"width\":5},\"name\":\"DT\",\"x\":[\"DT\"],\"y\":[0.8546485352359493],\"type\":\"bar\"},{\"error_y\":{\"array\":[0.003582141072806239],\"color\":\"black\",\"thickness\":1,\"type\":\"data\",\"visible\":true,\"width\":5},\"name\":\"stacking\",\"x\":[\"stacking\"],\"y\":[0.8920854219886044],\"type\":\"bar\"},{\"error_y\":{\"array\":[0.003477658218763628],\"color\":\"black\",\"thickness\":1,\"type\":\"data\",\"visible\":true,\"width\":5},\"name\":\"voting\",\"x\":[\"voting\"],\"y\":[0.878990230658766],\"type\":\"bar\"}],                        {\"template\":{\"data\":{\"histogram2dcontour\":[{\"type\":\"histogram2dcontour\",\"colorbar\":{\"outlinewidth\":0,\"ticks\":\"\"},\"colorscale\":[[0.0,\"#0d0887\"],[0.1111111111111111,\"#46039f\"],[0.2222222222222222,\"#7201a8\"],[0.3333333333333333,\"#9c179e\"],[0.4444444444444444,\"#bd3786\"],[0.5555555555555556,\"#d8576b\"],[0.6666666666666666,\"#ed7953\"],[0.7777777777777778,\"#fb9f3a\"],[0.8888888888888888,\"#fdca26\"],[1.0,\"#f0f921\"]]}],\"choropleth\":[{\"type\":\"choropleth\",\"colorbar\":{\"outlinewidth\":0,\"ticks\":\"\"}}],\"histogram2d\":[{\"type\":\"histogram2d\",\"colorbar\":{\"outlinewidth\":0,\"ticks\":\"\"},\"colorscale\":[[0.0,\"#0d0887\"],[0.1111111111111111,\"#46039f\"],[0.2222222222222222,\"#7201a8\"],[0.3333333333333333,\"#9c179e\"],[0.4444444444444444,\"#bd3786\"],[0.5555555555555556,\"#d8576b\"],[0.6666666666666666,\"#ed7953\"],[0.7777777777777778,\"#fb9f3a\"],[0.8888888888888888,\"#fdca26\"],[1.0,\"#f0f921\"]]}],\"heatmap\":[{\"type\":\"heatmap\",\"colorbar\":{\"outlinewidth\":0,\"ticks\":\"\"},\"colorscale\":[[0.0,\"#0d0887\"],[0.1111111111111111,\"#46039f\"],[0.2222222222222222,\"#7201a8\"],[0.3333333333333333,\"#9c179e\"],[0.4444444444444444,\"#bd3786\"],[0.5555555555555556,\"#d8576b\"],[0.6666666666666666,\"#ed7953\"],[0.7777777777777778,\"#fb9f3a\"],[0.8888888888888888,\"#fdca26\"],[1.0,\"#f0f921\"]]}],\"heatmapgl\":[{\"type\":\"heatmapgl\",\"colorbar\":{\"outlinewidth\":0,\"ticks\":\"\"},\"colorscale\":[[0.0,\"#0d0887\"],[0.1111111111111111,\"#46039f\"],[0.2222222222222222,\"#7201a8\"],[0.3333333333333333,\"#9c179e\"],[0.4444444444444444,\"#bd3786\"],[0.5555555555555556,\"#d8576b\"],[0.6666666666666666,\"#ed7953\"],[0.7777777777777778,\"#fb9f3a\"],[0.8888888888888888,\"#fdca26\"],[1.0,\"#f0f921\"]]}],\"contourcarpet\":[{\"type\":\"contourcarpet\",\"colorbar\":{\"outlinewidth\":0,\"ticks\":\"\"}}],\"contour\":[{\"type\":\"contour\",\"colorbar\":{\"outlinewidth\":0,\"ticks\":\"\"},\"colorscale\":[[0.0,\"#0d0887\"],[0.1111111111111111,\"#46039f\"],[0.2222222222222222,\"#7201a8\"],[0.3333333333333333,\"#9c179e\"],[0.4444444444444444,\"#bd3786\"],[0.5555555555555556,\"#d8576b\"],[0.6666666666666666,\"#ed7953\"],[0.7777777777777778,\"#fb9f3a\"],[0.8888888888888888,\"#fdca26\"],[1.0,\"#f0f921\"]]}],\"surface\":[{\"type\":\"surface\",\"colorbar\":{\"outlinewidth\":0,\"ticks\":\"\"},\"colorscale\":[[0.0,\"#0d0887\"],[0.1111111111111111,\"#46039f\"],[0.2222222222222222,\"#7201a8\"],[0.3333333333333333,\"#9c179e\"],[0.4444444444444444,\"#bd3786\"],[0.5555555555555556,\"#d8576b\"],[0.6666666666666666,\"#ed7953\"],[0.7777777777777778,\"#fb9f3a\"],[0.8888888888888888,\"#fdca26\"],[1.0,\"#f0f921\"]]}],\"mesh3d\":[{\"type\":\"mesh3d\",\"colorbar\":{\"outlinewidth\":0,\"ticks\":\"\"}}],\"scatter\":[{\"fillpattern\":{\"fillmode\":\"overlay\",\"size\":10,\"solidity\":0.2},\"type\":\"scatter\"}],\"parcoords\":[{\"type\":\"parcoords\",\"line\":{\"colorbar\":{\"outlinewidth\":0,\"ticks\":\"\"}}}],\"scatterpolargl\":[{\"type\":\"scatterpolargl\",\"marker\":{\"colorbar\":{\"outlinewidth\":0,\"ticks\":\"\"}}}],\"bar\":[{\"error_x\":{\"color\":\"#2a3f5f\"},\"error_y\":{\"color\":\"#2a3f5f\"},\"marker\":{\"line\":{\"color\":\"#E5ECF6\",\"width\":0.5},\"pattern\":{\"fillmode\":\"overlay\",\"size\":10,\"solidity\":0.2}},\"type\":\"bar\"}],\"scattergeo\":[{\"type\":\"scattergeo\",\"marker\":{\"colorbar\":{\"outlinewidth\":0,\"ticks\":\"\"}}}],\"scatterpolar\":[{\"type\":\"scatterpolar\",\"marker\":{\"colorbar\":{\"outlinewidth\":0,\"ticks\":\"\"}}}],\"histogram\":[{\"marker\":{\"pattern\":{\"fillmode\":\"overlay\",\"size\":10,\"solidity\":0.2}},\"type\":\"histogram\"}],\"scattergl\":[{\"type\":\"scattergl\",\"marker\":{\"colorbar\":{\"outlinewidth\":0,\"ticks\":\"\"}}}],\"scatter3d\":[{\"type\":\"scatter3d\",\"line\":{\"colorbar\":{\"outlinewidth\":0,\"ticks\":\"\"}},\"marker\":{\"colorbar\":{\"outlinewidth\":0,\"ticks\":\"\"}}}],\"scattermapbox\":[{\"type\":\"scattermapbox\",\"marker\":{\"colorbar\":{\"outlinewidth\":0,\"ticks\":\"\"}}}],\"scatterternary\":[{\"type\":\"scatterternary\",\"marker\":{\"colorbar\":{\"outlinewidth\":0,\"ticks\":\"\"}}}],\"scattercarpet\":[{\"type\":\"scattercarpet\",\"marker\":{\"colorbar\":{\"outlinewidth\":0,\"ticks\":\"\"}}}],\"carpet\":[{\"aaxis\":{\"endlinecolor\":\"#2a3f5f\",\"gridcolor\":\"white\",\"linecolor\":\"white\",\"minorgridcolor\":\"white\",\"startlinecolor\":\"#2a3f5f\"},\"baxis\":{\"endlinecolor\":\"#2a3f5f\",\"gridcolor\":\"white\",\"linecolor\":\"white\",\"minorgridcolor\":\"white\",\"startlinecolor\":\"#2a3f5f\"},\"type\":\"carpet\"}],\"table\":[{\"cells\":{\"fill\":{\"color\":\"#EBF0F8\"},\"line\":{\"color\":\"white\"}},\"header\":{\"fill\":{\"color\":\"#C8D4E3\"},\"line\":{\"color\":\"white\"}},\"type\":\"table\"}],\"barpolar\":[{\"marker\":{\"line\":{\"color\":\"#E5ECF6\",\"width\":0.5},\"pattern\":{\"fillmode\":\"overlay\",\"size\":10,\"solidity\":0.2}},\"type\":\"barpolar\"}],\"pie\":[{\"automargin\":true,\"type\":\"pie\"}]},\"layout\":{\"autotypenumbers\":\"strict\",\"colorway\":[\"#636efa\",\"#EF553B\",\"#00cc96\",\"#ab63fa\",\"#FFA15A\",\"#19d3f3\",\"#FF6692\",\"#B6E880\",\"#FF97FF\",\"#FECB52\"],\"font\":{\"color\":\"#2a3f5f\"},\"hovermode\":\"closest\",\"hoverlabel\":{\"align\":\"left\"},\"paper_bgcolor\":\"white\",\"plot_bgcolor\":\"#E5ECF6\",\"polar\":{\"bgcolor\":\"#E5ECF6\",\"angularaxis\":{\"gridcolor\":\"white\",\"linecolor\":\"white\",\"ticks\":\"\"},\"radialaxis\":{\"gridcolor\":\"white\",\"linecolor\":\"white\",\"ticks\":\"\"}},\"ternary\":{\"bgcolor\":\"#E5ECF6\",\"aaxis\":{\"gridcolor\":\"white\",\"linecolor\":\"white\",\"ticks\":\"\"},\"baxis\":{\"gridcolor\":\"white\",\"linecolor\":\"white\",\"ticks\":\"\"},\"caxis\":{\"gridcolor\":\"white\",\"linecolor\":\"white\",\"ticks\":\"\"}},\"coloraxis\":{\"colorbar\":{\"outlinewidth\":0,\"ticks\":\"\"}},\"colorscale\":{\"sequential\":[[0.0,\"#0d0887\"],[0.1111111111111111,\"#46039f\"],[0.2222222222222222,\"#7201a8\"],[0.3333333333333333,\"#9c179e\"],[0.4444444444444444,\"#bd3786\"],[0.5555555555555556,\"#d8576b\"],[0.6666666666666666,\"#ed7953\"],[0.7777777777777778,\"#fb9f3a\"],[0.8888888888888888,\"#fdca26\"],[1.0,\"#f0f921\"]],\"sequentialminus\":[[0.0,\"#0d0887\"],[0.1111111111111111,\"#46039f\"],[0.2222222222222222,\"#7201a8\"],[0.3333333333333333,\"#9c179e\"],[0.4444444444444444,\"#bd3786\"],[0.5555555555555556,\"#d8576b\"],[0.6666666666666666,\"#ed7953\"],[0.7777777777777778,\"#fb9f3a\"],[0.8888888888888888,\"#fdca26\"],[1.0,\"#f0f921\"]],\"diverging\":[[0,\"#8e0152\"],[0.1,\"#c51b7d\"],[0.2,\"#de77ae\"],[0.3,\"#f1b6da\"],[0.4,\"#fde0ef\"],[0.5,\"#f7f7f7\"],[0.6,\"#e6f5d0\"],[0.7,\"#b8e186\"],[0.8,\"#7fbc41\"],[0.9,\"#4d9221\"],[1,\"#276419\"]]},\"xaxis\":{\"gridcolor\":\"white\",\"linecolor\":\"white\",\"ticks\":\"\",\"title\":{\"standoff\":15},\"zerolinecolor\":\"white\",\"automargin\":true,\"zerolinewidth\":2},\"yaxis\":{\"gridcolor\":\"white\",\"linecolor\":\"white\",\"ticks\":\"\",\"title\":{\"standoff\":15},\"zerolinecolor\":\"white\",\"automargin\":true,\"zerolinewidth\":2},\"scene\":{\"xaxis\":{\"backgroundcolor\":\"#E5ECF6\",\"gridcolor\":\"white\",\"linecolor\":\"white\",\"showbackground\":true,\"ticks\":\"\",\"zerolinecolor\":\"white\",\"gridwidth\":2},\"yaxis\":{\"backgroundcolor\":\"#E5ECF6\",\"gridcolor\":\"white\",\"linecolor\":\"white\",\"showbackground\":true,\"ticks\":\"\",\"zerolinecolor\":\"white\",\"gridwidth\":2},\"zaxis\":{\"backgroundcolor\":\"#E5ECF6\",\"gridcolor\":\"white\",\"linecolor\":\"white\",\"showbackground\":true,\"ticks\":\"\",\"zerolinecolor\":\"white\",\"gridwidth\":2}},\"shapedefaults\":{\"line\":{\"color\":\"#2a3f5f\"}},\"annotationdefaults\":{\"arrowcolor\":\"#2a3f5f\",\"arrowhead\":0,\"arrowwidth\":1},\"geo\":{\"bgcolor\":\"white\",\"landcolor\":\"#E5ECF6\",\"subunitcolor\":\"white\",\"showland\":true,\"showlakes\":true,\"lakecolor\":\"white\"},\"title\":{\"x\":0.05},\"mapbox\":{\"style\":\"light\"}}},\"title\":{\"text\":\"Score de Accuracy de cada modelo usando 5-Fold Cross-Validation\"},\"paper_bgcolor\":\"rgb(243, 243, 243)\",\"plot_bgcolor\":\"rgb(243, 243, 243)\",\"xaxis\":{\"title\":{\"text\":\"Model\"}},\"yaxis\":{\"title\":{\"text\":\"Accuracy\"}},\"showlegend\":false},                        {\"responsive\": true}                    ).then(function(){\n",
              "                            \n",
              "var gd = document.getElementById('f6ee71c3-0997-4faf-b276-0e744202ecea');\n",
              "var x = new MutationObserver(function (mutations, observer) {{\n",
              "        var display = window.getComputedStyle(gd).display;\n",
              "        if (!display || display === 'none') {{\n",
              "            console.log([gd, 'removed!']);\n",
              "            Plotly.purge(gd);\n",
              "            observer.disconnect();\n",
              "        }}\n",
              "}});\n",
              "\n",
              "// Listen for the removal of the full notebook cells\n",
              "var notebookContainer = gd.closest('#notebook-container');\n",
              "if (notebookContainer) {{\n",
              "    x.observe(notebookContainer, {childList: true});\n",
              "}}\n",
              "\n",
              "// Listen for the clearing of the current output cell\n",
              "var outputEl = gd.closest('.output');\n",
              "if (outputEl) {{\n",
              "    x.observe(outputEl, {childList: true});\n",
              "}}\n",
              "\n",
              "                        })                };                            </script>        </div>\n",
              "</body>\n",
              "</html>"
            ]
          },
          "metadata": {}
        }
      ],
      "source": [
        "# Graficamos los resultados\n",
        "bar_plot_results(model_scores, name='stacking_model_cv')"
      ]
    },
    {
      "cell_type": "markdown",
      "metadata": {
        "id": "kZiWNf6dVoRh"
      },
      "source": [
        "---"
      ]
    },
    {
      "cell_type": "markdown",
      "metadata": {
        "id": "gVqUUupAVoRh"
      },
      "source": [
        "## Aplicación de modelos al dataset de test"
      ]
    },
    {
      "cell_type": "markdown",
      "metadata": {
        "id": "PFFO7dtxVoRh"
      },
      "source": [
        "##### Lectura del dataset de test preprocesado:"
      ]
    },
    {
      "cell_type": "code",
      "execution_count": null,
      "metadata": {
        "id": "XSZ2T8zjVoRh"
      },
      "outputs": [],
      "source": [
        "hotel_test = pd.read_csv('./dataset/hotels_test_preprocesado.csv')"
      ]
    },
    {
      "cell_type": "markdown",
      "metadata": {
        "id": "C67evFV9VoRi"
      },
      "source": [
        "##### Lectura del dataset de test original para mantener id:"
      ]
    },
    {
      "cell_type": "code",
      "execution_count": null,
      "metadata": {
        "id": "IcQ0YGMyVoRi"
      },
      "outputs": [],
      "source": [
        "hotel_test_df = pd.read_csv('./dataset/hotels_test.csv')"
      ]
    },
    {
      "cell_type": "markdown",
      "metadata": {
        "id": "AQurN11RVoRi"
      },
      "source": [
        "##### Predicción y exportación:"
      ]
    },
    {
      "cell_type": "code",
      "execution_count": null,
      "metadata": {
        "id": "WsSkwFGwVoRi"
      },
      "outputs": [],
      "source": [
        "x_test_final = hotel_test[features]\n",
        "x_test_final_cat = x_test_final[cols_categorical].copy()\n",
        "x_test_final_cat.columns = cols_categorical\n",
        "\n",
        "x_test_final_norm = pd.DataFrame(data=stand_scaler.transform(x_test_final[cols_to_normalize].copy()))\n",
        "x_test_final_norm.columns = cols_to_normalize\n",
        "\n",
        "x_test_final = pd.concat([x_test_final_norm, x_test_final_cat], axis=1)"
      ]
    },
    {
      "cell_type": "code",
      "execution_count": null,
      "metadata": {
        "colab": {
          "base_uri": "https://localhost:8080/"
        },
        "id": "Fg-kRuUvVoRj",
        "outputId": "533a84a5-4665-4114-e8eb-1a65788fdc36"
      },
      "outputs": [
        {
          "output_type": "stream",
          "name": "stdout",
          "text": [
            "830/830 [==============================] - 1s 1ms/step\n",
            "830/830 [==============================] - 1s 2ms/step\n"
          ]
        }
      ],
      "source": [
        "y_pred_final_stacking = stacking_model.predict(x_test_final)\n",
        "\n",
        "y_pred_final_voting = vot_clf.predict(x_test_final)"
      ]
    },
    {
      "cell_type": "code",
      "execution_count": null,
      "metadata": {
        "colab": {
          "base_uri": "https://localhost:8080/"
        },
        "id": "Qksv9J9nVoRj",
        "outputId": "1e78bcbc-eb2f-4e7c-fde4-2362b9df28f9"
      },
      "outputs": [
        {
          "output_type": "execute_result",
          "data": {
            "text/plain": [
              "array([1, 1, 0, ..., 1, 1, 0])"
            ]
          },
          "metadata": {},
          "execution_count": 48
        }
      ],
      "source": [
        "# TODO: asegurarse que y_pred_final tenga la forma correcta\n",
        "y_pred_final_stacking"
      ]
    },
    {
      "cell_type": "code",
      "execution_count": null,
      "metadata": {
        "id": "D2xYIRgXVoRk",
        "outputId": "fb5addc5-da5c-4d65-ba0d-fe2db0969a2f",
        "colab": {
          "base_uri": "https://localhost:8080/"
        }
      },
      "outputs": [
        {
          "output_type": "execute_result",
          "data": {
            "text/plain": [
              "array([1, 1, 0, ..., 1, 1, 0])"
            ]
          },
          "metadata": {},
          "execution_count": 49
        }
      ],
      "source": [
        "y_pred_final_voting"
      ]
    },
    {
      "cell_type": "markdown",
      "metadata": {
        "id": "P_kwd7X-VoRk"
      },
      "source": [
        "Una prediccion correcta deberia ser alrededor del 50% para cada clase, ya que el dataset de test esta balanceado."
      ]
    },
    {
      "cell_type": "code",
      "execution_count": null,
      "metadata": {
        "colab": {
          "base_uri": "https://localhost:8080/"
        },
        "id": "OFe0TYSMVoRk",
        "outputId": "c9a54b6b-f2db-47ae-b12e-938014b48466"
      },
      "outputs": [
        {
          "output_type": "stream",
          "name": "stdout",
          "text": [
            "Resultado de la predicción STACKING: \n",
            "No cancela: 13213\n",
            "Cancela: 13322\n",
            "Porceentaje de cancelaciones: 50.21%\n"
          ]
        }
      ],
      "source": [
        "counts = np.bincount(y_pred_final_stacking)\n",
        "count_0 = counts[0]  # Cantidad de elementos 0\n",
        "count_1 = counts[1]  # Cantidad de elementos 1\n",
        "\n",
        "print(\"Resultado de la predicción STACKING: \")\n",
        "print(\"No cancela:\", count_0)\n",
        "print(\"Cancela:\", count_1)\n",
        "print(\"Porceentaje de cancelaciones: {:.2f}%\".format(count_1/(count_0+count_1)*100))"
      ]
    },
    {
      "cell_type": "code",
      "execution_count": null,
      "metadata": {
        "id": "-hRf-_80VoRl",
        "outputId": "c5391bb1-f6fc-46e5-a84a-7ee94bf030df",
        "colab": {
          "base_uri": "https://localhost:8080/"
        }
      },
      "outputs": [
        {
          "output_type": "stream",
          "name": "stdout",
          "text": [
            "Resultado de la predicción VOTING: \n",
            "No cancela: 13690\n",
            "Cancela: 12845\n",
            "Porceentaje de cancelaciones: 48.41%\n"
          ]
        }
      ],
      "source": [
        "counts = np.bincount(y_pred_final_voting)\n",
        "count_0 = counts[0]  # Cantidad de elementos 0\n",
        "count_1 = counts[1]  # Cantidad de elementos 1\n",
        "\n",
        "print(\"Resultado de la predicción VOTING: \")\n",
        "print(\"No cancela:\", count_0)\n",
        "print(\"Cancela:\", count_1)\n",
        "print(\"Porceentaje de cancelaciones: {:.2f}%\".format(count_1/(count_0+count_1)*100))"
      ]
    },
    {
      "cell_type": "code",
      "execution_count": null,
      "metadata": {
        "id": "YTWWRRLdVoRl"
      },
      "outputs": [],
      "source": [
        "pd.concat([hotel_test_df['id'],pd.DataFrame(data=y_pred_final_stacking, columns=['is_canceled'])], axis=1).to_csv('./predicciones/pred_stacking_recargado.csv', index=False)\n",
        "\n",
        "pd.concat([hotel_test_df['id'],pd.DataFrame(data=y_pred_final_voting, columns=['is_canceled'])], axis=1).to_csv('./predicciones/pred_voting_recargado.csv', index=False)"
      ]
    },
    {
      "cell_type": "markdown",
      "metadata": {
        "id": "9e9Dhy1mVoRl"
      },
      "source": [
        "---"
      ]
    },
    {
      "cell_type": "markdown",
      "metadata": {
        "id": "5PWg_VqrVoRl"
      },
      "source": [
        "## Exportación de modelos"
      ]
    },
    {
      "cell_type": "code",
      "execution_count": null,
      "metadata": {
        "id": "Ai9g3Y55VoRm"
      },
      "outputs": [],
      "source": [
        "dump(stacking_model, open('./modelos/model_stacking_recargado.pkl', 'wb'))\n",
        "\n",
        "dump(vot_clf, open('./modelos/model_voting_recargado.pkl', 'wb'))"
      ]
    },
    {
      "cell_type": "markdown",
      "metadata": {
        "id": "0iRHcf9nVoRm"
      },
      "source": [
        "---"
      ]
    }
  ],
  "metadata": {
    "kernelspec": {
      "display_name": "base",
      "language": "python",
      "name": "python3"
    },
    "language_info": {
      "codemirror_mode": {
        "name": "ipython",
        "version": 3
      },
      "file_extension": ".py",
      "mimetype": "text/x-python",
      "name": "python",
      "nbconvert_exporter": "python",
      "pygments_lexer": "ipython3",
      "version": "3.10.9"
    },
    "orig_nbformat": 4,
    "colab": {
      "provenance": [],
      "collapsed_sections": [
        "kB551kbVVoRJ",
        "gSUHn73PVoRM",
        "Nm1lVb9CVoRT",
        "xvLPiWuBVoRV",
        "s7uaHDrKVoRZ",
        "eipDSzPGVoRZ",
        "PFFO7dtxVoRh",
        "5PWg_VqrVoRl"
      ]
    }
  },
  "nbformat": 4,
  "nbformat_minor": 0
}