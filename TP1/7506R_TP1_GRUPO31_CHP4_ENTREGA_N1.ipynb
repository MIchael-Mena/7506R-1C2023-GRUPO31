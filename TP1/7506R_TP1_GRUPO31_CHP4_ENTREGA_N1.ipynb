{
 "cells": [
  {
   "attachments": {},
   "cell_type": "markdown",
   "metadata": {},
   "source": [
    "## <center><ins>Trabajo Práctico 1: Reservas de hotel</ins></center>\n",
    "#### <center>*Checkpoint 4: Redes Neuronales - Preprocesamiento*</center>\n",
    "##### <center>75.06 / 95.58 Organización de Datos - FIUBA</center>\n",
    "##### <center>Ing. Rodríguez - 1°C 2023</center>\n",
    "---\n",
    "#### <center>**Grupo 31 - \"Datazo\":**</center>\n",
    "<center> Michael Mena - 102685</center>\n",
    "<center>Pablo Brocca - 104256</center>\n",
    "<center>Diego Kisinovsky - 106203</center>"
   ]
  },
  {
   "attachments": {},
   "cell_type": "markdown",
   "metadata": {},
   "source": [
    "---\n",
    "---"
   ]
  },
  {
   "attachments": {},
   "cell_type": "markdown",
   "metadata": {},
   "source": [
    "## Dataset de entrenamiento"
   ]
  },
  {
   "attachments": {},
   "cell_type": "markdown",
   "metadata": {},
   "source": [
    "##### Importamos las librerias"
   ]
  },
  {
   "cell_type": "code",
   "execution_count": 143,
   "metadata": {},
   "outputs": [],
   "source": [
    "import pandas as pd\n",
    "import numpy as np\n",
    "from sklearn.preprocessing import StandardScaler"
   ]
  },
  {
   "attachments": {},
   "cell_type": "markdown",
   "metadata": {},
   "source": [
    "##### Lectura del dataset"
   ]
  },
  {
   "cell_type": "code",
   "execution_count": null,
   "metadata": {},
   "outputs": [],
   "source": [
    "hotel = pd.read_csv('./dataset/hotels_train.csv')"
   ]
  },
  {
   "attachments": {},
   "cell_type": "markdown",
   "metadata": {},
   "source": [
    "##### Aplicamos el preprocesamiento de Checkpoint 1:"
   ]
  },
  {
   "cell_type": "code",
   "execution_count": 144,
   "metadata": {},
   "outputs": [],
   "source": [
    "hotel.drop(hotel[hotel['adults'] == 0].index, inplace = True)\n",
    "hotel.drop(hotel[hotel['adr'] == 0].index, inplace = True)\n",
    "hotel.drop(hotel[hotel.days_in_waiting_list > 300].index, inplace=True)\n",
    "hotel = hotel.drop('company',axis=1)\n",
    "hotel['children'].fillna(0,inplace=True)\n",
    "hotel['agent'] = hotel['agent'].fillna(0)\n",
    "hotel = hotel.drop('reservation_status_date',axis=1)\n",
    "hotel[\"stays_in_nights\"] = hotel[\"stays_in_week_nights\"] + hotel[\"stays_in_weekend_nights\"]\n",
    "hotel[\"total_of_guests\"] = hotel[\"adults\"] + hotel[\"children\"] + hotel[\"babies\"]\n",
    "hotel['country'].fillna('PRT',inplace=True)"
   ]
  },
  {
   "attachments": {},
   "cell_type": "markdown",
   "metadata": {},
   "source": [
    "##### Terminamos de adaptar las variables más importantes para poder usar en el entrenamiento:"
   ]
  },
  {
   "cell_type": "code",
   "execution_count": 145,
   "metadata": {},
   "outputs": [],
   "source": [
    "\n",
    "# Creamos la variable room_type_unchanged que indica si el tipo de habitación se mantuvo igual entre la reserva y la asignación\n",
    "hotel[\"room_type_unchanged\"] = hotel[\"reserved_room_type\"] == hotel[\"assigned_room_type\"]\n",
    "\n",
    "# Convertimos las columnas con booleanos a 0 y 1\n",
    "hotel[\"room_type_unchanged\"] = hotel[\"room_type_unchanged\"].astype(int)\n",
    "\n",
    "# Cambiamos los meses por números\n",
    "hotel[\"arrival_date_month\"].replace([\"January\", \"February\", \"March\", \"April\", \"May\", \"June\",\n",
    "                                     \"July\",\"August\",\"September\",\"October\",\"November\",\"December\"],\n",
    "                                     [1, 2, 3, 4, 5, 6, 7, 8, 9, 10, 11, 12], inplace=True)"
   ]
  },
  {
   "attachments": {},
   "cell_type": "markdown",
   "metadata": {},
   "source": [
    "Como consideramos que es más pertinente al estudio del target el hecho de si se respetó el tipo de habitación hecho en la reserva, en lugar de los tipos de habitación en sí, para el entrenamiento dejamos de lado las variables _reserved_room_type_ y _assigned_room_type_ en favor de _room_type_unchanged_."
   ]
  },
  {
   "attachments": {},
   "cell_type": "markdown",
   "metadata": {},
   "source": [
    "##### Target Encoding para la variable _country_:"
   ]
  },
  {
   "cell_type": "code",
   "execution_count": 146,
   "metadata": {},
   "outputs": [],
   "source": [
    "# Obtener el recuento de cancelaciones y no cancelaciones por país\n",
    "country_counts = hotel.groupby('country')['is_canceled'].value_counts().unstack().reset_index()\n",
    "\n",
    "# Calcular la proporción de cancelaciones y no cancelaciones\n",
    "country_counts['cancel_ratio'] = country_counts[1] / (country_counts[0] + country_counts[1])\n",
    "\n",
    "# Calcular el peso ponderado\n",
    "country_counts['weight'] = country_counts[0] / country_counts[1]\n",
    "\n",
    "# Reemplazar valores infinitos con NaN\n",
    "country_counts['weight'] = country_counts['weight'].replace([float('inf')], float('nan'))\n",
    "\n",
    "# Calcular la media de 'country_encoded' sin considerar los valores nulos\n",
    "mean_encoding = np.nanmean(country_counts['cancel_ratio'])\n",
    "\n",
    "# Crear un diccionario de codificación ponderada y reemplazar los valores nulos con la media\n",
    "encoding_dict = country_counts.set_index('country')['cancel_ratio'].fillna(mean_encoding).to_dict()\n",
    "\n",
    "# Aplicar codificación ponderada a la columna 'country'\n",
    "hotel['country_encoded'] = hotel['country'].map(encoding_dict)\n"
   ]
  },
  {
   "attachments": {},
   "cell_type": "markdown",
   "metadata": {},
   "source": [
    "##### One Hot Encoding para variables categóricas:"
   ]
  },
  {
   "cell_type": "code",
   "execution_count": 147,
   "metadata": {},
   "outputs": [
    {
     "data": {
      "text/plain": [
       "['customer_type_Group',\n",
       " 'customer_type_Transient',\n",
       " 'customer_type_Transient-Party',\n",
       " 'deposit_type_Non Refund',\n",
       " 'deposit_type_Refundable',\n",
       " 'hotel_Resort Hotel',\n",
       " 'distribution_channel_Direct',\n",
       " 'distribution_channel_GDS',\n",
       " 'distribution_channel_TA/TO',\n",
       " 'distribution_channel_Undefined',\n",
       " 'market_segment_Complementary',\n",
       " 'market_segment_Corporate',\n",
       " 'market_segment_Direct',\n",
       " 'market_segment_Groups',\n",
       " 'market_segment_Offline TA/TO',\n",
       " 'market_segment_Online TA',\n",
       " 'market_segment_Undefined',\n",
       " 'meal_FB',\n",
       " 'meal_HB',\n",
       " 'meal_SC',\n",
       " 'meal_Undefined']"
      ]
     },
     "execution_count": 147,
     "metadata": {},
     "output_type": "execute_result"
    }
   ],
   "source": [
    "# Dejamos las k variables dummies de cada columna para evitar inconsistencias de orden con el dataframe de test\n",
    "hotel_dummies = pd.get_dummies(\n",
    "    hotel,\n",
    "    columns=[\"customer_type\", \"deposit_type\", \"hotel\",\n",
    "             \"distribution_channel\", \"market_segment\", \"meal\"], drop_first=True) #Eliminamos las dommies sobrantes ya que no aportan información\n",
    "\n",
    "dummies = hotel_dummies.drop(hotel_dummies[hotel.drop([\"customer_type\",\"deposit_type\",\"hotel\",\"distribution_channel\",\n",
    "                                                      \"market_segment\",\"meal\"],axis=1).columns],axis=1)\n",
    "\n",
    "dummies.columns.tolist()\n",
    "# Todas estas columnas tienen valores binarios, falta incluir a \"room_type_unchanged\" y \"country_encoded\"\n",
    "# Deberian ser ignoradas al momento de normalizar"
   ]
  },
  {
   "attachments": {},
   "cell_type": "markdown",
   "metadata": {},
   "source": [
    "##### Preparación de features:"
   ]
  },
  {
   "cell_type": "code",
   "execution_count": 148,
   "metadata": {},
   "outputs": [],
   "source": [
    "hotel_train = hotel_dummies.drop(['id', 'reserved_room_type', 'assigned_room_type',\n",
    "                                  'country', 'arrival_date_week_number', 'adults', 'children',\n",
    "                                  'babies', 'stays_in_week_nights', 'stays_in_weekend_nights'],axis=1)"
   ]
  },
  {
   "cell_type": "code",
   "execution_count": 149,
   "metadata": {},
   "outputs": [
    {
     "data": {
      "text/plain": [
       "lead_time                           49.000000\n",
       "arrival_date_year                 2016.000000\n",
       "arrival_date_month                   9.000000\n",
       "arrival_date_day_of_month            5.000000\n",
       "is_repeated_guest                    0.000000\n",
       "previous_cancellations               0.000000\n",
       "previous_bookings_not_canceled       0.000000\n",
       "booking_changes                      0.000000\n",
       "agent                                9.000000\n",
       "days_in_waiting_list                 0.000000\n",
       "adr                                115.500000\n",
       "required_car_parking_spaces          0.000000\n",
       "total_of_special_requests            1.000000\n",
       "is_canceled                          1.000000\n",
       "stays_in_nights                      3.000000\n",
       "total_of_guests                      1.000000\n",
       "room_type_unchanged                  1.000000\n",
       "country_encoded                      0.339268\n",
       "customer_type_Group                  0.000000\n",
       "customer_type_Transient              1.000000\n",
       "customer_type_Transient-Party        0.000000\n",
       "deposit_type_Non Refund              0.000000\n",
       "deposit_type_Refundable              0.000000\n",
       "hotel_Resort Hotel                   0.000000\n",
       "distribution_channel_Direct          0.000000\n",
       "distribution_channel_GDS             0.000000\n",
       "distribution_channel_TA/TO           1.000000\n",
       "distribution_channel_Undefined       0.000000\n",
       "market_segment_Complementary         0.000000\n",
       "market_segment_Corporate             0.000000\n",
       "market_segment_Direct                0.000000\n",
       "market_segment_Groups                0.000000\n",
       "market_segment_Offline TA/TO         0.000000\n",
       "market_segment_Online TA             1.000000\n",
       "market_segment_Undefined             0.000000\n",
       "meal_FB                              0.000000\n",
       "meal_HB                              0.000000\n",
       "meal_SC                              0.000000\n",
       "meal_Undefined                       0.000000\n",
       "Name: 0, dtype: float64"
      ]
     },
     "execution_count": 149,
     "metadata": {},
     "output_type": "execute_result"
    }
   ],
   "source": [
    "hotel_train.loc[0]"
   ]
  },
  {
   "attachments": {},
   "cell_type": "markdown",
   "metadata": {},
   "source": [
    "##### Estandarización de datos:"
   ]
  },
  {
   "attachments": {},
   "cell_type": "markdown",
   "metadata": {},
   "source": [
    "Versión estandarizada con: $\\frac{x_i - mean(x)}{stdev(x)}$"
   ]
  },
  {
   "cell_type": "code",
   "execution_count": null,
   "metadata": {},
   "outputs": [],
   "source": [
    "cols_to_normalize = [\"lead_time\",\n",
    "                     \"arrival_date_year\",\n",
    "                     \"arrival_date_month\",\n",
    "                     \"arrival_date_day_of_month\",\n",
    "                     \"is_repeated_guest\",\n",
    "                     \"previous_cancellations\",\n",
    "                     \"previous_bookings_not_canceled\",\n",
    "                     \"booking_changes\",\n",
    "                     \"agent\",\n",
    "                     \"days_in_waiting_list\",\n",
    "                     \"adr\",\n",
    "                     \"required_car_parking_spaces\",\n",
    "                     \"total_of_special_requests\",\n",
    "                     \"stays_in_nights\",\n",
    "                     \"total_of_guests\"]"
   ]
  },
  {
   "cell_type": "code",
   "execution_count": null,
   "metadata": {},
   "outputs": [],
   "source": [
    "# Separación de datos para normalizar\n",
    "# x_train_to_norm = pd.DataFrame(x_train, columns=features).drop(cols_categorical, axis=1)\n",
    "# x_test_to_norm = pd.DataFrame(x_test, columns=features).drop(cols_categorical, axis=1)\n",
    "# hotel_train_to_norm = hotel_train[cols_to_normalize]\n",
    "\n",
    "# Separación de datos categoricos\n",
    "# x_train_encoded = pd.DataFrame(x_train, columns=features).drop(cols_to_normalize, axis=1)\n",
    "# x_test_encoded = pd.DataFrame(x_test, columns=features).drop(cols_to_normalize, axis=1)"
   ]
  },
  {
   "cell_type": "code",
   "execution_count": null,
   "metadata": {},
   "outputs": [],
   "source": [
    "# Aplicamos la transformación de escalado de características\n",
    "# stand_scaler = StandardScaler()\n",
    "# x_train_norm_scaled = stand_scaler.fit_transform(x_train_to_norm)\n",
    "# x_test_norm_scaled = stand_scaler.transform(x_test_to_norm)\n",
    "# hotel_train_norm_scaled = stand_scaler.fit_transform(hotel_train_to_norm)\n",
    "\n",
    "\n",
    "# Convertir las matrices escaladas nuevamente en DataFrames\n",
    "# x_train_numeric = pd.DataFrame(x_train_norm_scaled, columns=cols_to_normalize)\n",
    "# x_test_numeric = pd.DataFrame(x_test_norm_scaled, columns=cols_to_normalize)\n",
    "# hotel_train_numeric = hotel_train_norm_scaled[cols_to_normalize]\n",
    "\n",
    "\n",
    "# Alternativa 1 : Concatenar los datos\n",
    "# x_train_norm = pd.concat([x_train_numeric, x_train_encoded], axis=1)\n",
    "# x_test_norm = pd.concat([x_test_numeric, x_test_encoded], axis=1)\n",
    "\n",
    "# Alternativa 2 : Usar listas (Necesario para el modelo con capas para categoricos y numericos)\n",
    "# x_train_norm = [x_train_encoded, x_train_numeric]\n",
    "# x_test_norm = [x_test_encoded, x_test_numeric]"
   ]
  },
  {
   "attachments": {},
   "cell_type": "markdown",
   "metadata": {},
   "source": [
    "---"
   ]
  },
  {
   "attachments": {},
   "cell_type": "markdown",
   "metadata": {},
   "source": [
    "## Dataset de test"
   ]
  },
  {
   "attachments": {},
   "cell_type": "markdown",
   "metadata": {},
   "source": [
    "##### Lectura del dataset:"
   ]
  },
  {
   "cell_type": "code",
   "execution_count": 150,
   "metadata": {},
   "outputs": [
    {
     "data": {
      "text/html": [
       "<div>\n",
       "<style scoped>\n",
       "    .dataframe tbody tr th:only-of-type {\n",
       "        vertical-align: middle;\n",
       "    }\n",
       "\n",
       "    .dataframe tbody tr th {\n",
       "        vertical-align: top;\n",
       "    }\n",
       "\n",
       "    .dataframe thead th {\n",
       "        text-align: right;\n",
       "    }\n",
       "</style>\n",
       "<table border=\"1\" class=\"dataframe\">\n",
       "  <thead>\n",
       "    <tr style=\"text-align: right;\">\n",
       "      <th></th>\n",
       "      <th>hotel</th>\n",
       "      <th>lead_time</th>\n",
       "      <th>arrival_date_year</th>\n",
       "      <th>arrival_date_month</th>\n",
       "      <th>arrival_date_week_number</th>\n",
       "      <th>arrival_date_day_of_month</th>\n",
       "      <th>stays_in_weekend_nights</th>\n",
       "      <th>stays_in_week_nights</th>\n",
       "      <th>adults</th>\n",
       "      <th>children</th>\n",
       "      <th>...</th>\n",
       "      <th>deposit_type</th>\n",
       "      <th>agent</th>\n",
       "      <th>company</th>\n",
       "      <th>days_in_waiting_list</th>\n",
       "      <th>customer_type</th>\n",
       "      <th>adr</th>\n",
       "      <th>required_car_parking_spaces</th>\n",
       "      <th>total_of_special_requests</th>\n",
       "      <th>reservation_status_date</th>\n",
       "      <th>id</th>\n",
       "    </tr>\n",
       "  </thead>\n",
       "  <tbody>\n",
       "    <tr>\n",
       "      <th>0</th>\n",
       "      <td>City Hotel</td>\n",
       "      <td>277</td>\n",
       "      <td>2016</td>\n",
       "      <td>November</td>\n",
       "      <td>46</td>\n",
       "      <td>7</td>\n",
       "      <td>1</td>\n",
       "      <td>2</td>\n",
       "      <td>2</td>\n",
       "      <td>0.0</td>\n",
       "      <td>...</td>\n",
       "      <td>Non Refund</td>\n",
       "      <td>NaN</td>\n",
       "      <td>NaN</td>\n",
       "      <td>0</td>\n",
       "      <td>Transient</td>\n",
       "      <td>100.00</td>\n",
       "      <td>0</td>\n",
       "      <td>0</td>\n",
       "      <td>2016-04-04</td>\n",
       "      <td>e6d0d58a-ab96-44d3-b28f-85df1cc15f1e</td>\n",
       "    </tr>\n",
       "    <tr>\n",
       "      <th>1</th>\n",
       "      <td>City Hotel</td>\n",
       "      <td>286</td>\n",
       "      <td>2016</td>\n",
       "      <td>May</td>\n",
       "      <td>20</td>\n",
       "      <td>11</td>\n",
       "      <td>0</td>\n",
       "      <td>4</td>\n",
       "      <td>2</td>\n",
       "      <td>0.0</td>\n",
       "      <td>...</td>\n",
       "      <td>No Deposit</td>\n",
       "      <td>30.0</td>\n",
       "      <td>NaN</td>\n",
       "      <td>176</td>\n",
       "      <td>Transient-Party</td>\n",
       "      <td>101.00</td>\n",
       "      <td>0</td>\n",
       "      <td>0</td>\n",
       "      <td>2016-01-22</td>\n",
       "      <td>aba9aac2-4495-4645-a60e-90328713c999</td>\n",
       "    </tr>\n",
       "    <tr>\n",
       "      <th>2</th>\n",
       "      <td>City Hotel</td>\n",
       "      <td>0</td>\n",
       "      <td>2016</td>\n",
       "      <td>August</td>\n",
       "      <td>35</td>\n",
       "      <td>23</td>\n",
       "      <td>0</td>\n",
       "      <td>1</td>\n",
       "      <td>3</td>\n",
       "      <td>0.0</td>\n",
       "      <td>...</td>\n",
       "      <td>No Deposit</td>\n",
       "      <td>NaN</td>\n",
       "      <td>NaN</td>\n",
       "      <td>0</td>\n",
       "      <td>Transient</td>\n",
       "      <td>225.00</td>\n",
       "      <td>0</td>\n",
       "      <td>2</td>\n",
       "      <td>2016-08-24</td>\n",
       "      <td>b345b5dc-c804-4d77-a39f-1f4e65d1f1ad</td>\n",
       "    </tr>\n",
       "    <tr>\n",
       "      <th>3</th>\n",
       "      <td>Resort Hotel</td>\n",
       "      <td>196</td>\n",
       "      <td>2016</td>\n",
       "      <td>October</td>\n",
       "      <td>44</td>\n",
       "      <td>29</td>\n",
       "      <td>2</td>\n",
       "      <td>5</td>\n",
       "      <td>2</td>\n",
       "      <td>2.0</td>\n",
       "      <td>...</td>\n",
       "      <td>No Deposit</td>\n",
       "      <td>240.0</td>\n",
       "      <td>NaN</td>\n",
       "      <td>0</td>\n",
       "      <td>Transient</td>\n",
       "      <td>96.00</td>\n",
       "      <td>0</td>\n",
       "      <td>0</td>\n",
       "      <td>2016-11-05</td>\n",
       "      <td>ce1b400e-afa1-4946-bdff-004b859eb61c</td>\n",
       "    </tr>\n",
       "    <tr>\n",
       "      <th>4</th>\n",
       "      <td>Resort Hotel</td>\n",
       "      <td>232</td>\n",
       "      <td>2016</td>\n",
       "      <td>November</td>\n",
       "      <td>48</td>\n",
       "      <td>26</td>\n",
       "      <td>2</td>\n",
       "      <td>1</td>\n",
       "      <td>2</td>\n",
       "      <td>0.0</td>\n",
       "      <td>...</td>\n",
       "      <td>Non Refund</td>\n",
       "      <td>11.0</td>\n",
       "      <td>NaN</td>\n",
       "      <td>0</td>\n",
       "      <td>Transient</td>\n",
       "      <td>30.00</td>\n",
       "      <td>0</td>\n",
       "      <td>0</td>\n",
       "      <td>2016-10-18</td>\n",
       "      <td>c4fbec0d-8e2e-4db2-9d4f-a6ccb9f51214</td>\n",
       "    </tr>\n",
       "    <tr>\n",
       "      <th>...</th>\n",
       "      <td>...</td>\n",
       "      <td>...</td>\n",
       "      <td>...</td>\n",
       "      <td>...</td>\n",
       "      <td>...</td>\n",
       "      <td>...</td>\n",
       "      <td>...</td>\n",
       "      <td>...</td>\n",
       "      <td>...</td>\n",
       "      <td>...</td>\n",
       "      <td>...</td>\n",
       "      <td>...</td>\n",
       "      <td>...</td>\n",
       "      <td>...</td>\n",
       "      <td>...</td>\n",
       "      <td>...</td>\n",
       "      <td>...</td>\n",
       "      <td>...</td>\n",
       "      <td>...</td>\n",
       "      <td>...</td>\n",
       "      <td>...</td>\n",
       "    </tr>\n",
       "    <tr>\n",
       "      <th>26530</th>\n",
       "      <td>City Hotel</td>\n",
       "      <td>31</td>\n",
       "      <td>2017</td>\n",
       "      <td>April</td>\n",
       "      <td>16</td>\n",
       "      <td>21</td>\n",
       "      <td>2</td>\n",
       "      <td>3</td>\n",
       "      <td>2</td>\n",
       "      <td>0.0</td>\n",
       "      <td>...</td>\n",
       "      <td>No Deposit</td>\n",
       "      <td>21.0</td>\n",
       "      <td>NaN</td>\n",
       "      <td>0</td>\n",
       "      <td>Transient-Party</td>\n",
       "      <td>85.00</td>\n",
       "      <td>0</td>\n",
       "      <td>0</td>\n",
       "      <td>2017-04-26</td>\n",
       "      <td>636ccded-66ad-4538-8006-c0b9f84c6256</td>\n",
       "    </tr>\n",
       "    <tr>\n",
       "      <th>26531</th>\n",
       "      <td>City Hotel</td>\n",
       "      <td>130</td>\n",
       "      <td>2016</td>\n",
       "      <td>September</td>\n",
       "      <td>36</td>\n",
       "      <td>3</td>\n",
       "      <td>2</td>\n",
       "      <td>1</td>\n",
       "      <td>2</td>\n",
       "      <td>0.0</td>\n",
       "      <td>...</td>\n",
       "      <td>No Deposit</td>\n",
       "      <td>42.0</td>\n",
       "      <td>NaN</td>\n",
       "      <td>0</td>\n",
       "      <td>Transient</td>\n",
       "      <td>80.75</td>\n",
       "      <td>0</td>\n",
       "      <td>0</td>\n",
       "      <td>2016-09-06</td>\n",
       "      <td>11e19741-bd28-4459-8ea3-184f1664000f</td>\n",
       "    </tr>\n",
       "    <tr>\n",
       "      <th>26532</th>\n",
       "      <td>Resort Hotel</td>\n",
       "      <td>45</td>\n",
       "      <td>2016</td>\n",
       "      <td>August</td>\n",
       "      <td>35</td>\n",
       "      <td>22</td>\n",
       "      <td>1</td>\n",
       "      <td>1</td>\n",
       "      <td>2</td>\n",
       "      <td>0.0</td>\n",
       "      <td>...</td>\n",
       "      <td>No Deposit</td>\n",
       "      <td>240.0</td>\n",
       "      <td>NaN</td>\n",
       "      <td>0</td>\n",
       "      <td>Transient</td>\n",
       "      <td>231.00</td>\n",
       "      <td>0</td>\n",
       "      <td>0</td>\n",
       "      <td>2016-08-04</td>\n",
       "      <td>36a4c7b0-d6b1-4528-93db-311be96ec1c6</td>\n",
       "    </tr>\n",
       "    <tr>\n",
       "      <th>26533</th>\n",
       "      <td>City Hotel</td>\n",
       "      <td>164</td>\n",
       "      <td>2017</td>\n",
       "      <td>August</td>\n",
       "      <td>32</td>\n",
       "      <td>10</td>\n",
       "      <td>2</td>\n",
       "      <td>4</td>\n",
       "      <td>2</td>\n",
       "      <td>0.0</td>\n",
       "      <td>...</td>\n",
       "      <td>No Deposit</td>\n",
       "      <td>85.0</td>\n",
       "      <td>NaN</td>\n",
       "      <td>0</td>\n",
       "      <td>Transient</td>\n",
       "      <td>80.10</td>\n",
       "      <td>0</td>\n",
       "      <td>0</td>\n",
       "      <td>2017-03-07</td>\n",
       "      <td>89c85fa5-2b3d-4131-844c-e151a65ca240</td>\n",
       "    </tr>\n",
       "    <tr>\n",
       "      <th>26534</th>\n",
       "      <td>Resort Hotel</td>\n",
       "      <td>136</td>\n",
       "      <td>2016</td>\n",
       "      <td>March</td>\n",
       "      <td>13</td>\n",
       "      <td>24</td>\n",
       "      <td>0</td>\n",
       "      <td>3</td>\n",
       "      <td>2</td>\n",
       "      <td>0.0</td>\n",
       "      <td>...</td>\n",
       "      <td>No Deposit</td>\n",
       "      <td>387.0</td>\n",
       "      <td>NaN</td>\n",
       "      <td>0</td>\n",
       "      <td>Transient-Party</td>\n",
       "      <td>84.00</td>\n",
       "      <td>0</td>\n",
       "      <td>0</td>\n",
       "      <td>2016-03-27</td>\n",
       "      <td>bd4e9eee-f28e-4a53-b4a1-277426efbcee</td>\n",
       "    </tr>\n",
       "  </tbody>\n",
       "</table>\n",
       "<p>26535 rows × 31 columns</p>\n",
       "</div>"
      ],
      "text/plain": [
       "              hotel  lead_time  arrival_date_year arrival_date_month  \\\n",
       "0        City Hotel        277               2016           November   \n",
       "1        City Hotel        286               2016                May   \n",
       "2        City Hotel          0               2016             August   \n",
       "3      Resort Hotel        196               2016            October   \n",
       "4      Resort Hotel        232               2016           November   \n",
       "...             ...        ...                ...                ...   \n",
       "26530    City Hotel         31               2017              April   \n",
       "26531    City Hotel        130               2016          September   \n",
       "26532  Resort Hotel         45               2016             August   \n",
       "26533    City Hotel        164               2017             August   \n",
       "26534  Resort Hotel        136               2016              March   \n",
       "\n",
       "       arrival_date_week_number  arrival_date_day_of_month  \\\n",
       "0                            46                          7   \n",
       "1                            20                         11   \n",
       "2                            35                         23   \n",
       "3                            44                         29   \n",
       "4                            48                         26   \n",
       "...                         ...                        ...   \n",
       "26530                        16                         21   \n",
       "26531                        36                          3   \n",
       "26532                        35                         22   \n",
       "26533                        32                         10   \n",
       "26534                        13                         24   \n",
       "\n",
       "       stays_in_weekend_nights  stays_in_week_nights  adults  children  ...  \\\n",
       "0                            1                     2       2       0.0  ...   \n",
       "1                            0                     4       2       0.0  ...   \n",
       "2                            0                     1       3       0.0  ...   \n",
       "3                            2                     5       2       2.0  ...   \n",
       "4                            2                     1       2       0.0  ...   \n",
       "...                        ...                   ...     ...       ...  ...   \n",
       "26530                        2                     3       2       0.0  ...   \n",
       "26531                        2                     1       2       0.0  ...   \n",
       "26532                        1                     1       2       0.0  ...   \n",
       "26533                        2                     4       2       0.0  ...   \n",
       "26534                        0                     3       2       0.0  ...   \n",
       "\n",
       "       deposit_type  agent company days_in_waiting_list    customer_type  \\\n",
       "0        Non Refund    NaN     NaN                    0        Transient   \n",
       "1        No Deposit   30.0     NaN                  176  Transient-Party   \n",
       "2        No Deposit    NaN     NaN                    0        Transient   \n",
       "3        No Deposit  240.0     NaN                    0        Transient   \n",
       "4        Non Refund   11.0     NaN                    0        Transient   \n",
       "...             ...    ...     ...                  ...              ...   \n",
       "26530    No Deposit   21.0     NaN                    0  Transient-Party   \n",
       "26531    No Deposit   42.0     NaN                    0        Transient   \n",
       "26532    No Deposit  240.0     NaN                    0        Transient   \n",
       "26533    No Deposit   85.0     NaN                    0        Transient   \n",
       "26534    No Deposit  387.0     NaN                    0  Transient-Party   \n",
       "\n",
       "          adr  required_car_parking_spaces  total_of_special_requests  \\\n",
       "0      100.00                            0                          0   \n",
       "1      101.00                            0                          0   \n",
       "2      225.00                            0                          2   \n",
       "3       96.00                            0                          0   \n",
       "4       30.00                            0                          0   \n",
       "...       ...                          ...                        ...   \n",
       "26530   85.00                            0                          0   \n",
       "26531   80.75                            0                          0   \n",
       "26532  231.00                            0                          0   \n",
       "26533   80.10                            0                          0   \n",
       "26534   84.00                            0                          0   \n",
       "\n",
       "      reservation_status_date                                    id  \n",
       "0                  2016-04-04  e6d0d58a-ab96-44d3-b28f-85df1cc15f1e  \n",
       "1                  2016-01-22  aba9aac2-4495-4645-a60e-90328713c999  \n",
       "2                  2016-08-24  b345b5dc-c804-4d77-a39f-1f4e65d1f1ad  \n",
       "3                  2016-11-05  ce1b400e-afa1-4946-bdff-004b859eb61c  \n",
       "4                  2016-10-18  c4fbec0d-8e2e-4db2-9d4f-a6ccb9f51214  \n",
       "...                       ...                                   ...  \n",
       "26530              2017-04-26  636ccded-66ad-4538-8006-c0b9f84c6256  \n",
       "26531              2016-09-06  11e19741-bd28-4459-8ea3-184f1664000f  \n",
       "26532              2016-08-04  36a4c7b0-d6b1-4528-93db-311be96ec1c6  \n",
       "26533              2017-03-07  89c85fa5-2b3d-4131-844c-e151a65ca240  \n",
       "26534              2016-03-27  bd4e9eee-f28e-4a53-b4a1-277426efbcee  \n",
       "\n",
       "[26535 rows x 31 columns]"
      ]
     },
     "execution_count": 150,
     "metadata": {},
     "output_type": "execute_result"
    }
   ],
   "source": [
    "hotel_test_df = pd.read_csv('./dataset/hotels_test.csv')\n",
    "hotel_test_df"
   ]
  },
  {
   "attachments": {},
   "cell_type": "markdown",
   "metadata": {},
   "source": [
    "##### Copia del dataset para mantener id:"
   ]
  },
  {
   "cell_type": "code",
   "execution_count": 151,
   "metadata": {},
   "outputs": [],
   "source": [
    "hotel_test = hotel_test_df.copy()"
   ]
  },
  {
   "attachments": {},
   "cell_type": "markdown",
   "metadata": {},
   "source": [
    "##### Se aplican los cambios del preprocesamiento:"
   ]
  },
  {
   "cell_type": "code",
   "execution_count": 152,
   "metadata": {},
   "outputs": [],
   "source": [
    "hotel_test = hotel_test.drop('company',axis=1)\n",
    "hotel_test['children'].fillna(0,inplace=True)\n",
    "hotel_test['agent'] = hotel_test['agent'].fillna(0)\n",
    "hotel_test['country'].fillna('PRT',inplace=True)\n",
    "hotel_test = hotel_test.drop('reservation_status_date',axis=1)\n",
    "hotel_test[\"stays_in_nights\"] = hotel_test[\"stays_in_week_nights\"] + hotel_test[\"stays_in_weekend_nights\"]\n",
    "hotel_test[\"total_of_guests\"] = hotel_test[\"adults\"] + hotel_test[\"children\"] + hotel_test[\"babies\"]\n",
    "hotel_test[\"room_type_unchanged\"] = hotel_test[\"reserved_room_type\"] == hotel_test[\"assigned_room_type\"]\n",
    "hotel_test[\"arrival_date_month\"].replace([\"January\", \"February\", \"March\", \"April\", \"May\", \"June\",\n",
    "                                     \"July\",\"August\",\"September\",\"October\",\"November\",\"December\"],\n",
    "                                     [1, 2, 3, 4, 5, 6, 7, 8, 9, 10, 11, 12], inplace=True)\n"
   ]
  },
  {
   "cell_type": "code",
   "execution_count": 153,
   "metadata": {},
   "outputs": [],
   "source": [
    "# Convertimos las columnas con booleanos a 0 y 1\n",
    "hotel_test[\"room_type_unchanged\"] = hotel_test[\"room_type_unchanged\"].astype(int)"
   ]
  },
  {
   "attachments": {},
   "cell_type": "markdown",
   "metadata": {},
   "source": [
    "##### Target Encoding para la variable _country_ del dataset de test:"
   ]
  },
  {
   "cell_type": "code",
   "execution_count": 154,
   "metadata": {},
   "outputs": [],
   "source": [
    "# Como no tenemos el target en el dataset de test no podemos aplicar la codificación ponderada\n",
    "# Entonces utilizamos el diccionario de codificación ponderada del dataset de train\n",
    "hotel_test['country_encoded'] = hotel_test['country'].map(encoding_dict)"
   ]
  },
  {
   "cell_type": "code",
   "execution_count": 155,
   "metadata": {},
   "outputs": [],
   "source": [
    "# Aplicamos la codificación ponderada a los valores nulos\n",
    "hotel_test['country_encoded'].fillna(mean_encoding,inplace=True)"
   ]
  },
  {
   "attachments": {},
   "cell_type": "markdown",
   "metadata": {},
   "source": [
    "##### One hot encoding para variables categóricas de test:"
   ]
  },
  {
   "cell_type": "code",
   "execution_count": 156,
   "metadata": {},
   "outputs": [
    {
     "data": {
      "text/plain": [
       "['customer_type_Group',\n",
       " 'customer_type_Transient',\n",
       " 'customer_type_Transient-Party',\n",
       " 'deposit_type_Non Refund',\n",
       " 'deposit_type_Refundable',\n",
       " 'hotel_Resort Hotel',\n",
       " 'distribution_channel_Direct',\n",
       " 'distribution_channel_GDS',\n",
       " 'distribution_channel_TA/TO',\n",
       " 'market_segment_Complementary',\n",
       " 'market_segment_Corporate',\n",
       " 'market_segment_Direct',\n",
       " 'market_segment_Groups',\n",
       " 'market_segment_Offline TA/TO',\n",
       " 'market_segment_Online TA',\n",
       " 'meal_FB',\n",
       " 'meal_HB',\n",
       " 'meal_SC',\n",
       " 'meal_Undefined']"
      ]
     },
     "execution_count": 156,
     "metadata": {},
     "output_type": "execute_result"
    }
   ],
   "source": [
    "hotel_dummies_test = pd.get_dummies(hotel_test, columns=[\"customer_type\", \"deposit_type\", \"hotel\",\n",
    "                                                         \"distribution_channel\", \"market_segment\", \"meal\"], drop_first=True)\n",
    "\n",
    "dummies_test = hotel_dummies_test.drop(hotel_dummies_test[hotel_test.drop([\"customer_type\",\"deposit_type\",\"hotel\",\"distribution_channel\",\n",
    "                                                                 \"market_segment\",\"meal\"],axis=1).columns],axis=1)\n",
    "\n",
    "dummies_test.columns.tolist()"
   ]
  },
  {
   "attachments": {},
   "cell_type": "markdown",
   "metadata": {},
   "source": [
    "Quitamos las mismas variables que en el dataset de entrenamiento:"
   ]
  },
  {
   "cell_type": "code",
   "execution_count": 157,
   "metadata": {},
   "outputs": [],
   "source": [
    "hotel_test = hotel_dummies_test.drop(['id', 'reserved_room_type', 'assigned_room_type','country',\n",
    "                                      'arrival_date_week_number','adults', 'children','babies',\n",
    "                                      'stays_in_week_nights', 'stays_in_weekend_nights'],axis=1)"
   ]
  },
  {
   "attachments": {},
   "cell_type": "markdown",
   "metadata": {},
   "source": [
    "Revisamos si quedaron variables que no están en el dataset de test pero sí en el de entrenamiento:"
   ]
  },
  {
   "cell_type": "code",
   "execution_count": 158,
   "metadata": {},
   "outputs": [
    {
     "data": {
      "text/plain": [
       "['distribution_channel_Undefined', 'market_segment_Undefined']"
      ]
     },
     "execution_count": 158,
     "metadata": {},
     "output_type": "execute_result"
    }
   ],
   "source": [
    "test_difference = [col for col in hotel_train.drop('is_canceled',axis=1).columns.tolist() if col not in hotel_test.columns.tolist()]\n",
    "test_difference"
   ]
  },
  {
   "attachments": {},
   "cell_type": "markdown",
   "metadata": {},
   "source": [
    "Como son columnas dummies de valores que no aparecen, las agregamos al dataset de test con valor 0:"
   ]
  },
  {
   "cell_type": "code",
   "execution_count": 159,
   "metadata": {},
   "outputs": [
    {
     "data": {
      "text/html": [
       "<div>\n",
       "<style scoped>\n",
       "    .dataframe tbody tr th:only-of-type {\n",
       "        vertical-align: middle;\n",
       "    }\n",
       "\n",
       "    .dataframe tbody tr th {\n",
       "        vertical-align: top;\n",
       "    }\n",
       "\n",
       "    .dataframe thead th {\n",
       "        text-align: right;\n",
       "    }\n",
       "</style>\n",
       "<table border=\"1\" class=\"dataframe\">\n",
       "  <thead>\n",
       "    <tr style=\"text-align: right;\">\n",
       "      <th></th>\n",
       "      <th>distribution_channel_Undefined</th>\n",
       "      <th>market_segment_Undefined</th>\n",
       "    </tr>\n",
       "  </thead>\n",
       "  <tbody>\n",
       "    <tr>\n",
       "      <th>0</th>\n",
       "      <td>0</td>\n",
       "      <td>0</td>\n",
       "    </tr>\n",
       "    <tr>\n",
       "      <th>1</th>\n",
       "      <td>0</td>\n",
       "      <td>0</td>\n",
       "    </tr>\n",
       "    <tr>\n",
       "      <th>2</th>\n",
       "      <td>0</td>\n",
       "      <td>0</td>\n",
       "    </tr>\n",
       "    <tr>\n",
       "      <th>3</th>\n",
       "      <td>0</td>\n",
       "      <td>0</td>\n",
       "    </tr>\n",
       "    <tr>\n",
       "      <th>4</th>\n",
       "      <td>0</td>\n",
       "      <td>0</td>\n",
       "    </tr>\n",
       "    <tr>\n",
       "      <th>5</th>\n",
       "      <td>0</td>\n",
       "      <td>0</td>\n",
       "    </tr>\n",
       "    <tr>\n",
       "      <th>6</th>\n",
       "      <td>0</td>\n",
       "      <td>0</td>\n",
       "    </tr>\n",
       "    <tr>\n",
       "      <th>7</th>\n",
       "      <td>0</td>\n",
       "      <td>0</td>\n",
       "    </tr>\n",
       "    <tr>\n",
       "      <th>8</th>\n",
       "      <td>0</td>\n",
       "      <td>0</td>\n",
       "    </tr>\n",
       "    <tr>\n",
       "      <th>9</th>\n",
       "      <td>0</td>\n",
       "      <td>0</td>\n",
       "    </tr>\n",
       "  </tbody>\n",
       "</table>\n",
       "</div>"
      ],
      "text/plain": [
       "   distribution_channel_Undefined  market_segment_Undefined\n",
       "0                               0                         0\n",
       "1                               0                         0\n",
       "2                               0                         0\n",
       "3                               0                         0\n",
       "4                               0                         0\n",
       "5                               0                         0\n",
       "6                               0                         0\n",
       "7                               0                         0\n",
       "8                               0                         0\n",
       "9                               0                         0"
      ]
     },
     "execution_count": 159,
     "metadata": {},
     "output_type": "execute_result"
    }
   ],
   "source": [
    "hotel_test['distribution_channel_Undefined'] = 0\n",
    "hotel_test['market_segment_Undefined'] = 0\n",
    "\n",
    "hotel_test[['distribution_channel_Undefined','market_segment_Undefined']].head(10)"
   ]
  },
  {
   "attachments": {},
   "cell_type": "markdown",
   "metadata": {},
   "source": [
    "---"
   ]
  },
  {
   "attachments": {},
   "cell_type": "markdown",
   "metadata": {},
   "source": [
    "## Exportación de datasets preprocesados"
   ]
  },
  {
   "cell_type": "code",
   "execution_count": 160,
   "metadata": {},
   "outputs": [],
   "source": [
    "# Entrenamiento\n",
    "hotel_train.to_csv('./dataset/hotels_train_preprocesado.csv', index=False)\n",
    "\n",
    "# Test\n",
    "hotel_test.to_csv('./dataset/hotels_test_preprocesado.csv', index=False)"
   ]
  }
 ],
 "metadata": {
  "kernelspec": {
   "display_name": "base",
   "language": "python",
   "name": "python3"
  },
  "language_info": {
   "codemirror_mode": {
    "name": "ipython",
    "version": 3
   },
   "file_extension": ".py",
   "mimetype": "text/x-python",
   "name": "python",
   "nbconvert_exporter": "python",
   "pygments_lexer": "ipython3",
   "version": "3.10.9"
  },
  "orig_nbformat": 4
 },
 "nbformat": 4,
 "nbformat_minor": 2
}
