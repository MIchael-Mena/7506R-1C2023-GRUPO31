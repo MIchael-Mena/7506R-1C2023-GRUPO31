{
 "cells": [
  {
   "attachments": {},
   "cell_type": "markdown",
   "metadata": {},
   "source": [
    "## <center><ins>Trabajo Práctico 1: Reservas de hotel</ins></center>\n",
    "#### <center>*Checkpoint 3: Ensambles - Stacking y Voting*</center>\n",
    "##### <center>75.06 / 95.58 Organización de Datos - FIUBA</center>\n",
    "##### <center>Ing. Rodríguez - 1°C 2023</center>\n",
    "---\n",
    "#### <center>**Grupo 31 - \"Datazo\":**</center>\n",
    "<center> Michael Mena - 102685</center>\n",
    "<center>Pablo Brocca - 104256</center>\n",
    "<center>Diego Kisinovsky - 106203</center>"
   ]
  },
  {
   "attachments": {},
   "cell_type": "markdown",
   "metadata": {},
   "source": [
    "---\n",
    "---"
   ]
  },
  {
   "attachments": {},
   "cell_type": "markdown",
   "metadata": {},
   "source": [
    "## Carga de datos y librerías"
   ]
  },
  {
   "attachments": {},
   "cell_type": "markdown",
   "metadata": {},
   "source": [
    "##### Imports:"
   ]
  },
  {
   "cell_type": "code",
   "execution_count": 15,
   "metadata": {},
   "outputs": [],
   "source": [
    "import pandas as pd\n",
    "import numpy as np\n",
    "\n",
    "# Visualización\n",
    "import matplotlib.pyplot as plt\n",
    "import seaborn as sns\n",
    "import sklearn as sk\n",
    "from IPython.display import Image\n",
    "\n",
    "# Modelos y métricas\n",
    "from sklearn.model_selection import train_test_split, cross_validate, StratifiedKFold, KFold, RandomizedSearchCV\n",
    "from sklearn.metrics import precision_score, recall_score, accuracy_score,f1_score, make_scorer\n",
    "from sklearn.metrics import confusion_matrix, classification_report\n",
    "from sklearn.metrics import roc_curve, roc_auc_score, RocCurveDisplay\n",
    "from sklearn.tree import DecisionTreeClassifier\n",
    "from sklearn.ensemble import RandomForestClassifier\n",
    "from six import StringIO\n",
    "\n",
    "# Preprocesamiento\n",
    "from sklearn.preprocessing import MinMaxScaler, StandardScaler\n",
    "\n",
    "# Manejo de modelos\n",
    "from pickle import dump\n",
    "from pickle import load\n",
    "\n",
    "# Configuración de warnings\n",
    "import warnings\n",
    "warnings.simplefilter(action='ignore', category=FutureWarning)\n",
    "warnings.simplefilter(action='ignore', category=UserWarning)\n",
    "\n",
    "#Emsables\n",
    "from collections import defaultdict\n",
    "from sklearn.ensemble import StackingClassifier\n",
    "from sklearn.model_selection import cross_val_score, RepeatedStratifiedKFold\n",
    "from sklearn.linear_model import LogisticRegressionCV\n",
    "import plotly.graph_objects as go\n",
    "%matplotlib inline\n",
    "\n",
    "#Voting\n",
    "from sklearn.ensemble import VotingClassifier"
   ]
  },
  {
   "attachments": {},
   "cell_type": "markdown",
   "metadata": {},
   "source": [
    "##### Lectura del dataset preprocesado:"
   ]
  },
  {
   "cell_type": "code",
   "execution_count": 16,
   "metadata": {},
   "outputs": [],
   "source": [
    "hotel_train = pd.read_csv('./dataset/hotels_train_preprocesado.csv')"
   ]
  },
  {
   "attachments": {},
   "cell_type": "markdown",
   "metadata": {},
   "source": [
    "##### Importacion de modelos:"
   ]
  },
  {
   "cell_type": "code",
   "execution_count": 17,
   "metadata": {},
   "outputs": [],
   "source": [
    "svm_norm = load(open('./modelos/model_svm_norm.pkl', 'rb'))\n",
    "rf_cv = load(open('./modelos/model_randomforest_randomcv.pkl', 'rb'))\n",
    "knn_cv = load(open('./modelos/model_knn_randomcv.pkl', 'rb'))\n",
    "xgb_cv = load(open('./modelos/model_xgboost_randomcv.pkl', 'rb'))"
   ]
  },
  {
   "attachments": {},
   "cell_type": "markdown",
   "metadata": {},
   "source": [
    "##### Preparación de features:"
   ]
  },
  {
   "cell_type": "code",
   "execution_count": 18,
   "metadata": {},
   "outputs": [
    {
     "data": {
      "text/plain": [
       "['lead_time',\n",
       " 'arrival_date_year',\n",
       " 'arrival_date_month',\n",
       " 'arrival_date_day_of_month',\n",
       " 'is_repeated_guest',\n",
       " 'previous_cancellations',\n",
       " 'previous_bookings_not_canceled',\n",
       " 'booking_changes',\n",
       " 'agent',\n",
       " 'days_in_waiting_list',\n",
       " 'adr',\n",
       " 'required_car_parking_spaces',\n",
       " 'total_of_special_requests',\n",
       " 'stays_in_nights',\n",
       " 'total_of_guests',\n",
       " 'room_type_unchanged',\n",
       " 'country_encoded',\n",
       " 'customer_type_Group',\n",
       " 'customer_type_Transient',\n",
       " 'customer_type_Transient-Party',\n",
       " 'deposit_type_Non Refund',\n",
       " 'deposit_type_Refundable',\n",
       " 'hotel_Resort Hotel',\n",
       " 'distribution_channel_Direct',\n",
       " 'distribution_channel_GDS',\n",
       " 'distribution_channel_TA/TO',\n",
       " 'distribution_channel_Undefined',\n",
       " 'market_segment_Complementary',\n",
       " 'market_segment_Corporate',\n",
       " 'market_segment_Direct',\n",
       " 'market_segment_Groups',\n",
       " 'market_segment_Offline TA/TO',\n",
       " 'market_segment_Online TA',\n",
       " 'market_segment_Undefined',\n",
       " 'meal_FB',\n",
       " 'meal_HB',\n",
       " 'meal_SC',\n",
       " 'meal_Undefined']"
      ]
     },
     "execution_count": 18,
     "metadata": {},
     "output_type": "execute_result"
    }
   ],
   "source": [
    "features = hotel_train.drop(['is_canceled'],axis=1).columns\n",
    "          \n",
    "target = 'is_canceled'\n",
    "\n",
    "features.tolist()"
   ]
  },
  {
   "attachments": {},
   "cell_type": "markdown",
   "metadata": {},
   "source": [
    "---"
   ]
  },
  {
   "attachments": {},
   "cell_type": "markdown",
   "metadata": {},
   "source": [
    "## Armado y entrenamiento con Ensamble de Modelos"
   ]
  },
  {
   "attachments": {},
   "cell_type": "markdown",
   "metadata": {},
   "source": [
    "##### Preparación de features:"
   ]
  },
  {
   "cell_type": "code",
   "execution_count": 19,
   "metadata": {},
   "outputs": [
    {
     "data": {
      "text/plain": [
       "['lead_time',\n",
       " 'arrival_date_year',\n",
       " 'arrival_date_month',\n",
       " 'arrival_date_day_of_month',\n",
       " 'is_repeated_guest',\n",
       " 'previous_cancellations',\n",
       " 'previous_bookings_not_canceled',\n",
       " 'booking_changes',\n",
       " 'agent',\n",
       " 'days_in_waiting_list',\n",
       " 'adr',\n",
       " 'required_car_parking_spaces',\n",
       " 'total_of_special_requests',\n",
       " 'stays_in_nights',\n",
       " 'total_of_guests',\n",
       " 'room_type_unchanged',\n",
       " 'country_encoded',\n",
       " 'customer_type_Group',\n",
       " 'customer_type_Transient',\n",
       " 'customer_type_Transient-Party',\n",
       " 'deposit_type_Non Refund',\n",
       " 'deposit_type_Refundable',\n",
       " 'hotel_Resort Hotel',\n",
       " 'distribution_channel_Direct',\n",
       " 'distribution_channel_GDS',\n",
       " 'distribution_channel_TA/TO',\n",
       " 'distribution_channel_Undefined',\n",
       " 'market_segment_Complementary',\n",
       " 'market_segment_Corporate',\n",
       " 'market_segment_Direct',\n",
       " 'market_segment_Groups',\n",
       " 'market_segment_Offline TA/TO',\n",
       " 'market_segment_Online TA',\n",
       " 'market_segment_Undefined',\n",
       " 'meal_FB',\n",
       " 'meal_HB',\n",
       " 'meal_SC',\n",
       " 'meal_Undefined']"
      ]
     },
     "execution_count": 19,
     "metadata": {},
     "output_type": "execute_result"
    }
   ],
   "source": [
    "features = hotel_train.drop(['is_canceled'],axis=1).columns\n",
    "          \n",
    "target = 'is_canceled'\n",
    "\n",
    "features.tolist()"
   ]
  },
  {
   "cell_type": "code",
   "execution_count": 20,
   "metadata": {},
   "outputs": [],
   "source": [
    "cols_categorical = ['room_type_unchanged',\n",
    "                    'country_encoded',\n",
    "                   'customer_type_Group',\n",
    "                   'customer_type_Transient',\n",
    "                   'customer_type_Transient-Party',\n",
    "                   'deposit_type_Non Refund',\n",
    "                   'deposit_type_Refundable',\n",
    "                   'hotel_Resort Hotel',\n",
    "                   'distribution_channel_Direct',\n",
    "                   'distribution_channel_GDS',\n",
    "                   'distribution_channel_TA/TO',\n",
    "                   'distribution_channel_Undefined',\n",
    "                   'market_segment_Complementary',\n",
    "                   'market_segment_Corporate',\n",
    "                   'market_segment_Direct',\n",
    "                   'market_segment_Groups',\n",
    "                   'market_segment_Offline TA/TO',\n",
    "                   'market_segment_Online TA',\n",
    "                   'market_segment_Undefined',\n",
    "                   'meal_FB',\n",
    "                   'meal_HB',\n",
    "                   'meal_SC',\n",
    "                   'meal_Undefined']"
   ]
  },
  {
   "cell_type": "code",
   "execution_count": 21,
   "metadata": {},
   "outputs": [],
   "source": [
    "cols_to_normalize =[col for col in hotel_train.columns if col not in cols_categorical]"
   ]
  },
  {
   "cell_type": "code",
   "execution_count": 22,
   "metadata": {},
   "outputs": [
    {
     "data": {
      "text/plain": [
       "['lead_time',\n",
       " 'arrival_date_year',\n",
       " 'arrival_date_month',\n",
       " 'arrival_date_day_of_month',\n",
       " 'is_repeated_guest',\n",
       " 'previous_cancellations',\n",
       " 'previous_bookings_not_canceled',\n",
       " 'booking_changes',\n",
       " 'agent',\n",
       " 'days_in_waiting_list',\n",
       " 'adr',\n",
       " 'required_car_parking_spaces',\n",
       " 'total_of_special_requests',\n",
       " 'stays_in_nights',\n",
       " 'total_of_guests']"
      ]
     },
     "execution_count": 22,
     "metadata": {},
     "output_type": "execute_result"
    }
   ],
   "source": [
    "cols_to_normalize.remove('is_canceled')\n",
    "cols_to_normalize"
   ]
  },
  {
   "attachments": {},
   "cell_type": "markdown",
   "metadata": {},
   "source": [
    "#### Definicion funciones:"
   ]
  },
  {
   "cell_type": "code",
   "execution_count": 23,
   "metadata": {},
   "outputs": [],
   "source": [
    "#Funcion para evaluar los modelos 5fold -CV (repite 2 veces)\n",
    "def evaluate_model(model, x, y):\n",
    "    cv = RepeatedStratifiedKFold(n_splits=5, n_repeats=2, random_state=1)\n",
    "    scores = cross_val_score(model, x, y, scoring='accuracy', cv=cv, verbose=1, n_jobs=-1, error_score='raise')\n",
    "    return scores"
   ]
  },
  {
   "cell_type": "code",
   "execution_count": 24,
   "metadata": {},
   "outputs": [],
   "source": [
    "def bar_plot_results(model_scores, name):\n",
    "    model_names = list(model_scores.keys())\n",
    "    results = [model_scores[model] for model in model_names]\n",
    "    means = [np.mean(result) for result in results]\n",
    "    errors = [np.std(result) for result in results]\n",
    "    fig = go.Figure()\n",
    "    for model, mean, error in zip(model_names, means, errors):\n",
    "        fig.add_trace(go.Bar(\n",
    "            x=[model],\n",
    "            y=[mean],\n",
    "            name=model,\n",
    "            error_y=dict(\n",
    "                type='data',\n",
    "                array=[error],\n",
    "                visible=True,\n",
    "                color='black',\n",
    "                thickness=1,\n",
    "                width=5\n",
    "            )\n",
    "        ))\n",
    "    \n",
    "    fig.update_layout(\n",
    "        title='Score de Accuracy de cada modelo usando 5-Fold Cross-Validation',\n",
    "        paper_bgcolor='rgb(243, 243, 243)',\n",
    "        plot_bgcolor='rgb(243, 243, 243)',\n",
    "        xaxis_title='Model',\n",
    "        yaxis_title='Accuracy',\n",
    "        showlegend=False\n",
    "    )\n",
    "    fig.show()"
   ]
  },
  {
   "attachments": {},
   "cell_type": "markdown",
   "metadata": {},
   "source": [
    "#### Train-Test Split:"
   ]
  },
  {
   "cell_type": "code",
   "execution_count": 25,
   "metadata": {},
   "outputs": [
    {
     "name": "stdout",
     "output_type": "stream",
     "text": [
      "# Datos Entrenamiento: 48682\n",
      "# Datos Prueba: 12171\n",
      "% Positivos Entrenamiento: 50.433\n",
      "% Positivos Prueba: 50.431\n"
     ]
    }
   ],
   "source": [
    "# Separamos un 20% de los datos para test\n",
    "x_train, x_test, y_train, y_test = train_test_split(hotel_train[features].values, \n",
    "                                                    hotel_train[target].values, \n",
    "                                                    test_size=0.2,    \n",
    "                                                    random_state=42,  \n",
    "                                                    stratify=hotel_train[target].values) \n",
    "\n",
    "# Verificamos cantidad de datos en cada set\n",
    "print('# Datos Entrenamiento: {}'.format(len(x_train)))\n",
    "print('# Datos Prueba: {}'.format(len(x_test)))\n",
    "\n",
    "# Verificamos como quedaron balanceados\n",
    "for split_name, split in zip(['% Positivos Entrenamiento','% Positivos Prueba'],[y_train,y_test]):\n",
    "  print('{}: {:.3f}'.format(split_name,pd.Series(split).value_counts(normalize=True)[1]*100))"
   ]
  },
  {
   "attachments": {},
   "cell_type": "markdown",
   "metadata": {},
   "source": [
    "#### Normalización:\n",
    "Versión estandarizada con $\\frac{x_i - mean(x)}{stdev(x)}$"
   ]
  },
  {
   "cell_type": "code",
   "execution_count": 26,
   "metadata": {},
   "outputs": [],
   "source": [
    "x_train_to_norm = pd.DataFrame(x_train, columns=features).drop(cols_categorical, axis=1)\n",
    "x_test_to_norm = pd.DataFrame(x_test, columns=features).drop(cols_categorical, axis=1)"
   ]
  },
  {
   "cell_type": "code",
   "execution_count": 27,
   "metadata": {},
   "outputs": [],
   "source": [
    "x_train_categorical = pd.DataFrame(x_train, columns=features).drop(cols_to_normalize, axis=1)\n",
    "x_test_categorical = pd.DataFrame(x_test, columns=features).drop(cols_to_normalize, axis=1)"
   ]
  },
  {
   "cell_type": "code",
   "execution_count": 28,
   "metadata": {},
   "outputs": [],
   "source": [
    "# Aplicar la transformación de escalado de características solo a las columnas seleccionadas\n",
    "stand_scaler = StandardScaler()\n",
    "x_train_norm_scaled = stand_scaler.fit_transform(x_train_to_norm)\n",
    "x_test_norm_scaled = stand_scaler.transform(x_test_to_norm)\n",
    "\n",
    "# Convertir las matrices escaladas nuevamente en DataFrames\n",
    "x_train_norm_scaled = pd.DataFrame(x_train_norm_scaled, columns=cols_to_normalize)\n",
    "x_test_norm_scaled = pd.DataFrame(x_test_norm_scaled, columns=cols_to_normalize)\n",
    "\n",
    "# Agregar las columnas categoricas a las matrices escaladas\n",
    "x_train_norm = pd.concat([x_train_norm_scaled, x_train_categorical], axis=1)\n",
    "x_test_norm = pd.concat([x_test_norm_scaled, x_test_categorical], axis=1)"
   ]
  },
  {
   "attachments": {},
   "cell_type": "markdown",
   "metadata": {},
   "source": [
    "#### Entrenamiento y evaluación de modelos:\n",
    "Se evaluarán los siguientes modelos:\n",
    "- Random Forest\n",
    "- SVM\n",
    "- KNN\n",
    "- XGBoost"
   ]
  },
  {
   "attachments": {},
   "cell_type": "markdown",
   "metadata": {},
   "source": [
    "Cada uno de los modelos se evaluará utilizando una estrategia de validación cruzada de cinco folds repetida dos veces. En cada iteracion cada modelo se entrenó en el 80 % de los datos y se validó en el 20 % restante.\n",
    "\n",
    "Este método da como resultado 10 puntajes de performance diferentes para cada modelo que se almacenarán en un diccionario."
   ]
  },
  {
   "cell_type": "code",
   "execution_count": 29,
   "metadata": {},
   "outputs": [
    {
     "name": "stdout",
     "output_type": "stream",
     "text": [
      "Entrenando modelo: SVM\n"
     ]
    },
    {
     "name": "stderr",
     "output_type": "stream",
     "text": [
      "[Parallel(n_jobs=-1)]: Using backend LokyBackend with 12 concurrent workers.\n",
      "[Parallel(n_jobs=-1)]: Done  10 out of  10 | elapsed:  3.1min finished\n",
      "[Parallel(n_jobs=-1)]: Using backend LokyBackend with 12 concurrent workers.\n"
     ]
    },
    {
     "name": "stdout",
     "output_type": "stream",
     "text": [
      "Entrenando modelo: RF\n"
     ]
    },
    {
     "name": "stderr",
     "output_type": "stream",
     "text": [
      "[Parallel(n_jobs=-1)]: Done  10 out of  10 | elapsed:    1.3s finished\n",
      "[Parallel(n_jobs=-1)]: Using backend LokyBackend with 12 concurrent workers.\n"
     ]
    },
    {
     "name": "stdout",
     "output_type": "stream",
     "text": [
      "Entrenando modelo: KNN\n"
     ]
    },
    {
     "name": "stderr",
     "output_type": "stream",
     "text": [
      "[Parallel(n_jobs=-1)]: Done  10 out of  10 | elapsed:   37.3s finished\n",
      "[Parallel(n_jobs=-1)]: Using backend LokyBackend with 12 concurrent workers.\n"
     ]
    },
    {
     "name": "stdout",
     "output_type": "stream",
     "text": [
      "Entrenando modelo: XGB\n"
     ]
    },
    {
     "name": "stderr",
     "output_type": "stream",
     "text": [
      "[Parallel(n_jobs=-1)]: Done  10 out of  10 | elapsed:   16.0s finished\n"
     ]
    }
   ],
   "source": [
    "base_model = {'SVM': svm_norm, 'RF': rf_cv, 'KNN': knn_cv, 'XGB': xgb_cv}\n",
    "\n",
    "#Guadamos los resultados de las métricas de cada modelo\n",
    "model_scores = defaultdict()\n",
    "\n",
    "#Entrenamos los clasificadores\n",
    "for name, model in base_model.items():\n",
    "    print('Entrenando modelo: {}'.format(name))\n",
    "    scores = evaluate_model(model, x_train_norm, y_train)\n",
    "    model_scores[name] = scores"
   ]
  },
  {
   "attachments": {},
   "cell_type": "markdown",
   "metadata": {},
   "source": [
    "### Stacking"
   ]
  },
  {
   "attachments": {},
   "cell_type": "markdown",
   "metadata": {},
   "source": [
    "#### Armamos el emsamble con StackingCVClassifier, que utiliza como estimador final un LogisticRegression."
   ]
  },
  {
   "cell_type": "code",
   "execution_count": 30,
   "metadata": {},
   "outputs": [],
   "source": [
    "#Modelos bases\n",
    "base_models = [('SVM', svm_norm), ('RF', rf_cv), ('KNN', knn_cv), ('XGB', xgb_cv)]\n",
    "\n",
    "#Meta Modelo\n",
    "meta_model = LogisticRegressionCV()\n",
    "\n",
    "#Ensamble con stacking\n",
    "stacking_model = StackingClassifier(estimators=base_models, final_estimator=meta_model, cv=5, verbose=1, n_jobs=-1)"
   ]
  },
  {
   "cell_type": "code",
   "execution_count": 31,
   "metadata": {},
   "outputs": [
    {
     "data": {
      "text/plain": [
       "0.8838222003122176"
      ]
     },
     "execution_count": 31,
     "metadata": {},
     "output_type": "execute_result"
    }
   ],
   "source": [
    "#Evaluo en conjunto de test\n",
    "#stacking_model.fit(x_train,y_train).score(x_test,y_test)\n",
    "stacking_model.fit(x_train_norm,y_train)\n",
    "y_pred_st = stacking_model.predict(x_test_norm)\n",
    "accuracy_score(y_test, y_pred_st)"
   ]
  },
  {
   "attachments": {},
   "cell_type": "markdown",
   "metadata": {},
   "source": [
    "### Voting"
   ]
  },
  {
   "cell_type": "code",
   "execution_count": 32,
   "metadata": {},
   "outputs": [
    {
     "data": {
      "text/plain": [
       "0.8697724098266371"
      ]
     },
     "execution_count": 32,
     "metadata": {},
     "output_type": "execute_result"
    }
   ],
   "source": [
    "#Creo ensemble de Votación\n",
    "vot_clf = VotingClassifier(estimators=[('SVM', svm_norm), ('RF', rf_cv), ('KNN', knn_cv), ('XGB', xgb_cv)], voting='hard', n_jobs=-1)\n",
    "\n",
    "#Entreno el ensamble\n",
    "vot_clf.fit(x_train_norm, y_train)\n",
    "\n",
    "#Evaluo el ensamble en el conjunto de test\n",
    "y_pred_vot = vot_clf.predict(x_test_norm)\n",
    "accuracy_score(y_test, y_pred_vot)"
   ]
  },
  {
   "attachments": {},
   "cell_type": "markdown",
   "metadata": {},
   "source": [
    "---"
   ]
  },
  {
   "attachments": {},
   "cell_type": "markdown",
   "metadata": {},
   "source": [
    "## Análisis de los modelos Stacking y Voting"
   ]
  },
  {
   "attachments": {},
   "cell_type": "markdown",
   "metadata": {},
   "source": [
    "##### Algunas definiciones:\n",
    "\n",
    "- **TP (True Positives):** Cantidad de clasificaciones positivas correctas\n",
    "\n",
    "- **TN (True Negatives):** Cantidad de clasificaciones negativas correctas\n",
    "\n",
    "- **FN (False Negatives):** Cantidad de clasificaciones negativas incorrectas\n",
    "\n",
    "- **FP (False Positives):** Cantidad de clasificaciones positivas incorrectas\n"
   ]
  },
  {
   "attachments": {},
   "cell_type": "markdown",
   "metadata": {},
   "source": [
    "- **Precison = TP/TP+FP**\\\n",
    "    Porcentaje de valores clasificados como positivos que son realmente positivos\n",
    "\n",
    "- **Recall/TPR (True Positive Rate) = TP/TP+FN**\\\n",
    "    Porcentaje de valores positivos que fueron correctamente clasificados\n",
    "\n",
    "- **FPR (False Positive Rate) = FP/FP+TN**\\\n",
    "    Proporción de casos negativos clasificados como positivos\n",
    "\n",
    "- **F1 Score = 2 * ( (precision * recall) / (precision + recall) )**\\\n",
    "    Métrica que combina precision y recall para un valor más objetivo\n",
    "\n",
    "- **Support**\\\n",
    "    Cantidad de ocurrencias de cada clase en el split de test"
   ]
  },
  {
   "attachments": {},
   "cell_type": "markdown",
   "metadata": {},
   "source": [
    "#### Reporte de clasificación y matriz de confusión para Stacking:"
   ]
  },
  {
   "cell_type": "code",
   "execution_count": 33,
   "metadata": {},
   "outputs": [
    {
     "name": "stdout",
     "output_type": "stream",
     "text": [
      "              precision    recall  f1-score   support\n",
      "\n",
      "           0       0.88      0.89      0.88      6033\n",
      "           1       0.89      0.88      0.88      6138\n",
      "\n",
      "    accuracy                           0.88     12171\n",
      "   macro avg       0.88      0.88      0.88     12171\n",
      "weighted avg       0.88      0.88      0.88     12171\n",
      "\n"
     ]
    },
    {
     "data": {
      "text/plain": [
       "Text(50.722222222222214, 0.5, 'True')"
      ]
     },
     "execution_count": 33,
     "metadata": {},
     "output_type": "execute_result"
    },
    {
     "data": {
      "image/png": "[encoded data removed]",
      "text/plain": [
       "<Figure size 640x480 with 2 Axes>"
      ]
     },
     "metadata": {},
     "output_type": "display_data"
    }
   ],
   "source": [
    "# Hacemos predicción sobre el set de evaluacion\n",
    "y_pred = stacking_model.predict(x_test_norm)\n",
    "\n",
    "# Reporte y Matriz de Confusion\n",
    "print(classification_report(y_test, y_pred))\n",
    "\n",
    "cm = confusion_matrix(y_test, y_pred)\n",
    "sns.heatmap(cm, cmap='OrRd',annot=True,fmt='g')\n",
    "plt.title(\"Matriz de confusión F1 Score - Stacking\")\n",
    "plt.xlabel('Predicted')\n",
    "plt.ylabel('True')"
   ]
  },
  {
   "attachments": {},
   "cell_type": "markdown",
   "metadata": {},
   "source": [
    "#### Reporte de clasificación y matriz de confusión para Voting:"
   ]
  },
  {
   "cell_type": "code",
   "execution_count": 34,
   "metadata": {},
   "outputs": [
    {
     "name": "stdout",
     "output_type": "stream",
     "text": [
      "              precision    recall  f1-score   support\n",
      "\n",
      "           0       0.84      0.90      0.87      6033\n",
      "           1       0.90      0.84      0.87      6138\n",
      "\n",
      "    accuracy                           0.87     12171\n",
      "   macro avg       0.87      0.87      0.87     12171\n",
      "weighted avg       0.87      0.87      0.87     12171\n",
      "\n"
     ]
    },
    {
     "data": {
      "text/plain": [
       "Text(50.722222222222214, 0.5, 'True')"
      ]
     },
     "execution_count": 34,
     "metadata": {},
     "output_type": "execute_result"
    },
    {
     "data": {
      "image/png": "[encoded data removed]",
      "text/plain": [
       "<Figure size 640x480 with 2 Axes>"
      ]
     },
     "metadata": {},
     "output_type": "display_data"
    }
   ],
   "source": [
    "# Hacemos predicción sobre el set de evaluacion\n",
    "y_pred = vot_clf.predict(x_test_norm)\n",
    "\n",
    "# Reporte y Matriz de Confusion\n",
    "print(classification_report(y_test, y_pred))\n",
    "\n",
    "cm = confusion_matrix(y_test, y_pred)\n",
    "sns.heatmap(cm, cmap='GnBu',annot=True,fmt='g')\n",
    "plt.title(\"Matriz de confusión F1 Score - Voting\")\n",
    "plt.xlabel('Predicted')\n",
    "plt.ylabel('True')"
   ]
  },
  {
   "attachments": {},
   "cell_type": "markdown",
   "metadata": {},
   "source": [
    "#### Comparamos todos los modelos"
   ]
  },
  {
   "cell_type": "code",
   "execution_count": 35,
   "metadata": {},
   "outputs": [
    {
     "name": "stderr",
     "output_type": "stream",
     "text": [
      "[Parallel(n_jobs=-1)]: Using backend LokyBackend with 12 concurrent workers.\n",
      "[Parallel(n_jobs=-1)]: Done  10 out of  10 | elapsed: 19.4min finished\n"
     ]
    }
   ],
   "source": [
    "# Evaluamos los scores de stacking\n",
    "stacking_scores = evaluate_model(stacking_model, x_train_norm, y_train)\n",
    "model_scores['stacking'] = stacking_scores"
   ]
  },
  {
   "cell_type": "code",
   "execution_count": 36,
   "metadata": {},
   "outputs": [
    {
     "name": "stdout",
     "output_type": "stream",
     "text": [
      "[0.88363972 0.8811749  0.88753081 0.87808135 0.88660641 0.88292082\n",
      " 0.88405053 0.8820871  0.88280608 0.88629827]\n"
     ]
    }
   ],
   "source": [
    "print(stacking_scores)"
   ]
  },
  {
   "cell_type": "code",
   "execution_count": 37,
   "metadata": {},
   "outputs": [
    {
     "name": "stderr",
     "output_type": "stream",
     "text": [
      "[Parallel(n_jobs=-1)]: Using backend LokyBackend with 12 concurrent workers.\n",
      "[Parallel(n_jobs=-1)]: Done  10 out of  10 | elapsed:  4.3min finished\n"
     ]
    }
   ],
   "source": [
    "# Evaluamos los scores de voting\n",
    "voting_scores = evaluate_model(vot_clf, x_train_norm, y_train)\n",
    "model_scores['voting'] = voting_scores"
   ]
  },
  {
   "cell_type": "code",
   "execution_count": 38,
   "metadata": {},
   "outputs": [
    {
     "name": "stdout",
     "output_type": "stream",
     "text": [
      "[0.87049399 0.87675876 0.87561627 0.86832375 0.87931389 0.87408853\n",
      " 0.87223991 0.87150781 0.87387017 0.87612983]\n"
     ]
    }
   ],
   "source": [
    "print(voting_scores)"
   ]
  },
  {
   "cell_type": "code",
   "execution_count": 39,
   "metadata": {},
   "outputs": [
    {
     "data": {
      "text/plain": [
       "defaultdict(None,\n",
       "            {'SVM': array([0.84091609, 0.84225121, 0.84593262, 0.83709942, 0.85065735,\n",
       "                    0.84009448, 0.8419431 , 0.84233772, 0.84315941, 0.84377568]),\n",
       "             'RF': array([0.86587245, 0.86833727, 0.8759244 , 0.86668036, 0.87222679,\n",
       "                    0.86494814, 0.86782377, 0.8661668 , 0.86811832, 0.86801561]),\n",
       "             'KNN': array([0.84286741, 0.83567834, 0.84028348, 0.83011504, 0.84428924,\n",
       "                    0.83660265, 0.8420458 , 0.83966721, 0.84161873, 0.8386401 ]),\n",
       "             'XGB': array([0.8812776 , 0.88004519, 0.8874281 , 0.87859491, 0.88362777,\n",
       "                    0.88240731, 0.88220191, 0.8830115 , 0.88270337, 0.88578472]),\n",
       "             'stacking': array([0.88363972, 0.8811749 , 0.88753081, 0.87808135, 0.88660641,\n",
       "                    0.88292082, 0.88405053, 0.8820871 , 0.88280608, 0.88629827]),\n",
       "             'voting': array([0.87049399, 0.87675876, 0.87561627, 0.86832375, 0.87931389,\n",
       "                    0.87408853, 0.87223991, 0.87150781, 0.87387017, 0.87612983])})"
      ]
     },
     "execution_count": 39,
     "metadata": {},
     "output_type": "execute_result"
    }
   ],
   "source": [
    "model_scores"
   ]
  },
  {
   "cell_type": "code",
   "execution_count": 40,
   "metadata": {},
   "outputs": [
    {
     "data": {
      "application/vnd.plotly.v1+json": {
       "config": {
        "plotlyServerURL": "https://plot.ly"
       },
       "data": [
        {
         "error_y": {
          "array": [
           0.003424095290429565
          ],
          "color": "black",
          "thickness": 1,
          "type": "data",
          "visible": true,
          "width": 5
         },
         "name": "SVM",
         "type": "bar",
         "x": [
          "SVM"
         ],
         "y": [
          0.8428167090705776
         ]
        },
        {
         "error_y": {
          "array": [
           0.0031316283307301915
          ],
          "color": "black",
          "thickness": 1,
          "type": "data",
          "visible": true,
          "width": 5
         },
         "name": "RF",
         "type": "bar",
         "x": [
          "RF"
         ],
         "y": [
          0.8684113909036923
         ]
        },
        {
         "error_y": {
          "array": [
           0.00395835848961285
          ],
          "color": "black",
          "thickness": 1,
          "type": "data",
          "visible": true,
          "width": 5
         },
         "name": "KNN",
         "type": "bar",
         "x": [
          "KNN"
         ],
         "y": [
          0.8391808012098638
         ]
        },
        {
         "error_y": {
          "array": [
           0.0024307274148205275
          ],
          "color": "black",
          "thickness": 1,
          "type": "data",
          "visible": true,
          "width": 5
         },
         "name": "XGB",
         "type": "bar",
         "x": [
          "XGB"
         ],
         "y": [
          0.882708238167503
         ]
        },
        {
         "error_y": {
          "array": [
           0.0026763312258755983
          ],
          "color": "black",
          "thickness": 1,
          "type": "data",
          "visible": true,
          "width": 5
         },
         "name": "stacking",
         "type": "bar",
         "x": [
          "stacking"
         ],
         "y": [
          0.8835195995689089
         ]
        },
        {
         "error_y": {
          "array": [
           0.003107532717948803
          ],
          "color": "black",
          "thickness": 1,
          "type": "data",
          "visible": true,
          "width": 5
         },
         "name": "voting",
         "type": "bar",
         "x": [
          "voting"
         ],
         "y": [
          0.873834289429076
         ]
        }
       ],
       "layout": {
        "paper_bgcolor": "rgb(243, 243, 243)",
        "plot_bgcolor": "rgb(243, 243, 243)",
        "showlegend": false,
        "template": {
         "data": {
          "bar": [
           {
            "error_x": {
             "color": "#2a3f5f"
            },
            "error_y": {
             "color": "#2a3f5f"
            },
            "marker": {
             "line": {
              "color": "#E5ECF6",
              "width": 0.5
             },
             "pattern": {
              "fillmode": "overlay",
              "size": 10,
              "solidity": 0.2
             }
            },
            "type": "bar"
           }
          ],
          "barpolar": [
           {
            "marker": {
             "line": {
              "color": "#E5ECF6",
              "width": 0.5
             },
             "pattern": {
              "fillmode": "overlay",
              "size": 10,
              "solidity": 0.2
             }
            },
            "type": "barpolar"
           }
          ],
          "carpet": [
           {
            "aaxis": {
             "endlinecolor": "#2a3f5f",
             "gridcolor": "white",
             "linecolor": "white",
             "minorgridcolor": "white",
             "startlinecolor": "#2a3f5f"
            },
            "baxis": {
             "endlinecolor": "#2a3f5f",
             "gridcolor": "white",
             "linecolor": "white",
             "minorgridcolor": "white",
             "startlinecolor": "#2a3f5f"
            },
            "type": "carpet"
           }
          ],
          "choropleth": [
           {
            "colorbar": {
             "outlinewidth": 0,
             "ticks": ""
            },
            "type": "choropleth"
           }
          ],
          "contour": [
           {
            "colorbar": {
             "outlinewidth": 0,
             "ticks": ""
            },
            "colorscale": [
             [
              0,
              "#0d0887"
             ],
             [
              0.1111111111111111,
              "#46039f"
             ],
             [
              0.2222222222222222,
              "#7201a8"
             ],
             [
              0.3333333333333333,
              "#9c179e"
             ],
             [
              0.4444444444444444,
              "#bd3786"
             ],
             [
              0.5555555555555556,
              "#d8576b"
             ],
             [
              0.6666666666666666,
              "#ed7953"
             ],
             [
              0.7777777777777778,
              "#fb9f3a"
             ],
             [
              0.8888888888888888,
              "#fdca26"
             ],
             [
              1,
              "#f0f921"
             ]
            ],
            "type": "contour"
           }
          ],
          "contourcarpet": [
           {
            "colorbar": {
             "outlinewidth": 0,
             "ticks": ""
            },
            "type": "contourcarpet"
           }
          ],
          "heatmap": [
           {
            "colorbar": {
             "outlinewidth": 0,
             "ticks": ""
            },
            "colorscale": [
             [
              0,
              "#0d0887"
             ],
             [
              0.1111111111111111,
              "#46039f"
             ],
             [
              0.2222222222222222,
              "#7201a8"
             ],
             [
              0.3333333333333333,
              "#9c179e"
             ],
             [
              0.4444444444444444,
              "#bd3786"
             ],
             [
              0.5555555555555556,
              "#d8576b"
             ],
             [
              0.6666666666666666,
              "#ed7953"
             ],
             [
              0.7777777777777778,
              "#fb9f3a"
             ],
             [
              0.8888888888888888,
              "#fdca26"
             ],
             [
              1,
              "#f0f921"
             ]
            ],
            "type": "heatmap"
           }
          ],
          "heatmapgl": [
           {
            "colorbar": {
             "outlinewidth": 0,
             "ticks": ""
            },
            "colorscale": [
             [
              0,
              "#0d0887"
             ],
             [
              0.1111111111111111,
              "#46039f"
             ],
             [
              0.2222222222222222,
              "#7201a8"
             ],
             [
              0.3333333333333333,
              "#9c179e"
             ],
             [
              0.4444444444444444,
              "#bd3786"
             ],
             [
              0.5555555555555556,
              "#d8576b"
             ],
             [
              0.6666666666666666,
              "#ed7953"
             ],
             [
              0.7777777777777778,
              "#fb9f3a"
             ],
             [
              0.8888888888888888,
              "#fdca26"
             ],
             [
              1,
              "#f0f921"
             ]
            ],
            "type": "heatmapgl"
           }
          ],
          "histogram": [
           {
            "marker": {
             "pattern": {
              "fillmode": "overlay",
              "size": 10,
              "solidity": 0.2
             }
            },
            "type": "histogram"
           }
          ],
          "histogram2d": [
           {
            "colorbar": {
             "outlinewidth": 0,
             "ticks": ""
            },
            "colorscale": [
             [
              0,
              "#0d0887"
             ],
             [
              0.1111111111111111,
              "#46039f"
             ],
             [
              0.2222222222222222,
              "#7201a8"
             ],
             [
              0.3333333333333333,
              "#9c179e"
             ],
             [
              0.4444444444444444,
              "#bd3786"
             ],
             [
              0.5555555555555556,
              "#d8576b"
             ],
             [
              0.6666666666666666,
              "#ed7953"
             ],
             [
              0.7777777777777778,
              "#fb9f3a"
             ],
             [
              0.8888888888888888,
              "#fdca26"
             ],
             [
              1,
              "#f0f921"
             ]
            ],
            "type": "histogram2d"
           }
          ],
          "histogram2dcontour": [
           {
            "colorbar": {
             "outlinewidth": 0,
             "ticks": ""
            },
            "colorscale": [
             [
              0,
              "#0d0887"
             ],
             [
              0.1111111111111111,
              "#46039f"
             ],
             [
              0.2222222222222222,
              "#7201a8"
             ],
             [
              0.3333333333333333,
              "#9c179e"
             ],
             [
              0.4444444444444444,
              "#bd3786"
             ],
             [
              0.5555555555555556,
              "#d8576b"
             ],
             [
              0.6666666666666666,
              "#ed7953"
             ],
             [
              0.7777777777777778,
              "#fb9f3a"
             ],
             [
              0.8888888888888888,
              "#fdca26"
             ],
             [
              1,
              "#f0f921"
             ]
            ],
            "type": "histogram2dcontour"
           }
          ],
          "mesh3d": [
           {
            "colorbar": {
             "outlinewidth": 0,
             "ticks": ""
            },
            "type": "mesh3d"
           }
          ],
          "parcoords": [
           {
            "line": {
             "colorbar": {
              "outlinewidth": 0,
              "ticks": ""
             }
            },
            "type": "parcoords"
           }
          ],
          "pie": [
           {
            "automargin": true,
            "type": "pie"
           }
          ],
          "scatter": [
           {
            "fillpattern": {
             "fillmode": "overlay",
             "size": 10,
             "solidity": 0.2
            },
            "type": "scatter"
           }
          ],
          "scatter3d": [
           {
            "line": {
             "colorbar": {
              "outlinewidth": 0,
              "ticks": ""
             }
            },
            "marker": {
             "colorbar": {
              "outlinewidth": 0,
              "ticks": ""
             }
            },
            "type": "scatter3d"
           }
          ],
          "scattercarpet": [
           {
            "marker": {
             "colorbar": {
              "outlinewidth": 0,
              "ticks": ""
             }
            },
            "type": "scattercarpet"
           }
          ],
          "scattergeo": [
           {
            "marker": {
             "colorbar": {
              "outlinewidth": 0,
              "ticks": ""
             }
            },
            "type": "scattergeo"
           }
          ],
          "scattergl": [
           {
            "marker": {
             "colorbar": {
              "outlinewidth": 0,
              "ticks": ""
             }
            },
            "type": "scattergl"
           }
          ],
          "scattermapbox": [
           {
            "marker": {
             "colorbar": {
              "outlinewidth": 0,
              "ticks": ""
             }
            },
            "type": "scattermapbox"
           }
          ],
          "scatterpolar": [
           {
            "marker": {
             "colorbar": {
              "outlinewidth": 0,
              "ticks": ""
             }
            },
            "type": "scatterpolar"
           }
          ],
          "scatterpolargl": [
           {
            "marker": {
             "colorbar": {
              "outlinewidth": 0,
              "ticks": ""
             }
            },
            "type": "scatterpolargl"
           }
          ],
          "scatterternary": [
           {
            "marker": {
             "colorbar": {
              "outlinewidth": 0,
              "ticks": ""
             }
            },
            "type": "scatterternary"
           }
          ],
          "surface": [
           {
            "colorbar": {
             "outlinewidth": 0,
             "ticks": ""
            },
            "colorscale": [
             [
              0,
              "#0d0887"
             ],
             [
              0.1111111111111111,
              "#46039f"
             ],
             [
              0.2222222222222222,
              "#7201a8"
             ],
             [
              0.3333333333333333,
              "#9c179e"
             ],
             [
              0.4444444444444444,
              "#bd3786"
             ],
             [
              0.5555555555555556,
              "#d8576b"
             ],
             [
              0.6666666666666666,
              "#ed7953"
             ],
             [
              0.7777777777777778,
              "#fb9f3a"
             ],
             [
              0.8888888888888888,
              "#fdca26"
             ],
             [
              1,
              "#f0f921"
             ]
            ],
            "type": "surface"
           }
          ],
          "table": [
           {
            "cells": {
             "fill": {
              "color": "#EBF0F8"
             },
             "line": {
              "color": "white"
             }
            },
            "header": {
             "fill": {
              "color": "#C8D4E3"
             },
             "line": {
              "color": "white"
             }
            },
            "type": "table"
           }
          ]
         },
         "layout": {
          "annotationdefaults": {
           "arrowcolor": "#2a3f5f",
           "arrowhead": 0,
           "arrowwidth": 1
          },
          "autotypenumbers": "strict",
          "coloraxis": {
           "colorbar": {
            "outlinewidth": 0,
            "ticks": ""
           }
          },
          "colorscale": {
           "diverging": [
            [
             0,
             "#8e0152"
            ],
            [
             0.1,
             "#c51b7d"
            ],
            [
             0.2,
             "#de77ae"
            ],
            [
             0.3,
             "#f1b6da"
            ],
            [
             0.4,
             "#fde0ef"
            ],
            [
             0.5,
             "#f7f7f7"
            ],
            [
             0.6,
             "#e6f5d0"
            ],
            [
             0.7,
             "#b8e186"
            ],
            [
             0.8,
             "#7fbc41"
            ],
            [
             0.9,
             "#4d9221"
            ],
            [
             1,
             "#276419"
            ]
           ],
           "sequential": [
            [
             0,
             "#0d0887"
            ],
            [
             0.1111111111111111,
             "#46039f"
            ],
            [
             0.2222222222222222,
             "#7201a8"
            ],
            [
             0.3333333333333333,
             "#9c179e"
            ],
            [
             0.4444444444444444,
             "#bd3786"
            ],
            [
             0.5555555555555556,
             "#d8576b"
            ],
            [
             0.6666666666666666,
             "#ed7953"
            ],
            [
             0.7777777777777778,
             "#fb9f3a"
            ],
            [
             0.8888888888888888,
             "#fdca26"
            ],
            [
             1,
             "#f0f921"
            ]
           ],
           "sequentialminus": [
            [
             0,
             "#0d0887"
            ],
            [
             0.1111111111111111,
             "#46039f"
            ],
            [
             0.2222222222222222,
             "#7201a8"
            ],
            [
             0.3333333333333333,
             "#9c179e"
            ],
            [
             0.4444444444444444,
             "#bd3786"
            ],
            [
             0.5555555555555556,
             "#d8576b"
            ],
            [
             0.6666666666666666,
             "#ed7953"
            ],
            [
             0.7777777777777778,
             "#fb9f3a"
            ],
            [
             0.8888888888888888,
             "#fdca26"
            ],
            [
             1,
             "#f0f921"
            ]
           ]
          },
          "colorway": [
           "#636efa",
           "#EF553B",
           "#00cc96",
           "#ab63fa",
           "#FFA15A",
           "#19d3f3",
           "#FF6692",
           "#B6E880",
           "#FF97FF",
           "#FECB52"
          ],
          "font": {
           "color": "#2a3f5f"
          },
          "geo": {
           "bgcolor": "white",
           "lakecolor": "white",
           "landcolor": "#E5ECF6",
           "showlakes": true,
           "showland": true,
           "subunitcolor": "white"
          },
          "hoverlabel": {
           "align": "left"
          },
          "hovermode": "closest",
          "mapbox": {
           "style": "light"
          },
          "paper_bgcolor": "white",
          "plot_bgcolor": "#E5ECF6",
          "polar": {
           "angularaxis": {
            "gridcolor": "white",
            "linecolor": "white",
            "ticks": ""
           },
           "bgcolor": "#E5ECF6",
           "radialaxis": {
            "gridcolor": "white",
            "linecolor": "white",
            "ticks": ""
           }
          },
          "scene": {
           "xaxis": {
            "backgroundcolor": "#E5ECF6",
            "gridcolor": "white",
            "gridwidth": 2,
            "linecolor": "white",
            "showbackground": true,
            "ticks": "",
            "zerolinecolor": "white"
           },
           "yaxis": {
            "backgroundcolor": "#E5ECF6",
            "gridcolor": "white",
            "gridwidth": 2,
            "linecolor": "white",
            "showbackground": true,
            "ticks": "",
            "zerolinecolor": "white"
           },
           "zaxis": {
            "backgroundcolor": "#E5ECF6",
            "gridcolor": "white",
            "gridwidth": 2,
            "linecolor": "white",
            "showbackground": true,
            "ticks": "",
            "zerolinecolor": "white"
           }
          },
          "shapedefaults": {
           "line": {
            "color": "#2a3f5f"
           }
          },
          "ternary": {
           "aaxis": {
            "gridcolor": "white",
            "linecolor": "white",
            "ticks": ""
           },
           "baxis": {
            "gridcolor": "white",
            "linecolor": "white",
            "ticks": ""
           },
           "bgcolor": "#E5ECF6",
           "caxis": {
            "gridcolor": "white",
            "linecolor": "white",
            "ticks": ""
           }
          },
          "title": {
           "x": 0.05
          },
          "xaxis": {
           "automargin": true,
           "gridcolor": "white",
           "linecolor": "white",
           "ticks": "",
           "title": {
            "standoff": 15
           },
           "zerolinecolor": "white",
           "zerolinewidth": 2
          },
          "yaxis": {
           "automargin": true,
           "gridcolor": "white",
           "linecolor": "white",
           "ticks": "",
           "title": {
            "standoff": 15
           },
           "zerolinecolor": "white",
           "zerolinewidth": 2
          }
         }
        },
        "title": {
         "text": "Score de Accuracy de cada modelo usando 5-Fold Cross-Validation"
        },
        "xaxis": {
         "title": {
          "text": "Model"
         }
        },
        "yaxis": {
         "title": {
          "text": "Accuracy"
         }
        }
       }
      }
     },
     "metadata": {},
     "output_type": "display_data"
    }
   ],
   "source": [
    "# Graficamos los resultados\n",
    "bar_plot_results(model_scores, name='stacking_model_cv')"
   ]
  },
  {
   "attachments": {},
   "cell_type": "markdown",
   "metadata": {},
   "source": [
    "---"
   ]
  },
  {
   "attachments": {},
   "cell_type": "markdown",
   "metadata": {},
   "source": [
    "## Aplicación de modelos al dataset de test"
   ]
  },
  {
   "attachments": {},
   "cell_type": "markdown",
   "metadata": {},
   "source": [
    "##### Lectura del dataset de test preprocesado:"
   ]
  },
  {
   "cell_type": "code",
   "execution_count": 41,
   "metadata": {},
   "outputs": [],
   "source": [
    "hotel_test = pd.read_csv('./dataset/hotels_test_preprocesado.csv')"
   ]
  },
  {
   "attachments": {},
   "cell_type": "markdown",
   "metadata": {},
   "source": [
    "##### Lectura del dataset de test original para mantener id:"
   ]
  },
  {
   "cell_type": "code",
   "execution_count": 42,
   "metadata": {},
   "outputs": [],
   "source": [
    "hotel_test_df = pd.read_csv('./dataset/hotels_test.csv')"
   ]
  },
  {
   "attachments": {},
   "cell_type": "markdown",
   "metadata": {},
   "source": [
    "##### Predicción y exportación:"
   ]
  },
  {
   "cell_type": "code",
   "execution_count": 43,
   "metadata": {},
   "outputs": [],
   "source": [
    "x_test_final = hotel_test[features]\n",
    "x_test_final_cat = x_test_final[cols_categorical].copy()\n",
    "x_test_final_cat.columns = cols_categorical\n",
    "\n",
    "x_test_final_norm = pd.DataFrame(data=stand_scaler.transform(x_test_final[cols_to_normalize].copy()))\n",
    "x_test_final_norm.columns = cols_to_normalize\n",
    "\n",
    "x_test_final = pd.concat([x_test_final_norm, x_test_final_cat], axis=1)"
   ]
  },
  {
   "cell_type": "code",
   "execution_count": 44,
   "metadata": {},
   "outputs": [],
   "source": [
    "y_pred_final_stacking = stacking_model.predict(x_test_final)\n",
    "\n",
    "y_pred_final_voting = vot_clf.predict(x_test_final)"
   ]
  },
  {
   "cell_type": "code",
   "execution_count": 45,
   "metadata": {},
   "outputs": [
    {
     "data": {
      "text/plain": [
       "array([1, 1, 0, ..., 1, 1, 0], dtype=int64)"
      ]
     },
     "execution_count": 45,
     "metadata": {},
     "output_type": "execute_result"
    }
   ],
   "source": [
    "# TODO: asegurarse que y_pred_final tenga la forma correcta\n",
    "y_pred_final_stacking"
   ]
  },
  {
   "cell_type": "code",
   "execution_count": 46,
   "metadata": {},
   "outputs": [
    {
     "data": {
      "text/plain": [
       "array([1, 1, 0, ..., 1, 1, 0], dtype=int64)"
      ]
     },
     "execution_count": 46,
     "metadata": {},
     "output_type": "execute_result"
    }
   ],
   "source": [
    "y_pred_final_voting"
   ]
  },
  {
   "attachments": {},
   "cell_type": "markdown",
   "metadata": {},
   "source": [
    "Una prediccion correcta deberia ser alrededor del 50% para cada clase, ya que el dataset de test esta balanceado."
   ]
  },
  {
   "cell_type": "code",
   "execution_count": 47,
   "metadata": {},
   "outputs": [
    {
     "name": "stdout",
     "output_type": "stream",
     "text": [
      "Resultado de la predicción STACKING: \n",
      "No cancela: 13199\n",
      "Cancela: 13336\n",
      "Porceentaje de cancelaciones: 50.26%\n"
     ]
    }
   ],
   "source": [
    "counts = np.bincount(y_pred_final_stacking)\n",
    "count_0 = counts[0]  # Cantidad de elementos 0\n",
    "count_1 = counts[1]  # Cantidad de elementos 1\n",
    "\n",
    "print(\"Resultado de la predicción STACKING: \")\n",
    "print(\"No cancela:\", count_0)\n",
    "print(\"Cancela:\", count_1)\n",
    "print(\"Porceentaje de cancelaciones: {:.2f}%\".format(count_1/(count_0+count_1)*100))"
   ]
  },
  {
   "cell_type": "code",
   "execution_count": 48,
   "metadata": {},
   "outputs": [
    {
     "name": "stdout",
     "output_type": "stream",
     "text": [
      "Resultado de la predicción VOTING: \n",
      "No cancela: 14004\n",
      "Cancela: 12531\n",
      "Porceentaje de cancelaciones: 47.22%\n"
     ]
    }
   ],
   "source": [
    "counts = np.bincount(y_pred_final_voting)\n",
    "count_0 = counts[0]  # Cantidad de elementos 0\n",
    "count_1 = counts[1]  # Cantidad de elementos 1\n",
    "\n",
    "print(\"Resultado de la predicción VOTING: \")\n",
    "print(\"No cancela:\", count_0)\n",
    "print(\"Cancela:\", count_1)\n",
    "print(\"Porceentaje de cancelaciones: {:.2f}%\".format(count_1/(count_0+count_1)*100))"
   ]
  },
  {
   "cell_type": "code",
   "execution_count": 49,
   "metadata": {},
   "outputs": [],
   "source": [
    "pd.concat([hotel_test_df['id'],pd.DataFrame(data=y_pred_final_stacking, columns=['is_canceled'])], axis=1).to_csv('./predicciones/pred_stacking.csv', index=False)\n",
    "\n",
    "pd.concat([hotel_test_df['id'],pd.DataFrame(data=y_pred_final_voting, columns=['is_canceled'])], axis=1).to_csv('./predicciones/pred_voting.csv', index=False)"
   ]
  },
  {
   "attachments": {},
   "cell_type": "markdown",
   "metadata": {},
   "source": [
    "---"
   ]
  },
  {
   "attachments": {},
   "cell_type": "markdown",
   "metadata": {},
   "source": [
    "## Exportación de modelos"
   ]
  },
  {
   "cell_type": "code",
   "execution_count": 50,
   "metadata": {},
   "outputs": [],
   "source": [
    "dump(stacking_model, open('./modelos/model_stacking.pkl', 'wb'))\n",
    "\n",
    "dump(vot_clf, open('./modelos/model_voting.pkl', 'wb'))"
   ]
  },
  {
   "attachments": {},
   "cell_type": "markdown",
   "metadata": {},
   "source": [
    "---"
   ]
  }
 ],
 "metadata": {
  "kernelspec": {
   "display_name": "base",
   "language": "python",
   "name": "python3"
  },
  "language_info": {
   "codemirror_mode": {
    "name": "ipython",
    "version": 3
   },
   "file_extension": ".py",
   "mimetype": "text/x-python",
   "name": "python",
   "nbconvert_exporter": "python",
   "pygments_lexer": "ipython3",
   "version": "3.10.9"
  },
  "orig_nbformat": 4
 },
 "nbformat": 4,
 "nbformat_minor": 2
}
