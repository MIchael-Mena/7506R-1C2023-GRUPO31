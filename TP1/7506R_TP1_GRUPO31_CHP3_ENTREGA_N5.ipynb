{
 "cells": [
  {
   "attachments": {},
   "cell_type": "markdown",
   "metadata": {},
   "source": [
    "## <center><ins>Trabajo Práctico 1: Reservas de hotel</ins></center>\n",
    "#### <center>*Checkpoint 3: Ensambles - XGBoost*</center>\n",
    "##### <center>75.06 / 95.58 Organización de Datos - FIUBA</center>\n",
    "##### <center>Ing. Rodríguez - 1°C 2023</center>\n",
    "---\n",
    "#### <center>**Grupo 31 - \"Datazo\":**</center>\n",
    "<center> Michael Mena - 102685</center>\n",
    "<center>Pablo Brocca - 104256</center>\n",
    "<center>Diego Kisinovsky - 106203</center>"
   ]
  },
  {
   "attachments": {},
   "cell_type": "markdown",
   "metadata": {},
   "source": [
    "---\n",
    "---"
   ]
  },
  {
   "attachments": {},
   "cell_type": "markdown",
   "metadata": {},
   "source": [
    "## Carga de datos y librerías"
   ]
  },
  {
   "attachments": {},
   "cell_type": "markdown",
   "metadata": {},
   "source": [
    "##### Imports:"
   ]
  },
  {
   "cell_type": "code",
   "execution_count": 1,
   "metadata": {},
   "outputs": [],
   "source": [
    "import pandas as pd\n",
    "import numpy as np\n",
    "\n",
    "# Visualización\n",
    "import matplotlib.pyplot as plt\n",
    "import seaborn as sns\n",
    "import sklearn as sk\n",
    "import dtreeviz.trees as dtreeviz\n",
    "import pydotplus\n",
    "from IPython.display import Image\n",
    "\n",
    "# Modelos y métricas\n",
    "from sklearn.model_selection import train_test_split, cross_validate, StratifiedKFold, KFold, RandomizedSearchCV\n",
    "from sklearn.metrics import precision_score, recall_score, accuracy_score,f1_score, make_scorer\n",
    "from sklearn.metrics import confusion_matrix, classification_report\n",
    "from sklearn.metrics import roc_curve, roc_auc_score, RocCurveDisplay\n",
    "from sklearn.metrics import DistanceMetric\n",
    "from sklearn.neighbors import KNeighborsClassifier\n",
    "from sklearn.tree import DecisionTreeClassifier, export_text, export_graphviz, plot_tree\n",
    "from six import StringIO\n",
    "import xgboost as xgb\n",
    "\n",
    "# Preprocesamiento\n",
    "from sklearn.preprocessing import MinMaxScaler\n",
    "\n",
    "# Manejo de modelos\n",
    "from pickle import dump\n",
    "from pickle import load\n",
    "\n",
    "# Configuración de warnings\n",
    "import warnings\n",
    "warnings.simplefilter(action='ignore', category=FutureWarning)\n",
    "warnings.simplefilter(action='ignore', category=UserWarning)"
   ]
  },
  {
   "attachments": {},
   "cell_type": "markdown",
   "metadata": {},
   "source": [
    "##### Lectura del dataset preprocesado:"
   ]
  },
  {
   "cell_type": "code",
   "execution_count": 2,
   "metadata": {},
   "outputs": [],
   "source": [
    "hotel_train = pd.read_csv('./dataset/hotels_train_preprocesado.csv')"
   ]
  },
  {
   "attachments": {},
   "cell_type": "markdown",
   "metadata": {},
   "source": [
    "---"
   ]
  },
  {
   "attachments": {},
   "cell_type": "markdown",
   "metadata": {},
   "source": [
    "## Armado y entrenamiento del modelo"
   ]
  },
  {
   "attachments": {},
   "cell_type": "markdown",
   "metadata": {},
   "source": [
    "##### Preparación de features:"
   ]
  },
  {
   "cell_type": "code",
   "execution_count": 3,
   "metadata": {},
   "outputs": [
    {
     "data": {
      "text/plain": [
       "['lead_time',\n",
       " 'arrival_date_year',\n",
       " 'arrival_date_month',\n",
       " 'arrival_date_day_of_month',\n",
       " 'is_repeated_guest',\n",
       " 'previous_cancellations',\n",
       " 'previous_bookings_not_canceled',\n",
       " 'booking_changes',\n",
       " 'agent',\n",
       " 'days_in_waiting_list',\n",
       " 'adr',\n",
       " 'required_car_parking_spaces',\n",
       " 'total_of_special_requests',\n",
       " 'stays_in_nights',\n",
       " 'total_of_guests',\n",
       " 'room_type_unchanged',\n",
       " 'country_encoded',\n",
       " 'customer_type_Group',\n",
       " 'customer_type_Transient',\n",
       " 'customer_type_Transient-Party',\n",
       " 'deposit_type_Non Refund',\n",
       " 'deposit_type_Refundable',\n",
       " 'hotel_Resort Hotel',\n",
       " 'distribution_channel_Direct',\n",
       " 'distribution_channel_GDS',\n",
       " 'distribution_channel_TA/TO',\n",
       " 'distribution_channel_Undefined',\n",
       " 'market_segment_Complementary',\n",
       " 'market_segment_Corporate',\n",
       " 'market_segment_Direct',\n",
       " 'market_segment_Groups',\n",
       " 'market_segment_Offline TA/TO',\n",
       " 'market_segment_Online TA',\n",
       " 'market_segment_Undefined',\n",
       " 'meal_FB',\n",
       " 'meal_HB',\n",
       " 'meal_SC',\n",
       " 'meal_Undefined']"
      ]
     },
     "execution_count": 3,
     "metadata": {},
     "output_type": "execute_result"
    }
   ],
   "source": [
    "features = hotel_train.drop(['is_canceled'],axis=1).columns\n",
    "          \n",
    "target = 'is_canceled'\n",
    "\n",
    "features.tolist()"
   ]
  },
  {
   "attachments": {},
   "cell_type": "markdown",
   "metadata": {},
   "source": [
    "##### Train-Test Split:"
   ]
  },
  {
   "cell_type": "code",
   "execution_count": 4,
   "metadata": {},
   "outputs": [
    {
     "name": "stdout",
     "output_type": "stream",
     "text": [
      "# Datos Entrenamiento: 48682\n",
      "# Datos Prueba: 12171\n",
      "% Positivos Entrenamiento: 50.433\n",
      "% Positivos Prueba: 50.431\n"
     ]
    }
   ],
   "source": [
    "# Separamos un 20% de los datos para test\n",
    "x_train, x_test, y_train, y_test = train_test_split(hotel_train[features].values, \n",
    "                                                    hotel_train[target].values, \n",
    "                                                    test_size=0.2,    \n",
    "                                                    random_state=42,  \n",
    "                                                    stratify=hotel_train[target].values) \n",
    "\n",
    "# Verificamos cantidad de datos en cada set\n",
    "print('# Datos Entrenamiento: {}'.format(len(x_train)))\n",
    "print('# Datos Prueba: {}'.format(len(x_test)))\n",
    "\n",
    "# Verificamos como quedaron balanceados\n",
    "for split_name, split in zip(['% Positivos Entrenamiento','% Positivos Prueba'],[y_train,y_test]):\n",
    "  print('{}: {:.3f}'.format(split_name,pd.Series(split).value_counts(normalize=True)[1]*100))"
   ]
  },
  {
   "attachments": {},
   "cell_type": "markdown",
   "metadata": {},
   "source": [
    "##### XGBoost:"
   ]
  },
  {
   "cell_type": "code",
   "execution_count": 5,
   "metadata": {},
   "outputs": [
    {
     "data": {
      "text/plain": [
       "array([0.87041471, 0.88486353, 0.86663305, 0.87177605, 0.86126703,\n",
       "       0.88151136, 0.88455375, 0.88562192, 0.87826302, 0.88014266,\n",
       "       0.8754241 , 0.86220884, 0.88378368, 0.8831715 , 0.84270799,\n",
       "       0.87742989, 0.8336928 , 0.88402767, 0.88268959, 0.88262301])"
      ]
     },
     "execution_count": 5,
     "metadata": {},
     "output_type": "execute_result"
    }
   ],
   "source": [
    "#Cantidad de combinaciones\n",
    "n = 20\n",
    "\n",
    "#Grilla de Parámetros\n",
    "params_grid = {'n_estimators': list(range(100, 501, 10)),\n",
    "               'learning_rate': [0.05,0.10,0.15,0.20],\n",
    "               'max_depth': list(range(1,16)),\n",
    "               'min_child_weight': [ 1, 3, 5, 7, 10, 100 ],\n",
    "               'gamma': [ 0.0, 0.1, 0.2 , 0.3, 0.4 ],\n",
    "               'colsample_bytree': [ 0.3, 0.4, 0.5 , 0.7 ]}\n",
    "\n",
    "# Kfold estratificado\n",
    "kfoldcv = StratifiedKFold(n_splits=10)\n",
    "\n",
    "# XGBoost\n",
    "base_xgb = xgb.XGBClassifier()\n",
    "\n",
    "# Elegimos la metrica a utilizar\n",
    "scorer_fn = make_scorer(sk.metrics.f1_score)\n",
    "\n",
    "# Random Search Cross Validation\n",
    "randomcv = RandomizedSearchCV(estimator=base_xgb,\n",
    "                              param_distributions=params_grid,\n",
    "                              scoring=scorer_fn,\n",
    "                              cv=kfoldcv,\n",
    "                              n_iter=n) \n",
    "\n",
    "randomcv.fit(x_train, y_train)\n",
    "randomcv.cv_results_['mean_test_score']"
   ]
  },
  {
   "cell_type": "code",
   "execution_count": 6,
   "metadata": {},
   "outputs": [
    {
     "name": "stdout",
     "output_type": "stream",
     "text": [
      "Mejores parámetros:  {'n_estimators': 170, 'min_child_weight': 1, 'max_depth': 13, 'learning_rate': 0.05, 'gamma': 0.0, 'colsample_bytree': 0.4}\n",
      "Mejor score:  0.8856219233779432\n"
     ]
    }
   ],
   "source": [
    "print('Mejores parámetros: ', randomcv.best_params_)\n",
    "print('Mejor score: ', randomcv.best_score_)"
   ]
  },
  {
   "cell_type": "code",
   "execution_count": 7,
   "metadata": {},
   "outputs": [
    {
     "data": {
      "text/plain": [
       "array([0.87041471, 0.88486353, 0.86663305, 0.87177605, 0.86126703,\n",
       "       0.88151136, 0.88455375, 0.88562192, 0.87826302, 0.88014266,\n",
       "       0.8754241 , 0.86220884, 0.88378368, 0.8831715 , 0.84270799,\n",
       "       0.87742989, 0.8336928 , 0.88402767, 0.88268959, 0.88262301])"
      ]
     },
     "execution_count": 7,
     "metadata": {},
     "output_type": "execute_result"
    }
   ],
   "source": [
    "# Cada valor representa F1 score, la cantidad varia por el parametro n\n",
    "randomcv.cv_results_['mean_test_score']"
   ]
  },
  {
   "cell_type": "code",
   "execution_count": 8,
   "metadata": {},
   "outputs": [],
   "source": [
    "model_xgb = randomcv.best_estimator_"
   ]
  },
  {
   "attachments": {},
   "cell_type": "markdown",
   "metadata": {},
   "source": [
    "---"
   ]
  },
  {
   "attachments": {},
   "cell_type": "markdown",
   "metadata": {},
   "source": [
    "## Análisis del modelo XGBoost"
   ]
  },
  {
   "attachments": {},
   "cell_type": "markdown",
   "metadata": {},
   "source": [
    "#### Reporte de clasificación y matriz de confusión:"
   ]
  },
  {
   "cell_type": "code",
   "execution_count": 9,
   "metadata": {},
   "outputs": [
    {
     "name": "stdout",
     "output_type": "stream",
     "text": [
      "              precision    recall  f1-score   support\n",
      "\n",
      "           0       0.88      0.88      0.88      6033\n",
      "           1       0.88      0.88      0.88      6138\n",
      "\n",
      "    accuracy                           0.88     12171\n",
      "   macro avg       0.88      0.88      0.88     12171\n",
      "weighted avg       0.88      0.88      0.88     12171\n",
      "\n"
     ]
    },
    {
     "data": {
      "text/plain": [
       "Text(50.722222222222214, 0.5, 'True')"
      ]
     },
     "execution_count": 9,
     "metadata": {},
     "output_type": "execute_result"
    },
    {
     "data": {
      "image/png": "[encoded data removed]",
      "text/plain": [
       "<Figure size 640x480 with 2 Axes>"
      ]
     },
     "metadata": {},
     "output_type": "display_data"
    }
   ],
   "source": [
    "# Hacemos predicción sobre el set de evaluacion\n",
    "y_pred = model_xgb.predict(x_test)\n",
    "\n",
    "# Reporte y Matriz de Confusion\n",
    "print(classification_report(y_test, y_pred))\n",
    "\n",
    "cm = confusion_matrix(y_test, y_pred)\n",
    "sns.heatmap(cm, cmap='PuBu',annot=True,fmt='g')\n",
    "plt.title(\"Matriz de confusión - F1 Score\")\n",
    "plt.xlabel('Predicted')\n",
    "plt.ylabel('True')"
   ]
  },
  {
   "attachments": {},
   "cell_type": "markdown",
   "metadata": {},
   "source": [
    "Score de cada split:"
   ]
  },
  {
   "cell_type": "code",
   "execution_count": 10,
   "metadata": {},
   "outputs": [
    {
     "data": {
      "text/plain": [
       "array([0.8850528 , 0.88884398, 0.87859166, 0.88670757, 0.89168357,\n",
       "       0.88293772, 0.88884398, 0.88290494, 0.8866571 , 0.88399592])"
      ]
     },
     "execution_count": 10,
     "metadata": {},
     "output_type": "execute_result"
    }
   ],
   "source": [
    "results = cross_validate(model_xgb, x_train, y_train, cv=kfoldcv,scoring=scorer_fn,return_estimator=True)\n",
    "\n",
    "metricsCV = results['test_score']\n",
    "metricsCV"
   ]
  },
  {
   "attachments": {},
   "cell_type": "markdown",
   "metadata": {},
   "source": [
    "#### Score de accuracy:"
   ]
  },
  {
   "cell_type": "code",
   "execution_count": 11,
   "metadata": {},
   "outputs": [
    {
     "name": "stdout",
     "output_type": "stream",
     "text": [
      "Accuracy: 88.13%\n"
     ]
    }
   ],
   "source": [
    "acc = accuracy_score(y_test, y_pred)\n",
    "print(\"Accuracy: {:.2f}%\".format(acc*100))"
   ]
  },
  {
   "attachments": {},
   "cell_type": "markdown",
   "metadata": {},
   "source": [
    "#### Gráfico del boxplot de F1 Score:"
   ]
  },
  {
   "cell_type": "code",
   "execution_count": 12,
   "metadata": {},
   "outputs": [
    {
     "data": {
      "text/plain": [
       "<Axes: >"
      ]
     },
     "execution_count": 12,
     "metadata": {},
     "output_type": "execute_result"
    },
    {
     "data": {
      "image/png": "[encoded data removed]",
      "text/plain": [
       "<Figure size 800x800 with 1 Axes>"
      ]
     },
     "metadata": {},
     "output_type": "display_data"
    }
   ],
   "source": [
    "metric_labelsCV = ['F1 Score']*len(metricsCV)\n",
    "sns.set_context('talk')\n",
    "sns.set_style(\"darkgrid\")\n",
    "plt.figure(figsize=(8,8))\n",
    "sns.boxplot(x=metric_labelsCV, y=metricsCV, color='steelblue')"
   ]
  },
  {
   "attachments": {},
   "cell_type": "markdown",
   "metadata": {},
   "source": [
    "#### Gráfico de curva ROC:"
   ]
  },
  {
   "cell_type": "code",
   "execution_count": 13,
   "metadata": {},
   "outputs": [
    {
     "data": {
      "image/png": "[encoded data removed]",
      "text/plain": [
       "<Figure size 640x480 with 1 Axes>"
      ]
     },
     "metadata": {},
     "output_type": "display_data"
    }
   ],
   "source": [
    "y_pred = model_xgb.predict_proba(x_test)[:, 1]  # obtener las probabilidades para la clase positiva\n",
    "fpr, tpr, _ = roc_curve(y_test, y_pred) # FPR y TPR son acrónimos de \"False Positive Rate\" y \"True Positive Rate\"\n",
    "roc_auc = roc_auc_score(y_test, y_pred)\n",
    "\n",
    "roc_display = RocCurveDisplay(fpr=fpr, tpr=tpr, roc_auc=roc_auc, estimator_name='Decision Tree').plot()\n",
    "plt.legend(loc=\"lower right\")  # agregar leyenda en la esquina inferior derecha\n",
    "plt.show()"
   ]
  },
  {
   "attachments": {},
   "cell_type": "markdown",
   "metadata": {},
   "source": [
    "---"
   ]
  },
  {
   "attachments": {},
   "cell_type": "markdown",
   "metadata": {},
   "source": [
    "## Aplicación del modelo al dataset de test"
   ]
  },
  {
   "attachments": {},
   "cell_type": "markdown",
   "metadata": {},
   "source": [
    "##### Lectura del dataset de test preprocesado:"
   ]
  },
  {
   "cell_type": "code",
   "execution_count": 14,
   "metadata": {},
   "outputs": [],
   "source": [
    "hotel_test = pd.read_csv('./dataset/hotels_test_preprocesado.csv')"
   ]
  },
  {
   "attachments": {},
   "cell_type": "markdown",
   "metadata": {},
   "source": [
    "##### Lectura del dataset de test original para mantener id:"
   ]
  },
  {
   "cell_type": "code",
   "execution_count": 15,
   "metadata": {},
   "outputs": [],
   "source": [
    "hotel_test_df = pd.read_csv('./dataset/hotels_test.csv')"
   ]
  },
  {
   "attachments": {},
   "cell_type": "markdown",
   "metadata": {},
   "source": [
    "##### Predicción y exportación:"
   ]
  },
  {
   "cell_type": "code",
   "execution_count": 16,
   "metadata": {},
   "outputs": [],
   "source": [
    "\n",
    "x_test_final = hotel_test[features]\n",
    "\n",
    "y_pred_final = model_xgb.predict(x_test_final)\n"
   ]
  },
  {
   "cell_type": "code",
   "execution_count": 17,
   "metadata": {},
   "outputs": [],
   "source": [
    "pd.concat([hotel_test_df['id'],pd.DataFrame(data=y_pred_final, columns=['is_canceled'])], axis=1).to_csv('./predicciones/pred_xgboost_n10_split10.csv', index=False)"
   ]
  },
  {
   "attachments": {},
   "cell_type": "markdown",
   "metadata": {},
   "source": [
    "---"
   ]
  },
  {
   "attachments": {},
   "cell_type": "markdown",
   "metadata": {},
   "source": [
    "## Exportación del modelo"
   ]
  },
  {
   "cell_type": "code",
   "execution_count": 18,
   "metadata": {},
   "outputs": [],
   "source": [
    "dump(model_xgb, open('./modelos/model_xgboost_randomcv.pkl', 'wb'))"
   ]
  },
  {
   "attachments": {},
   "cell_type": "markdown",
   "metadata": {},
   "source": [
    "---"
   ]
  }
 ],
 "metadata": {
  "kernelspec": {
   "display_name": "base",
   "language": "python",
   "name": "python3"
  },
  "language_info": {
   "codemirror_mode": {
    "name": "ipython",
    "version": 3
   },
   "file_extension": ".py",
   "mimetype": "text/x-python",
   "name": "python",
   "nbconvert_exporter": "python",
   "pygments_lexer": "ipython3",
   "version": "3.10.9"
  },
  "orig_nbformat": 4
 },
 "nbformat": 4,
 "nbformat_minor": 2
}
